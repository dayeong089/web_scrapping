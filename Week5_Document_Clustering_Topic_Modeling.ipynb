{
  "nbformat": 4,
  "nbformat_minor": 0,
  "metadata": {
    "colab": {
      "provenance": [],
      "include_colab_link": true
    },
    "kernelspec": {
      "display_name": "Python 3",
      "language": "python",
      "name": "python3"
    },
    "language_info": {
      "codemirror_mode": {
        "name": "ipython",
        "version": 3
      },
      "file_extension": ".py",
      "mimetype": "text/x-python",
      "name": "python",
      "nbconvert_exporter": "python",
      "pygments_lexer": "ipython3",
      "version": "3.7.5"
    }
  },
  "cells": [
    {
      "cell_type": "markdown",
      "metadata": {
        "id": "view-in-github",
        "colab_type": "text"
      },
      "source": [
        "<a href=\"https://colab.research.google.com/github/dayeong089/web_scrapping/blob/main/Week5_Document_Clustering_Topic_Modeling.ipynb\" target=\"_parent\"><img src=\"https://colab.research.google.com/assets/colab-badge.svg\" alt=\"Open In Colab\"/></a>"
      ]
    },
    {
      "cell_type": "markdown",
      "metadata": {
        "id": "XxaoPF2FoB7j"
      },
      "source": [
        "# Software Coaching for Python\n",
        "# Week 5: Document Clustering & Topic Modeling"
      ]
    },
    {
      "cell_type": "markdown",
      "metadata": {
        "id": "DRIkFlyeoB7p"
      },
      "source": [
        "Instructor: Kang-Pyo Lee"
      ]
    },
    {
      "cell_type": "code",
      "metadata": {
        "id": "3GLAHQoApBMY",
        "colab": {
          "base_uri": "https://localhost:8080/"
        },
        "outputId": "776ac4e7-cbe2-4a88-a117-68802285456c"
      },
      "source": [
        "from google.colab import drive\n",
        "\n",
        "drive.mount('/content/drive')\n",
        "path = \"/content/drive/My Drive/PythonCoaching\"\n",
        "my_folder = \"dayoung21\"     # *** REPLACE WITH YOUR FOLDER NAME ***\n",
        "outcome_folder = f\"{path}/{my_folder}/outcome\"\n",
        "classdata_folder = f\"{path}/classdata\""
      ],
      "execution_count": null,
      "outputs": [
        {
          "output_type": "stream",
          "name": "stdout",
          "text": [
            "Drive already mounted at /content/drive; to attempt to forcibly remount, call drive.mount(\"/content/drive\", force_remount=True).\n"
          ]
        }
      ]
    },
    {
      "cell_type": "markdown",
      "metadata": {
        "id": "ymIUXj3MUwqm"
      },
      "source": [
        "## Install packages"
      ]
    },
    {
      "cell_type": "code",
      "metadata": {
        "id": "Q6r18rdbUwqm",
        "colab": {
          "base_uri": "https://localhost:8080/"
        },
        "outputId": "35e5b1b0-6fe6-4209-e163-fbab2654d5d6"
      },
      "source": [
        "! pip install --user scikit-learn==1.0.2 pyldavis"
      ],
      "execution_count": null,
      "outputs": [
        {
          "output_type": "stream",
          "name": "stdout",
          "text": [
            "Looking in indexes: https://pypi.org/simple, https://us-python.pkg.dev/colab-wheels/public/simple/\n",
            "Requirement already satisfied: scikit-learn==1.0.2 in /usr/local/lib/python3.8/dist-packages (1.0.2)\n",
            "Requirement already satisfied: pyldavis in /root/.local/lib/python3.8/site-packages (3.3.1)\n",
            "Requirement already satisfied: threadpoolctl>=2.0.0 in /usr/local/lib/python3.8/dist-packages (from scikit-learn==1.0.2) (3.1.0)\n",
            "Requirement already satisfied: scipy>=1.1.0 in /usr/local/lib/python3.8/dist-packages (from scikit-learn==1.0.2) (1.7.3)\n",
            "Requirement already satisfied: joblib>=0.11 in /usr/local/lib/python3.8/dist-packages (from scikit-learn==1.0.2) (1.2.0)\n",
            "Requirement already satisfied: numpy>=1.14.6 in /usr/local/lib/python3.8/dist-packages (from scikit-learn==1.0.2) (1.21.6)\n",
            "Requirement already satisfied: sklearn in /root/.local/lib/python3.8/site-packages (from pyldavis) (0.0.post1)\n",
            "Requirement already satisfied: funcy in /root/.local/lib/python3.8/site-packages (from pyldavis) (1.18)\n",
            "Requirement already satisfied: future in /usr/local/lib/python3.8/dist-packages (from pyldavis) (0.16.0)\n",
            "Requirement already satisfied: jinja2 in /usr/local/lib/python3.8/dist-packages (from pyldavis) (2.11.3)\n",
            "Requirement already satisfied: setuptools in /usr/local/lib/python3.8/dist-packages (from pyldavis) (57.4.0)\n",
            "Requirement already satisfied: pandas>=1.2.0 in /usr/local/lib/python3.8/dist-packages (from pyldavis) (1.3.5)\n",
            "Requirement already satisfied: numexpr in /usr/local/lib/python3.8/dist-packages (from pyldavis) (2.8.4)\n",
            "Requirement already satisfied: gensim in /usr/local/lib/python3.8/dist-packages (from pyldavis) (3.6.0)\n",
            "Requirement already satisfied: pytz>=2017.3 in /usr/local/lib/python3.8/dist-packages (from pandas>=1.2.0->pyldavis) (2022.7.1)\n",
            "Requirement already satisfied: python-dateutil>=2.7.3 in /usr/local/lib/python3.8/dist-packages (from pandas>=1.2.0->pyldavis) (2.8.2)\n",
            "Requirement already satisfied: six>=1.5.0 in /usr/local/lib/python3.8/dist-packages (from gensim->pyldavis) (1.15.0)\n",
            "Requirement already satisfied: smart-open>=1.2.1 in /usr/local/lib/python3.8/dist-packages (from gensim->pyldavis) (6.3.0)\n",
            "Requirement already satisfied: MarkupSafe>=0.23 in /usr/local/lib/python3.8/dist-packages (from jinja2->pyldavis) (2.0.1)\n"
          ]
        }
      ]
    },
    {
      "cell_type": "markdown",
      "metadata": {
        "id": "hevDs_oeJGdN"
      },
      "source": [
        "## What Is a Corpus?"
      ]
    },
    {
      "cell_type": "markdown",
      "metadata": {
        "id": "LJvwFGQUJGdN"
      },
      "source": [
        "A corpus or text corpus is a large and structured set of texts. In corpus linguistics, they are used to do statistical analysis and hypothesis testing, checking occurrences or validating linguistic rules within a specific language territory."
      ]
    },
    {
      "cell_type": "markdown",
      "metadata": {
        "id": "0vrkCDNiJGdO"
      },
      "source": [
        "Text Corpus: https://en.wikipedia.org/wiki/Text_corpus"
      ]
    },
    {
      "cell_type": "code",
      "metadata": {
        "id": "X3nuAJ9MJGdO",
        "colab": {
          "base_uri": "https://localhost:8080/"
        },
        "outputId": "2e73f723-5cb0-4888-c1b4-26fb55f36272"
      },
      "source": [
        "corpus = [\"Love, love me do. You know I love you. I'll always be true. So please. Love me do. Whoa, love me do.\",\n",
        "          \"She loves you, yeah, yeah, yeah. She loves you, yeah, yeah, yeah. She loves you, yeah, yeah, yeah, yeah. You think you've lost your love. Well, I saw her yesterday. It's you she's thinkin' of. And she told me what to say.\",\n",
        "          \"Can't buy me love, love. Can't buy me love. I'll buy you a diamond ring my friend. If it makes you feel alright. I'll get you anything my friend. If it makes you feel alright. 'Cause I don't care too much for money. For money can't buy me love.\",\n",
        "          \"Love, love, love. Love, love, love. Love, love, love. There's nothin' you can do that can't be done. Nothin' you can sing that can't be sung. Nothin' you can say, but you can learn how to play the game. It's easy.\"]\n",
        "\n",
        "corpus"
      ],
      "execution_count": null,
      "outputs": [
        {
          "output_type": "execute_result",
          "data": {
            "text/plain": [
              "[\"Love, love me do. You know I love you. I'll always be true. So please. Love me do. Whoa, love me do.\",\n",
              " \"She loves you, yeah, yeah, yeah. She loves you, yeah, yeah, yeah. She loves you, yeah, yeah, yeah, yeah. You think you've lost your love. Well, I saw her yesterday. It's you she's thinkin' of. And she told me what to say.\",\n",
              " \"Can't buy me love, love. Can't buy me love. I'll buy you a diamond ring my friend. If it makes you feel alright. I'll get you anything my friend. If it makes you feel alright. 'Cause I don't care too much for money. For money can't buy me love.\",\n",
              " \"Love, love, love. Love, love, love. Love, love, love. There's nothin' you can do that can't be done. Nothin' you can sing that can't be sung. Nothin' you can say, but you can learn how to play the game. It's easy.\"]"
            ]
          },
          "metadata": {},
          "execution_count": 3
        }
      ]
    },
    {
      "cell_type": "markdown",
      "metadata": {
        "id": "tMxDSTOgJGdO"
      },
      "source": [
        "This corpus contains four documents and nine unique words, or terms.\n",
        "row가 document, column이 term"
      ]
    },
    {
      "cell_type": "code",
      "source": [
        "len(corpus)"
      ],
      "metadata": {
        "id": "FynOa7BrO6DB",
        "colab": {
          "base_uri": "https://localhost:8080/"
        },
        "outputId": "bf19a7a2-d58c-442d-c8d3-cc9325b9478f"
      },
      "execution_count": null,
      "outputs": [
        {
          "output_type": "execute_result",
          "data": {
            "text/plain": [
              "4"
            ]
          },
          "metadata": {},
          "execution_count": 4
        }
      ]
    },
    {
      "cell_type": "markdown",
      "metadata": {
        "id": "boDgo2IQJGdO"
      },
      "source": [
        "## What Is a Document-Term Matrix?"
      ]
    },
    {
      "cell_type": "markdown",
      "metadata": {
        "id": "Bj9Qr8xAJGdP"
      },
      "source": [
        "A document-term matrix (DTM) is a mathematical matrix that describes the frequency of terms that occur in a collection of documents. In a document-term matrix, rows correspond to documents in the collection and columns correspond to terms. There are various schemes for determining the value that each entry in the matrix should take."
      ]
    },
    {
      "cell_type": "markdown",
      "metadata": {
        "id": "qlswH7ugJGdP"
      },
      "source": [
        "Document-term matrix: https://en.wikipedia.org/wiki/Document-term_matrix"
      ]
    },
    {
      "cell_type": "markdown",
      "metadata": {
        "id": "kIMxR5RiJGdP"
      },
      "source": [
        "DTM is based on the \"Bag-of-Words\" model, where a text is simply represented as the bag of its words, disregarding grammar and even word order but only keeping multiplicity.\n",
        "- Pros: Simple and easy to analyze.\n",
        "- Cons: Grammar and order are lost."
      ]
    },
    {
      "cell_type": "markdown",
      "metadata": {
        "id": "r_AvuOHLJGdP"
      },
      "source": [
        "Bag-of-words model: https://en.wikipedia.org/wiki/Bag-of-words_model"
      ]
    },
    {
      "cell_type": "markdown",
      "metadata": {
        "id": "bdFUfKNPJGdQ"
      },
      "source": [
        "## What Is Term Frequency (TF)?"
      ]
    },
    {
      "cell_type": "markdown",
      "metadata": {
        "id": "8RyyCv5DJGdQ"
      },
      "source": [
        "Term frequency (TF) is the number of times a term occurs in a document. Adjustments are often made to simple term frequency in the case where the lengh of documents varies greatly. In that case, we typically divide the raw term frequencies by the length of the document, i.e., the number of all terms in the document."
      ]
    },
    {
      "cell_type": "markdown",
      "metadata": {
        "id": "VcOgMF4wJGdR"
      },
      "source": [
        "## Building a DTM with Term Frequencies"
      ]
    },
    {
      "cell_type": "code",
      "metadata": {
        "id": "80odeyoBJGdR"
      },
      "source": [
        "from sklearn.feature_extraction.text import TfidfVectorizer"
      ],
      "execution_count": null,
      "outputs": []
    },
    {
      "cell_type": "code",
      "metadata": {
        "id": "xz_Oh9FnJGdR",
        "colab": {
          "base_uri": "https://localhost:8080/"
        },
        "outputId": "e6f6635e-c28c-4c9b-c394-e305bf297849"
      },
      "source": [
        "vectorizer = TfidfVectorizer(use_idf=False, norm=None)\n",
        "vectorizer"
      ],
      "execution_count": null,
      "outputs": [
        {
          "output_type": "execute_result",
          "data": {
            "text/plain": [
              "TfidfVectorizer(norm=None, use_idf=False)"
            ]
          },
          "metadata": {},
          "execution_count": 6
        }
      ]
    },
    {
      "cell_type": "markdown",
      "metadata": {
        "id": "orLzDDB4JGdR"
      },
      "source": [
        "sklearn.feature_extraction.text.TfidfVectorizer: https://scikit-learn.org/stable/modules/generated/sklearn.feature_extraction.text.TfidfVectorizer.html"
      ]
    },
    {
      "cell_type": "markdown",
      "metadata": {
        "id": "TrIQoe7EJGdS"
      },
      "source": [
        "- `lowercase` (bool, default=True): Convert all characters to lowercase before tokenizing."
      ]
    },
    {
      "cell_type": "code",
      "metadata": {
        "id": "NhcdomQDJGdS",
        "colab": {
          "base_uri": "https://localhost:8080/"
        },
        "outputId": "50671551-b164-4661-e0f4-2b9fbb9b12ec"
      },
      "source": [
        "X = vectorizer.fit_transform(corpus)\n",
        "X"
      ],
      "execution_count": null,
      "outputs": [
        {
          "output_type": "execute_result",
          "data": {
            "text/plain": [
              "<4x63 sparse matrix of type '<class 'numpy.float64'>'\n",
              "\twith 79 stored elements in Compressed Sparse Row format>"
            ]
          },
          "metadata": {},
          "execution_count": 7
        }
      ]
    },
    {
      "cell_type": "markdown",
      "metadata": {
        "id": "uvUPNLHJJGdS"
      },
      "source": [
        "sklearn.feature_extraction.text.TfidfVectorizer.fit_transform: https://scikit-learn.org/stable/modules/generated/sklearn.feature_extraction.text.TfidfVectorizer.html#sklearn.feature_extraction.text.TfidfVectorizer.fit_transform"
      ]
    },
    {
      "cell_type": "markdown",
      "metadata": {
        "id": "IO2m0FrrJGdS"
      },
      "source": [
        "From this point on, you can consider X the document-term matrix for `corpus`."
      ]
    },
    {
      "cell_type": "code",
      "metadata": {
        "id": "Z6xMv3SuJGdT",
        "colab": {
          "base_uri": "https://localhost:8080/"
        },
        "outputId": "eb0474f4-7286-4b98-806c-b39a3bda637f"
      },
      "source": [
        "type(X)"
      ],
      "execution_count": null,
      "outputs": [
        {
          "output_type": "execute_result",
          "data": {
            "text/plain": [
              "scipy.sparse.csr.csr_matrix"
            ]
          },
          "metadata": {},
          "execution_count": 8
        }
      ]
    },
    {
      "cell_type": "code",
      "metadata": {
        "id": "M1P5mI34JGdT",
        "colab": {
          "base_uri": "https://localhost:8080/"
        },
        "outputId": "22e5b501-189b-4f90-fb7c-f1c3230e418c"
      },
      "source": [
        "X.shape"
      ],
      "execution_count": null,
      "outputs": [
        {
          "output_type": "execute_result",
          "data": {
            "text/plain": [
              "(4, 63)"
            ]
          },
          "metadata": {},
          "execution_count": 9
        }
      ]
    },
    {
      "cell_type": "markdown",
      "metadata": {
        "id": "7vb0_HOaJGdU"
      },
      "source": [
        "X has 4 rows (i.e., 4 documents) and 63 columns (i.e., 63 terms). .. unique한 word 세어보면 63개"
      ]
    },
    {
      "cell_type": "code",
      "metadata": {
        "id": "L_F7i4mgJGdU",
        "colab": {
          "base_uri": "https://localhost:8080/"
        },
        "outputId": "0aa6b7da-4157-47d5-b3c6-e55d6895aa4a"
      },
      "source": [
        "X.toarray()"
      ],
      "execution_count": null,
      "outputs": [
        {
          "output_type": "execute_result",
          "data": {
            "text/plain": [
              "array([[ 0.,  1.,  0.,  0.,  1.,  0.,  0.,  0.,  0.,  0.,  0.,  3.,  0.,\n",
              "         0.,  0.,  0.,  0.,  0.,  0.,  0.,  0.,  0.,  0.,  0.,  1.,  0.,\n",
              "         1.,  0.,  5.,  0.,  0.,  3.,  0.,  0.,  0.,  0.,  0.,  0.,  1.,\n",
              "         0.,  0.,  0.,  0.,  0.,  1.,  0.,  0.,  0.,  0.,  0.,  0.,  0.,\n",
              "         0.,  0.,  1.,  0.,  0.,  0.,  1.,  0.,  0.,  2.,  0.],\n",
              "       [ 0.,  0.,  1.,  0.,  0.,  0.,  0.,  0.,  0.,  0.,  0.,  0.,  0.,\n",
              "         0.,  0.,  0.,  0.,  0.,  0.,  0.,  1.,  0.,  0.,  1.,  0.,  0.,\n",
              "         0.,  1.,  1.,  3.,  0.,  1.,  0.,  0.,  0.,  0.,  1.,  0.,  0.,\n",
              "         0.,  1.,  1.,  5.,  0.,  0.,  0.,  0.,  0.,  0.,  1.,  1.,  1.,\n",
              "         1.,  0.,  0.,  1.,  1.,  1.,  0., 10.,  1.,  6.,  1.],\n",
              "       [ 2.,  0.,  0.,  1.,  0.,  0.,  4.,  3.,  1.,  1.,  1.,  0.,  1.,\n",
              "         0.,  0.,  2.,  2.,  2.,  0.,  1.,  0.,  0.,  2.,  2.,  0.,  0.,\n",
              "         2.,  0.,  4.,  0.,  2.,  3.,  2.,  1.,  2.,  0.,  0.,  0.,  0.,\n",
              "         1.,  0.,  0.,  0.,  0.,  0.,  0.,  0.,  0.,  0.,  0.,  0.,  0.,\n",
              "         0.,  1.,  0.,  0.,  0.,  0.,  0.,  0.,  0.,  4.,  0.],\n",
              "       [ 0.,  0.,  0.,  0.,  2.,  1.,  0.,  6.,  0.,  0.,  0.,  1.,  0.,\n",
              "         1.,  1.,  0.,  0.,  0.,  1.,  0.,  0.,  1.,  0.,  1.,  0.,  1.,\n",
              "         0.,  0.,  9.,  0.,  0.,  0.,  0.,  0.,  0.,  3.,  0.,  1.,  0.,\n",
              "         0.,  0.,  1.,  0.,  1.,  0.,  1.,  2.,  1.,  1.,  0.,  0.,  1.,\n",
              "         0.,  0.,  0.,  0.,  0.,  0.,  0.,  0.,  0.,  4.,  0.]])"
            ]
          },
          "metadata": {},
          "execution_count": 10
        }
      ]
    },
    {
      "cell_type": "code",
      "metadata": {
        "id": "klNBGRkOJGdU",
        "colab": {
          "base_uri": "https://localhost:8080/"
        },
        "outputId": "5b33f58f-5181-4890-b548-05a95b6a5b6a"
      },
      "source": [
        "vectorizer.get_feature_names_out()"
      ],
      "execution_count": null,
      "outputs": [
        {
          "output_type": "execute_result",
          "data": {
            "text/plain": [
              "array(['alright', 'always', 'and', 'anything', 'be', 'but', 'buy', 'can',\n",
              "       'care', 'cause', 'diamond', 'do', 'don', 'done', 'easy', 'feel',\n",
              "       'for', 'friend', 'game', 'get', 'her', 'how', 'if', 'it', 'know',\n",
              "       'learn', 'll', 'lost', 'love', 'loves', 'makes', 'me', 'money',\n",
              "       'much', 'my', 'nothin', 'of', 'play', 'please', 'ring', 'saw',\n",
              "       'say', 'she', 'sing', 'so', 'sung', 'that', 'the', 'there',\n",
              "       'think', 'thinkin', 'to', 'told', 'too', 'true', 've', 'well',\n",
              "       'what', 'whoa', 'yeah', 'yesterday', 'you', 'your'], dtype=object)"
            ]
          },
          "metadata": {},
          "execution_count": 11
        }
      ]
    },
    {
      "cell_type": "markdown",
      "metadata": {
        "id": "_g0vwhiJJGdU"
      },
      "source": [
        "sklearn.feature_extraction.text.TfidfVectorizer.get_feature_names_out: https://scikit-learn.org/stable/modules/generated/sklearn.feature_extraction.text.TfidfVectorizer.html#sklearn.feature_extraction.text.TfidfVectorizer.get_feature_names_out"
      ]
    },
    {
      "cell_type": "code",
      "metadata": {
        "id": "9MV6QxJQJGdU",
        "colab": {
          "base_uri": "https://localhost:8080/",
          "height": 204
        },
        "outputId": "cf351db2-8f4b-40bc-f5bb-3a6c949b6b44"
      },
      "source": [
        "import pandas as pd\n",
        "\n",
        "pd.DataFrame(data=X.toarray(), columns=vectorizer.get_feature_names_out(),\n",
        "             index=[\"doc{}\".format(i) for i in range(X.shape[0])])"
      ],
      "execution_count": null,
      "outputs": [
        {
          "output_type": "execute_result",
          "data": {
            "text/plain": [
              "      alright  always  and  anything   be  but  buy  can  care  cause  ...  \\\n",
              "doc0      0.0     1.0  0.0       0.0  1.0  0.0  0.0  0.0   0.0    0.0  ...   \n",
              "doc1      0.0     0.0  1.0       0.0  0.0  0.0  0.0  0.0   0.0    0.0  ...   \n",
              "doc2      2.0     0.0  0.0       1.0  0.0  0.0  4.0  3.0   1.0    1.0  ...   \n",
              "doc3      0.0     0.0  0.0       0.0  2.0  1.0  0.0  6.0   0.0    0.0  ...   \n",
              "\n",
              "      too  true   ve  well  what  whoa  yeah  yesterday  you  your  \n",
              "doc0  0.0   1.0  0.0   0.0   0.0   1.0   0.0        0.0  2.0   0.0  \n",
              "doc1  0.0   0.0  1.0   1.0   1.0   0.0  10.0        1.0  6.0   1.0  \n",
              "doc2  1.0   0.0  0.0   0.0   0.0   0.0   0.0        0.0  4.0   0.0  \n",
              "doc3  0.0   0.0  0.0   0.0   0.0   0.0   0.0        0.0  4.0   0.0  \n",
              "\n",
              "[4 rows x 63 columns]"
            ],
            "text/html": [
              "\n",
              "  <div id=\"df-c53e61cf-1c48-418c-87db-52b77880331d\">\n",
              "    <div class=\"colab-df-container\">\n",
              "      <div>\n",
              "<style scoped>\n",
              "    .dataframe tbody tr th:only-of-type {\n",
              "        vertical-align: middle;\n",
              "    }\n",
              "\n",
              "    .dataframe tbody tr th {\n",
              "        vertical-align: top;\n",
              "    }\n",
              "\n",
              "    .dataframe thead th {\n",
              "        text-align: right;\n",
              "    }\n",
              "</style>\n",
              "<table border=\"1\" class=\"dataframe\">\n",
              "  <thead>\n",
              "    <tr style=\"text-align: right;\">\n",
              "      <th></th>\n",
              "      <th>alright</th>\n",
              "      <th>always</th>\n",
              "      <th>and</th>\n",
              "      <th>anything</th>\n",
              "      <th>be</th>\n",
              "      <th>but</th>\n",
              "      <th>buy</th>\n",
              "      <th>can</th>\n",
              "      <th>care</th>\n",
              "      <th>cause</th>\n",
              "      <th>...</th>\n",
              "      <th>too</th>\n",
              "      <th>true</th>\n",
              "      <th>ve</th>\n",
              "      <th>well</th>\n",
              "      <th>what</th>\n",
              "      <th>whoa</th>\n",
              "      <th>yeah</th>\n",
              "      <th>yesterday</th>\n",
              "      <th>you</th>\n",
              "      <th>your</th>\n",
              "    </tr>\n",
              "  </thead>\n",
              "  <tbody>\n",
              "    <tr>\n",
              "      <th>doc0</th>\n",
              "      <td>0.0</td>\n",
              "      <td>1.0</td>\n",
              "      <td>0.0</td>\n",
              "      <td>0.0</td>\n",
              "      <td>1.0</td>\n",
              "      <td>0.0</td>\n",
              "      <td>0.0</td>\n",
              "      <td>0.0</td>\n",
              "      <td>0.0</td>\n",
              "      <td>0.0</td>\n",
              "      <td>...</td>\n",
              "      <td>0.0</td>\n",
              "      <td>1.0</td>\n",
              "      <td>0.0</td>\n",
              "      <td>0.0</td>\n",
              "      <td>0.0</td>\n",
              "      <td>1.0</td>\n",
              "      <td>0.0</td>\n",
              "      <td>0.0</td>\n",
              "      <td>2.0</td>\n",
              "      <td>0.0</td>\n",
              "    </tr>\n",
              "    <tr>\n",
              "      <th>doc1</th>\n",
              "      <td>0.0</td>\n",
              "      <td>0.0</td>\n",
              "      <td>1.0</td>\n",
              "      <td>0.0</td>\n",
              "      <td>0.0</td>\n",
              "      <td>0.0</td>\n",
              "      <td>0.0</td>\n",
              "      <td>0.0</td>\n",
              "      <td>0.0</td>\n",
              "      <td>0.0</td>\n",
              "      <td>...</td>\n",
              "      <td>0.0</td>\n",
              "      <td>0.0</td>\n",
              "      <td>1.0</td>\n",
              "      <td>1.0</td>\n",
              "      <td>1.0</td>\n",
              "      <td>0.0</td>\n",
              "      <td>10.0</td>\n",
              "      <td>1.0</td>\n",
              "      <td>6.0</td>\n",
              "      <td>1.0</td>\n",
              "    </tr>\n",
              "    <tr>\n",
              "      <th>doc2</th>\n",
              "      <td>2.0</td>\n",
              "      <td>0.0</td>\n",
              "      <td>0.0</td>\n",
              "      <td>1.0</td>\n",
              "      <td>0.0</td>\n",
              "      <td>0.0</td>\n",
              "      <td>4.0</td>\n",
              "      <td>3.0</td>\n",
              "      <td>1.0</td>\n",
              "      <td>1.0</td>\n",
              "      <td>...</td>\n",
              "      <td>1.0</td>\n",
              "      <td>0.0</td>\n",
              "      <td>0.0</td>\n",
              "      <td>0.0</td>\n",
              "      <td>0.0</td>\n",
              "      <td>0.0</td>\n",
              "      <td>0.0</td>\n",
              "      <td>0.0</td>\n",
              "      <td>4.0</td>\n",
              "      <td>0.0</td>\n",
              "    </tr>\n",
              "    <tr>\n",
              "      <th>doc3</th>\n",
              "      <td>0.0</td>\n",
              "      <td>0.0</td>\n",
              "      <td>0.0</td>\n",
              "      <td>0.0</td>\n",
              "      <td>2.0</td>\n",
              "      <td>1.0</td>\n",
              "      <td>0.0</td>\n",
              "      <td>6.0</td>\n",
              "      <td>0.0</td>\n",
              "      <td>0.0</td>\n",
              "      <td>...</td>\n",
              "      <td>0.0</td>\n",
              "      <td>0.0</td>\n",
              "      <td>0.0</td>\n",
              "      <td>0.0</td>\n",
              "      <td>0.0</td>\n",
              "      <td>0.0</td>\n",
              "      <td>0.0</td>\n",
              "      <td>0.0</td>\n",
              "      <td>4.0</td>\n",
              "      <td>0.0</td>\n",
              "    </tr>\n",
              "  </tbody>\n",
              "</table>\n",
              "<p>4 rows × 63 columns</p>\n",
              "</div>\n",
              "      <button class=\"colab-df-convert\" onclick=\"convertToInteractive('df-c53e61cf-1c48-418c-87db-52b77880331d')\"\n",
              "              title=\"Convert this dataframe to an interactive table.\"\n",
              "              style=\"display:none;\">\n",
              "        \n",
              "  <svg xmlns=\"http://www.w3.org/2000/svg\" height=\"24px\"viewBox=\"0 0 24 24\"\n",
              "       width=\"24px\">\n",
              "    <path d=\"M0 0h24v24H0V0z\" fill=\"none\"/>\n",
              "    <path d=\"M18.56 5.44l.94 2.06.94-2.06 2.06-.94-2.06-.94-.94-2.06-.94 2.06-2.06.94zm-11 1L8.5 8.5l.94-2.06 2.06-.94-2.06-.94L8.5 2.5l-.94 2.06-2.06.94zm10 10l.94 2.06.94-2.06 2.06-.94-2.06-.94-.94-2.06-.94 2.06-2.06.94z\"/><path d=\"M17.41 7.96l-1.37-1.37c-.4-.4-.92-.59-1.43-.59-.52 0-1.04.2-1.43.59L10.3 9.45l-7.72 7.72c-.78.78-.78 2.05 0 2.83L4 21.41c.39.39.9.59 1.41.59.51 0 1.02-.2 1.41-.59l7.78-7.78 2.81-2.81c.8-.78.8-2.07 0-2.86zM5.41 20L4 18.59l7.72-7.72 1.47 1.35L5.41 20z\"/>\n",
              "  </svg>\n",
              "      </button>\n",
              "      \n",
              "  <style>\n",
              "    .colab-df-container {\n",
              "      display:flex;\n",
              "      flex-wrap:wrap;\n",
              "      gap: 12px;\n",
              "    }\n",
              "\n",
              "    .colab-df-convert {\n",
              "      background-color: #E8F0FE;\n",
              "      border: none;\n",
              "      border-radius: 50%;\n",
              "      cursor: pointer;\n",
              "      display: none;\n",
              "      fill: #1967D2;\n",
              "      height: 32px;\n",
              "      padding: 0 0 0 0;\n",
              "      width: 32px;\n",
              "    }\n",
              "\n",
              "    .colab-df-convert:hover {\n",
              "      background-color: #E2EBFA;\n",
              "      box-shadow: 0px 1px 2px rgba(60, 64, 67, 0.3), 0px 1px 3px 1px rgba(60, 64, 67, 0.15);\n",
              "      fill: #174EA6;\n",
              "    }\n",
              "\n",
              "    [theme=dark] .colab-df-convert {\n",
              "      background-color: #3B4455;\n",
              "      fill: #D2E3FC;\n",
              "    }\n",
              "\n",
              "    [theme=dark] .colab-df-convert:hover {\n",
              "      background-color: #434B5C;\n",
              "      box-shadow: 0px 1px 3px 1px rgba(0, 0, 0, 0.15);\n",
              "      filter: drop-shadow(0px 1px 2px rgba(0, 0, 0, 0.3));\n",
              "      fill: #FFFFFF;\n",
              "    }\n",
              "  </style>\n",
              "\n",
              "      <script>\n",
              "        const buttonEl =\n",
              "          document.querySelector('#df-c53e61cf-1c48-418c-87db-52b77880331d button.colab-df-convert');\n",
              "        buttonEl.style.display =\n",
              "          google.colab.kernel.accessAllowed ? 'block' : 'none';\n",
              "\n",
              "        async function convertToInteractive(key) {\n",
              "          const element = document.querySelector('#df-c53e61cf-1c48-418c-87db-52b77880331d');\n",
              "          const dataTable =\n",
              "            await google.colab.kernel.invokeFunction('convertToInteractive',\n",
              "                                                     [key], {});\n",
              "          if (!dataTable) return;\n",
              "\n",
              "          const docLinkHtml = 'Like what you see? Visit the ' +\n",
              "            '<a target=\"_blank\" href=https://colab.research.google.com/notebooks/data_table.ipynb>data table notebook</a>'\n",
              "            + ' to learn more about interactive tables.';\n",
              "          element.innerHTML = '';\n",
              "          dataTable['output_type'] = 'display_data';\n",
              "          await google.colab.output.renderOutput(dataTable, element);\n",
              "          const docLink = document.createElement('div');\n",
              "          docLink.innerHTML = docLinkHtml;\n",
              "          element.appendChild(docLink);\n",
              "        }\n",
              "      </script>\n",
              "    </div>\n",
              "  </div>\n",
              "  "
            ]
          },
          "metadata": {},
          "execution_count": 12
        }
      ]
    },
    {
      "cell_type": "markdown",
      "metadata": {
        "id": "Xumr-GahJGdV"
      },
      "source": [
        "This document-term matrix is based on the bag-of-words model, so we have lost all the grammar and order of words. Only how many times each term occurs matters in this scheme.  "
      ]
    },
    {
      "cell_type": "markdown",
      "metadata": {
        "id": "FMHLEr9nJGdV"
      },
      "source": [
        "## Building a DTM with Binary Term Frequencies\n",
        "### 그 문서에 그 term이 존재하는지 안하는지만 check"
      ]
    },
    {
      "cell_type": "code",
      "metadata": {
        "id": "hxu2TIHxJGdV"
      },
      "source": [
        "vectorizer = TfidfVectorizer(binary=True, use_idf=False, norm=None)\n",
        "X = vectorizer.fit_transform(corpus)"
      ],
      "execution_count": null,
      "outputs": []
    },
    {
      "cell_type": "markdown",
      "metadata": {
        "id": "1_4LfIe9JGdV"
      },
      "source": [
        "- `binary` (bool, default=False): If True, all non-zero term counts are set to 1."
      ]
    },
    {
      "cell_type": "code",
      "metadata": {
        "id": "PIEMI_d3JGdV",
        "colab": {
          "base_uri": "https://localhost:8080/",
          "height": 204
        },
        "outputId": "6a8ee1de-de15-4097-aae4-24c4d212da8d"
      },
      "source": [
        "pd.DataFrame(data=X.toarray(), columns=vectorizer.get_feature_names_out(),\n",
        "             index=[\"doc{}\".format(i) for i in range(X.shape[0])])"
      ],
      "execution_count": null,
      "outputs": [
        {
          "output_type": "execute_result",
          "data": {
            "text/plain": [
              "      alright  always  and  anything   be  but  buy  can  care  cause  ...  \\\n",
              "doc0      0.0     1.0  0.0       0.0  1.0  0.0  0.0  0.0   0.0    0.0  ...   \n",
              "doc1      0.0     0.0  1.0       0.0  0.0  0.0  0.0  0.0   0.0    0.0  ...   \n",
              "doc2      1.0     0.0  0.0       1.0  0.0  0.0  1.0  1.0   1.0    1.0  ...   \n",
              "doc3      0.0     0.0  0.0       0.0  1.0  1.0  0.0  1.0   0.0    0.0  ...   \n",
              "\n",
              "      too  true   ve  well  what  whoa  yeah  yesterday  you  your  \n",
              "doc0  0.0   1.0  0.0   0.0   0.0   1.0   0.0        0.0  1.0   0.0  \n",
              "doc1  0.0   0.0  1.0   1.0   1.0   0.0   1.0        1.0  1.0   1.0  \n",
              "doc2  1.0   0.0  0.0   0.0   0.0   0.0   0.0        0.0  1.0   0.0  \n",
              "doc3  0.0   0.0  0.0   0.0   0.0   0.0   0.0        0.0  1.0   0.0  \n",
              "\n",
              "[4 rows x 63 columns]"
            ],
            "text/html": [
              "\n",
              "  <div id=\"df-9c62cb8e-cd41-47a8-bb62-7ddc92899449\">\n",
              "    <div class=\"colab-df-container\">\n",
              "      <div>\n",
              "<style scoped>\n",
              "    .dataframe tbody tr th:only-of-type {\n",
              "        vertical-align: middle;\n",
              "    }\n",
              "\n",
              "    .dataframe tbody tr th {\n",
              "        vertical-align: top;\n",
              "    }\n",
              "\n",
              "    .dataframe thead th {\n",
              "        text-align: right;\n",
              "    }\n",
              "</style>\n",
              "<table border=\"1\" class=\"dataframe\">\n",
              "  <thead>\n",
              "    <tr style=\"text-align: right;\">\n",
              "      <th></th>\n",
              "      <th>alright</th>\n",
              "      <th>always</th>\n",
              "      <th>and</th>\n",
              "      <th>anything</th>\n",
              "      <th>be</th>\n",
              "      <th>but</th>\n",
              "      <th>buy</th>\n",
              "      <th>can</th>\n",
              "      <th>care</th>\n",
              "      <th>cause</th>\n",
              "      <th>...</th>\n",
              "      <th>too</th>\n",
              "      <th>true</th>\n",
              "      <th>ve</th>\n",
              "      <th>well</th>\n",
              "      <th>what</th>\n",
              "      <th>whoa</th>\n",
              "      <th>yeah</th>\n",
              "      <th>yesterday</th>\n",
              "      <th>you</th>\n",
              "      <th>your</th>\n",
              "    </tr>\n",
              "  </thead>\n",
              "  <tbody>\n",
              "    <tr>\n",
              "      <th>doc0</th>\n",
              "      <td>0.0</td>\n",
              "      <td>1.0</td>\n",
              "      <td>0.0</td>\n",
              "      <td>0.0</td>\n",
              "      <td>1.0</td>\n",
              "      <td>0.0</td>\n",
              "      <td>0.0</td>\n",
              "      <td>0.0</td>\n",
              "      <td>0.0</td>\n",
              "      <td>0.0</td>\n",
              "      <td>...</td>\n",
              "      <td>0.0</td>\n",
              "      <td>1.0</td>\n",
              "      <td>0.0</td>\n",
              "      <td>0.0</td>\n",
              "      <td>0.0</td>\n",
              "      <td>1.0</td>\n",
              "      <td>0.0</td>\n",
              "      <td>0.0</td>\n",
              "      <td>1.0</td>\n",
              "      <td>0.0</td>\n",
              "    </tr>\n",
              "    <tr>\n",
              "      <th>doc1</th>\n",
              "      <td>0.0</td>\n",
              "      <td>0.0</td>\n",
              "      <td>1.0</td>\n",
              "      <td>0.0</td>\n",
              "      <td>0.0</td>\n",
              "      <td>0.0</td>\n",
              "      <td>0.0</td>\n",
              "      <td>0.0</td>\n",
              "      <td>0.0</td>\n",
              "      <td>0.0</td>\n",
              "      <td>...</td>\n",
              "      <td>0.0</td>\n",
              "      <td>0.0</td>\n",
              "      <td>1.0</td>\n",
              "      <td>1.0</td>\n",
              "      <td>1.0</td>\n",
              "      <td>0.0</td>\n",
              "      <td>1.0</td>\n",
              "      <td>1.0</td>\n",
              "      <td>1.0</td>\n",
              "      <td>1.0</td>\n",
              "    </tr>\n",
              "    <tr>\n",
              "      <th>doc2</th>\n",
              "      <td>1.0</td>\n",
              "      <td>0.0</td>\n",
              "      <td>0.0</td>\n",
              "      <td>1.0</td>\n",
              "      <td>0.0</td>\n",
              "      <td>0.0</td>\n",
              "      <td>1.0</td>\n",
              "      <td>1.0</td>\n",
              "      <td>1.0</td>\n",
              "      <td>1.0</td>\n",
              "      <td>...</td>\n",
              "      <td>1.0</td>\n",
              "      <td>0.0</td>\n",
              "      <td>0.0</td>\n",
              "      <td>0.0</td>\n",
              "      <td>0.0</td>\n",
              "      <td>0.0</td>\n",
              "      <td>0.0</td>\n",
              "      <td>0.0</td>\n",
              "      <td>1.0</td>\n",
              "      <td>0.0</td>\n",
              "    </tr>\n",
              "    <tr>\n",
              "      <th>doc3</th>\n",
              "      <td>0.0</td>\n",
              "      <td>0.0</td>\n",
              "      <td>0.0</td>\n",
              "      <td>0.0</td>\n",
              "      <td>1.0</td>\n",
              "      <td>1.0</td>\n",
              "      <td>0.0</td>\n",
              "      <td>1.0</td>\n",
              "      <td>0.0</td>\n",
              "      <td>0.0</td>\n",
              "      <td>...</td>\n",
              "      <td>0.0</td>\n",
              "      <td>0.0</td>\n",
              "      <td>0.0</td>\n",
              "      <td>0.0</td>\n",
              "      <td>0.0</td>\n",
              "      <td>0.0</td>\n",
              "      <td>0.0</td>\n",
              "      <td>0.0</td>\n",
              "      <td>1.0</td>\n",
              "      <td>0.0</td>\n",
              "    </tr>\n",
              "  </tbody>\n",
              "</table>\n",
              "<p>4 rows × 63 columns</p>\n",
              "</div>\n",
              "      <button class=\"colab-df-convert\" onclick=\"convertToInteractive('df-9c62cb8e-cd41-47a8-bb62-7ddc92899449')\"\n",
              "              title=\"Convert this dataframe to an interactive table.\"\n",
              "              style=\"display:none;\">\n",
              "        \n",
              "  <svg xmlns=\"http://www.w3.org/2000/svg\" height=\"24px\"viewBox=\"0 0 24 24\"\n",
              "       width=\"24px\">\n",
              "    <path d=\"M0 0h24v24H0V0z\" fill=\"none\"/>\n",
              "    <path d=\"M18.56 5.44l.94 2.06.94-2.06 2.06-.94-2.06-.94-.94-2.06-.94 2.06-2.06.94zm-11 1L8.5 8.5l.94-2.06 2.06-.94-2.06-.94L8.5 2.5l-.94 2.06-2.06.94zm10 10l.94 2.06.94-2.06 2.06-.94-2.06-.94-.94-2.06-.94 2.06-2.06.94z\"/><path d=\"M17.41 7.96l-1.37-1.37c-.4-.4-.92-.59-1.43-.59-.52 0-1.04.2-1.43.59L10.3 9.45l-7.72 7.72c-.78.78-.78 2.05 0 2.83L4 21.41c.39.39.9.59 1.41.59.51 0 1.02-.2 1.41-.59l7.78-7.78 2.81-2.81c.8-.78.8-2.07 0-2.86zM5.41 20L4 18.59l7.72-7.72 1.47 1.35L5.41 20z\"/>\n",
              "  </svg>\n",
              "      </button>\n",
              "      \n",
              "  <style>\n",
              "    .colab-df-container {\n",
              "      display:flex;\n",
              "      flex-wrap:wrap;\n",
              "      gap: 12px;\n",
              "    }\n",
              "\n",
              "    .colab-df-convert {\n",
              "      background-color: #E8F0FE;\n",
              "      border: none;\n",
              "      border-radius: 50%;\n",
              "      cursor: pointer;\n",
              "      display: none;\n",
              "      fill: #1967D2;\n",
              "      height: 32px;\n",
              "      padding: 0 0 0 0;\n",
              "      width: 32px;\n",
              "    }\n",
              "\n",
              "    .colab-df-convert:hover {\n",
              "      background-color: #E2EBFA;\n",
              "      box-shadow: 0px 1px 2px rgba(60, 64, 67, 0.3), 0px 1px 3px 1px rgba(60, 64, 67, 0.15);\n",
              "      fill: #174EA6;\n",
              "    }\n",
              "\n",
              "    [theme=dark] .colab-df-convert {\n",
              "      background-color: #3B4455;\n",
              "      fill: #D2E3FC;\n",
              "    }\n",
              "\n",
              "    [theme=dark] .colab-df-convert:hover {\n",
              "      background-color: #434B5C;\n",
              "      box-shadow: 0px 1px 3px 1px rgba(0, 0, 0, 0.15);\n",
              "      filter: drop-shadow(0px 1px 2px rgba(0, 0, 0, 0.3));\n",
              "      fill: #FFFFFF;\n",
              "    }\n",
              "  </style>\n",
              "\n",
              "      <script>\n",
              "        const buttonEl =\n",
              "          document.querySelector('#df-9c62cb8e-cd41-47a8-bb62-7ddc92899449 button.colab-df-convert');\n",
              "        buttonEl.style.display =\n",
              "          google.colab.kernel.accessAllowed ? 'block' : 'none';\n",
              "\n",
              "        async function convertToInteractive(key) {\n",
              "          const element = document.querySelector('#df-9c62cb8e-cd41-47a8-bb62-7ddc92899449');\n",
              "          const dataTable =\n",
              "            await google.colab.kernel.invokeFunction('convertToInteractive',\n",
              "                                                     [key], {});\n",
              "          if (!dataTable) return;\n",
              "\n",
              "          const docLinkHtml = 'Like what you see? Visit the ' +\n",
              "            '<a target=\"_blank\" href=https://colab.research.google.com/notebooks/data_table.ipynb>data table notebook</a>'\n",
              "            + ' to learn more about interactive tables.';\n",
              "          element.innerHTML = '';\n",
              "          dataTable['output_type'] = 'display_data';\n",
              "          await google.colab.output.renderOutput(dataTable, element);\n",
              "          const docLink = document.createElement('div');\n",
              "          docLink.innerHTML = docLinkHtml;\n",
              "          element.appendChild(docLink);\n",
              "        }\n",
              "      </script>\n",
              "    </div>\n",
              "  </div>\n",
              "  "
            ]
          },
          "metadata": {},
          "execution_count": 14
        }
      ]
    },
    {
      "cell_type": "markdown",
      "metadata": {
        "id": "FRQAajY-JGdW"
      },
      "source": [
        "Whether or not each word appears in a document only matters, no matter how many times it appears."
      ]
    },
    {
      "cell_type": "markdown",
      "metadata": {
        "id": "tftzJeXtJGdW"
      },
      "source": [
        "## Building a DTM with Normalized Term Frequencies"
      ]
    },
    {
      "cell_type": "markdown",
      "metadata": {
        "id": "F-7IIaExJGdW"
      },
      "source": [
        "It would be unfair to give more credit to longer documents with more terms. Normalization is used to get rid of the advantage of longer documents with possibly more terms."
      ]
    },
    {
      "cell_type": "code",
      "metadata": {
        "id": "oEEbFO0qJGdW"
      },
      "source": [
        "vectorizer = TfidfVectorizer(use_idf=False, norm=\"l2\")\n",
        "X = vectorizer.fit_transform(corpus)"
      ],
      "execution_count": null,
      "outputs": []
    },
    {
      "cell_type": "markdown",
      "metadata": {
        "id": "i32nT6hyJGdW"
      },
      "source": [
        "- `norm` ('l1', 'l2' or None, optional, default='l2')\n",
        "    - 'l2': Sum of squares of vector elements is 1 .. 제곱\n",
        "    - 'l1': Sum of absolute values of vector elements is 1 .. 절대값"
      ]
    },
    {
      "cell_type": "code",
      "metadata": {
        "id": "-KS3lC9OJGdX",
        "colab": {
          "base_uri": "https://localhost:8080/",
          "height": 248
        },
        "outputId": "525301e7-a239-48ee-c143-21a124065bb4"
      },
      "source": [
        "pd.DataFrame(data=X.toarray(), columns=vectorizer.get_feature_names_out(),\n",
        "             index=[\"doc{}\".format(i) for i in range(X.shape[0])])"
      ],
      "execution_count": null,
      "outputs": [
        {
          "output_type": "execute_result",
          "data": {
            "text/plain": [
              "       alright   always       and  anything       be      but       buy  \\\n",
              "doc0  0.000000  0.13484  0.000000   0.00000  0.13484  0.00000  0.000000   \n",
              "doc1  0.000000  0.00000  0.072932   0.00000  0.00000  0.00000  0.000000   \n",
              "doc2  0.186501  0.00000  0.000000   0.09325  0.00000  0.00000  0.373002   \n",
              "doc3  0.000000  0.00000  0.000000   0.00000  0.15570  0.07785  0.000000   \n",
              "\n",
              "           can     care    cause  ...      too     true        ve      well  \\\n",
              "doc0  0.000000  0.00000  0.00000  ...  0.00000  0.13484  0.000000  0.000000   \n",
              "doc1  0.000000  0.00000  0.00000  ...  0.00000  0.00000  0.072932  0.072932   \n",
              "doc2  0.279751  0.09325  0.09325  ...  0.09325  0.00000  0.000000  0.000000   \n",
              "doc3  0.467099  0.00000  0.00000  ...  0.00000  0.00000  0.000000  0.000000   \n",
              "\n",
              "          what     whoa      yeah  yesterday       you      your  \n",
              "doc0  0.000000  0.13484  0.000000   0.000000  0.269680  0.000000  \n",
              "doc1  0.072932  0.00000  0.729325   0.072932  0.437595  0.072932  \n",
              "doc2  0.000000  0.00000  0.000000   0.000000  0.373002  0.000000  \n",
              "doc3  0.000000  0.00000  0.000000   0.000000  0.311400  0.000000  \n",
              "\n",
              "[4 rows x 63 columns]"
            ],
            "text/html": [
              "\n",
              "  <div id=\"df-625778a9-22c4-4ac2-9fd8-25a5d7995c43\">\n",
              "    <div class=\"colab-df-container\">\n",
              "      <div>\n",
              "<style scoped>\n",
              "    .dataframe tbody tr th:only-of-type {\n",
              "        vertical-align: middle;\n",
              "    }\n",
              "\n",
              "    .dataframe tbody tr th {\n",
              "        vertical-align: top;\n",
              "    }\n",
              "\n",
              "    .dataframe thead th {\n",
              "        text-align: right;\n",
              "    }\n",
              "</style>\n",
              "<table border=\"1\" class=\"dataframe\">\n",
              "  <thead>\n",
              "    <tr style=\"text-align: right;\">\n",
              "      <th></th>\n",
              "      <th>alright</th>\n",
              "      <th>always</th>\n",
              "      <th>and</th>\n",
              "      <th>anything</th>\n",
              "      <th>be</th>\n",
              "      <th>but</th>\n",
              "      <th>buy</th>\n",
              "      <th>can</th>\n",
              "      <th>care</th>\n",
              "      <th>cause</th>\n",
              "      <th>...</th>\n",
              "      <th>too</th>\n",
              "      <th>true</th>\n",
              "      <th>ve</th>\n",
              "      <th>well</th>\n",
              "      <th>what</th>\n",
              "      <th>whoa</th>\n",
              "      <th>yeah</th>\n",
              "      <th>yesterday</th>\n",
              "      <th>you</th>\n",
              "      <th>your</th>\n",
              "    </tr>\n",
              "  </thead>\n",
              "  <tbody>\n",
              "    <tr>\n",
              "      <th>doc0</th>\n",
              "      <td>0.000000</td>\n",
              "      <td>0.13484</td>\n",
              "      <td>0.000000</td>\n",
              "      <td>0.00000</td>\n",
              "      <td>0.13484</td>\n",
              "      <td>0.00000</td>\n",
              "      <td>0.000000</td>\n",
              "      <td>0.000000</td>\n",
              "      <td>0.00000</td>\n",
              "      <td>0.00000</td>\n",
              "      <td>...</td>\n",
              "      <td>0.00000</td>\n",
              "      <td>0.13484</td>\n",
              "      <td>0.000000</td>\n",
              "      <td>0.000000</td>\n",
              "      <td>0.000000</td>\n",
              "      <td>0.13484</td>\n",
              "      <td>0.000000</td>\n",
              "      <td>0.000000</td>\n",
              "      <td>0.269680</td>\n",
              "      <td>0.000000</td>\n",
              "    </tr>\n",
              "    <tr>\n",
              "      <th>doc1</th>\n",
              "      <td>0.000000</td>\n",
              "      <td>0.00000</td>\n",
              "      <td>0.072932</td>\n",
              "      <td>0.00000</td>\n",
              "      <td>0.00000</td>\n",
              "      <td>0.00000</td>\n",
              "      <td>0.000000</td>\n",
              "      <td>0.000000</td>\n",
              "      <td>0.00000</td>\n",
              "      <td>0.00000</td>\n",
              "      <td>...</td>\n",
              "      <td>0.00000</td>\n",
              "      <td>0.00000</td>\n",
              "      <td>0.072932</td>\n",
              "      <td>0.072932</td>\n",
              "      <td>0.072932</td>\n",
              "      <td>0.00000</td>\n",
              "      <td>0.729325</td>\n",
              "      <td>0.072932</td>\n",
              "      <td>0.437595</td>\n",
              "      <td>0.072932</td>\n",
              "    </tr>\n",
              "    <tr>\n",
              "      <th>doc2</th>\n",
              "      <td>0.186501</td>\n",
              "      <td>0.00000</td>\n",
              "      <td>0.000000</td>\n",
              "      <td>0.09325</td>\n",
              "      <td>0.00000</td>\n",
              "      <td>0.00000</td>\n",
              "      <td>0.373002</td>\n",
              "      <td>0.279751</td>\n",
              "      <td>0.09325</td>\n",
              "      <td>0.09325</td>\n",
              "      <td>...</td>\n",
              "      <td>0.09325</td>\n",
              "      <td>0.00000</td>\n",
              "      <td>0.000000</td>\n",
              "      <td>0.000000</td>\n",
              "      <td>0.000000</td>\n",
              "      <td>0.00000</td>\n",
              "      <td>0.000000</td>\n",
              "      <td>0.000000</td>\n",
              "      <td>0.373002</td>\n",
              "      <td>0.000000</td>\n",
              "    </tr>\n",
              "    <tr>\n",
              "      <th>doc3</th>\n",
              "      <td>0.000000</td>\n",
              "      <td>0.00000</td>\n",
              "      <td>0.000000</td>\n",
              "      <td>0.00000</td>\n",
              "      <td>0.15570</td>\n",
              "      <td>0.07785</td>\n",
              "      <td>0.000000</td>\n",
              "      <td>0.467099</td>\n",
              "      <td>0.00000</td>\n",
              "      <td>0.00000</td>\n",
              "      <td>...</td>\n",
              "      <td>0.00000</td>\n",
              "      <td>0.00000</td>\n",
              "      <td>0.000000</td>\n",
              "      <td>0.000000</td>\n",
              "      <td>0.000000</td>\n",
              "      <td>0.00000</td>\n",
              "      <td>0.000000</td>\n",
              "      <td>0.000000</td>\n",
              "      <td>0.311400</td>\n",
              "      <td>0.000000</td>\n",
              "    </tr>\n",
              "  </tbody>\n",
              "</table>\n",
              "<p>4 rows × 63 columns</p>\n",
              "</div>\n",
              "      <button class=\"colab-df-convert\" onclick=\"convertToInteractive('df-625778a9-22c4-4ac2-9fd8-25a5d7995c43')\"\n",
              "              title=\"Convert this dataframe to an interactive table.\"\n",
              "              style=\"display:none;\">\n",
              "        \n",
              "  <svg xmlns=\"http://www.w3.org/2000/svg\" height=\"24px\"viewBox=\"0 0 24 24\"\n",
              "       width=\"24px\">\n",
              "    <path d=\"M0 0h24v24H0V0z\" fill=\"none\"/>\n",
              "    <path d=\"M18.56 5.44l.94 2.06.94-2.06 2.06-.94-2.06-.94-.94-2.06-.94 2.06-2.06.94zm-11 1L8.5 8.5l.94-2.06 2.06-.94-2.06-.94L8.5 2.5l-.94 2.06-2.06.94zm10 10l.94 2.06.94-2.06 2.06-.94-2.06-.94-.94-2.06-.94 2.06-2.06.94z\"/><path d=\"M17.41 7.96l-1.37-1.37c-.4-.4-.92-.59-1.43-.59-.52 0-1.04.2-1.43.59L10.3 9.45l-7.72 7.72c-.78.78-.78 2.05 0 2.83L4 21.41c.39.39.9.59 1.41.59.51 0 1.02-.2 1.41-.59l7.78-7.78 2.81-2.81c.8-.78.8-2.07 0-2.86zM5.41 20L4 18.59l7.72-7.72 1.47 1.35L5.41 20z\"/>\n",
              "  </svg>\n",
              "      </button>\n",
              "      \n",
              "  <style>\n",
              "    .colab-df-container {\n",
              "      display:flex;\n",
              "      flex-wrap:wrap;\n",
              "      gap: 12px;\n",
              "    }\n",
              "\n",
              "    .colab-df-convert {\n",
              "      background-color: #E8F0FE;\n",
              "      border: none;\n",
              "      border-radius: 50%;\n",
              "      cursor: pointer;\n",
              "      display: none;\n",
              "      fill: #1967D2;\n",
              "      height: 32px;\n",
              "      padding: 0 0 0 0;\n",
              "      width: 32px;\n",
              "    }\n",
              "\n",
              "    .colab-df-convert:hover {\n",
              "      background-color: #E2EBFA;\n",
              "      box-shadow: 0px 1px 2px rgba(60, 64, 67, 0.3), 0px 1px 3px 1px rgba(60, 64, 67, 0.15);\n",
              "      fill: #174EA6;\n",
              "    }\n",
              "\n",
              "    [theme=dark] .colab-df-convert {\n",
              "      background-color: #3B4455;\n",
              "      fill: #D2E3FC;\n",
              "    }\n",
              "\n",
              "    [theme=dark] .colab-df-convert:hover {\n",
              "      background-color: #434B5C;\n",
              "      box-shadow: 0px 1px 3px 1px rgba(0, 0, 0, 0.15);\n",
              "      filter: drop-shadow(0px 1px 2px rgba(0, 0, 0, 0.3));\n",
              "      fill: #FFFFFF;\n",
              "    }\n",
              "  </style>\n",
              "\n",
              "      <script>\n",
              "        const buttonEl =\n",
              "          document.querySelector('#df-625778a9-22c4-4ac2-9fd8-25a5d7995c43 button.colab-df-convert');\n",
              "        buttonEl.style.display =\n",
              "          google.colab.kernel.accessAllowed ? 'block' : 'none';\n",
              "\n",
              "        async function convertToInteractive(key) {\n",
              "          const element = document.querySelector('#df-625778a9-22c4-4ac2-9fd8-25a5d7995c43');\n",
              "          const dataTable =\n",
              "            await google.colab.kernel.invokeFunction('convertToInteractive',\n",
              "                                                     [key], {});\n",
              "          if (!dataTable) return;\n",
              "\n",
              "          const docLinkHtml = 'Like what you see? Visit the ' +\n",
              "            '<a target=\"_blank\" href=https://colab.research.google.com/notebooks/data_table.ipynb>data table notebook</a>'\n",
              "            + ' to learn more about interactive tables.';\n",
              "          element.innerHTML = '';\n",
              "          dataTable['output_type'] = 'display_data';\n",
              "          await google.colab.output.renderOutput(dataTable, element);\n",
              "          const docLink = document.createElement('div');\n",
              "          docLink.innerHTML = docLinkHtml;\n",
              "          element.appendChild(docLink);\n",
              "        }\n",
              "      </script>\n",
              "    </div>\n",
              "  </div>\n",
              "  "
            ]
          },
          "metadata": {},
          "execution_count": 16
        }
      ]
    },
    {
      "cell_type": "markdown",
      "source": [
        "## What Is TF-IDF?\n",
        "한 문서내에서가 아니라\n",
        "관심있는 term이 얼마나 많은 document에서 나왔는가?\n",
        "현재는 4가 최대\n",
        "\n",
        "굉장히 많은 document에 나오는 흔한 단어 .. 중요하지 않은 단어\n",
        "\n",
        "어떤 term이 특정 문서에만 많이 나오면 좋은 거 > 그 문서를 잘 설명해주는거"
      ],
      "metadata": {
        "id": "hJeR4-bHP3vn"
      }
    },
    {
      "cell_type": "markdown",
      "metadata": {
        "id": "4sxli58sJGdQ"
      },
      "source": [
        "Inverse document frequency (IDF) is an inverse function of the number of documents in which it occurs. For example, because the term *the* is so common in English, term frequency will tend to incorrectly emphasize documents which happen to use the word *the* more frequently, without giving enough weight to the more meaningful terms. Here, the term *the* is not a good keyword to distinguish relevant and non-relevant documents and terms. Hence, an inverse document frequency factor is incorporated which diminishes the weight of terms that occur very frequently in the document set and increases the weight of terms that occur rarely."
      ]
    },
    {
      "cell_type": "markdown",
      "metadata": {
        "id": "jIjZIY7TJGdQ"
      },
      "source": [
        "The TF-IDF is the product of two statistics, term frequency and inverse document frequency. There are various ways for determining the exact values of both statistics."
      ]
    },
    {
      "cell_type": "markdown",
      "metadata": {
        "id": "0WNRsLn7JGdR"
      },
      "source": [
        "tf–idf: https://en.wikipedia.org/wiki/Tf%E2%80%93idf"
      ]
    },
    {
      "cell_type": "markdown",
      "metadata": {
        "id": "fRFY13yZJGdX"
      },
      "source": [
        "## Building a DTM with TF-IDF"
      ]
    },
    {
      "cell_type": "code",
      "metadata": {
        "id": "kkdkSfhLJGdX"
      },
      "source": [
        "vectorizer = TfidfVectorizer(use_idf=True, norm=\"l2\")\n",
        "X = vectorizer.fit_transform(corpus)"
      ],
      "execution_count": null,
      "outputs": []
    },
    {
      "cell_type": "markdown",
      "metadata": {
        "id": "7UWZE9WvJGdX"
      },
      "source": [
        "- `use_idf` (bool, default=True): Enable inverse-document-frequency reweighting."
      ]
    },
    {
      "cell_type": "code",
      "metadata": {
        "id": "EB1pc7hgJGdX",
        "colab": {
          "base_uri": "https://localhost:8080/",
          "height": 268
        },
        "outputId": "b8b9e21e-8667-47c6-b0a1-3bdd7854da15"
      },
      "source": [
        "pd.DataFrame(data=X.toarray(), columns=vectorizer.get_feature_names_out(),\n",
        "             index=[\"doc{}\".format(i) for i in range(X.shape[0])])"
      ],
      "execution_count": null,
      "outputs": [
        {
          "output_type": "execute_result",
          "data": {
            "text/plain": [
              "       alright    always       and  anything        be       but       buy  \\\n",
              "doc0  0.000000  0.202438  0.000000  0.000000  0.159604  0.000000  0.000000   \n",
              "doc1  0.000000  0.000000  0.079272  0.000000  0.000000  0.000000  0.000000   \n",
              "doc2  0.224888  0.000000  0.000000  0.112444  0.000000  0.000000  0.449776   \n",
              "doc3  0.000000  0.000000  0.000000  0.000000  0.179056  0.113555  0.000000   \n",
              "\n",
              "           can      care     cause  ...       too      true        ve  \\\n",
              "doc0  0.000000  0.000000  0.000000  ...  0.000000  0.202438  0.000000   \n",
              "doc1  0.000000  0.000000  0.000000  ...  0.000000  0.000000  0.079272   \n",
              "doc2  0.265956  0.112444  0.112444  ...  0.112444  0.000000  0.000000   \n",
              "doc3  0.537169  0.000000  0.000000  ...  0.000000  0.000000  0.000000   \n",
              "\n",
              "          well      what      whoa      yeah  yesterday       you      your  \n",
              "doc0  0.000000  0.000000  0.202438  0.000000   0.000000  0.211281  0.000000  \n",
              "doc1  0.079272  0.079272  0.000000  0.792718   0.079272  0.248204  0.079272  \n",
              "doc2  0.000000  0.000000  0.000000  0.000000   0.000000  0.234712  0.000000  \n",
              "doc3  0.000000  0.000000  0.000000  0.000000   0.000000  0.237031  0.000000  \n",
              "\n",
              "[4 rows x 63 columns]"
            ],
            "text/html": [
              "\n",
              "  <div id=\"df-24a4f2ab-931d-4c5f-96d0-6d3446fe16ed\">\n",
              "    <div class=\"colab-df-container\">\n",
              "      <div>\n",
              "<style scoped>\n",
              "    .dataframe tbody tr th:only-of-type {\n",
              "        vertical-align: middle;\n",
              "    }\n",
              "\n",
              "    .dataframe tbody tr th {\n",
              "        vertical-align: top;\n",
              "    }\n",
              "\n",
              "    .dataframe thead th {\n",
              "        text-align: right;\n",
              "    }\n",
              "</style>\n",
              "<table border=\"1\" class=\"dataframe\">\n",
              "  <thead>\n",
              "    <tr style=\"text-align: right;\">\n",
              "      <th></th>\n",
              "      <th>alright</th>\n",
              "      <th>always</th>\n",
              "      <th>and</th>\n",
              "      <th>anything</th>\n",
              "      <th>be</th>\n",
              "      <th>but</th>\n",
              "      <th>buy</th>\n",
              "      <th>can</th>\n",
              "      <th>care</th>\n",
              "      <th>cause</th>\n",
              "      <th>...</th>\n",
              "      <th>too</th>\n",
              "      <th>true</th>\n",
              "      <th>ve</th>\n",
              "      <th>well</th>\n",
              "      <th>what</th>\n",
              "      <th>whoa</th>\n",
              "      <th>yeah</th>\n",
              "      <th>yesterday</th>\n",
              "      <th>you</th>\n",
              "      <th>your</th>\n",
              "    </tr>\n",
              "  </thead>\n",
              "  <tbody>\n",
              "    <tr>\n",
              "      <th>doc0</th>\n",
              "      <td>0.000000</td>\n",
              "      <td>0.202438</td>\n",
              "      <td>0.000000</td>\n",
              "      <td>0.000000</td>\n",
              "      <td>0.159604</td>\n",
              "      <td>0.000000</td>\n",
              "      <td>0.000000</td>\n",
              "      <td>0.000000</td>\n",
              "      <td>0.000000</td>\n",
              "      <td>0.000000</td>\n",
              "      <td>...</td>\n",
              "      <td>0.000000</td>\n",
              "      <td>0.202438</td>\n",
              "      <td>0.000000</td>\n",
              "      <td>0.000000</td>\n",
              "      <td>0.000000</td>\n",
              "      <td>0.202438</td>\n",
              "      <td>0.000000</td>\n",
              "      <td>0.000000</td>\n",
              "      <td>0.211281</td>\n",
              "      <td>0.000000</td>\n",
              "    </tr>\n",
              "    <tr>\n",
              "      <th>doc1</th>\n",
              "      <td>0.000000</td>\n",
              "      <td>0.000000</td>\n",
              "      <td>0.079272</td>\n",
              "      <td>0.000000</td>\n",
              "      <td>0.000000</td>\n",
              "      <td>0.000000</td>\n",
              "      <td>0.000000</td>\n",
              "      <td>0.000000</td>\n",
              "      <td>0.000000</td>\n",
              "      <td>0.000000</td>\n",
              "      <td>...</td>\n",
              "      <td>0.000000</td>\n",
              "      <td>0.000000</td>\n",
              "      <td>0.079272</td>\n",
              "      <td>0.079272</td>\n",
              "      <td>0.079272</td>\n",
              "      <td>0.000000</td>\n",
              "      <td>0.792718</td>\n",
              "      <td>0.079272</td>\n",
              "      <td>0.248204</td>\n",
              "      <td>0.079272</td>\n",
              "    </tr>\n",
              "    <tr>\n",
              "      <th>doc2</th>\n",
              "      <td>0.224888</td>\n",
              "      <td>0.000000</td>\n",
              "      <td>0.000000</td>\n",
              "      <td>0.112444</td>\n",
              "      <td>0.000000</td>\n",
              "      <td>0.000000</td>\n",
              "      <td>0.449776</td>\n",
              "      <td>0.265956</td>\n",
              "      <td>0.112444</td>\n",
              "      <td>0.112444</td>\n",
              "      <td>...</td>\n",
              "      <td>0.112444</td>\n",
              "      <td>0.000000</td>\n",
              "      <td>0.000000</td>\n",
              "      <td>0.000000</td>\n",
              "      <td>0.000000</td>\n",
              "      <td>0.000000</td>\n",
              "      <td>0.000000</td>\n",
              "      <td>0.000000</td>\n",
              "      <td>0.234712</td>\n",
              "      <td>0.000000</td>\n",
              "    </tr>\n",
              "    <tr>\n",
              "      <th>doc3</th>\n",
              "      <td>0.000000</td>\n",
              "      <td>0.000000</td>\n",
              "      <td>0.000000</td>\n",
              "      <td>0.000000</td>\n",
              "      <td>0.179056</td>\n",
              "      <td>0.113555</td>\n",
              "      <td>0.000000</td>\n",
              "      <td>0.537169</td>\n",
              "      <td>0.000000</td>\n",
              "      <td>0.000000</td>\n",
              "      <td>...</td>\n",
              "      <td>0.000000</td>\n",
              "      <td>0.000000</td>\n",
              "      <td>0.000000</td>\n",
              "      <td>0.000000</td>\n",
              "      <td>0.000000</td>\n",
              "      <td>0.000000</td>\n",
              "      <td>0.000000</td>\n",
              "      <td>0.000000</td>\n",
              "      <td>0.237031</td>\n",
              "      <td>0.000000</td>\n",
              "    </tr>\n",
              "  </tbody>\n",
              "</table>\n",
              "<p>4 rows × 63 columns</p>\n",
              "</div>\n",
              "      <button class=\"colab-df-convert\" onclick=\"convertToInteractive('df-24a4f2ab-931d-4c5f-96d0-6d3446fe16ed')\"\n",
              "              title=\"Convert this dataframe to an interactive table.\"\n",
              "              style=\"display:none;\">\n",
              "        \n",
              "  <svg xmlns=\"http://www.w3.org/2000/svg\" height=\"24px\"viewBox=\"0 0 24 24\"\n",
              "       width=\"24px\">\n",
              "    <path d=\"M0 0h24v24H0V0z\" fill=\"none\"/>\n",
              "    <path d=\"M18.56 5.44l.94 2.06.94-2.06 2.06-.94-2.06-.94-.94-2.06-.94 2.06-2.06.94zm-11 1L8.5 8.5l.94-2.06 2.06-.94-2.06-.94L8.5 2.5l-.94 2.06-2.06.94zm10 10l.94 2.06.94-2.06 2.06-.94-2.06-.94-.94-2.06-.94 2.06-2.06.94z\"/><path d=\"M17.41 7.96l-1.37-1.37c-.4-.4-.92-.59-1.43-.59-.52 0-1.04.2-1.43.59L10.3 9.45l-7.72 7.72c-.78.78-.78 2.05 0 2.83L4 21.41c.39.39.9.59 1.41.59.51 0 1.02-.2 1.41-.59l7.78-7.78 2.81-2.81c.8-.78.8-2.07 0-2.86zM5.41 20L4 18.59l7.72-7.72 1.47 1.35L5.41 20z\"/>\n",
              "  </svg>\n",
              "      </button>\n",
              "      \n",
              "  <style>\n",
              "    .colab-df-container {\n",
              "      display:flex;\n",
              "      flex-wrap:wrap;\n",
              "      gap: 12px;\n",
              "    }\n",
              "\n",
              "    .colab-df-convert {\n",
              "      background-color: #E8F0FE;\n",
              "      border: none;\n",
              "      border-radius: 50%;\n",
              "      cursor: pointer;\n",
              "      display: none;\n",
              "      fill: #1967D2;\n",
              "      height: 32px;\n",
              "      padding: 0 0 0 0;\n",
              "      width: 32px;\n",
              "    }\n",
              "\n",
              "    .colab-df-convert:hover {\n",
              "      background-color: #E2EBFA;\n",
              "      box-shadow: 0px 1px 2px rgba(60, 64, 67, 0.3), 0px 1px 3px 1px rgba(60, 64, 67, 0.15);\n",
              "      fill: #174EA6;\n",
              "    }\n",
              "\n",
              "    [theme=dark] .colab-df-convert {\n",
              "      background-color: #3B4455;\n",
              "      fill: #D2E3FC;\n",
              "    }\n",
              "\n",
              "    [theme=dark] .colab-df-convert:hover {\n",
              "      background-color: #434B5C;\n",
              "      box-shadow: 0px 1px 3px 1px rgba(0, 0, 0, 0.15);\n",
              "      filter: drop-shadow(0px 1px 2px rgba(0, 0, 0, 0.3));\n",
              "      fill: #FFFFFF;\n",
              "    }\n",
              "  </style>\n",
              "\n",
              "      <script>\n",
              "        const buttonEl =\n",
              "          document.querySelector('#df-24a4f2ab-931d-4c5f-96d0-6d3446fe16ed button.colab-df-convert');\n",
              "        buttonEl.style.display =\n",
              "          google.colab.kernel.accessAllowed ? 'block' : 'none';\n",
              "\n",
              "        async function convertToInteractive(key) {\n",
              "          const element = document.querySelector('#df-24a4f2ab-931d-4c5f-96d0-6d3446fe16ed');\n",
              "          const dataTable =\n",
              "            await google.colab.kernel.invokeFunction('convertToInteractive',\n",
              "                                                     [key], {});\n",
              "          if (!dataTable) return;\n",
              "\n",
              "          const docLinkHtml = 'Like what you see? Visit the ' +\n",
              "            '<a target=\"_blank\" href=https://colab.research.google.com/notebooks/data_table.ipynb>data table notebook</a>'\n",
              "            + ' to learn more about interactive tables.';\n",
              "          element.innerHTML = '';\n",
              "          dataTable['output_type'] = 'display_data';\n",
              "          await google.colab.output.renderOutput(dataTable, element);\n",
              "          const docLink = document.createElement('div');\n",
              "          docLink.innerHTML = docLinkHtml;\n",
              "          element.appendChild(docLink);\n",
              "        }\n",
              "      </script>\n",
              "    </div>\n",
              "  </div>\n",
              "  "
            ]
          },
          "metadata": {},
          "execution_count": 18
        }
      ]
    },
    {
      "cell_type": "markdown",
      "metadata": {
        "id": "qS0sZrGBJGdY"
      },
      "source": [
        "## Building a DTM with TF-IDF Removing English Stopwords"
      ]
    },
    {
      "cell_type": "markdown",
      "metadata": {
        "id": "Jw4IqHWJJGdY"
      },
      "source": [
        "You may want no stopwords in English to be included in the DTM."
      ]
    },
    {
      "cell_type": "code",
      "metadata": {
        "id": "IXtxn4PhJGdY"
      },
      "source": [
        "vectorizer = TfidfVectorizer(use_idf=True, norm=\"l2\", stop_words=\"english\")\n",
        "X = vectorizer.fit_transform(corpus)"
      ],
      "execution_count": null,
      "outputs": []
    },
    {
      "cell_type": "markdown",
      "metadata": {
        "id": "PlPp9EdbJGdY"
      },
      "source": [
        "- `stop_words` (str {'english'}, list, or None, default=None)"
      ]
    },
    {
      "cell_type": "code",
      "metadata": {
        "id": "-TKtlFYkJGdY",
        "colab": {
          "base_uri": "https://localhost:8080/",
          "height": 268
        },
        "outputId": "0a40437c-790f-4595-802c-a0c5d7b52d4a"
      },
      "source": [
        "pd.DataFrame(data=X.toarray(), columns=vectorizer.get_feature_names_out(),\n",
        "             index=[\"doc{}\".format(i) for i in range(X.shape[0])])"
      ],
      "execution_count": null,
      "outputs": [
        {
          "output_type": "execute_result",
          "data": {
            "text/plain": [
              "       alright       buy      care     cause   diamond       don     easy  \\\n",
              "doc0  0.000000  0.000000  0.000000  0.000000  0.000000  0.000000  0.00000   \n",
              "doc1  0.000000  0.000000  0.000000  0.000000  0.000000  0.000000  0.00000   \n",
              "doc2  0.289147  0.578294  0.144573  0.144573  0.144573  0.144573  0.00000   \n",
              "doc3  0.000000  0.000000  0.000000  0.000000  0.000000  0.000000  0.16291   \n",
              "\n",
              "          feel    friend     game  ...     sing     sung     think   thinkin  \\\n",
              "doc0  0.000000  0.000000  0.00000  ...  0.00000  0.00000  0.000000  0.000000   \n",
              "doc1  0.000000  0.000000  0.00000  ...  0.00000  0.00000  0.092492  0.092492   \n",
              "doc2  0.289147  0.289147  0.00000  ...  0.00000  0.00000  0.000000  0.000000   \n",
              "doc3  0.000000  0.000000  0.16291  ...  0.16291  0.16291  0.000000  0.000000   \n",
              "\n",
              "          told      true        ve      whoa     yeah  yesterday  \n",
              "doc0  0.000000  0.309647  0.000000  0.309647  0.00000   0.000000  \n",
              "doc1  0.092492  0.000000  0.092492  0.000000  0.92492   0.092492  \n",
              "doc2  0.000000  0.000000  0.000000  0.000000  0.00000   0.000000  \n",
              "doc3  0.000000  0.000000  0.000000  0.000000  0.00000   0.000000  \n",
              "\n",
              "[4 rows x 33 columns]"
            ],
            "text/html": [
              "\n",
              "  <div id=\"df-e28b998d-3aac-4bf2-b4bd-f9024544aa75\">\n",
              "    <div class=\"colab-df-container\">\n",
              "      <div>\n",
              "<style scoped>\n",
              "    .dataframe tbody tr th:only-of-type {\n",
              "        vertical-align: middle;\n",
              "    }\n",
              "\n",
              "    .dataframe tbody tr th {\n",
              "        vertical-align: top;\n",
              "    }\n",
              "\n",
              "    .dataframe thead th {\n",
              "        text-align: right;\n",
              "    }\n",
              "</style>\n",
              "<table border=\"1\" class=\"dataframe\">\n",
              "  <thead>\n",
              "    <tr style=\"text-align: right;\">\n",
              "      <th></th>\n",
              "      <th>alright</th>\n",
              "      <th>buy</th>\n",
              "      <th>care</th>\n",
              "      <th>cause</th>\n",
              "      <th>diamond</th>\n",
              "      <th>don</th>\n",
              "      <th>easy</th>\n",
              "      <th>feel</th>\n",
              "      <th>friend</th>\n",
              "      <th>game</th>\n",
              "      <th>...</th>\n",
              "      <th>sing</th>\n",
              "      <th>sung</th>\n",
              "      <th>think</th>\n",
              "      <th>thinkin</th>\n",
              "      <th>told</th>\n",
              "      <th>true</th>\n",
              "      <th>ve</th>\n",
              "      <th>whoa</th>\n",
              "      <th>yeah</th>\n",
              "      <th>yesterday</th>\n",
              "    </tr>\n",
              "  </thead>\n",
              "  <tbody>\n",
              "    <tr>\n",
              "      <th>doc0</th>\n",
              "      <td>0.000000</td>\n",
              "      <td>0.000000</td>\n",
              "      <td>0.000000</td>\n",
              "      <td>0.000000</td>\n",
              "      <td>0.000000</td>\n",
              "      <td>0.000000</td>\n",
              "      <td>0.00000</td>\n",
              "      <td>0.000000</td>\n",
              "      <td>0.000000</td>\n",
              "      <td>0.00000</td>\n",
              "      <td>...</td>\n",
              "      <td>0.00000</td>\n",
              "      <td>0.00000</td>\n",
              "      <td>0.000000</td>\n",
              "      <td>0.000000</td>\n",
              "      <td>0.000000</td>\n",
              "      <td>0.309647</td>\n",
              "      <td>0.000000</td>\n",
              "      <td>0.309647</td>\n",
              "      <td>0.00000</td>\n",
              "      <td>0.000000</td>\n",
              "    </tr>\n",
              "    <tr>\n",
              "      <th>doc1</th>\n",
              "      <td>0.000000</td>\n",
              "      <td>0.000000</td>\n",
              "      <td>0.000000</td>\n",
              "      <td>0.000000</td>\n",
              "      <td>0.000000</td>\n",
              "      <td>0.000000</td>\n",
              "      <td>0.00000</td>\n",
              "      <td>0.000000</td>\n",
              "      <td>0.000000</td>\n",
              "      <td>0.00000</td>\n",
              "      <td>...</td>\n",
              "      <td>0.00000</td>\n",
              "      <td>0.00000</td>\n",
              "      <td>0.092492</td>\n",
              "      <td>0.092492</td>\n",
              "      <td>0.092492</td>\n",
              "      <td>0.000000</td>\n",
              "      <td>0.092492</td>\n",
              "      <td>0.000000</td>\n",
              "      <td>0.92492</td>\n",
              "      <td>0.092492</td>\n",
              "    </tr>\n",
              "    <tr>\n",
              "      <th>doc2</th>\n",
              "      <td>0.289147</td>\n",
              "      <td>0.578294</td>\n",
              "      <td>0.144573</td>\n",
              "      <td>0.144573</td>\n",
              "      <td>0.144573</td>\n",
              "      <td>0.144573</td>\n",
              "      <td>0.00000</td>\n",
              "      <td>0.289147</td>\n",
              "      <td>0.289147</td>\n",
              "      <td>0.00000</td>\n",
              "      <td>...</td>\n",
              "      <td>0.00000</td>\n",
              "      <td>0.00000</td>\n",
              "      <td>0.000000</td>\n",
              "      <td>0.000000</td>\n",
              "      <td>0.000000</td>\n",
              "      <td>0.000000</td>\n",
              "      <td>0.000000</td>\n",
              "      <td>0.000000</td>\n",
              "      <td>0.00000</td>\n",
              "      <td>0.000000</td>\n",
              "    </tr>\n",
              "    <tr>\n",
              "      <th>doc3</th>\n",
              "      <td>0.000000</td>\n",
              "      <td>0.000000</td>\n",
              "      <td>0.000000</td>\n",
              "      <td>0.000000</td>\n",
              "      <td>0.000000</td>\n",
              "      <td>0.000000</td>\n",
              "      <td>0.16291</td>\n",
              "      <td>0.000000</td>\n",
              "      <td>0.000000</td>\n",
              "      <td>0.16291</td>\n",
              "      <td>...</td>\n",
              "      <td>0.16291</td>\n",
              "      <td>0.16291</td>\n",
              "      <td>0.000000</td>\n",
              "      <td>0.000000</td>\n",
              "      <td>0.000000</td>\n",
              "      <td>0.000000</td>\n",
              "      <td>0.000000</td>\n",
              "      <td>0.000000</td>\n",
              "      <td>0.00000</td>\n",
              "      <td>0.000000</td>\n",
              "    </tr>\n",
              "  </tbody>\n",
              "</table>\n",
              "<p>4 rows × 33 columns</p>\n",
              "</div>\n",
              "      <button class=\"colab-df-convert\" onclick=\"convertToInteractive('df-e28b998d-3aac-4bf2-b4bd-f9024544aa75')\"\n",
              "              title=\"Convert this dataframe to an interactive table.\"\n",
              "              style=\"display:none;\">\n",
              "        \n",
              "  <svg xmlns=\"http://www.w3.org/2000/svg\" height=\"24px\"viewBox=\"0 0 24 24\"\n",
              "       width=\"24px\">\n",
              "    <path d=\"M0 0h24v24H0V0z\" fill=\"none\"/>\n",
              "    <path d=\"M18.56 5.44l.94 2.06.94-2.06 2.06-.94-2.06-.94-.94-2.06-.94 2.06-2.06.94zm-11 1L8.5 8.5l.94-2.06 2.06-.94-2.06-.94L8.5 2.5l-.94 2.06-2.06.94zm10 10l.94 2.06.94-2.06 2.06-.94-2.06-.94-.94-2.06-.94 2.06-2.06.94z\"/><path d=\"M17.41 7.96l-1.37-1.37c-.4-.4-.92-.59-1.43-.59-.52 0-1.04.2-1.43.59L10.3 9.45l-7.72 7.72c-.78.78-.78 2.05 0 2.83L4 21.41c.39.39.9.59 1.41.59.51 0 1.02-.2 1.41-.59l7.78-7.78 2.81-2.81c.8-.78.8-2.07 0-2.86zM5.41 20L4 18.59l7.72-7.72 1.47 1.35L5.41 20z\"/>\n",
              "  </svg>\n",
              "      </button>\n",
              "      \n",
              "  <style>\n",
              "    .colab-df-container {\n",
              "      display:flex;\n",
              "      flex-wrap:wrap;\n",
              "      gap: 12px;\n",
              "    }\n",
              "\n",
              "    .colab-df-convert {\n",
              "      background-color: #E8F0FE;\n",
              "      border: none;\n",
              "      border-radius: 50%;\n",
              "      cursor: pointer;\n",
              "      display: none;\n",
              "      fill: #1967D2;\n",
              "      height: 32px;\n",
              "      padding: 0 0 0 0;\n",
              "      width: 32px;\n",
              "    }\n",
              "\n",
              "    .colab-df-convert:hover {\n",
              "      background-color: #E2EBFA;\n",
              "      box-shadow: 0px 1px 2px rgba(60, 64, 67, 0.3), 0px 1px 3px 1px rgba(60, 64, 67, 0.15);\n",
              "      fill: #174EA6;\n",
              "    }\n",
              "\n",
              "    [theme=dark] .colab-df-convert {\n",
              "      background-color: #3B4455;\n",
              "      fill: #D2E3FC;\n",
              "    }\n",
              "\n",
              "    [theme=dark] .colab-df-convert:hover {\n",
              "      background-color: #434B5C;\n",
              "      box-shadow: 0px 1px 3px 1px rgba(0, 0, 0, 0.15);\n",
              "      filter: drop-shadow(0px 1px 2px rgba(0, 0, 0, 0.3));\n",
              "      fill: #FFFFFF;\n",
              "    }\n",
              "  </style>\n",
              "\n",
              "      <script>\n",
              "        const buttonEl =\n",
              "          document.querySelector('#df-e28b998d-3aac-4bf2-b4bd-f9024544aa75 button.colab-df-convert');\n",
              "        buttonEl.style.display =\n",
              "          google.colab.kernel.accessAllowed ? 'block' : 'none';\n",
              "\n",
              "        async function convertToInteractive(key) {\n",
              "          const element = document.querySelector('#df-e28b998d-3aac-4bf2-b4bd-f9024544aa75');\n",
              "          const dataTable =\n",
              "            await google.colab.kernel.invokeFunction('convertToInteractive',\n",
              "                                                     [key], {});\n",
              "          if (!dataTable) return;\n",
              "\n",
              "          const docLinkHtml = 'Like what you see? Visit the ' +\n",
              "            '<a target=\"_blank\" href=https://colab.research.google.com/notebooks/data_table.ipynb>data table notebook</a>'\n",
              "            + ' to learn more about interactive tables.';\n",
              "          element.innerHTML = '';\n",
              "          dataTable['output_type'] = 'display_data';\n",
              "          await google.colab.output.renderOutput(dataTable, element);\n",
              "          const docLink = document.createElement('div');\n",
              "          docLink.innerHTML = docLinkHtml;\n",
              "          element.appendChild(docLink);\n",
              "        }\n",
              "      </script>\n",
              "    </div>\n",
              "  </div>\n",
              "  "
            ]
          },
          "metadata": {},
          "execution_count": 20
        }
      ]
    },
    {
      "cell_type": "markdown",
      "metadata": {
        "id": "SN_IKG5AJGdZ"
      },
      "source": [
        "By removing English stopwords, 30 terms including *and*, *anything*, *be*, and *but* have disappeared in the DTM."
      ]
    },
    {
      "cell_type": "markdown",
      "metadata": {
        "id": "1zBgZc3uJGdZ"
      },
      "source": [
        "## Building a DTM with TF-IDF Removing Corpus-Specific Stopwords\n",
        "### corpus 안에서만 봤을때는 stopwords"
      ]
    },
    {
      "cell_type": "markdown",
      "metadata": {
        "id": "4fCkRDEIJGdZ"
      },
      "source": [
        "While there are universal stopwords, there could be corpus-specific stopwords, which occur many times in a specific corpus."
      ]
    },
    {
      "cell_type": "code",
      "metadata": {
        "id": "6CIrSIM4JGdZ"
      },
      "source": [
        "vectorizer = TfidfVectorizer(use_idf=True, norm=\"l2\", max_df=0.9) # 전체 document의 90% 이상에 등장하면 stopwords\n",
        "X = vectorizer.fit_transform(corpus)"
      ],
      "execution_count": null,
      "outputs": []
    },
    {
      "cell_type": "markdown",
      "metadata": {
        "id": "VIWISnWxJGdZ"
      },
      "source": [
        "- `max_df` (float in range [0.0, 1.0] or int, default=1.0): When building the vocabulary ignore terms that have a document frequency strictly higher than the given threshold. For example, if `max_df` is set to 0.9, all terms that appear in over 90% of the documents will be excluded.  "
      ]
    },
    {
      "cell_type": "code",
      "metadata": {
        "id": "ZhvHscTRJGda",
        "colab": {
          "base_uri": "https://localhost:8080/",
          "height": 268
        },
        "outputId": "06f65cd4-ea36-433c-e28f-bb01969e96ab"
      },
      "source": [
        "pd.DataFrame(data=X.toarray(), columns=vectorizer.get_feature_names_out(),\n",
        "             index=[\"doc{}\".format(i) for i in range(X.shape[0])])"
      ],
      "execution_count": null,
      "outputs": [
        {
          "output_type": "execute_result",
          "data": {
            "text/plain": [
              "       alright    always       and  anything        be       but       buy  \\\n",
              "doc0  0.000000  0.246152  0.000000  0.000000  0.194069  0.000000  0.000000   \n",
              "doc1  0.000000  0.000000  0.081907  0.000000  0.000000  0.000000  0.000000   \n",
              "doc2  0.238405  0.000000  0.000000  0.119202  0.000000  0.000000  0.476809   \n",
              "doc3  0.000000  0.000000  0.000000  0.000000  0.220506  0.139842  0.000000   \n",
              "\n",
              "           can      care     cause  ...      told       too      true  \\\n",
              "doc0  0.000000  0.000000  0.000000  ...  0.000000  0.000000  0.246152   \n",
              "doc1  0.000000  0.000000  0.000000  ...  0.081907  0.000000  0.000000   \n",
              "doc2  0.281941  0.119202  0.119202  ...  0.000000  0.119202  0.000000   \n",
              "doc3  0.661517  0.000000  0.000000  ...  0.000000  0.000000  0.000000   \n",
              "\n",
              "            ve      well      what      whoa      yeah  yesterday      your  \n",
              "doc0  0.000000  0.000000  0.000000  0.246152  0.000000   0.000000  0.000000  \n",
              "doc1  0.081907  0.081907  0.081907  0.000000  0.819073   0.081907  0.081907  \n",
              "doc2  0.000000  0.000000  0.000000  0.000000  0.000000   0.000000  0.000000  \n",
              "doc3  0.000000  0.000000  0.000000  0.000000  0.000000   0.000000  0.000000  \n",
              "\n",
              "[4 rows x 61 columns]"
            ],
            "text/html": [
              "\n",
              "  <div id=\"df-15cafdea-1344-4b96-864b-874b69ad5f89\">\n",
              "    <div class=\"colab-df-container\">\n",
              "      <div>\n",
              "<style scoped>\n",
              "    .dataframe tbody tr th:only-of-type {\n",
              "        vertical-align: middle;\n",
              "    }\n",
              "\n",
              "    .dataframe tbody tr th {\n",
              "        vertical-align: top;\n",
              "    }\n",
              "\n",
              "    .dataframe thead th {\n",
              "        text-align: right;\n",
              "    }\n",
              "</style>\n",
              "<table border=\"1\" class=\"dataframe\">\n",
              "  <thead>\n",
              "    <tr style=\"text-align: right;\">\n",
              "      <th></th>\n",
              "      <th>alright</th>\n",
              "      <th>always</th>\n",
              "      <th>and</th>\n",
              "      <th>anything</th>\n",
              "      <th>be</th>\n",
              "      <th>but</th>\n",
              "      <th>buy</th>\n",
              "      <th>can</th>\n",
              "      <th>care</th>\n",
              "      <th>cause</th>\n",
              "      <th>...</th>\n",
              "      <th>told</th>\n",
              "      <th>too</th>\n",
              "      <th>true</th>\n",
              "      <th>ve</th>\n",
              "      <th>well</th>\n",
              "      <th>what</th>\n",
              "      <th>whoa</th>\n",
              "      <th>yeah</th>\n",
              "      <th>yesterday</th>\n",
              "      <th>your</th>\n",
              "    </tr>\n",
              "  </thead>\n",
              "  <tbody>\n",
              "    <tr>\n",
              "      <th>doc0</th>\n",
              "      <td>0.000000</td>\n",
              "      <td>0.246152</td>\n",
              "      <td>0.000000</td>\n",
              "      <td>0.000000</td>\n",
              "      <td>0.194069</td>\n",
              "      <td>0.000000</td>\n",
              "      <td>0.000000</td>\n",
              "      <td>0.000000</td>\n",
              "      <td>0.000000</td>\n",
              "      <td>0.000000</td>\n",
              "      <td>...</td>\n",
              "      <td>0.000000</td>\n",
              "      <td>0.000000</td>\n",
              "      <td>0.246152</td>\n",
              "      <td>0.000000</td>\n",
              "      <td>0.000000</td>\n",
              "      <td>0.000000</td>\n",
              "      <td>0.246152</td>\n",
              "      <td>0.000000</td>\n",
              "      <td>0.000000</td>\n",
              "      <td>0.000000</td>\n",
              "    </tr>\n",
              "    <tr>\n",
              "      <th>doc1</th>\n",
              "      <td>0.000000</td>\n",
              "      <td>0.000000</td>\n",
              "      <td>0.081907</td>\n",
              "      <td>0.000000</td>\n",
              "      <td>0.000000</td>\n",
              "      <td>0.000000</td>\n",
              "      <td>0.000000</td>\n",
              "      <td>0.000000</td>\n",
              "      <td>0.000000</td>\n",
              "      <td>0.000000</td>\n",
              "      <td>...</td>\n",
              "      <td>0.081907</td>\n",
              "      <td>0.000000</td>\n",
              "      <td>0.000000</td>\n",
              "      <td>0.081907</td>\n",
              "      <td>0.081907</td>\n",
              "      <td>0.081907</td>\n",
              "      <td>0.000000</td>\n",
              "      <td>0.819073</td>\n",
              "      <td>0.081907</td>\n",
              "      <td>0.081907</td>\n",
              "    </tr>\n",
              "    <tr>\n",
              "      <th>doc2</th>\n",
              "      <td>0.238405</td>\n",
              "      <td>0.000000</td>\n",
              "      <td>0.000000</td>\n",
              "      <td>0.119202</td>\n",
              "      <td>0.000000</td>\n",
              "      <td>0.000000</td>\n",
              "      <td>0.476809</td>\n",
              "      <td>0.281941</td>\n",
              "      <td>0.119202</td>\n",
              "      <td>0.119202</td>\n",
              "      <td>...</td>\n",
              "      <td>0.000000</td>\n",
              "      <td>0.119202</td>\n",
              "      <td>0.000000</td>\n",
              "      <td>0.000000</td>\n",
              "      <td>0.000000</td>\n",
              "      <td>0.000000</td>\n",
              "      <td>0.000000</td>\n",
              "      <td>0.000000</td>\n",
              "      <td>0.000000</td>\n",
              "      <td>0.000000</td>\n",
              "    </tr>\n",
              "    <tr>\n",
              "      <th>doc3</th>\n",
              "      <td>0.000000</td>\n",
              "      <td>0.000000</td>\n",
              "      <td>0.000000</td>\n",
              "      <td>0.000000</td>\n",
              "      <td>0.220506</td>\n",
              "      <td>0.139842</td>\n",
              "      <td>0.000000</td>\n",
              "      <td>0.661517</td>\n",
              "      <td>0.000000</td>\n",
              "      <td>0.000000</td>\n",
              "      <td>...</td>\n",
              "      <td>0.000000</td>\n",
              "      <td>0.000000</td>\n",
              "      <td>0.000000</td>\n",
              "      <td>0.000000</td>\n",
              "      <td>0.000000</td>\n",
              "      <td>0.000000</td>\n",
              "      <td>0.000000</td>\n",
              "      <td>0.000000</td>\n",
              "      <td>0.000000</td>\n",
              "      <td>0.000000</td>\n",
              "    </tr>\n",
              "  </tbody>\n",
              "</table>\n",
              "<p>4 rows × 61 columns</p>\n",
              "</div>\n",
              "      <button class=\"colab-df-convert\" onclick=\"convertToInteractive('df-15cafdea-1344-4b96-864b-874b69ad5f89')\"\n",
              "              title=\"Convert this dataframe to an interactive table.\"\n",
              "              style=\"display:none;\">\n",
              "        \n",
              "  <svg xmlns=\"http://www.w3.org/2000/svg\" height=\"24px\"viewBox=\"0 0 24 24\"\n",
              "       width=\"24px\">\n",
              "    <path d=\"M0 0h24v24H0V0z\" fill=\"none\"/>\n",
              "    <path d=\"M18.56 5.44l.94 2.06.94-2.06 2.06-.94-2.06-.94-.94-2.06-.94 2.06-2.06.94zm-11 1L8.5 8.5l.94-2.06 2.06-.94-2.06-.94L8.5 2.5l-.94 2.06-2.06.94zm10 10l.94 2.06.94-2.06 2.06-.94-2.06-.94-.94-2.06-.94 2.06-2.06.94z\"/><path d=\"M17.41 7.96l-1.37-1.37c-.4-.4-.92-.59-1.43-.59-.52 0-1.04.2-1.43.59L10.3 9.45l-7.72 7.72c-.78.78-.78 2.05 0 2.83L4 21.41c.39.39.9.59 1.41.59.51 0 1.02-.2 1.41-.59l7.78-7.78 2.81-2.81c.8-.78.8-2.07 0-2.86zM5.41 20L4 18.59l7.72-7.72 1.47 1.35L5.41 20z\"/>\n",
              "  </svg>\n",
              "      </button>\n",
              "      \n",
              "  <style>\n",
              "    .colab-df-container {\n",
              "      display:flex;\n",
              "      flex-wrap:wrap;\n",
              "      gap: 12px;\n",
              "    }\n",
              "\n",
              "    .colab-df-convert {\n",
              "      background-color: #E8F0FE;\n",
              "      border: none;\n",
              "      border-radius: 50%;\n",
              "      cursor: pointer;\n",
              "      display: none;\n",
              "      fill: #1967D2;\n",
              "      height: 32px;\n",
              "      padding: 0 0 0 0;\n",
              "      width: 32px;\n",
              "    }\n",
              "\n",
              "    .colab-df-convert:hover {\n",
              "      background-color: #E2EBFA;\n",
              "      box-shadow: 0px 1px 2px rgba(60, 64, 67, 0.3), 0px 1px 3px 1px rgba(60, 64, 67, 0.15);\n",
              "      fill: #174EA6;\n",
              "    }\n",
              "\n",
              "    [theme=dark] .colab-df-convert {\n",
              "      background-color: #3B4455;\n",
              "      fill: #D2E3FC;\n",
              "    }\n",
              "\n",
              "    [theme=dark] .colab-df-convert:hover {\n",
              "      background-color: #434B5C;\n",
              "      box-shadow: 0px 1px 3px 1px rgba(0, 0, 0, 0.15);\n",
              "      filter: drop-shadow(0px 1px 2px rgba(0, 0, 0, 0.3));\n",
              "      fill: #FFFFFF;\n",
              "    }\n",
              "  </style>\n",
              "\n",
              "      <script>\n",
              "        const buttonEl =\n",
              "          document.querySelector('#df-15cafdea-1344-4b96-864b-874b69ad5f89 button.colab-df-convert');\n",
              "        buttonEl.style.display =\n",
              "          google.colab.kernel.accessAllowed ? 'block' : 'none';\n",
              "\n",
              "        async function convertToInteractive(key) {\n",
              "          const element = document.querySelector('#df-15cafdea-1344-4b96-864b-874b69ad5f89');\n",
              "          const dataTable =\n",
              "            await google.colab.kernel.invokeFunction('convertToInteractive',\n",
              "                                                     [key], {});\n",
              "          if (!dataTable) return;\n",
              "\n",
              "          const docLinkHtml = 'Like what you see? Visit the ' +\n",
              "            '<a target=\"_blank\" href=https://colab.research.google.com/notebooks/data_table.ipynb>data table notebook</a>'\n",
              "            + ' to learn more about interactive tables.';\n",
              "          element.innerHTML = '';\n",
              "          dataTable['output_type'] = 'display_data';\n",
              "          await google.colab.output.renderOutput(dataTable, element);\n",
              "          const docLink = document.createElement('div');\n",
              "          docLink.innerHTML = docLinkHtml;\n",
              "          element.appendChild(docLink);\n",
              "        }\n",
              "      </script>\n",
              "    </div>\n",
              "  </div>\n",
              "  "
            ]
          },
          "metadata": {},
          "execution_count": 22
        }
      ]
    },
    {
      "cell_type": "markdown",
      "metadata": {
        "id": "8tQpgRX1JGda"
      },
      "source": [
        "By removing corpus-specific stopwords, two terms *love* and *you* have disappeared in the DTM."
      ]
    },
    {
      "cell_type": "markdown",
      "metadata": {
        "id": "tUDMs1GSJGda"
      },
      "source": [
        "#### The choice of which scheme to fill the document-term matrix depends on the data. We're going to use the last TF-IDF scheme considering corpus-specific stopwords in most cases."
      ]
    },
    {
      "cell_type": "markdown",
      "metadata": {
        "id": "ZYigYtPCJGda"
      },
      "source": [
        "## Loading Data"
      ]
    },
    {
      "cell_type": "code",
      "metadata": {
        "id": "8aLJaXEHJGdb",
        "colab": {
          "base_uri": "https://localhost:8080/",
          "height": 641
        },
        "outputId": "f3fe8ca5-e7f4-433b-fa73-f824e950001a"
      },
      "source": [
        "import pandas as pd\n",
        "pd.set_option('display.max_colwidth', 150)\n",
        "\n",
        "df = pd.read_csv(f\"{classdata_folder}/html_data.csv\", sep=\"\\t\")\n",
        "df"
      ],
      "execution_count": null,
      "outputs": [
        {
          "output_type": "execute_result",
          "data": {
            "text/plain": [
              "                                                                       file_name  \\\n",
              "0                         the-new-jersey-devils-are-scorching-the-nhl-again.html   \n",
              "1                                     how-many-turkey-trotters-can-you-pass.html   \n",
              "2     election-denialism-lives-on-even-as-candidates-who-support-it-concede.html   \n",
              "3                                            2022-governor-state-government.html   \n",
              "4                                 kyrie-irvings-stats-arent-worth-the-drama.html   \n",
              "...                                                                          ...   \n",
              "1342                        what-the-latest-crime-data-can-and-cant-tell-us.html   \n",
              "1343                                             sadio-mane-never-went-away.html   \n",
              "1344              why-some-white-evangelicals-are-rethinking-their-politics.html   \n",
              "1345                                      white-evangelical-and-progressive.html   \n",
              "1346                 these-rookie-qbs-are-in-a-terrible-league-of-their-own.html   \n",
              "\n",
              "                                                                            title  \\\n",
              "0                               The New Jersey Devils Are Scorching The NHL Again   \n",
              "1                                          How Many Turkey Trotters Can You Pass?   \n",
              "2          Election Denialism Lives On, Even As Candidates Who Support It Concede   \n",
              "3                                       The Midterms Made State Governments Bluer   \n",
              "4                                     Kyrie Irving's Stats Aren't Worth The Drama   \n",
              "...                                                                           ...   \n",
              "1342                 What The Latest Crime Data Can — And Can’t — Tell Us           \n",
              "1343                                           Sadio Mané Never Went Away           \n",
              "1344            Why Some White Evangelicals Are Rethinking Their Politics           \n",
              "1345                                 White, Evangelical And … Progressive           \n",
              "1346             These Rookie QBs Are In A (Terrible) League Of Their Own           \n",
              "\n",
              "                  author                                      datetime  \\\n",
              "0             Neil Paine             Nov. 18, 2022, at 9:15 AM           \n",
              "1     Zach Wissner-Gross             Nov. 18, 2022, at 8:00 AM           \n",
              "2             Zoha Qamar             Nov. 18, 2022, at 6:00 AM           \n",
              "3       Nathaniel Rakich             Nov. 17, 2022, at 6:00 AM           \n",
              "4          Santul Nerkar            Nov. 17, 2022, at 11:54 AM           \n",
              "...                  ...                                           ...   \n",
              "1342                 NaN                                 Sep. 30, 2021   \n",
              "1343      Terrence Doyle                                 Sep. 30, 2021   \n",
              "1344           Tony Chow                                 Sep. 30, 2021   \n",
              "1345        Alex Samuels                                 Sep. 30, 2021   \n",
              "1346     Josh Hermsmeyer                                 Sep. 30, 2021   \n",
              "\n",
              "                                                                                                                                                       body  \n",
              "0          NHL The New Jersey Devils Are Scorching The NHL Again    By Neil Paine            Nov. 18, 2022, at 9:15 AM                                 Y...  \n",
              "1          The Riddler How Many Turkey Trotters Can You Pass?    By Zach Wissner-Gross            Nov. 18, 2022, at 8:00 AM                           Il...  \n",
              "2          Polla Election Denialism Lives On, Even As Candidates Who Support It Concede    By Zoha Qamar            Nov. 18, 2022, at 6:00 AM           ...  \n",
              "3          2022 Election The Midterms Made State Governments Bluer    By Nathaniel Rakich            Nov. 17, 2022, at 6:00 AM                          ...  \n",
              "4          NBA Kyrie Irving's Stats Aren't Worth The Drama    By Santul Nerkar            Nov. 17, 2022, at 11:54 AM                                 Eve...  \n",
              "...                                                                                                                                                     ...  \n",
              "1342   This week, the FBI released nationwide crime numbers from 2020 that will likely contribute to the already tense political debate over crime and p...  \n",
              "1343   When Liverpool signed Sadio Mané in the summer of 2016, the Merseyside club knew it was getting a dynamic attacking player. Still in his early 20...  \n",
              "1344   White evangelicals are often seen as a solidly Republican voting bloc. In the 2020 election, 84 percent of them voted for Donald Trump. In fact, ...  \n",
              "1345   Welcome to Political Outliers, a column that explores groups of Americans who are often portrayed as all voting the same way. In today’s climate,...  \n",
              "1346   Nothing brings more hope to an NFL franchise than a shiny first-round rookie quarterback. This year we have five of them, all selected within the...  \n",
              "\n",
              "[1347 rows x 5 columns]"
            ],
            "text/html": [
              "\n",
              "  <div id=\"df-cb62d9b7-29d1-4d86-8181-d8b16d7ae023\">\n",
              "    <div class=\"colab-df-container\">\n",
              "      <div>\n",
              "<style scoped>\n",
              "    .dataframe tbody tr th:only-of-type {\n",
              "        vertical-align: middle;\n",
              "    }\n",
              "\n",
              "    .dataframe tbody tr th {\n",
              "        vertical-align: top;\n",
              "    }\n",
              "\n",
              "    .dataframe thead th {\n",
              "        text-align: right;\n",
              "    }\n",
              "</style>\n",
              "<table border=\"1\" class=\"dataframe\">\n",
              "  <thead>\n",
              "    <tr style=\"text-align: right;\">\n",
              "      <th></th>\n",
              "      <th>file_name</th>\n",
              "      <th>title</th>\n",
              "      <th>author</th>\n",
              "      <th>datetime</th>\n",
              "      <th>body</th>\n",
              "    </tr>\n",
              "  </thead>\n",
              "  <tbody>\n",
              "    <tr>\n",
              "      <th>0</th>\n",
              "      <td>the-new-jersey-devils-are-scorching-the-nhl-again.html</td>\n",
              "      <td>The New Jersey Devils Are Scorching The NHL Again</td>\n",
              "      <td>Neil Paine</td>\n",
              "      <td>Nov. 18, 2022, at 9:15 AM</td>\n",
              "      <td>NHL The New Jersey Devils Are Scorching The NHL Again    By Neil Paine            Nov. 18, 2022, at 9:15 AM                                 Y...</td>\n",
              "    </tr>\n",
              "    <tr>\n",
              "      <th>1</th>\n",
              "      <td>how-many-turkey-trotters-can-you-pass.html</td>\n",
              "      <td>How Many Turkey Trotters Can You Pass?</td>\n",
              "      <td>Zach Wissner-Gross</td>\n",
              "      <td>Nov. 18, 2022, at 8:00 AM</td>\n",
              "      <td>The Riddler How Many Turkey Trotters Can You Pass?    By Zach Wissner-Gross            Nov. 18, 2022, at 8:00 AM                           Il...</td>\n",
              "    </tr>\n",
              "    <tr>\n",
              "      <th>2</th>\n",
              "      <td>election-denialism-lives-on-even-as-candidates-who-support-it-concede.html</td>\n",
              "      <td>Election Denialism Lives On, Even As Candidates Who Support It Concede</td>\n",
              "      <td>Zoha Qamar</td>\n",
              "      <td>Nov. 18, 2022, at 6:00 AM</td>\n",
              "      <td>Polla Election Denialism Lives On, Even As Candidates Who Support It Concede    By Zoha Qamar            Nov. 18, 2022, at 6:00 AM           ...</td>\n",
              "    </tr>\n",
              "    <tr>\n",
              "      <th>3</th>\n",
              "      <td>2022-governor-state-government.html</td>\n",
              "      <td>The Midterms Made State Governments Bluer</td>\n",
              "      <td>Nathaniel Rakich</td>\n",
              "      <td>Nov. 17, 2022, at 6:00 AM</td>\n",
              "      <td>2022 Election The Midterms Made State Governments Bluer    By Nathaniel Rakich            Nov. 17, 2022, at 6:00 AM                          ...</td>\n",
              "    </tr>\n",
              "    <tr>\n",
              "      <th>4</th>\n",
              "      <td>kyrie-irvings-stats-arent-worth-the-drama.html</td>\n",
              "      <td>Kyrie Irving's Stats Aren't Worth The Drama</td>\n",
              "      <td>Santul Nerkar</td>\n",
              "      <td>Nov. 17, 2022, at 11:54 AM</td>\n",
              "      <td>NBA Kyrie Irving's Stats Aren't Worth The Drama    By Santul Nerkar            Nov. 17, 2022, at 11:54 AM                                 Eve...</td>\n",
              "    </tr>\n",
              "    <tr>\n",
              "      <th>...</th>\n",
              "      <td>...</td>\n",
              "      <td>...</td>\n",
              "      <td>...</td>\n",
              "      <td>...</td>\n",
              "      <td>...</td>\n",
              "    </tr>\n",
              "    <tr>\n",
              "      <th>1342</th>\n",
              "      <td>what-the-latest-crime-data-can-and-cant-tell-us.html</td>\n",
              "      <td>What The Latest Crime Data Can — And Can’t — Tell Us</td>\n",
              "      <td>NaN</td>\n",
              "      <td>Sep. 30, 2021</td>\n",
              "      <td>This week, the FBI released nationwide crime numbers from 2020 that will likely contribute to the already tense political debate over crime and p...</td>\n",
              "    </tr>\n",
              "    <tr>\n",
              "      <th>1343</th>\n",
              "      <td>sadio-mane-never-went-away.html</td>\n",
              "      <td>Sadio Mané Never Went Away</td>\n",
              "      <td>Terrence Doyle</td>\n",
              "      <td>Sep. 30, 2021</td>\n",
              "      <td>When Liverpool signed Sadio Mané in the summer of 2016, the Merseyside club knew it was getting a dynamic attacking player. Still in his early 20...</td>\n",
              "    </tr>\n",
              "    <tr>\n",
              "      <th>1344</th>\n",
              "      <td>why-some-white-evangelicals-are-rethinking-their-politics.html</td>\n",
              "      <td>Why Some White Evangelicals Are Rethinking Their Politics</td>\n",
              "      <td>Tony Chow</td>\n",
              "      <td>Sep. 30, 2021</td>\n",
              "      <td>White evangelicals are often seen as a solidly Republican voting bloc. In the 2020 election, 84 percent of them voted for Donald Trump. In fact, ...</td>\n",
              "    </tr>\n",
              "    <tr>\n",
              "      <th>1345</th>\n",
              "      <td>white-evangelical-and-progressive.html</td>\n",
              "      <td>White, Evangelical And … Progressive</td>\n",
              "      <td>Alex Samuels</td>\n",
              "      <td>Sep. 30, 2021</td>\n",
              "      <td>Welcome to Political Outliers, a column that explores groups of Americans who are often portrayed as all voting the same way. In today’s climate,...</td>\n",
              "    </tr>\n",
              "    <tr>\n",
              "      <th>1346</th>\n",
              "      <td>these-rookie-qbs-are-in-a-terrible-league-of-their-own.html</td>\n",
              "      <td>These Rookie QBs Are In A (Terrible) League Of Their Own</td>\n",
              "      <td>Josh Hermsmeyer</td>\n",
              "      <td>Sep. 30, 2021</td>\n",
              "      <td>Nothing brings more hope to an NFL franchise than a shiny first-round rookie quarterback. This year we have five of them, all selected within the...</td>\n",
              "    </tr>\n",
              "  </tbody>\n",
              "</table>\n",
              "<p>1347 rows × 5 columns</p>\n",
              "</div>\n",
              "      <button class=\"colab-df-convert\" onclick=\"convertToInteractive('df-cb62d9b7-29d1-4d86-8181-d8b16d7ae023')\"\n",
              "              title=\"Convert this dataframe to an interactive table.\"\n",
              "              style=\"display:none;\">\n",
              "        \n",
              "  <svg xmlns=\"http://www.w3.org/2000/svg\" height=\"24px\"viewBox=\"0 0 24 24\"\n",
              "       width=\"24px\">\n",
              "    <path d=\"M0 0h24v24H0V0z\" fill=\"none\"/>\n",
              "    <path d=\"M18.56 5.44l.94 2.06.94-2.06 2.06-.94-2.06-.94-.94-2.06-.94 2.06-2.06.94zm-11 1L8.5 8.5l.94-2.06 2.06-.94-2.06-.94L8.5 2.5l-.94 2.06-2.06.94zm10 10l.94 2.06.94-2.06 2.06-.94-2.06-.94-.94-2.06-.94 2.06-2.06.94z\"/><path d=\"M17.41 7.96l-1.37-1.37c-.4-.4-.92-.59-1.43-.59-.52 0-1.04.2-1.43.59L10.3 9.45l-7.72 7.72c-.78.78-.78 2.05 0 2.83L4 21.41c.39.39.9.59 1.41.59.51 0 1.02-.2 1.41-.59l7.78-7.78 2.81-2.81c.8-.78.8-2.07 0-2.86zM5.41 20L4 18.59l7.72-7.72 1.47 1.35L5.41 20z\"/>\n",
              "  </svg>\n",
              "      </button>\n",
              "      \n",
              "  <style>\n",
              "    .colab-df-container {\n",
              "      display:flex;\n",
              "      flex-wrap:wrap;\n",
              "      gap: 12px;\n",
              "    }\n",
              "\n",
              "    .colab-df-convert {\n",
              "      background-color: #E8F0FE;\n",
              "      border: none;\n",
              "      border-radius: 50%;\n",
              "      cursor: pointer;\n",
              "      display: none;\n",
              "      fill: #1967D2;\n",
              "      height: 32px;\n",
              "      padding: 0 0 0 0;\n",
              "      width: 32px;\n",
              "    }\n",
              "\n",
              "    .colab-df-convert:hover {\n",
              "      background-color: #E2EBFA;\n",
              "      box-shadow: 0px 1px 2px rgba(60, 64, 67, 0.3), 0px 1px 3px 1px rgba(60, 64, 67, 0.15);\n",
              "      fill: #174EA6;\n",
              "    }\n",
              "\n",
              "    [theme=dark] .colab-df-convert {\n",
              "      background-color: #3B4455;\n",
              "      fill: #D2E3FC;\n",
              "    }\n",
              "\n",
              "    [theme=dark] .colab-df-convert:hover {\n",
              "      background-color: #434B5C;\n",
              "      box-shadow: 0px 1px 3px 1px rgba(0, 0, 0, 0.15);\n",
              "      filter: drop-shadow(0px 1px 2px rgba(0, 0, 0, 0.3));\n",
              "      fill: #FFFFFF;\n",
              "    }\n",
              "  </style>\n",
              "\n",
              "      <script>\n",
              "        const buttonEl =\n",
              "          document.querySelector('#df-cb62d9b7-29d1-4d86-8181-d8b16d7ae023 button.colab-df-convert');\n",
              "        buttonEl.style.display =\n",
              "          google.colab.kernel.accessAllowed ? 'block' : 'none';\n",
              "\n",
              "        async function convertToInteractive(key) {\n",
              "          const element = document.querySelector('#df-cb62d9b7-29d1-4d86-8181-d8b16d7ae023');\n",
              "          const dataTable =\n",
              "            await google.colab.kernel.invokeFunction('convertToInteractive',\n",
              "                                                     [key], {});\n",
              "          if (!dataTable) return;\n",
              "\n",
              "          const docLinkHtml = 'Like what you see? Visit the ' +\n",
              "            '<a target=\"_blank\" href=https://colab.research.google.com/notebooks/data_table.ipynb>data table notebook</a>'\n",
              "            + ' to learn more about interactive tables.';\n",
              "          element.innerHTML = '';\n",
              "          dataTable['output_type'] = 'display_data';\n",
              "          await google.colab.output.renderOutput(dataTable, element);\n",
              "          const docLink = document.createElement('div');\n",
              "          docLink.innerHTML = docLinkHtml;\n",
              "          element.appendChild(docLink);\n",
              "        }\n",
              "      </script>\n",
              "    </div>\n",
              "  </div>\n",
              "  "
            ]
          },
          "metadata": {},
          "execution_count": 23
        }
      ]
    },
    {
      "cell_type": "code",
      "metadata": {
        "id": "pB7T9CZoJGdb",
        "colab": {
          "base_uri": "https://localhost:8080/"
        },
        "outputId": "34d6601e-f21c-4ddb-83ad-f2de02f72280"
      },
      "source": [
        "df.info()"
      ],
      "execution_count": null,
      "outputs": [
        {
          "output_type": "stream",
          "name": "stdout",
          "text": [
            "<class 'pandas.core.frame.DataFrame'>\n",
            "RangeIndex: 1347 entries, 0 to 1346\n",
            "Data columns (total 5 columns):\n",
            " #   Column     Non-Null Count  Dtype \n",
            "---  ------     --------------  ----- \n",
            " 0   file_name  1347 non-null   object\n",
            " 1   title      1347 non-null   object\n",
            " 2   author     1186 non-null   object\n",
            " 3   datetime   1347 non-null   object\n",
            " 4   body       1347 non-null   object\n",
            "dtypes: object(5)\n",
            "memory usage: 52.7+ KB\n"
          ]
        }
      ]
    },
    {
      "cell_type": "code",
      "metadata": {
        "id": "vvV5WJXsVkJj",
        "colab": {
          "base_uri": "https://localhost:8080/",
          "height": 641
        },
        "outputId": "0a88ace7-e66b-42e4-c854-10d6a802a36d"
      },
      "source": [
        "df = df.dropna(subset=[\"body\"]) # body text에 null이면 안된다 > null값을 날려줘야함\n",
        "df"
      ],
      "execution_count": null,
      "outputs": [
        {
          "output_type": "execute_result",
          "data": {
            "text/plain": [
              "                                                                       file_name  \\\n",
              "0                         the-new-jersey-devils-are-scorching-the-nhl-again.html   \n",
              "1                                     how-many-turkey-trotters-can-you-pass.html   \n",
              "2     election-denialism-lives-on-even-as-candidates-who-support-it-concede.html   \n",
              "3                                            2022-governor-state-government.html   \n",
              "4                                 kyrie-irvings-stats-arent-worth-the-drama.html   \n",
              "...                                                                          ...   \n",
              "1342                        what-the-latest-crime-data-can-and-cant-tell-us.html   \n",
              "1343                                             sadio-mane-never-went-away.html   \n",
              "1344              why-some-white-evangelicals-are-rethinking-their-politics.html   \n",
              "1345                                      white-evangelical-and-progressive.html   \n",
              "1346                 these-rookie-qbs-are-in-a-terrible-league-of-their-own.html   \n",
              "\n",
              "                                                                            title  \\\n",
              "0                               The New Jersey Devils Are Scorching The NHL Again   \n",
              "1                                          How Many Turkey Trotters Can You Pass?   \n",
              "2          Election Denialism Lives On, Even As Candidates Who Support It Concede   \n",
              "3                                       The Midterms Made State Governments Bluer   \n",
              "4                                     Kyrie Irving's Stats Aren't Worth The Drama   \n",
              "...                                                                           ...   \n",
              "1342                 What The Latest Crime Data Can — And Can’t — Tell Us           \n",
              "1343                                           Sadio Mané Never Went Away           \n",
              "1344            Why Some White Evangelicals Are Rethinking Their Politics           \n",
              "1345                                 White, Evangelical And … Progressive           \n",
              "1346             These Rookie QBs Are In A (Terrible) League Of Their Own           \n",
              "\n",
              "                  author                                      datetime  \\\n",
              "0             Neil Paine             Nov. 18, 2022, at 9:15 AM           \n",
              "1     Zach Wissner-Gross             Nov. 18, 2022, at 8:00 AM           \n",
              "2             Zoha Qamar             Nov. 18, 2022, at 6:00 AM           \n",
              "3       Nathaniel Rakich             Nov. 17, 2022, at 6:00 AM           \n",
              "4          Santul Nerkar            Nov. 17, 2022, at 11:54 AM           \n",
              "...                  ...                                           ...   \n",
              "1342                 NaN                                 Sep. 30, 2021   \n",
              "1343      Terrence Doyle                                 Sep. 30, 2021   \n",
              "1344           Tony Chow                                 Sep. 30, 2021   \n",
              "1345        Alex Samuels                                 Sep. 30, 2021   \n",
              "1346     Josh Hermsmeyer                                 Sep. 30, 2021   \n",
              "\n",
              "                                                                                                                                                       body  \n",
              "0          NHL The New Jersey Devils Are Scorching The NHL Again    By Neil Paine            Nov. 18, 2022, at 9:15 AM                                 Y...  \n",
              "1          The Riddler How Many Turkey Trotters Can You Pass?    By Zach Wissner-Gross            Nov. 18, 2022, at 8:00 AM                           Il...  \n",
              "2          Polla Election Denialism Lives On, Even As Candidates Who Support It Concede    By Zoha Qamar            Nov. 18, 2022, at 6:00 AM           ...  \n",
              "3          2022 Election The Midterms Made State Governments Bluer    By Nathaniel Rakich            Nov. 17, 2022, at 6:00 AM                          ...  \n",
              "4          NBA Kyrie Irving's Stats Aren't Worth The Drama    By Santul Nerkar            Nov. 17, 2022, at 11:54 AM                                 Eve...  \n",
              "...                                                                                                                                                     ...  \n",
              "1342   This week, the FBI released nationwide crime numbers from 2020 that will likely contribute to the already tense political debate over crime and p...  \n",
              "1343   When Liverpool signed Sadio Mané in the summer of 2016, the Merseyside club knew it was getting a dynamic attacking player. Still in his early 20...  \n",
              "1344   White evangelicals are often seen as a solidly Republican voting bloc. In the 2020 election, 84 percent of them voted for Donald Trump. In fact, ...  \n",
              "1345   Welcome to Political Outliers, a column that explores groups of Americans who are often portrayed as all voting the same way. In today’s climate,...  \n",
              "1346   Nothing brings more hope to an NFL franchise than a shiny first-round rookie quarterback. This year we have five of them, all selected within the...  \n",
              "\n",
              "[1347 rows x 5 columns]"
            ],
            "text/html": [
              "\n",
              "  <div id=\"df-087daa3d-3f19-4942-aae8-dc382cbbfca0\">\n",
              "    <div class=\"colab-df-container\">\n",
              "      <div>\n",
              "<style scoped>\n",
              "    .dataframe tbody tr th:only-of-type {\n",
              "        vertical-align: middle;\n",
              "    }\n",
              "\n",
              "    .dataframe tbody tr th {\n",
              "        vertical-align: top;\n",
              "    }\n",
              "\n",
              "    .dataframe thead th {\n",
              "        text-align: right;\n",
              "    }\n",
              "</style>\n",
              "<table border=\"1\" class=\"dataframe\">\n",
              "  <thead>\n",
              "    <tr style=\"text-align: right;\">\n",
              "      <th></th>\n",
              "      <th>file_name</th>\n",
              "      <th>title</th>\n",
              "      <th>author</th>\n",
              "      <th>datetime</th>\n",
              "      <th>body</th>\n",
              "    </tr>\n",
              "  </thead>\n",
              "  <tbody>\n",
              "    <tr>\n",
              "      <th>0</th>\n",
              "      <td>the-new-jersey-devils-are-scorching-the-nhl-again.html</td>\n",
              "      <td>The New Jersey Devils Are Scorching The NHL Again</td>\n",
              "      <td>Neil Paine</td>\n",
              "      <td>Nov. 18, 2022, at 9:15 AM</td>\n",
              "      <td>NHL The New Jersey Devils Are Scorching The NHL Again    By Neil Paine            Nov. 18, 2022, at 9:15 AM                                 Y...</td>\n",
              "    </tr>\n",
              "    <tr>\n",
              "      <th>1</th>\n",
              "      <td>how-many-turkey-trotters-can-you-pass.html</td>\n",
              "      <td>How Many Turkey Trotters Can You Pass?</td>\n",
              "      <td>Zach Wissner-Gross</td>\n",
              "      <td>Nov. 18, 2022, at 8:00 AM</td>\n",
              "      <td>The Riddler How Many Turkey Trotters Can You Pass?    By Zach Wissner-Gross            Nov. 18, 2022, at 8:00 AM                           Il...</td>\n",
              "    </tr>\n",
              "    <tr>\n",
              "      <th>2</th>\n",
              "      <td>election-denialism-lives-on-even-as-candidates-who-support-it-concede.html</td>\n",
              "      <td>Election Denialism Lives On, Even As Candidates Who Support It Concede</td>\n",
              "      <td>Zoha Qamar</td>\n",
              "      <td>Nov. 18, 2022, at 6:00 AM</td>\n",
              "      <td>Polla Election Denialism Lives On, Even As Candidates Who Support It Concede    By Zoha Qamar            Nov. 18, 2022, at 6:00 AM           ...</td>\n",
              "    </tr>\n",
              "    <tr>\n",
              "      <th>3</th>\n",
              "      <td>2022-governor-state-government.html</td>\n",
              "      <td>The Midterms Made State Governments Bluer</td>\n",
              "      <td>Nathaniel Rakich</td>\n",
              "      <td>Nov. 17, 2022, at 6:00 AM</td>\n",
              "      <td>2022 Election The Midterms Made State Governments Bluer    By Nathaniel Rakich            Nov. 17, 2022, at 6:00 AM                          ...</td>\n",
              "    </tr>\n",
              "    <tr>\n",
              "      <th>4</th>\n",
              "      <td>kyrie-irvings-stats-arent-worth-the-drama.html</td>\n",
              "      <td>Kyrie Irving's Stats Aren't Worth The Drama</td>\n",
              "      <td>Santul Nerkar</td>\n",
              "      <td>Nov. 17, 2022, at 11:54 AM</td>\n",
              "      <td>NBA Kyrie Irving's Stats Aren't Worth The Drama    By Santul Nerkar            Nov. 17, 2022, at 11:54 AM                                 Eve...</td>\n",
              "    </tr>\n",
              "    <tr>\n",
              "      <th>...</th>\n",
              "      <td>...</td>\n",
              "      <td>...</td>\n",
              "      <td>...</td>\n",
              "      <td>...</td>\n",
              "      <td>...</td>\n",
              "    </tr>\n",
              "    <tr>\n",
              "      <th>1342</th>\n",
              "      <td>what-the-latest-crime-data-can-and-cant-tell-us.html</td>\n",
              "      <td>What The Latest Crime Data Can — And Can’t — Tell Us</td>\n",
              "      <td>NaN</td>\n",
              "      <td>Sep. 30, 2021</td>\n",
              "      <td>This week, the FBI released nationwide crime numbers from 2020 that will likely contribute to the already tense political debate over crime and p...</td>\n",
              "    </tr>\n",
              "    <tr>\n",
              "      <th>1343</th>\n",
              "      <td>sadio-mane-never-went-away.html</td>\n",
              "      <td>Sadio Mané Never Went Away</td>\n",
              "      <td>Terrence Doyle</td>\n",
              "      <td>Sep. 30, 2021</td>\n",
              "      <td>When Liverpool signed Sadio Mané in the summer of 2016, the Merseyside club knew it was getting a dynamic attacking player. Still in his early 20...</td>\n",
              "    </tr>\n",
              "    <tr>\n",
              "      <th>1344</th>\n",
              "      <td>why-some-white-evangelicals-are-rethinking-their-politics.html</td>\n",
              "      <td>Why Some White Evangelicals Are Rethinking Their Politics</td>\n",
              "      <td>Tony Chow</td>\n",
              "      <td>Sep. 30, 2021</td>\n",
              "      <td>White evangelicals are often seen as a solidly Republican voting bloc. In the 2020 election, 84 percent of them voted for Donald Trump. In fact, ...</td>\n",
              "    </tr>\n",
              "    <tr>\n",
              "      <th>1345</th>\n",
              "      <td>white-evangelical-and-progressive.html</td>\n",
              "      <td>White, Evangelical And … Progressive</td>\n",
              "      <td>Alex Samuels</td>\n",
              "      <td>Sep. 30, 2021</td>\n",
              "      <td>Welcome to Political Outliers, a column that explores groups of Americans who are often portrayed as all voting the same way. In today’s climate,...</td>\n",
              "    </tr>\n",
              "    <tr>\n",
              "      <th>1346</th>\n",
              "      <td>these-rookie-qbs-are-in-a-terrible-league-of-their-own.html</td>\n",
              "      <td>These Rookie QBs Are In A (Terrible) League Of Their Own</td>\n",
              "      <td>Josh Hermsmeyer</td>\n",
              "      <td>Sep. 30, 2021</td>\n",
              "      <td>Nothing brings more hope to an NFL franchise than a shiny first-round rookie quarterback. This year we have five of them, all selected within the...</td>\n",
              "    </tr>\n",
              "  </tbody>\n",
              "</table>\n",
              "<p>1347 rows × 5 columns</p>\n",
              "</div>\n",
              "      <button class=\"colab-df-convert\" onclick=\"convertToInteractive('df-087daa3d-3f19-4942-aae8-dc382cbbfca0')\"\n",
              "              title=\"Convert this dataframe to an interactive table.\"\n",
              "              style=\"display:none;\">\n",
              "        \n",
              "  <svg xmlns=\"http://www.w3.org/2000/svg\" height=\"24px\"viewBox=\"0 0 24 24\"\n",
              "       width=\"24px\">\n",
              "    <path d=\"M0 0h24v24H0V0z\" fill=\"none\"/>\n",
              "    <path d=\"M18.56 5.44l.94 2.06.94-2.06 2.06-.94-2.06-.94-.94-2.06-.94 2.06-2.06.94zm-11 1L8.5 8.5l.94-2.06 2.06-.94-2.06-.94L8.5 2.5l-.94 2.06-2.06.94zm10 10l.94 2.06.94-2.06 2.06-.94-2.06-.94-.94-2.06-.94 2.06-2.06.94z\"/><path d=\"M17.41 7.96l-1.37-1.37c-.4-.4-.92-.59-1.43-.59-.52 0-1.04.2-1.43.59L10.3 9.45l-7.72 7.72c-.78.78-.78 2.05 0 2.83L4 21.41c.39.39.9.59 1.41.59.51 0 1.02-.2 1.41-.59l7.78-7.78 2.81-2.81c.8-.78.8-2.07 0-2.86zM5.41 20L4 18.59l7.72-7.72 1.47 1.35L5.41 20z\"/>\n",
              "  </svg>\n",
              "      </button>\n",
              "      \n",
              "  <style>\n",
              "    .colab-df-container {\n",
              "      display:flex;\n",
              "      flex-wrap:wrap;\n",
              "      gap: 12px;\n",
              "    }\n",
              "\n",
              "    .colab-df-convert {\n",
              "      background-color: #E8F0FE;\n",
              "      border: none;\n",
              "      border-radius: 50%;\n",
              "      cursor: pointer;\n",
              "      display: none;\n",
              "      fill: #1967D2;\n",
              "      height: 32px;\n",
              "      padding: 0 0 0 0;\n",
              "      width: 32px;\n",
              "    }\n",
              "\n",
              "    .colab-df-convert:hover {\n",
              "      background-color: #E2EBFA;\n",
              "      box-shadow: 0px 1px 2px rgba(60, 64, 67, 0.3), 0px 1px 3px 1px rgba(60, 64, 67, 0.15);\n",
              "      fill: #174EA6;\n",
              "    }\n",
              "\n",
              "    [theme=dark] .colab-df-convert {\n",
              "      background-color: #3B4455;\n",
              "      fill: #D2E3FC;\n",
              "    }\n",
              "\n",
              "    [theme=dark] .colab-df-convert:hover {\n",
              "      background-color: #434B5C;\n",
              "      box-shadow: 0px 1px 3px 1px rgba(0, 0, 0, 0.15);\n",
              "      filter: drop-shadow(0px 1px 2px rgba(0, 0, 0, 0.3));\n",
              "      fill: #FFFFFF;\n",
              "    }\n",
              "  </style>\n",
              "\n",
              "      <script>\n",
              "        const buttonEl =\n",
              "          document.querySelector('#df-087daa3d-3f19-4942-aae8-dc382cbbfca0 button.colab-df-convert');\n",
              "        buttonEl.style.display =\n",
              "          google.colab.kernel.accessAllowed ? 'block' : 'none';\n",
              "\n",
              "        async function convertToInteractive(key) {\n",
              "          const element = document.querySelector('#df-087daa3d-3f19-4942-aae8-dc382cbbfca0');\n",
              "          const dataTable =\n",
              "            await google.colab.kernel.invokeFunction('convertToInteractive',\n",
              "                                                     [key], {});\n",
              "          if (!dataTable) return;\n",
              "\n",
              "          const docLinkHtml = 'Like what you see? Visit the ' +\n",
              "            '<a target=\"_blank\" href=https://colab.research.google.com/notebooks/data_table.ipynb>data table notebook</a>'\n",
              "            + ' to learn more about interactive tables.';\n",
              "          element.innerHTML = '';\n",
              "          dataTable['output_type'] = 'display_data';\n",
              "          await google.colab.output.renderOutput(dataTable, element);\n",
              "          const docLink = document.createElement('div');\n",
              "          docLink.innerHTML = docLinkHtml;\n",
              "          element.appendChild(docLink);\n",
              "        }\n",
              "      </script>\n",
              "    </div>\n",
              "  </div>\n",
              "  "
            ]
          },
          "metadata": {},
          "execution_count": 25
        }
      ]
    },
    {
      "cell_type": "markdown",
      "metadata": {
        "id": "QF24Mmy7JGdc"
      },
      "source": [
        "## Setting the Goal"
      ]
    },
    {
      "cell_type": "markdown",
      "metadata": {
        "id": "CZSh6l72JGdc"
      },
      "source": [
        "Our goal is to build a <b>clustering</b> model that is able to find clusters of similar articles .. 내용적으로 유사한 article끼리 분류하는 것이 목표  \n",
        "- Feature variables: words in web pages\n",
        "- Records          : documents (web pages)"
      ]
    },
    {
      "cell_type": "code",
      "metadata": {
        "id": "aoGcqtI8JGdc",
        "colab": {
          "base_uri": "https://localhost:8080/",
          "height": 391
        },
        "outputId": "c03c0854-6a2c-421d-d3a9-4fd1cfbbd45e"
      },
      "source": [
        "from IPython.display import Image\n",
        "\n",
        "Image(f\"{classdata_folder}/images/clustering.png\")"
      ],
      "execution_count": null,
      "outputs": [
        {
          "output_type": "execute_result",
          "data": {
            "image/png": "[encoded data removed]",
            "text/plain": [
              "<IPython.core.display.Image object>"
            ]
          },
          "metadata": {},
          "execution_count": 26
        }
      ]
    },
    {
      "cell_type": "markdown",
      "metadata": {
        "id": "MT4DxJeJJGdc"
      },
      "source": [
        "## Preparing Data for Modeling"
      ]
    },
    {
      "cell_type": "code",
      "metadata": {
        "id": "sFEbyi0kJGdc"
      },
      "source": [
        "from sklearn.feature_extraction.text import TfidfVectorizer\n",
        "\n",
        "vectorizer = TfidfVectorizer(use_idf=True, norm=\"l2\", stop_words=\"english\", max_df=0.7)\n",
        "X = vectorizer.fit_transform(df.body)"
      ],
      "execution_count": null,
      "outputs": []
    },
    {
      "cell_type": "markdown",
      "metadata": {
        "id": "cdvM6cz8JGdd"
      },
      "source": [
        "The words in the document-term matrix are used as features of the model and the documents are used as individual records of the model. Recall that there is no `y`, or the outcome variable, in unsupervised learning. Note also that we do not split the dataset into a training set and a test set in unsupervised learning.  "
      ]
    },
    {
      "cell_type": "code",
      "metadata": {
        "id": "nxRqP5kcJGdd",
        "colab": {
          "base_uri": "https://localhost:8080/"
        },
        "outputId": "8353fd94-43c4-4068-c7f6-b618e5c98f9b"
      },
      "source": [
        "X.shape"
      ],
      "execution_count": null,
      "outputs": [
        {
          "output_type": "execute_result",
          "data": {
            "text/plain": [
              "(1347, 35977)"
            ]
          },
          "metadata": {},
          "execution_count": 28
        }
      ]
    },
    {
      "cell_type": "markdown",
      "metadata": {
        "id": "NZz6cwSjJGdd"
      },
      "source": [
        "There are 1,347 documents, or records, and 35,977 words, or features."
      ]
    },
    {
      "cell_type": "markdown",
      "metadata": {
        "id": "ka35kGr_JGdd"
      },
      "source": [
        "## K-Means Clustering"
      ]
    },
    {
      "cell_type": "markdown",
      "metadata": {
        "id": "NirLgm_yJGdd"
      },
      "source": [
        "### Step 1. Choose the number of clusters"
      ]
    },
    {
      "cell_type": "code",
      "metadata": {
        "id": "_DAIK7Q7JGdd"
      },
      "source": [
        "k = 5"
      ],
      "execution_count": null,
      "outputs": []
    },
    {
      "cell_type": "markdown",
      "metadata": {
        "id": "PC7S4Du2JGdd"
      },
      "source": [
        "### Step 2. Initialize a model object for k-means clustering"
      ]
    },
    {
      "cell_type": "code",
      "metadata": {
        "id": "MdONzEDHJGde",
        "colab": {
          "base_uri": "https://localhost:8080/"
        },
        "outputId": "dcda51c1-25d5-4646-a28a-c0847f8a58d1"
      },
      "source": [
        "from sklearn.cluster import KMeans\n",
        "\n",
        "kmeans = KMeans(n_clusters=k, random_state=0) # centroid random .. random state(seed) 값을 줌으로써 random 상태 조절(항상 동일한 결과가 나오도록)\n",
        "kmeans"
      ],
      "execution_count": null,
      "outputs": [
        {
          "output_type": "execute_result",
          "data": {
            "text/plain": [
              "KMeans(n_clusters=5, random_state=0)"
            ]
          },
          "metadata": {},
          "execution_count": 30
        }
      ]
    },
    {
      "cell_type": "markdown",
      "metadata": {
        "id": "UljQ4p5EJGde"
      },
      "source": [
        "sklearn.cluster.KMeans: https://scikit-learn.org/stable/modules/generated/sklearn.cluster.KMeans.html"
      ]
    },
    {
      "cell_type": "markdown",
      "metadata": {
        "id": "2pBlsCc2JGde"
      },
      "source": [
        "### Step 3. Fit the model using the input data .. training"
      ]
    },
    {
      "cell_type": "code",
      "metadata": {
        "id": "0_OMGnsOJGde",
        "colab": {
          "base_uri": "https://localhost:8080/"
        },
        "outputId": "5f8afbef-f57c-431a-e5aa-44f6c88e8100"
      },
      "source": [
        "%time kmeans.fit(X)"
      ],
      "execution_count": null,
      "outputs": [
        {
          "output_type": "stream",
          "name": "stdout",
          "text": [
            "CPU times: user 3.33 s, sys: 25.4 ms, total: 3.36 s\n",
            "Wall time: 2.17 s\n"
          ]
        },
        {
          "output_type": "execute_result",
          "data": {
            "text/plain": [
              "KMeans(n_clusters=5, random_state=0)"
            ]
          },
          "metadata": {},
          "execution_count": 31
        }
      ]
    },
    {
      "cell_type": "markdown",
      "metadata": {
        "id": "0IWCRHJUJGde"
      },
      "source": [
        "### Step 4. Examine the clustering outcome"
      ]
    },
    {
      "cell_type": "markdown",
      "metadata": {
        "id": "naA6ZDTQJGde"
      },
      "source": [
        "The focus of this step should be on identifying the characteristics of each cluster."
      ]
    },
    {
      "cell_type": "code",
      "metadata": {
        "scrolled": true,
        "id": "5wuTHVzmJGdf",
        "colab": {
          "base_uri": "https://localhost:8080/"
        },
        "outputId": "aad113f2-6646-4b76-ad2b-91a8d5831c0e"
      },
      "source": [
        "kmeans.cluster_centers_ # centroid 의 vector space의 좌표값"
      ],
      "execution_count": null,
      "outputs": [
        {
          "output_type": "execute_result",
          "data": {
            "text/plain": [
              "array([[0.00000000e+00, 1.69065654e-03, 0.00000000e+00, ...,\n",
              "        0.00000000e+00, 0.00000000e+00, 0.00000000e+00],\n",
              "       [5.31194042e-03, 1.05411815e-02, 0.00000000e+00, ...,\n",
              "        0.00000000e+00, 0.00000000e+00, 0.00000000e+00],\n",
              "       [4.09070351e-03, 6.64966655e-03, 7.83084227e-05, ...,\n",
              "        0.00000000e+00, 7.83084227e-05, 1.07654512e-04],\n",
              "       [3.48580911e-03, 7.71123436e-03, 0.00000000e+00, ...,\n",
              "        0.00000000e+00, 0.00000000e+00, 0.00000000e+00],\n",
              "       [5.16640904e-03, 3.13691832e-03, 0.00000000e+00, ...,\n",
              "        9.49040100e-05, 0.00000000e+00, 0.00000000e+00]])"
            ]
          },
          "metadata": {},
          "execution_count": 32
        }
      ]
    },
    {
      "cell_type": "code",
      "metadata": {
        "id": "RgQRC5KAJGdf",
        "colab": {
          "base_uri": "https://localhost:8080/"
        },
        "outputId": "ed956f60-8c91-4dd8-8a8a-31fd3f2191c2"
      },
      "source": [
        "kmeans.cluster_centers_.shape"
      ],
      "execution_count": null,
      "outputs": [
        {
          "output_type": "execute_result",
          "data": {
            "text/plain": [
              "(5, 35977)"
            ]
          },
          "metadata": {},
          "execution_count": 33
        }
      ]
    },
    {
      "cell_type": "markdown",
      "metadata": {
        "id": "MDRzkeyqJGdf"
      },
      "source": [
        "Each value in the `kmeans.cluster_centers_` array is the coordinates of a centroid in a multi-dimensional space with about 16,500 dimensions."
      ]
    },
    {
      "cell_type": "code",
      "metadata": {
        "id": "7CPk4NkOJGdf",
        "colab": {
          "base_uri": "https://localhost:8080/"
        },
        "outputId": "df66acd6-6c53-454a-a9f6-0d5818605593"
      },
      "source": [
        "kmeans.labels_"
      ],
      "execution_count": null,
      "outputs": [
        {
          "output_type": "execute_result",
          "data": {
            "text/plain": [
              "array([4, 2, 1, ..., 2, 2, 4], dtype=int32)"
            ]
          },
          "metadata": {},
          "execution_count": 34
        }
      ]
    },
    {
      "cell_type": "code",
      "metadata": {
        "id": "8Qbj03D2JGdf"
      },
      "source": [
        "df[\"cluster\"] = kmeans.labels_"
      ],
      "execution_count": null,
      "outputs": []
    },
    {
      "cell_type": "code",
      "metadata": {
        "id": "vSIHgGw6JGdf",
        "colab": {
          "base_uri": "https://localhost:8080/",
          "height": 571
        },
        "outputId": "50639047-f6de-4b4a-820f-ca40d17f3363"
      },
      "source": [
        "df[[\"title\", \"body\", \"cluster\"]]"
      ],
      "execution_count": null,
      "outputs": [
        {
          "output_type": "execute_result",
          "data": {
            "text/plain": [
              "                                                                            title  \\\n",
              "0                               The New Jersey Devils Are Scorching The NHL Again   \n",
              "1                                          How Many Turkey Trotters Can You Pass?   \n",
              "2          Election Denialism Lives On, Even As Candidates Who Support It Concede   \n",
              "3                                       The Midterms Made State Governments Bluer   \n",
              "4                                     Kyrie Irving's Stats Aren't Worth The Drama   \n",
              "...                                                                           ...   \n",
              "1342                 What The Latest Crime Data Can — And Can’t — Tell Us           \n",
              "1343                                           Sadio Mané Never Went Away           \n",
              "1344            Why Some White Evangelicals Are Rethinking Their Politics           \n",
              "1345                                 White, Evangelical And … Progressive           \n",
              "1346             These Rookie QBs Are In A (Terrible) League Of Their Own           \n",
              "\n",
              "                                                                                                                                                       body  \\\n",
              "0          NHL The New Jersey Devils Are Scorching The NHL Again    By Neil Paine            Nov. 18, 2022, at 9:15 AM                                 Y...   \n",
              "1          The Riddler How Many Turkey Trotters Can You Pass?    By Zach Wissner-Gross            Nov. 18, 2022, at 8:00 AM                           Il...   \n",
              "2          Polla Election Denialism Lives On, Even As Candidates Who Support It Concede    By Zoha Qamar            Nov. 18, 2022, at 6:00 AM           ...   \n",
              "3          2022 Election The Midterms Made State Governments Bluer    By Nathaniel Rakich            Nov. 17, 2022, at 6:00 AM                          ...   \n",
              "4          NBA Kyrie Irving's Stats Aren't Worth The Drama    By Santul Nerkar            Nov. 17, 2022, at 11:54 AM                                 Eve...   \n",
              "...                                                                                                                                                     ...   \n",
              "1342   This week, the FBI released nationwide crime numbers from 2020 that will likely contribute to the already tense political debate over crime and p...   \n",
              "1343   When Liverpool signed Sadio Mané in the summer of 2016, the Merseyside club knew it was getting a dynamic attacking player. Still in his early 20...   \n",
              "1344   White evangelicals are often seen as a solidly Republican voting bloc. In the 2020 election, 84 percent of them voted for Donald Trump. In fact, ...   \n",
              "1345   Welcome to Political Outliers, a column that explores groups of Americans who are often portrayed as all voting the same way. In today’s climate,...   \n",
              "1346   Nothing brings more hope to an NFL franchise than a shiny first-round rookie quarterback. This year we have five of them, all selected within the...   \n",
              "\n",
              "      cluster  \n",
              "0           4  \n",
              "1           2  \n",
              "2           1  \n",
              "3           1  \n",
              "4           4  \n",
              "...       ...  \n",
              "1342        0  \n",
              "1343        4  \n",
              "1344        2  \n",
              "1345        2  \n",
              "1346        4  \n",
              "\n",
              "[1347 rows x 3 columns]"
            ],
            "text/html": [
              "\n",
              "  <div id=\"df-1400888d-bece-46ce-959e-c54c80e8737b\">\n",
              "    <div class=\"colab-df-container\">\n",
              "      <div>\n",
              "<style scoped>\n",
              "    .dataframe tbody tr th:only-of-type {\n",
              "        vertical-align: middle;\n",
              "    }\n",
              "\n",
              "    .dataframe tbody tr th {\n",
              "        vertical-align: top;\n",
              "    }\n",
              "\n",
              "    .dataframe thead th {\n",
              "        text-align: right;\n",
              "    }\n",
              "</style>\n",
              "<table border=\"1\" class=\"dataframe\">\n",
              "  <thead>\n",
              "    <tr style=\"text-align: right;\">\n",
              "      <th></th>\n",
              "      <th>title</th>\n",
              "      <th>body</th>\n",
              "      <th>cluster</th>\n",
              "    </tr>\n",
              "  </thead>\n",
              "  <tbody>\n",
              "    <tr>\n",
              "      <th>0</th>\n",
              "      <td>The New Jersey Devils Are Scorching The NHL Again</td>\n",
              "      <td>NHL The New Jersey Devils Are Scorching The NHL Again    By Neil Paine            Nov. 18, 2022, at 9:15 AM                                 Y...</td>\n",
              "      <td>4</td>\n",
              "    </tr>\n",
              "    <tr>\n",
              "      <th>1</th>\n",
              "      <td>How Many Turkey Trotters Can You Pass?</td>\n",
              "      <td>The Riddler How Many Turkey Trotters Can You Pass?    By Zach Wissner-Gross            Nov. 18, 2022, at 8:00 AM                           Il...</td>\n",
              "      <td>2</td>\n",
              "    </tr>\n",
              "    <tr>\n",
              "      <th>2</th>\n",
              "      <td>Election Denialism Lives On, Even As Candidates Who Support It Concede</td>\n",
              "      <td>Polla Election Denialism Lives On, Even As Candidates Who Support It Concede    By Zoha Qamar            Nov. 18, 2022, at 6:00 AM           ...</td>\n",
              "      <td>1</td>\n",
              "    </tr>\n",
              "    <tr>\n",
              "      <th>3</th>\n",
              "      <td>The Midterms Made State Governments Bluer</td>\n",
              "      <td>2022 Election The Midterms Made State Governments Bluer    By Nathaniel Rakich            Nov. 17, 2022, at 6:00 AM                          ...</td>\n",
              "      <td>1</td>\n",
              "    </tr>\n",
              "    <tr>\n",
              "      <th>4</th>\n",
              "      <td>Kyrie Irving's Stats Aren't Worth The Drama</td>\n",
              "      <td>NBA Kyrie Irving's Stats Aren't Worth The Drama    By Santul Nerkar            Nov. 17, 2022, at 11:54 AM                                 Eve...</td>\n",
              "      <td>4</td>\n",
              "    </tr>\n",
              "    <tr>\n",
              "      <th>...</th>\n",
              "      <td>...</td>\n",
              "      <td>...</td>\n",
              "      <td>...</td>\n",
              "    </tr>\n",
              "    <tr>\n",
              "      <th>1342</th>\n",
              "      <td>What The Latest Crime Data Can — And Can’t — Tell Us</td>\n",
              "      <td>This week, the FBI released nationwide crime numbers from 2020 that will likely contribute to the already tense political debate over crime and p...</td>\n",
              "      <td>0</td>\n",
              "    </tr>\n",
              "    <tr>\n",
              "      <th>1343</th>\n",
              "      <td>Sadio Mané Never Went Away</td>\n",
              "      <td>When Liverpool signed Sadio Mané in the summer of 2016, the Merseyside club knew it was getting a dynamic attacking player. Still in his early 20...</td>\n",
              "      <td>4</td>\n",
              "    </tr>\n",
              "    <tr>\n",
              "      <th>1344</th>\n",
              "      <td>Why Some White Evangelicals Are Rethinking Their Politics</td>\n",
              "      <td>White evangelicals are often seen as a solidly Republican voting bloc. In the 2020 election, 84 percent of them voted for Donald Trump. In fact, ...</td>\n",
              "      <td>2</td>\n",
              "    </tr>\n",
              "    <tr>\n",
              "      <th>1345</th>\n",
              "      <td>White, Evangelical And … Progressive</td>\n",
              "      <td>Welcome to Political Outliers, a column that explores groups of Americans who are often portrayed as all voting the same way. In today’s climate,...</td>\n",
              "      <td>2</td>\n",
              "    </tr>\n",
              "    <tr>\n",
              "      <th>1346</th>\n",
              "      <td>These Rookie QBs Are In A (Terrible) League Of Their Own</td>\n",
              "      <td>Nothing brings more hope to an NFL franchise than a shiny first-round rookie quarterback. This year we have five of them, all selected within the...</td>\n",
              "      <td>4</td>\n",
              "    </tr>\n",
              "  </tbody>\n",
              "</table>\n",
              "<p>1347 rows × 3 columns</p>\n",
              "</div>\n",
              "      <button class=\"colab-df-convert\" onclick=\"convertToInteractive('df-1400888d-bece-46ce-959e-c54c80e8737b')\"\n",
              "              title=\"Convert this dataframe to an interactive table.\"\n",
              "              style=\"display:none;\">\n",
              "        \n",
              "  <svg xmlns=\"http://www.w3.org/2000/svg\" height=\"24px\"viewBox=\"0 0 24 24\"\n",
              "       width=\"24px\">\n",
              "    <path d=\"M0 0h24v24H0V0z\" fill=\"none\"/>\n",
              "    <path d=\"M18.56 5.44l.94 2.06.94-2.06 2.06-.94-2.06-.94-.94-2.06-.94 2.06-2.06.94zm-11 1L8.5 8.5l.94-2.06 2.06-.94-2.06-.94L8.5 2.5l-.94 2.06-2.06.94zm10 10l.94 2.06.94-2.06 2.06-.94-2.06-.94-.94-2.06-.94 2.06-2.06.94z\"/><path d=\"M17.41 7.96l-1.37-1.37c-.4-.4-.92-.59-1.43-.59-.52 0-1.04.2-1.43.59L10.3 9.45l-7.72 7.72c-.78.78-.78 2.05 0 2.83L4 21.41c.39.39.9.59 1.41.59.51 0 1.02-.2 1.41-.59l7.78-7.78 2.81-2.81c.8-.78.8-2.07 0-2.86zM5.41 20L4 18.59l7.72-7.72 1.47 1.35L5.41 20z\"/>\n",
              "  </svg>\n",
              "      </button>\n",
              "      \n",
              "  <style>\n",
              "    .colab-df-container {\n",
              "      display:flex;\n",
              "      flex-wrap:wrap;\n",
              "      gap: 12px;\n",
              "    }\n",
              "\n",
              "    .colab-df-convert {\n",
              "      background-color: #E8F0FE;\n",
              "      border: none;\n",
              "      border-radius: 50%;\n",
              "      cursor: pointer;\n",
              "      display: none;\n",
              "      fill: #1967D2;\n",
              "      height: 32px;\n",
              "      padding: 0 0 0 0;\n",
              "      width: 32px;\n",
              "    }\n",
              "\n",
              "    .colab-df-convert:hover {\n",
              "      background-color: #E2EBFA;\n",
              "      box-shadow: 0px 1px 2px rgba(60, 64, 67, 0.3), 0px 1px 3px 1px rgba(60, 64, 67, 0.15);\n",
              "      fill: #174EA6;\n",
              "    }\n",
              "\n",
              "    [theme=dark] .colab-df-convert {\n",
              "      background-color: #3B4455;\n",
              "      fill: #D2E3FC;\n",
              "    }\n",
              "\n",
              "    [theme=dark] .colab-df-convert:hover {\n",
              "      background-color: #434B5C;\n",
              "      box-shadow: 0px 1px 3px 1px rgba(0, 0, 0, 0.15);\n",
              "      filter: drop-shadow(0px 1px 2px rgba(0, 0, 0, 0.3));\n",
              "      fill: #FFFFFF;\n",
              "    }\n",
              "  </style>\n",
              "\n",
              "      <script>\n",
              "        const buttonEl =\n",
              "          document.querySelector('#df-1400888d-bece-46ce-959e-c54c80e8737b button.colab-df-convert');\n",
              "        buttonEl.style.display =\n",
              "          google.colab.kernel.accessAllowed ? 'block' : 'none';\n",
              "\n",
              "        async function convertToInteractive(key) {\n",
              "          const element = document.querySelector('#df-1400888d-bece-46ce-959e-c54c80e8737b');\n",
              "          const dataTable =\n",
              "            await google.colab.kernel.invokeFunction('convertToInteractive',\n",
              "                                                     [key], {});\n",
              "          if (!dataTable) return;\n",
              "\n",
              "          const docLinkHtml = 'Like what you see? Visit the ' +\n",
              "            '<a target=\"_blank\" href=https://colab.research.google.com/notebooks/data_table.ipynb>data table notebook</a>'\n",
              "            + ' to learn more about interactive tables.';\n",
              "          element.innerHTML = '';\n",
              "          dataTable['output_type'] = 'display_data';\n",
              "          await google.colab.output.renderOutput(dataTable, element);\n",
              "          const docLink = document.createElement('div');\n",
              "          docLink.innerHTML = docLinkHtml;\n",
              "          element.appendChild(docLink);\n",
              "        }\n",
              "      </script>\n",
              "    </div>\n",
              "  </div>\n",
              "  "
            ]
          },
          "metadata": {},
          "execution_count": 36
        }
      ]
    },
    {
      "cell_type": "code",
      "metadata": {
        "id": "cdj6ipFDJGdf",
        "colab": {
          "base_uri": "https://localhost:8080/"
        },
        "outputId": "7e9cda0a-0388-4572-e1af-50e39d830b19"
      },
      "source": [
        "df.cluster.value_counts()"
      ],
      "execution_count": null,
      "outputs": [
        {
          "output_type": "execute_result",
          "data": {
            "text/plain": [
              "4    451\n",
              "2    421\n",
              "1    245\n",
              "0    160\n",
              "3     70\n",
              "Name: cluster, dtype: int64"
            ]
          },
          "metadata": {},
          "execution_count": 37
        }
      ]
    },
    {
      "cell_type": "markdown",
      "metadata": {
        "id": "YXTekgQRJGdg"
      },
      "source": [
        "Note that k-means clustering neither names the clusters nor gives any additional information about the clusters. It just yields cluster labels in numbers. It is you to identify each cluster.  "
      ]
    },
    {
      "cell_type": "code",
      "metadata": {
        "id": "oGMdBnly1pFU"
      },
      "source": [
        "cluster_1st, cluster_2nd, cluster_3rd, cluster_4th, cluster_5th = df.cluster.value_counts().index"
      ],
      "execution_count": null,
      "outputs": []
    },
    {
      "cell_type": "code",
      "source": [
        "cluster_1st"
      ],
      "metadata": {
        "colab": {
          "base_uri": "https://localhost:8080/"
        },
        "id": "wfevCpG_AXku",
        "outputId": "47897b41-3a60-41dd-f7a7-90ca086419c8"
      },
      "execution_count": null,
      "outputs": [
        {
          "output_type": "execute_result",
          "data": {
            "text/plain": [
              "4"
            ]
          },
          "metadata": {},
          "execution_count": 39
        }
      ]
    },
    {
      "cell_type": "markdown",
      "source": [
        "이제 각 cluster의 실체를 파악해야함 > 10개 sample 뽑아서 보기(sampling)"
      ],
      "metadata": {
        "id": "6Fm1b95gAeCL"
      }
    },
    {
      "cell_type": "code",
      "metadata": {
        "id": "osjE9y8IJGdg",
        "colab": {
          "base_uri": "https://localhost:8080/",
          "height": 363
        },
        "outputId": "a87fd244-0bde-4e84-f1b8-8ed3f93381d8"
      },
      "source": [
        "df[df.cluster == cluster_1st].sample(10, random_state=0)[[\"title\", \"cluster\"]]          # the largest cluster"
      ],
      "execution_count": null,
      "outputs": [
        {
          "output_type": "execute_result",
          "data": {
            "text/plain": [
              "                                                                                              title  \\\n",
              "428                 Edwin Díaz And Francisco Lindor Aren't Busts Anymore — And Neither Are The Mets   \n",
              "170           Tom Brady Used To Put The Team On His Back. Now He Needs Help — And Isn't Getting It.   \n",
              "877             The Denver Broncos Traded For Russell Wilson To End Their QB Merry-Go-Round           \n",
              "949                                        NFL Teams Are Making Brian Flores’s Case For Him           \n",
              "784                     MLB's Best Players Didn't Win Much Last Year. This Year Could Be Different.   \n",
              "471                                                   Han Xu Is Unlike Any Player The WNBA Has Seen   \n",
              "38                                                    How The Entire NFC East Can Make The Playoffs   \n",
              "1135                                Which WNBA Teams Get The Most Out Of The Draft Lottery?           \n",
              "885                                                       These NHL Players Deserve A Raise           \n",
              "253                                               Everyone’s A Favorite In Our 2022-23 NBA Forecast   \n",
              "\n",
              "      cluster  \n",
              "428         4  \n",
              "170         4  \n",
              "877         4  \n",
              "949         4  \n",
              "784         4  \n",
              "471         4  \n",
              "38          4  \n",
              "1135        4  \n",
              "885         4  \n",
              "253         4  "
            ],
            "text/html": [
              "\n",
              "  <div id=\"df-af5f044d-78a7-4ec1-ae02-a0756336cf8f\">\n",
              "    <div class=\"colab-df-container\">\n",
              "      <div>\n",
              "<style scoped>\n",
              "    .dataframe tbody tr th:only-of-type {\n",
              "        vertical-align: middle;\n",
              "    }\n",
              "\n",
              "    .dataframe tbody tr th {\n",
              "        vertical-align: top;\n",
              "    }\n",
              "\n",
              "    .dataframe thead th {\n",
              "        text-align: right;\n",
              "    }\n",
              "</style>\n",
              "<table border=\"1\" class=\"dataframe\">\n",
              "  <thead>\n",
              "    <tr style=\"text-align: right;\">\n",
              "      <th></th>\n",
              "      <th>title</th>\n",
              "      <th>cluster</th>\n",
              "    </tr>\n",
              "  </thead>\n",
              "  <tbody>\n",
              "    <tr>\n",
              "      <th>428</th>\n",
              "      <td>Edwin Díaz And Francisco Lindor Aren't Busts Anymore — And Neither Are The Mets</td>\n",
              "      <td>4</td>\n",
              "    </tr>\n",
              "    <tr>\n",
              "      <th>170</th>\n",
              "      <td>Tom Brady Used To Put The Team On His Back. Now He Needs Help — And Isn't Getting It.</td>\n",
              "      <td>4</td>\n",
              "    </tr>\n",
              "    <tr>\n",
              "      <th>877</th>\n",
              "      <td>The Denver Broncos Traded For Russell Wilson To End Their QB Merry-Go-Round</td>\n",
              "      <td>4</td>\n",
              "    </tr>\n",
              "    <tr>\n",
              "      <th>949</th>\n",
              "      <td>NFL Teams Are Making Brian Flores’s Case For Him</td>\n",
              "      <td>4</td>\n",
              "    </tr>\n",
              "    <tr>\n",
              "      <th>784</th>\n",
              "      <td>MLB's Best Players Didn't Win Much Last Year. This Year Could Be Different.</td>\n",
              "      <td>4</td>\n",
              "    </tr>\n",
              "    <tr>\n",
              "      <th>471</th>\n",
              "      <td>Han Xu Is Unlike Any Player The WNBA Has Seen</td>\n",
              "      <td>4</td>\n",
              "    </tr>\n",
              "    <tr>\n",
              "      <th>38</th>\n",
              "      <td>How The Entire NFC East Can Make The Playoffs</td>\n",
              "      <td>4</td>\n",
              "    </tr>\n",
              "    <tr>\n",
              "      <th>1135</th>\n",
              "      <td>Which WNBA Teams Get The Most Out Of The Draft Lottery?</td>\n",
              "      <td>4</td>\n",
              "    </tr>\n",
              "    <tr>\n",
              "      <th>885</th>\n",
              "      <td>These NHL Players Deserve A Raise</td>\n",
              "      <td>4</td>\n",
              "    </tr>\n",
              "    <tr>\n",
              "      <th>253</th>\n",
              "      <td>Everyone’s A Favorite In Our 2022-23 NBA Forecast</td>\n",
              "      <td>4</td>\n",
              "    </tr>\n",
              "  </tbody>\n",
              "</table>\n",
              "</div>\n",
              "      <button class=\"colab-df-convert\" onclick=\"convertToInteractive('df-af5f044d-78a7-4ec1-ae02-a0756336cf8f')\"\n",
              "              title=\"Convert this dataframe to an interactive table.\"\n",
              "              style=\"display:none;\">\n",
              "        \n",
              "  <svg xmlns=\"http://www.w3.org/2000/svg\" height=\"24px\"viewBox=\"0 0 24 24\"\n",
              "       width=\"24px\">\n",
              "    <path d=\"M0 0h24v24H0V0z\" fill=\"none\"/>\n",
              "    <path d=\"M18.56 5.44l.94 2.06.94-2.06 2.06-.94-2.06-.94-.94-2.06-.94 2.06-2.06.94zm-11 1L8.5 8.5l.94-2.06 2.06-.94-2.06-.94L8.5 2.5l-.94 2.06-2.06.94zm10 10l.94 2.06.94-2.06 2.06-.94-2.06-.94-.94-2.06-.94 2.06-2.06.94z\"/><path d=\"M17.41 7.96l-1.37-1.37c-.4-.4-.92-.59-1.43-.59-.52 0-1.04.2-1.43.59L10.3 9.45l-7.72 7.72c-.78.78-.78 2.05 0 2.83L4 21.41c.39.39.9.59 1.41.59.51 0 1.02-.2 1.41-.59l7.78-7.78 2.81-2.81c.8-.78.8-2.07 0-2.86zM5.41 20L4 18.59l7.72-7.72 1.47 1.35L5.41 20z\"/>\n",
              "  </svg>\n",
              "      </button>\n",
              "      \n",
              "  <style>\n",
              "    .colab-df-container {\n",
              "      display:flex;\n",
              "      flex-wrap:wrap;\n",
              "      gap: 12px;\n",
              "    }\n",
              "\n",
              "    .colab-df-convert {\n",
              "      background-color: #E8F0FE;\n",
              "      border: none;\n",
              "      border-radius: 50%;\n",
              "      cursor: pointer;\n",
              "      display: none;\n",
              "      fill: #1967D2;\n",
              "      height: 32px;\n",
              "      padding: 0 0 0 0;\n",
              "      width: 32px;\n",
              "    }\n",
              "\n",
              "    .colab-df-convert:hover {\n",
              "      background-color: #E2EBFA;\n",
              "      box-shadow: 0px 1px 2px rgba(60, 64, 67, 0.3), 0px 1px 3px 1px rgba(60, 64, 67, 0.15);\n",
              "      fill: #174EA6;\n",
              "    }\n",
              "\n",
              "    [theme=dark] .colab-df-convert {\n",
              "      background-color: #3B4455;\n",
              "      fill: #D2E3FC;\n",
              "    }\n",
              "\n",
              "    [theme=dark] .colab-df-convert:hover {\n",
              "      background-color: #434B5C;\n",
              "      box-shadow: 0px 1px 3px 1px rgba(0, 0, 0, 0.15);\n",
              "      filter: drop-shadow(0px 1px 2px rgba(0, 0, 0, 0.3));\n",
              "      fill: #FFFFFF;\n",
              "    }\n",
              "  </style>\n",
              "\n",
              "      <script>\n",
              "        const buttonEl =\n",
              "          document.querySelector('#df-af5f044d-78a7-4ec1-ae02-a0756336cf8f button.colab-df-convert');\n",
              "        buttonEl.style.display =\n",
              "          google.colab.kernel.accessAllowed ? 'block' : 'none';\n",
              "\n",
              "        async function convertToInteractive(key) {\n",
              "          const element = document.querySelector('#df-af5f044d-78a7-4ec1-ae02-a0756336cf8f');\n",
              "          const dataTable =\n",
              "            await google.colab.kernel.invokeFunction('convertToInteractive',\n",
              "                                                     [key], {});\n",
              "          if (!dataTable) return;\n",
              "\n",
              "          const docLinkHtml = 'Like what you see? Visit the ' +\n",
              "            '<a target=\"_blank\" href=https://colab.research.google.com/notebooks/data_table.ipynb>data table notebook</a>'\n",
              "            + ' to learn more about interactive tables.';\n",
              "          element.innerHTML = '';\n",
              "          dataTable['output_type'] = 'display_data';\n",
              "          await google.colab.output.renderOutput(dataTable, element);\n",
              "          const docLink = document.createElement('div');\n",
              "          docLink.innerHTML = docLinkHtml;\n",
              "          element.appendChild(docLink);\n",
              "        }\n",
              "      </script>\n",
              "    </div>\n",
              "  </div>\n",
              "  "
            ]
          },
          "metadata": {},
          "execution_count": 40
        }
      ]
    },
    {
      "cell_type": "markdown",
      "source": [
        "noise가 있을 수 있음"
      ],
      "metadata": {
        "id": "kJT-81ZhA9y_"
      }
    },
    {
      "cell_type": "code",
      "metadata": {
        "id": "1F7E7mLgYiWX",
        "colab": {
          "base_uri": "https://localhost:8080/",
          "height": 363
        },
        "outputId": "1412d1e8-7e24-403e-acdc-80db473cd4f5"
      },
      "source": [
        "df[df.cluster == cluster_2nd].sample(10, random_state=0)[[\"title\", \"cluster\"]]          # the second largest cluster"
      ],
      "execution_count": null,
      "outputs": [
        {
          "output_type": "execute_result",
          "data": {
            "text/plain": [
              "                                                                                                 title  \\\n",
              "520                                                            The Datasets We’re Looking At This Week   \n",
              "1131                                                          Why Biden Can’t Win On Inflation           \n",
              "102                           Kevin McCarthy Doesn’t Have Enough Fans Inside The House … Or Outside It   \n",
              "427                              Breaking Down The High-Stakes Elections In Wyoming And Alaska           \n",
              "546                                  Outdoor Tennis Could Be Sports’ First Big Climate Change Casualty   \n",
              "674                               The 19-Year-Old Spanish Tennis Star Coming For Rafael Nadal’s Throne   \n",
              "37                                                                                The Butterfly Effect   \n",
              "931                                              We’re Hiring A Senior Editor For Interactives           \n",
              "708                                                    How My Fitness Tracker Turned Me Against Myself   \n",
              "1010            What Will Biden’s Supreme Court Nominee Mean For Democrats — And The Midterms?           \n",
              "\n",
              "      cluster  \n",
              "520         2  \n",
              "1131        2  \n",
              "102         2  \n",
              "427         2  \n",
              "546         2  \n",
              "674         2  \n",
              "37          2  \n",
              "931         2  \n",
              "708         2  \n",
              "1010        2  "
            ],
            "text/html": [
              "\n",
              "  <div id=\"df-13aa4eec-19da-4edc-a236-7e74da6caf5b\">\n",
              "    <div class=\"colab-df-container\">\n",
              "      <div>\n",
              "<style scoped>\n",
              "    .dataframe tbody tr th:only-of-type {\n",
              "        vertical-align: middle;\n",
              "    }\n",
              "\n",
              "    .dataframe tbody tr th {\n",
              "        vertical-align: top;\n",
              "    }\n",
              "\n",
              "    .dataframe thead th {\n",
              "        text-align: right;\n",
              "    }\n",
              "</style>\n",
              "<table border=\"1\" class=\"dataframe\">\n",
              "  <thead>\n",
              "    <tr style=\"text-align: right;\">\n",
              "      <th></th>\n",
              "      <th>title</th>\n",
              "      <th>cluster</th>\n",
              "    </tr>\n",
              "  </thead>\n",
              "  <tbody>\n",
              "    <tr>\n",
              "      <th>520</th>\n",
              "      <td>The Datasets We’re Looking At This Week</td>\n",
              "      <td>2</td>\n",
              "    </tr>\n",
              "    <tr>\n",
              "      <th>1131</th>\n",
              "      <td>Why Biden Can’t Win On Inflation</td>\n",
              "      <td>2</td>\n",
              "    </tr>\n",
              "    <tr>\n",
              "      <th>102</th>\n",
              "      <td>Kevin McCarthy Doesn’t Have Enough Fans Inside The House … Or Outside It</td>\n",
              "      <td>2</td>\n",
              "    </tr>\n",
              "    <tr>\n",
              "      <th>427</th>\n",
              "      <td>Breaking Down The High-Stakes Elections In Wyoming And Alaska</td>\n",
              "      <td>2</td>\n",
              "    </tr>\n",
              "    <tr>\n",
              "      <th>546</th>\n",
              "      <td>Outdoor Tennis Could Be Sports’ First Big Climate Change Casualty</td>\n",
              "      <td>2</td>\n",
              "    </tr>\n",
              "    <tr>\n",
              "      <th>674</th>\n",
              "      <td>The 19-Year-Old Spanish Tennis Star Coming For Rafael Nadal’s Throne</td>\n",
              "      <td>2</td>\n",
              "    </tr>\n",
              "    <tr>\n",
              "      <th>37</th>\n",
              "      <td>The Butterfly Effect</td>\n",
              "      <td>2</td>\n",
              "    </tr>\n",
              "    <tr>\n",
              "      <th>931</th>\n",
              "      <td>We’re Hiring A Senior Editor For Interactives</td>\n",
              "      <td>2</td>\n",
              "    </tr>\n",
              "    <tr>\n",
              "      <th>708</th>\n",
              "      <td>How My Fitness Tracker Turned Me Against Myself</td>\n",
              "      <td>2</td>\n",
              "    </tr>\n",
              "    <tr>\n",
              "      <th>1010</th>\n",
              "      <td>What Will Biden’s Supreme Court Nominee Mean For Democrats — And The Midterms?</td>\n",
              "      <td>2</td>\n",
              "    </tr>\n",
              "  </tbody>\n",
              "</table>\n",
              "</div>\n",
              "      <button class=\"colab-df-convert\" onclick=\"convertToInteractive('df-13aa4eec-19da-4edc-a236-7e74da6caf5b')\"\n",
              "              title=\"Convert this dataframe to an interactive table.\"\n",
              "              style=\"display:none;\">\n",
              "        \n",
              "  <svg xmlns=\"http://www.w3.org/2000/svg\" height=\"24px\"viewBox=\"0 0 24 24\"\n",
              "       width=\"24px\">\n",
              "    <path d=\"M0 0h24v24H0V0z\" fill=\"none\"/>\n",
              "    <path d=\"M18.56 5.44l.94 2.06.94-2.06 2.06-.94-2.06-.94-.94-2.06-.94 2.06-2.06.94zm-11 1L8.5 8.5l.94-2.06 2.06-.94-2.06-.94L8.5 2.5l-.94 2.06-2.06.94zm10 10l.94 2.06.94-2.06 2.06-.94-2.06-.94-.94-2.06-.94 2.06-2.06.94z\"/><path d=\"M17.41 7.96l-1.37-1.37c-.4-.4-.92-.59-1.43-.59-.52 0-1.04.2-1.43.59L10.3 9.45l-7.72 7.72c-.78.78-.78 2.05 0 2.83L4 21.41c.39.39.9.59 1.41.59.51 0 1.02-.2 1.41-.59l7.78-7.78 2.81-2.81c.8-.78.8-2.07 0-2.86zM5.41 20L4 18.59l7.72-7.72 1.47 1.35L5.41 20z\"/>\n",
              "  </svg>\n",
              "      </button>\n",
              "      \n",
              "  <style>\n",
              "    .colab-df-container {\n",
              "      display:flex;\n",
              "      flex-wrap:wrap;\n",
              "      gap: 12px;\n",
              "    }\n",
              "\n",
              "    .colab-df-convert {\n",
              "      background-color: #E8F0FE;\n",
              "      border: none;\n",
              "      border-radius: 50%;\n",
              "      cursor: pointer;\n",
              "      display: none;\n",
              "      fill: #1967D2;\n",
              "      height: 32px;\n",
              "      padding: 0 0 0 0;\n",
              "      width: 32px;\n",
              "    }\n",
              "\n",
              "    .colab-df-convert:hover {\n",
              "      background-color: #E2EBFA;\n",
              "      box-shadow: 0px 1px 2px rgba(60, 64, 67, 0.3), 0px 1px 3px 1px rgba(60, 64, 67, 0.15);\n",
              "      fill: #174EA6;\n",
              "    }\n",
              "\n",
              "    [theme=dark] .colab-df-convert {\n",
              "      background-color: #3B4455;\n",
              "      fill: #D2E3FC;\n",
              "    }\n",
              "\n",
              "    [theme=dark] .colab-df-convert:hover {\n",
              "      background-color: #434B5C;\n",
              "      box-shadow: 0px 1px 3px 1px rgba(0, 0, 0, 0.15);\n",
              "      filter: drop-shadow(0px 1px 2px rgba(0, 0, 0, 0.3));\n",
              "      fill: #FFFFFF;\n",
              "    }\n",
              "  </style>\n",
              "\n",
              "      <script>\n",
              "        const buttonEl =\n",
              "          document.querySelector('#df-13aa4eec-19da-4edc-a236-7e74da6caf5b button.colab-df-convert');\n",
              "        buttonEl.style.display =\n",
              "          google.colab.kernel.accessAllowed ? 'block' : 'none';\n",
              "\n",
              "        async function convertToInteractive(key) {\n",
              "          const element = document.querySelector('#df-13aa4eec-19da-4edc-a236-7e74da6caf5b');\n",
              "          const dataTable =\n",
              "            await google.colab.kernel.invokeFunction('convertToInteractive',\n",
              "                                                     [key], {});\n",
              "          if (!dataTable) return;\n",
              "\n",
              "          const docLinkHtml = 'Like what you see? Visit the ' +\n",
              "            '<a target=\"_blank\" href=https://colab.research.google.com/notebooks/data_table.ipynb>data table notebook</a>'\n",
              "            + ' to learn more about interactive tables.';\n",
              "          element.innerHTML = '';\n",
              "          dataTable['output_type'] = 'display_data';\n",
              "          await google.colab.output.renderOutput(dataTable, element);\n",
              "          const docLink = document.createElement('div');\n",
              "          docLink.innerHTML = docLinkHtml;\n",
              "          element.appendChild(docLink);\n",
              "        }\n",
              "      </script>\n",
              "    </div>\n",
              "  </div>\n",
              "  "
            ]
          },
          "metadata": {},
          "execution_count": 41
        }
      ]
    },
    {
      "cell_type": "code",
      "metadata": {
        "id": "zs7hvWpgJGdg",
        "colab": {
          "base_uri": "https://localhost:8080/"
        },
        "outputId": "f097cf91-e1e5-469e-a3dc-1ca877615cc5"
      },
      "source": [
        "import nltk\n",
        "nltk.download(['punkt', 'averaged_perceptron_tagger', 'stopwords'])\n",
        "\n",
        "df[\"words\"] = df.title.apply(lambda x: nltk.word_tokenize(x))\n",
        "df[\"tagged_words\"] = df.words.apply(lambda x: nltk.pos_tag(x))\n",
        "\n",
        "import string\n",
        "global_stopwords = nltk.corpus.stopwords.words(\"english\")\n",
        "local_stopwords = [c for c in string.punctuation] + ['‘', '’', '—', '…', \"'s\", \"n't\", \"'re\"]\n",
        "\n",
        "from collections import Counter\n",
        "\n",
        "def get_counter(dataframe, stopwords=[]):\n",
        "    counter = Counter()\n",
        "\n",
        "    for l in dataframe.tagged_words:\n",
        "        word_set = set()\n",
        "\n",
        "        for t in l:\n",
        "            word = t[0].lower()\n",
        "            tag = t[1]\n",
        "\n",
        "            if word not in stopwords:\n",
        "                word_set.add(word)\n",
        "\n",
        "        counter.update(word_set)\n",
        "\n",
        "    return counter"
      ],
      "execution_count": null,
      "outputs": [
        {
          "output_type": "stream",
          "name": "stderr",
          "text": [
            "[nltk_data] Downloading package punkt to /root/nltk_data...\n",
            "[nltk_data]   Package punkt is already up-to-date!\n",
            "[nltk_data] Downloading package averaged_perceptron_tagger to\n",
            "[nltk_data]     /root/nltk_data...\n",
            "[nltk_data]   Package averaged_perceptron_tagger is already up-to-\n",
            "[nltk_data]       date!\n",
            "[nltk_data] Downloading package stopwords to /root/nltk_data...\n",
            "[nltk_data]   Package stopwords is already up-to-date!\n"
          ]
        }
      ]
    },
    {
      "cell_type": "code",
      "metadata": {
        "id": "yomL4UcDJGdh",
        "colab": {
          "base_uri": "https://localhost:8080/"
        },
        "outputId": "8e5363f5-1a3f-48db-fecc-22ed38b34a6e"
      },
      "source": [
        "counter_1st = get_counter(df[df.cluster == cluster_1st], global_stopwords+local_stopwords)\n",
        "counter_1st.most_common(30)"
      ],
      "execution_count": null,
      "outputs": [
        {
          "output_type": "execute_result",
          "data": {
            "text/plain": [
              "[('nfl', 38),\n",
              " ('nba', 31),\n",
              " ('teams', 28),\n",
              " ('football', 23),\n",
              " ('world', 23),\n",
              " ('college', 23),\n",
              " ('best', 22),\n",
              " ('year', 21),\n",
              " ('new', 19),\n",
              " ('back', 18),\n",
              " ('season', 18),\n",
              " ('cup', 17),\n",
              " ('could', 17),\n",
              " ('wnba', 16),\n",
              " ('mlb', 15),\n",
              " ('2022', 14),\n",
              " ('playoff', 14),\n",
              " ('playoffs', 14),\n",
              " ('might', 14),\n",
              " ('team', 14),\n",
              " ('defense', 14),\n",
              " ('watch', 13),\n",
              " ('still', 12),\n",
              " ('nhl', 11),\n",
              " ('big', 11),\n",
              " ('series', 11),\n",
              " ('good', 11),\n",
              " ('way', 10),\n",
              " ('title', 10),\n",
              " ('last', 10)]"
            ]
          },
          "metadata": {},
          "execution_count": 43
        }
      ]
    },
    {
      "cell_type": "code",
      "metadata": {
        "id": "_k595WK4JGdh",
        "colab": {
          "base_uri": "https://localhost:8080/"
        },
        "outputId": "23ae42f9-ad8a-4d25-c4b7-66291fc80fc2"
      },
      "source": [
        "counter_2nd = get_counter(df[df.cluster == cluster_2nd], global_stopwords+local_stopwords)\n",
        "counter_2nd.most_common(30)"
      ],
      "execution_count": null,
      "outputs": [
        {
          "output_type": "execute_result",
          "data": {
            "text/plain": [
              "[('americans', 58),\n",
              " ('looking', 31),\n",
              " ('week', 28),\n",
              " ('datasets', 28),\n",
              " ('biden', 24),\n",
              " ('democrats', 18),\n",
              " ('supreme', 18),\n",
              " ('court', 18),\n",
              " ('win', 17),\n",
              " ('could', 16),\n",
              " ('republicans', 15),\n",
              " ('change', 15),\n",
              " ('support', 14),\n",
              " ('buy', 14),\n",
              " ('republican', 13),\n",
              " ('voters', 13),\n",
              " ('chess', 13),\n",
              " ('many', 12),\n",
              " ('want', 12),\n",
              " ('world', 12),\n",
              " ('make', 11),\n",
              " ('covid-19', 11),\n",
              " ('politics', 9),\n",
              " ('climate', 9),\n",
              " ('us', 9),\n",
              " ('6', 9),\n",
              " ('black', 9),\n",
              " ('hiring', 9),\n",
              " ('trump', 8),\n",
              " ('political', 8)]"
            ]
          },
          "metadata": {},
          "execution_count": 44
        }
      ]
    },
    {
      "cell_type": "markdown",
      "metadata": {
        "id": "0jksM_f5JGdh"
      },
      "source": [
        "## LDA Topic Modeling"
      ]
    },
    {
      "cell_type": "markdown",
      "metadata": {
        "id": "xNx6hA42JGdh"
      },
      "source": [
        "## Setting the Goal"
      ]
    },
    {
      "cell_type": "markdown",
      "metadata": {
        "id": "XKWI8xvwJGdh"
      },
      "source": [
        "Our goal is to build a <b>topic</b> model that is able to find abstract topics in the tweets.\n",
        "- Feature variables: words in web pages\n",
        "- Records          : documents (web pages)"
      ]
    },
    {
      "cell_type": "markdown",
      "metadata": {
        "id": "jlIN9RZdJGdi"
      },
      "source": [
        "### Step 1. Choose the number of topics"
      ]
    },
    {
      "cell_type": "code",
      "metadata": {
        "id": "dx4KvVzUJGdi"
      },
      "source": [
        "num_topics = 5"
      ],
      "execution_count": null,
      "outputs": []
    },
    {
      "cell_type": "markdown",
      "metadata": {
        "id": "-H1PxhzOJGdi"
      },
      "source": [
        "### Step 2. Initialize a model object for LDA topic modeling"
      ]
    },
    {
      "cell_type": "code",
      "metadata": {
        "id": "19aaAfTKJGdj",
        "colab": {
          "base_uri": "https://localhost:8080/"
        },
        "outputId": "626d16bc-2433-4c27-d7ff-4bdaf2751044"
      },
      "source": [
        "from sklearn.decomposition import LatentDirichletAllocation as LDA\n",
        "\n",
        "lda = LDA(n_components=num_topics, random_state=0)     # LDA uses randomness to get a probability distribution\n",
        "lda"
      ],
      "execution_count": null,
      "outputs": [
        {
          "output_type": "execute_result",
          "data": {
            "text/plain": [
              "LatentDirichletAllocation(n_components=5, random_state=0)"
            ]
          },
          "metadata": {},
          "execution_count": 46
        }
      ]
    },
    {
      "cell_type": "markdown",
      "metadata": {
        "id": "GhaaRr6yJGdj"
      },
      "source": [
        "sklearn.decomposition.LatentDirichletAllocation: https://scikit-learn.org/stable/modules/generated/sklearn.decomposition.LatentDirichletAllocation.html"
      ]
    },
    {
      "cell_type": "markdown",
      "metadata": {
        "id": "-XQJpqkMJGdj"
      },
      "source": [
        "### Step 3. Fit the model using the input data"
      ]
    },
    {
      "cell_type": "code",
      "metadata": {
        "id": "FUsqqVkQJGdj",
        "colab": {
          "base_uri": "https://localhost:8080/"
        },
        "outputId": "21095c7d-1b9b-40c3-d33c-bbefba54671c"
      },
      "source": [
        "%time lda.fit(X)"
      ],
      "execution_count": null,
      "outputs": [
        {
          "output_type": "stream",
          "name": "stdout",
          "text": [
            "CPU times: user 9.47 s, sys: 32.3 ms, total: 9.51 s\n",
            "Wall time: 13.1 s\n"
          ]
        },
        {
          "output_type": "execute_result",
          "data": {
            "text/plain": [
              "LatentDirichletAllocation(n_components=5, random_state=0)"
            ]
          },
          "metadata": {},
          "execution_count": 47
        }
      ]
    },
    {
      "cell_type": "markdown",
      "metadata": {
        "id": "9Tu7zal5JGdj"
      },
      "source": [
        "### Step 4. Examine the output of topic modeling"
      ]
    },
    {
      "cell_type": "code",
      "metadata": {
        "id": "MwD2Lov0JGdj",
        "colab": {
          "base_uri": "https://localhost:8080/"
        },
        "outputId": "a21ccd35-2928-44f6-9aad-cfe887993183"
      },
      "source": [
        "lda.components_ # 각 topic마다 하나하나의 term .. term들의 점수값(weight 값) .. topic의 실체 > weighted words"
      ],
      "execution_count": null,
      "outputs": [
        {
          "output_type": "execute_result",
          "data": {
            "text/plain": [
              "array([[0.20002131, 0.20000932, 0.20001654, ..., 0.20001852, 0.20001654,\n",
              "        0.20001765],\n",
              "       [0.2000096 , 0.20000933, 0.20001654, ..., 0.20001852, 0.20001654,\n",
              "        0.20001765],\n",
              "       [1.72382703, 0.41923008, 0.20001144, ..., 0.21569008, 0.20001144,\n",
              "        0.20001129],\n",
              "       [4.27380116, 7.58788263, 0.23290678, ..., 0.22705607, 0.23290678,\n",
              "        0.24525831],\n",
              "       [0.2000096 , 0.20000933, 0.20001654, ..., 0.20001852, 0.20001654,\n",
              "        0.20001765]])"
            ]
          },
          "metadata": {},
          "execution_count": 48
        }
      ]
    },
    {
      "cell_type": "code",
      "metadata": {
        "id": "n0TOTuwaJGdj",
        "colab": {
          "base_uri": "https://localhost:8080/"
        },
        "outputId": "8d22835a-88e0-44b7-ea38-e447a4620a22"
      },
      "source": [
        "lda.components_.shape"
      ],
      "execution_count": null,
      "outputs": [
        {
          "output_type": "execute_result",
          "data": {
            "text/plain": [
              "(5, 35977)"
            ]
          },
          "metadata": {},
          "execution_count": 49
        }
      ]
    },
    {
      "cell_type": "code",
      "metadata": {
        "id": "9idYS5FAJGdk"
      },
      "source": [
        "def show_topics(model, feature_names, num_top_words):\n",
        "    for topic_idx, topic_scores in enumerate(model.components_):\n",
        "        print(\"*** Topic {}:\".format(topic_idx))\n",
        "        print(\" + \".join([\"{:.2f} * {}\".format(topic_scores[i], feature_names[i]) for i in topic_scores.argsort()[::-1][:num_top_words]]))\n",
        "        print()"
      ],
      "execution_count": null,
      "outputs": []
    },
    {
      "cell_type": "code",
      "source": [
        "# 이 부분 코드를 분석해봐야함 (숙제)"
      ],
      "metadata": {
        "id": "QzNkNIVaCQI8"
      },
      "execution_count": null,
      "outputs": []
    },
    {
      "cell_type": "code",
      "source": [
        "vectorizer.get_feature_names_out().argsort()[::-1]"
      ],
      "metadata": {
        "colab": {
          "base_uri": "https://localhost:8080/"
        },
        "id": "TpCFiHOBXrxi",
        "outputId": "ffb260ff-7faf-4273-c22e-b470b8692a6e"
      },
      "execution_count": null,
      "outputs": [
        {
          "output_type": "execute_result",
          "data": {
            "text/plain": [
              "array([35976, 35975, 35974, ...,     2,     1,     0])"
            ]
          },
          "metadata": {},
          "execution_count": 52
        }
      ]
    },
    {
      "cell_type": "code",
      "metadata": {
        "scrolled": false,
        "id": "G0t5k09SJGdk",
        "colab": {
          "base_uri": "https://localhost:8080/"
        },
        "outputId": "8b0fb522-3b48-4978-b906-357c70a57719"
      },
      "source": [
        "show_topics(lda, vectorizer.get_feature_names_out(), 10) # components들의 점수를 sorting .. 원래 끝이 35977까지 간다 .. 10까지 자른 것"
      ],
      "execution_count": null,
      "outputs": [
        {
          "output_type": "stream",
          "name": "stdout",
          "text": [
            "*** Topic 0:\n",
            "0.85 * świątek + 0.80 * shiffrin + 0.57 * slalom + 0.52 * navratilova + 0.46 * shriver + 0.43 * graf + 0.26 * iga + 0.22 * steffi + 0.22 * skier + 0.21 * doha\n",
            "\n",
            "*** Topic 1:\n",
            "0.99 * hd + 0.52 * ld + 0.20 * overreaction + 0.20 * counterevidence + 0.20 * current3 + 0.20 * outran + 0.20 * races4 + 0.20 * overestimating + 0.20 * map6 + 0.20 * environment2\n",
            "\n",
            "*** Topic 2:\n",
            "40.89 * season + 28.17 * team + 24.51 * game + 20.37 * teams + 17.40 * league + 15.76 * nba + 15.41 * games + 12.94 * players + 12.34 * playoff + 11.30 * defense\n",
            "\n",
            "*** Topic 3:\n",
            "53.44 * percent + 36.34 * election + 35.65 * democrats + 34.70 * abortion + 31.88 * state + 31.72 * republicans + 30.61 * americans + 28.59 * republican + 28.51 * trump + 27.74 * said\n",
            "\n",
            "*** Topic 4:\n",
            "0.56 * robot + 0.28 * slices + 0.27 * pizza + 0.26 * shop + 0.20 * krupnikov + 0.20 * hopelessly + 0.20 * yanna + 0.20 * figure + 0.20 * episode + 0.20 * lattes\n",
            "\n"
          ]
        }
      ]
    },
    {
      "cell_type": "markdown",
      "metadata": {
        "id": "gKDCP2LBJGdk"
      },
      "source": [
        "Note that, just like k-means clustering, LDA topic modeling does not name the topics. It is up to you to identify each topic with its contributing words.  "
      ]
    },
    {
      "cell_type": "markdown",
      "metadata": {
        "id": "3lDJtrjnJGdk"
      },
      "source": [
        "### Topic Model Visualization"
      ]
    },
    {
      "cell_type": "code",
      "metadata": {
        "id": "tgpWu31QJGdk",
        "colab": {
          "base_uri": "https://localhost:8080/"
        },
        "outputId": "2071f3f2-f903-4c62-baef-7be748dccdff"
      },
      "source": [
        "import pyLDAvis\n",
        "import pyLDAvis.sklearn\n",
        "\n",
        "pyLDAvis.enable_notebook()"
      ],
      "execution_count": null,
      "outputs": [
        {
          "output_type": "stream",
          "name": "stderr",
          "text": [
            "/usr/local/lib/python3.8/dist-packages/past/types/oldstr.py:5: DeprecationWarning: Using or importing the ABCs from 'collections' instead of from 'collections.abc' is deprecated since Python 3.3, and in 3.10 it will stop working\n",
            "  from collections import Iterable\n",
            "/usr/local/lib/python3.8/dist-packages/past/builtins/misc.py:4: DeprecationWarning: Using or importing the ABCs from 'collections' instead of from 'collections.abc' is deprecated since Python 3.3, and in 3.10 it will stop working\n",
            "  from collections import Mapping\n"
          ]
        }
      ]
    },
    {
      "cell_type": "markdown",
      "metadata": {
        "id": "DCARAoHjJGdk"
      },
      "source": [
        "pyLDAvis: https://github.com/bmabey/pyLDAvis"
      ]
    },
    {
      "cell_type": "code",
      "metadata": {
        "id": "0zPKzDD5JGdl",
        "colab": {
          "base_uri": "https://localhost:8080/",
          "height": 953
        },
        "outputId": "2c442f7a-5f27-4e23-f1a0-4b9de7c7f9cd"
      },
      "source": [
        "pyLDAvis.sklearn.prepare(lda, X, vectorizer) #숫자랑 순서가 일치하지는 않음,, 하나하나 매핑은 된다 // 결과가 별로 안좋은게 1,2는 큰데 나머지 3,4,5가 별로 구분되지 않음 topic 끼리 distinctive 하지 않음"
      ],
      "execution_count": null,
      "outputs": [
        {
          "output_type": "stream",
          "name": "stderr",
          "text": [
            "/usr/local/lib/python3.8/dist-packages/sklearn/utils/deprecation.py:87: FutureWarning: Function get_feature_names is deprecated; get_feature_names is deprecated in 1.0 and will be removed in 1.2. Please use get_feature_names_out instead.\n",
            "  warnings.warn(msg, category=FutureWarning)\n",
            "/root/.local/lib/python3.8/site-packages/pyLDAvis/_prepare.py:246: FutureWarning: In a future version of pandas all arguments of DataFrame.drop except for the argument 'labels' will be keyword-only\n",
            "  default_term_info = default_term_info.sort_values(\n"
          ]
        },
        {
          "output_type": "execute_result",
          "data": {
            "text/plain": [
              "PreparedData(topic_coordinates=              x         y  topics  cluster       Freq\n",
              "topic                                                \n",
              "3      0.098481 -0.001238       1        1  70.568284\n",
              "2     -0.022283  0.049218       2        1  24.867998\n",
              "0     -0.025430 -0.016015       3        1   1.529720\n",
              "1     -0.025395 -0.015991       4        1   1.519732\n",
              "4     -0.025373 -0.015974       5        1   1.514266, topic_info=              Term      Freq      Total Category  logprob  loglift\n",
              "28760       season  15.00000  15.000000  Default  30.0000  30.0000\n",
              "32034         team  14.00000  14.000000  Default  29.0000  29.0000\n",
              "14136         game  13.00000  13.000000  Default  28.0000  28.0000\n",
              "32042        teams   8.00000   8.000000  Default  27.0000  27.0000\n",
              "19031       league   6.00000   6.000000  Default  26.0000  26.0000\n",
              "...            ...       ...        ...      ...      ...      ...\n",
              "19952       madrid   0.00679   0.290633   Topic5 -10.4906   0.4337\n",
              "3157        aloneâ   0.00679   0.282815   Topic5 -10.4906   0.4609\n",
              "8092   concussions   0.00679   0.282815   Topic5 -10.4906   0.4609\n",
              "10793    dizziness   0.00679   0.282815   Topic5 -10.4906   0.4609\n",
              "17602          itâ   0.00679   0.282815   Topic5 -10.4906   0.4609\n",
              "\n",
              "[293 rows x 6 columns], token_table=       Topic      Freq       Term\n",
              "term                             \n",
              "2357       1  1.012516   abortion\n",
              "3262       1  0.983410  americans\n",
              "4013       2  0.899189     astros\n",
              "4449       1  0.230369       ball\n",
              "4449       2  0.691108       ball\n",
              "...      ...       ...        ...\n",
              "35430      2  0.758184       wnba\n",
              "35713      2  0.996910    yankees\n",
              "35722      2  0.994457      yards\n",
              "35737      1  0.765351       year\n",
              "35737      2  0.306140       year\n",
              "\n",
              "[120 rows x 3 columns], R=30, lambda_step=0.01, plot_opts={'xlab': 'PC1', 'ylab': 'PC2'}, topic_order=[4, 3, 1, 2, 5])"
            ],
            "text/html": [
              "\n",
              "<link rel=\"stylesheet\" type=\"text/css\" href=\"https://cdn.jsdelivr.net/gh/bmabey/pyLDAvis@3.3.1/pyLDAvis/js/ldavis.v1.0.0.css\">\n",
              "\n",
              "\n",
              "<div id=\"ldavis_el239731406336475690407914950654\"></div>\n",
              "<script type=\"text/javascript\">\n",
              "\n",
              "var ldavis_el239731406336475690407914950654_data = {\"mdsDat\": {\"x\": [0.09848092946258913, -0.022282850646613808, -0.025430025320303206, -0.025395264047353424, -0.025372789448318684], \"y\": [-0.0012382147974423377, 0.04921828479441417, -0.016014887994259944, -0.015991095302144296, -0.015974086700567575], \"topics\": [1, 2, 3, 4, 5], \"cluster\": [1, 1, 1, 1, 1], \"Freq\": [70.56828435090165, 24.86799806049527, 1.5297197337302626, 1.5197322479659687, 1.514265606906854]}, \"tinfo\": {\"Term\": [\"season\", \"team\", \"game\", \"teams\", \"league\", \"nba\", \"games\", \"election\", \"playoff\", \"democrats\", \"abortion\", \"players\", \"playoffs\", \"defense\", \"republicans\", \"americans\", \"yards\", \"offense\", \"player\", \"republican\", \"trump\", \"defensive\", \"best\", \"elo\", \"mlb\", \"voters\", \"nfl\", \"politics\", \"nhl\", \"postseason\", \"election\", \"democrats\", \"abortion\", \"republicans\", \"americans\", \"republican\", \"trump\", \"voters\", \"politics\", \"podcast\", \"senate\", \"party\", \"biden\", \"democratic\", \"installment\", \"house\", \"fivethirtyeight\", \"president\", \"people\", \"race\", \"states\", \"polls\", \"candidates\", \"poll\", \"political\", \"elections\", \"crew\", \"riddler\", \"district\", \"primary\", \"said\", \"week\", \"state\", \"percent\", \"data\", \"court\", \"new\", \"like\", \"playoff\", \"playoffs\", \"elo\", \"nba\", \"postseason\", \"nhl\", \"wnba\", \"defensive\", \"warriors\", \"season\", \"offense\", \"astros\", \"celtics\", \"yankees\", \"offensive\", \"raptor\", \"mlb\", \"giants\", \"dodgers\", \"rookie\", \"rim\", \"phillies\", \"harden\", \"braves\", \"mets\", \"offseason\", \"league\", \"cardinals\", \"finals\", \"franchise\", \"teams\", \"possessions\", \"yards\", \"defense\", \"seasons\", \"quarterback\", \"minutes\", \"regular\", \"team\", \"scoring\", \"baseball\", \"game\", \"games\", \"player\", \"players\", \"career\", \"ball\", \"nfl\", \"best\", \"football\", \"series\", \"year\", \"second\", \"points\", \"\\u015bwi\\u0105tek\", \"shiffrin\", \"shriver\", \"navratilova\", \"slalom\", \"graf\", \"iga\", \"steffi\", \"doha\", \"lucked\", \"borga\", \"eurasia\", \"638\", \"overanalyze\", \"volley\", \"abramowicz\", \"daria\", \"alton\", \"arden\", \"arik\", \"armstead\", \"attaochu\", \"autry\", \"basham\", \"bowser\", \"clelin\", \"clowney\", \"curiosities\", \"danna\", \"deatrich\", \"movers\", \"icons\", \"annemarie\", \"anja\", \"p\\u00e4rson\", \"janica\", \"zaccardi\", \"coloradoan\", \"slovak\", \"apportioned\", \"slaloms\", \"pr\\u00f6ll\", \"moser\", \"outdid\", \"hose\", \"vlhov\\u00e1\", \"vonn\", \"stenmark\", \"clicked\", \"mikaela\", \"skier\", \"venus\", \"martina\", \"winningest\", \"hd\", \"ld\", \"overreaction\", \"counterevidence\", \"current3\", \"outran\", \"races4\", \"overestimating\", \"map6\", \"environment2\", \"exhibited\", \"alton\", \"arden\", \"arik\", \"armstead\", \"attaochu\", \"autry\", \"basham\", \"bowser\", \"clelin\", \"clowney\", \"curiosities\", \"danna\", \"deatrich\", \"denico\", \"dorance\", \"dunlap\", \"dupree\", \"evocatively\", \"fackrell\", \"icing\", \"veritable\", \"omen\", \"comforted\", \"fruition\", \"illustrative\", \"ignores\", \"delegates\", \"impressively\", \"overperformance\", \"175\", \"ballpark\", \"overperformed\", \"punched\", \"overestimated\", \"sunk\", \"unofficial\", \"dem\", \"260\", \"robot\", \"alton\", \"arden\", \"arik\", \"armstead\", \"attaochu\", \"autry\", \"basham\", \"bowser\", \"clelin\", \"clowney\", \"curiosities\", \"danna\", \"deatrich\", \"denico\", \"dorance\", \"dunlap\", \"dupree\", \"evocatively\", \"fackrell\", \"ferrell\", \"garvin\", \"ginkel\", \"golston\", \"hurrying\", \"hyder\", \"jadeveon\", \"kpassagnon\", \"marvels\", \"mcphee\", \"slices\", \"shop\", \"pizza\", \"counterevidence\", \"overreaction\", \"current3\", \"outran\", \"overestimating\", \"races4\", \"environment2\", \"map6\", \"exhibited\", \"krupnikov\", \"hopelessly\", \"yanna\", \"figure\", \"episode\", \"lattes\", \"barry\", \"reductive\", \"winningest\", \"ll\", \"iga\", \"ld\", \"slalom\", \"oscars\", \"migraines\", \"quizzes\", \"navratilova\", \"throne\", \"jonathon\", \"faults\", \"riddler\", \"madrid\", \"alone\\u00e2\", \"concussions\", \"dizziness\", \"it\\u00e2\"], \"Freq\": [15.0, 14.0, 13.0, 8.0, 6.0, 5.0, 8.0, 21.0, 4.0, 21.0, 20.0, 6.0, 4.0, 4.0, 18.0, 18.0, 4.0, 3.0, 5.0, 17.0, 17.0, 3.0, 6.0, 3.0, 3.0, 16.0, 5.0, 14.0, 2.0, 2.0, 21.620181201814795, 21.213267600136266, 20.649477200170463, 18.870607974013872, 18.212140901190157, 17.01250320128877, 16.962321066917546, 15.940007223217943, 14.830438934586798, 14.230972361498292, 13.911596248745605, 13.660791272406797, 12.993857773923507, 12.77249024554825, 12.383125262064606, 11.682259795233962, 14.946330688672626, 11.431434846001007, 11.021606593874342, 10.971989268454086, 10.33041557843697, 10.275421200922777, 9.868182099445395, 9.78750394192421, 9.645310089866994, 9.518554439585616, 9.431411814398647, 9.206214041361843, 9.118743798640363, 9.8903166889598, 16.503684116943717, 11.594768515990973, 18.96722730691423, 31.795845689804352, 12.088115513987516, 12.660933128761876, 12.285949578151842, 10.72762149907567, 4.349194810662256, 3.9196258213436788, 3.1340267989095847, 5.554663719496263, 2.816504314920958, 2.8419056122255375, 2.4972745541126065, 3.2214861836177184, 2.416270844718646, 14.408980935806566, 3.4537137574777614, 2.0734466614858738, 1.880742407308359, 1.8663384116566542, 2.736387016542949, 1.6578917406845042, 3.1765585689617026, 1.6777744791910914, 1.5024241079385694, 1.4486260123883405, 1.3954910764782205, 1.3753160097137929, 1.425134416362945, 1.3315903005709, 1.2809893675093214, 1.2651915727735008, 6.1299625062447225, 1.260475380325052, 1.6697130046877793, 1.44057121227991, 7.178270163769745, 1.6004167409672676, 3.531893176527546, 3.9836277223911294, 2.7749758951845407, 1.8050875177504182, 2.4827106032668156, 2.868267981546774, 9.926056761592058, 2.184756195018698, 2.4749671889950657, 8.635702400453004, 5.429928573131247, 3.697730147742134, 4.558593270270485, 2.7868853582450055, 3.017047889819132, 3.5228311587152574, 3.73308475240174, 3.111472135660571, 3.042182455709093, 3.5450558977755215, 2.935741598508992, 2.962748791983935, 0.02911266796039887, 0.027454494344477127, 0.015878327346591805, 0.01777392812423241, 0.019518525415830577, 0.01479924651445561, 0.008924357221733485, 0.0076781637898044285, 0.007255866458896742, 0.00725586645887844, 0.007255866458867852, 0.007255866458867172, 0.007255866458858037, 0.007255866458856044, 0.007255866458851761, 0.00725586645883415, 0.007255866458833599, 0.006855633538343299, 0.006855633538343299, 0.006855633538343299, 0.006855633538343299, 0.006855633538343299, 0.006855633538343299, 0.006855633538343299, 0.006855633538343299, 0.006855633538343299, 0.006855633538343299, 0.006855633538343299, 0.006855633538343299, 0.006855633538343299, 0.007170441062014698, 0.0071434360416729415, 0.007029998268589734, 0.007029998268588965, 0.007029998268588659, 0.0070299982685886305, 0.007029998268588179, 0.007029998268588143, 0.007029998268588051, 0.007029998268587944, 0.007029998268587937, 0.007029998268587774, 0.007029998268587717, 0.007180844419044828, 0.007107186965241876, 0.0071292737040718765, 0.007129273703969236, 0.007129273703936879, 0.007087003269316303, 0.0072035013547783544, 0.007454033733220537, 0.007111895536512881, 0.007200141514087814, 0.007230089201827524, 0.033835375088094956, 0.017808649867995647, 0.0069260401011189705, 0.0069260401011189375, 0.006926040101118711, 0.006926040101118613, 0.006926040101118508, 0.006926040101118494, 0.006926040101118144, 0.00692604010111805, 0.006926040101117701, 0.006812706755451435, 0.006812706755451435, 0.006812706755451435, 0.006812706755451435, 0.006812706755451435, 0.006812706755451435, 0.006812706755451435, 0.006812706755451435, 0.006812706755451435, 0.006812706755451435, 0.006812706755451435, 0.006812706755451435, 0.006812706755451435, 0.006812706755451435, 0.006812706755451435, 0.006812706755451435, 0.006812706755451435, 0.006812706755451435, 0.006812706755451435, 0.006881276434479414, 0.006859226640642192, 0.006864741781655263, 0.0068514197536191, 0.00686245057130273, 0.006845310255920276, 0.006833177868334868, 0.006844092246508166, 0.006835833947741086, 0.006835091515492442, 0.006834055289996032, 0.006833468625971326, 0.006828076197373756, 0.006827407286415609, 0.00682546317877709, 0.006825273578132233, 0.006822633594552283, 0.006822133050049001, 0.006822123314320883, 0.018869888766427874, 0.006788770649267416, 0.006788770649267416, 0.006788770649267416, 0.006788770649267416, 0.006788770649267416, 0.006788770649267416, 0.006788770649267416, 0.006788770649267416, 0.006788770649267416, 0.006788770649267416, 0.006788770649267416, 0.006788770649267416, 0.006788770649267416, 0.006788770649267416, 0.006788770649267416, 0.006788770649267416, 0.006788770649267416, 0.006788770649267416, 0.006788770649267416, 0.006788770649267416, 0.006788770649267416, 0.006788770649267416, 0.006788770649267416, 0.006788770649267416, 0.006788770649267416, 0.006788770649267416, 0.006788770649267416, 0.006788770649267416, 0.006788770649267416, 0.009385048462676598, 0.008705168944724164, 0.009286218833554634, 0.006789110097210368, 0.006789110097210368, 0.006789110097210368, 0.006789110097210368, 0.006789110097210368, 0.006789110097210368, 0.0067891100972103675, 0.0067891100972103675, 0.006789110097210367, 0.006794983474516998, 0.006794983474516969, 0.006794983474516889, 0.006794142334290246, 0.006793695552282256, 0.00679247000228953, 0.006791249640265002, 0.006791182601010697, 0.006790577725778866, 0.006790568068417499, 0.006790517018271617, 0.006790473835675424, 0.006790442741185432, 0.006790388983571096, 0.006790365823641594, 0.006790284981449744, 0.006790235463550935, 0.006790226774097799, 0.006790205652494929, 0.0067901890038027, 0.006790162584955873, 0.006790146884765353, 0.006790131960764625, 0.006790131960764625, 0.006790131960764625, 0.006790131960764625], \"Total\": [15.0, 14.0, 13.0, 8.0, 6.0, 5.0, 8.0, 21.0, 4.0, 21.0, 20.0, 6.0, 4.0, 4.0, 18.0, 18.0, 4.0, 3.0, 5.0, 17.0, 17.0, 3.0, 6.0, 3.0, 3.0, 16.0, 5.0, 14.0, 2.0, 2.0, 21.711127743525505, 21.304210223951866, 20.740415099809763, 18.96155462716825, 18.303662045832613, 17.10344909019484, 17.053274401762597, 16.031001848799647, 14.921382905310834, 14.32193333829934, 14.002534604978193, 13.751768810756817, 13.084798652668288, 12.86343945613613, 12.47407426798098, 11.773272370082571, 15.063033727517515, 11.522517311585789, 11.112904832291521, 11.065337972293918, 10.421412940873548, 10.366410762271105, 9.959457283212878, 9.878631015166363, 9.736250219465918, 9.609500310783968, 9.5224515636367, 9.297153693707765, 9.209683018649562, 9.990933661868496, 16.721598101817563, 11.72807653287773, 19.332750524777577, 33.36964214491178, 12.479897219653992, 13.145794552542851, 13.48482652921709, 11.875899554065581, 4.515597098669307, 4.07568504377294, 3.2799748727033133, 5.814899394150581, 2.956685647878001, 2.9836376576172388, 2.637880913529577, 3.4095273520771494, 2.561954145379861, 15.330629613863811, 3.688583971206918, 2.2242275747076, 2.020736828987784, 2.0061997860257166, 2.952381005782385, 1.7978244891172357, 3.4464305934520003, 1.8263563431641352, 1.642284303039044, 1.5893662554084664, 1.5355654979273234, 1.515323713364521, 1.5743453620664012, 1.4715623425961795, 1.4209867645325065, 1.405955220516576, 6.814625660314158, 1.4021054213215018, 1.8576053246109117, 1.6031257120072258, 8.182606090056506, 1.7861027504321263, 4.022294363869115, 4.590662256329127, 3.1787934424966036, 2.0285697156058067, 2.8780548576167058, 3.403300240614673, 14.152143015572776, 2.5432298534169977, 2.9955091068074413, 13.677219457370837, 8.166396448127962, 5.034829029824184, 6.75645051227311, 3.6704930606714417, 4.340854854279432, 5.623156828702704, 6.376220969554047, 4.599896831608927, 5.302789833078448, 13.065901561074872, 6.63087592987308, 11.908409292472994, 0.2386255836885852, 0.2586753645181688, 0.2299661335423191, 0.26496500866017336, 0.2957472936214929, 0.2299701458008282, 0.23487437510517514, 0.22517846068912403, 0.2178568833696169, 0.21785688336978662, 0.21785688336988482, 0.21785688336989112, 0.21785688336997583, 0.21785688336999431, 0.21785688337003406, 0.21785688337019735, 0.21785688337020248, 0.21384114864816473, 0.21384114864816473, 0.21384114864816473, 0.21384114864816473, 0.21384114864816473, 0.21384114864816473, 0.21384114864816473, 0.21384114864816473, 0.21384114864816473, 0.21384114864816473, 0.21384114864816473, 0.21384114864816473, 0.21384114864816473, 0.22417108634845065, 0.22586999429550075, 0.22133551906483348, 0.22133551906484605, 0.2213355190648511, 0.22133551906485155, 0.221335519064859, 0.2213355190648596, 0.22133551906486112, 0.22133551906486285, 0.22133551906486296, 0.22133551906486562, 0.22133551906486656, 0.231245718201943, 0.23003869748091343, 0.23398544576278957, 0.23398544576447527, 0.2339854457650068, 0.2328784627758661, 0.2756321520765729, 0.3771327098806863, 0.24923870526235947, 0.28627212216563885, 0.3858432222729825, 0.28997821789272604, 0.2569489969989517, 0.21404797569342185, 0.21404797569342243, 0.21404797569342615, 0.21404797569342776, 0.21404797569342948, 0.2140479756934297, 0.2140479756934355, 0.21404797569343706, 0.21404797569344283, 0.21384114864816473, 0.21384114864816473, 0.21384114864816473, 0.21384114864816473, 0.21384114864816473, 0.21384114864816473, 0.21384114864816473, 0.21384114864816473, 0.21384114864816473, 0.21384114864816473, 0.21384114864816473, 0.21384114864816473, 0.21384114864816473, 0.21384114864816473, 0.21384114864816473, 0.21384114864816473, 0.21384114864816473, 0.21384114864816473, 0.21384114864816473, 0.2357039156532472, 0.24782238091880152, 0.26577484519470157, 0.2513208811691439, 0.2723636281490248, 0.2593806120305363, 0.285593991894443, 0.36667584710064666, 0.32562116696755444, 0.41361969469159265, 0.35802078698195394, 0.2965910507107475, 0.49043469135558065, 0.3444909085389749, 0.3121029673583439, 0.32065063739181054, 0.404745604186449, 0.41014731266603455, 0.3895265727718784, 0.2649142861447297, 0.21384114864816473, 0.21384114864816473, 0.21384114864816473, 0.21384114864816473, 0.21384114864816473, 0.21384114864816473, 0.21384114864816473, 0.21384114864816473, 0.21384114864816473, 0.21384114864816473, 0.21384114864816473, 0.21384114864816473, 0.21384114864816473, 0.21384114864816473, 0.21384114864816473, 0.21384114864816473, 0.21384114864816473, 0.21384114864816473, 0.21384114864816473, 0.21384114864816473, 0.21384114864816473, 0.21384114864816473, 0.21384114864816473, 0.21384114864816473, 0.21384114864816473, 0.21384114864816473, 0.21384114864816473, 0.21384114864816473, 0.21384114864816473, 0.5218497287855228, 0.4995575050343916, 0.9544805353447252, 0.21404797569342243, 0.21404797569342185, 0.21404797569342615, 0.21404797569342776, 0.2140479756934297, 0.21404797569342948, 0.21404797569343706, 0.2140479756934355, 0.21404797569344283, 0.3808330906553168, 0.38083309065532284, 0.38083309065534, 2.4337563033587655, 3.413509432838477, 0.4256839019893166, 0.5870408279052032, 0.4004419502089832, 0.3858432222729825, 4.6438854894369, 0.23487437510517514, 0.2569489969989517, 0.2957472936214929, 0.4302121921681139, 0.30449439180872007, 1.09780981700247, 0.26496500866017336, 0.2545325408425725, 0.2536931891745418, 0.25208449181978926, 9.297153693707765, 0.29063274200050654, 0.28281520913596425, 0.28281520913596414, 0.28281520913596414, 0.28281520913596414], \"Category\": [\"Default\", \"Default\", \"Default\", \"Default\", \"Default\", \"Default\", \"Default\", \"Default\", \"Default\", \"Default\", \"Default\", \"Default\", \"Default\", \"Default\", \"Default\", \"Default\", \"Default\", \"Default\", \"Default\", \"Default\", \"Default\", \"Default\", \"Default\", \"Default\", \"Default\", \"Default\", \"Default\", \"Default\", \"Default\", \"Default\", \"Topic1\", \"Topic1\", \"Topic1\", \"Topic1\", \"Topic1\", \"Topic1\", \"Topic1\", \"Topic1\", \"Topic1\", \"Topic1\", \"Topic1\", \"Topic1\", \"Topic1\", \"Topic1\", \"Topic1\", \"Topic1\", \"Topic1\", \"Topic1\", \"Topic1\", \"Topic1\", \"Topic1\", \"Topic1\", \"Topic1\", \"Topic1\", \"Topic1\", \"Topic1\", \"Topic1\", \"Topic1\", \"Topic1\", \"Topic1\", \"Topic1\", \"Topic1\", \"Topic1\", \"Topic1\", \"Topic1\", \"Topic1\", \"Topic1\", \"Topic1\", \"Topic2\", \"Topic2\", \"Topic2\", \"Topic2\", \"Topic2\", \"Topic2\", \"Topic2\", \"Topic2\", \"Topic2\", \"Topic2\", \"Topic2\", \"Topic2\", \"Topic2\", \"Topic2\", \"Topic2\", \"Topic2\", \"Topic2\", \"Topic2\", \"Topic2\", \"Topic2\", \"Topic2\", \"Topic2\", \"Topic2\", \"Topic2\", \"Topic2\", \"Topic2\", \"Topic2\", \"Topic2\", \"Topic2\", \"Topic2\", \"Topic2\", \"Topic2\", \"Topic2\", \"Topic2\", \"Topic2\", \"Topic2\", \"Topic2\", \"Topic2\", \"Topic2\", \"Topic2\", \"Topic2\", \"Topic2\", \"Topic2\", \"Topic2\", \"Topic2\", \"Topic2\", \"Topic2\", \"Topic2\", \"Topic2\", \"Topic2\", \"Topic2\", \"Topic2\", \"Topic2\", \"Topic2\", \"Topic3\", \"Topic3\", \"Topic3\", \"Topic3\", \"Topic3\", \"Topic3\", \"Topic3\", \"Topic3\", \"Topic3\", \"Topic3\", \"Topic3\", \"Topic3\", \"Topic3\", \"Topic3\", \"Topic3\", \"Topic3\", \"Topic3\", \"Topic3\", \"Topic3\", \"Topic3\", \"Topic3\", \"Topic3\", \"Topic3\", \"Topic3\", \"Topic3\", \"Topic3\", \"Topic3\", \"Topic3\", \"Topic3\", \"Topic3\", \"Topic3\", \"Topic3\", \"Topic3\", \"Topic3\", \"Topic3\", \"Topic3\", \"Topic3\", \"Topic3\", \"Topic3\", \"Topic3\", \"Topic3\", \"Topic3\", \"Topic3\", \"Topic3\", \"Topic3\", \"Topic3\", \"Topic3\", \"Topic3\", \"Topic3\", \"Topic3\", \"Topic3\", \"Topic3\", \"Topic3\", \"Topic3\", \"Topic4\", \"Topic4\", \"Topic4\", \"Topic4\", \"Topic4\", \"Topic4\", \"Topic4\", \"Topic4\", \"Topic4\", \"Topic4\", \"Topic4\", \"Topic4\", \"Topic4\", \"Topic4\", \"Topic4\", \"Topic4\", \"Topic4\", \"Topic4\", \"Topic4\", \"Topic4\", \"Topic4\", \"Topic4\", \"Topic4\", \"Topic4\", \"Topic4\", \"Topic4\", \"Topic4\", \"Topic4\", \"Topic4\", \"Topic4\", \"Topic4\", \"Topic4\", \"Topic4\", \"Topic4\", \"Topic4\", \"Topic4\", \"Topic4\", \"Topic4\", \"Topic4\", \"Topic4\", \"Topic4\", \"Topic4\", \"Topic4\", \"Topic4\", \"Topic4\", \"Topic4\", \"Topic4\", \"Topic4\", \"Topic4\", \"Topic5\", \"Topic5\", \"Topic5\", \"Topic5\", \"Topic5\", \"Topic5\", \"Topic5\", \"Topic5\", \"Topic5\", \"Topic5\", \"Topic5\", \"Topic5\", \"Topic5\", \"Topic5\", \"Topic5\", \"Topic5\", \"Topic5\", \"Topic5\", \"Topic5\", \"Topic5\", \"Topic5\", \"Topic5\", \"Topic5\", \"Topic5\", \"Topic5\", \"Topic5\", \"Topic5\", \"Topic5\", \"Topic5\", \"Topic5\", \"Topic5\", \"Topic5\", \"Topic5\", \"Topic5\", \"Topic5\", \"Topic5\", \"Topic5\", \"Topic5\", \"Topic5\", \"Topic5\", \"Topic5\", \"Topic5\", \"Topic5\", \"Topic5\", \"Topic5\", \"Topic5\", \"Topic5\", \"Topic5\", \"Topic5\", \"Topic5\", \"Topic5\", \"Topic5\", \"Topic5\", \"Topic5\", \"Topic5\", \"Topic5\", \"Topic5\", \"Topic5\", \"Topic5\", \"Topic5\", \"Topic5\", \"Topic5\", \"Topic5\", \"Topic5\", \"Topic5\", \"Topic5\", \"Topic5\", \"Topic5\"], \"logprob\": [30.0, 29.0, 28.0, 27.0, 26.0, 25.0, 24.0, 23.0, 22.0, 21.0, 20.0, 19.0, 18.0, 17.0, 16.0, 15.0, 14.0, 13.0, 12.0, 11.0, 10.0, 9.0, 8.0, 7.0, 6.0, 5.0, 4.0, 3.0, 2.0, 1.0, -6.2663, -6.2853, -6.3122, -6.4023, -6.4378, -6.506, -6.5089, -6.5711, -6.6432, -6.6845, -6.7072, -6.7254, -6.7754, -6.7926, -6.8236, -6.8819, -6.6355, -6.9036, -6.9401, -6.9446, -7.0048, -7.0102, -7.0506, -7.0588, -7.0735, -7.0867, -7.0959, -7.12, -7.1296, -7.0484, -6.5363, -6.8894, -6.3972, -5.8806, -6.8477, -6.8014, -6.8315, -6.9671, -6.8269, -6.9309, -7.1546, -6.5823, -7.2614, -7.2524, -7.3817, -7.1271, -7.4147, -5.6291, -7.0575, -7.5677, -7.6653, -7.6729, -7.2903, -7.7914, -7.1411, -7.7795, -7.8898, -7.9263, -7.9637, -7.9782, -7.9427, -8.0105, -8.0493, -8.0617, -6.4837, -8.0654, -7.7843, -7.9319, -6.3259, -7.8267, -7.0351, -6.9147, -7.2763, -7.7063, -7.3876, -7.2432, -6.0018, -7.5154, -7.3907, -6.141, -6.605, -6.9892, -6.7799, -7.272, -7.1926, -7.0377, -6.9797, -7.1618, -7.1843, -7.0314, -7.22, -7.2108, -9.045, -9.1037, -9.6512, -9.5384, -9.4448, -9.7216, -10.2274, -10.3778, -10.4344, -10.4344, -10.4344, -10.4344, -10.4344, -10.4344, -10.4344, -10.4344, -10.4344, -10.4911, -10.4911, -10.4911, -10.4911, -10.4911, -10.4911, -10.4911, -10.4911, -10.4911, -10.4911, -10.4911, -10.4911, -10.4911, -10.4462, -10.45, -10.466, -10.466, -10.466, -10.466, -10.466, -10.466, -10.466, -10.466, -10.466, -10.466, -10.466, -10.4448, -10.4551, -10.452, -10.452, -10.452, -10.4579, -10.4416, -10.4074, -10.4544, -10.4421, -10.4379, -8.8881, -9.5299, -10.4743, -10.4743, -10.4743, -10.4743, -10.4743, -10.4743, -10.4743, -10.4743, -10.4743, -10.4908, -10.4908, -10.4908, -10.4908, -10.4908, -10.4908, -10.4908, -10.4908, -10.4908, -10.4908, -10.4908, -10.4908, -10.4908, -10.4908, -10.4908, -10.4908, -10.4908, -10.4908, -10.4908, -10.4808, -10.484, -10.4832, -10.4852, -10.4836, -10.4861, -10.4878, -10.4862, -10.4875, -10.4876, -10.4877, -10.4878, -10.4886, -10.4887, -10.489, -10.489, -10.4894, -10.4895, -10.4895, -9.4685, -10.4908, -10.4908, -10.4908, -10.4908, -10.4908, -10.4908, -10.4908, -10.4908, -10.4908, -10.4908, -10.4908, -10.4908, -10.4908, -10.4908, -10.4908, -10.4908, -10.4908, -10.4908, -10.4908, -10.4908, -10.4908, -10.4908, -10.4908, -10.4908, -10.4908, -10.4908, -10.4908, -10.4908, -10.4908, -10.1669, -10.2421, -10.1775, -10.4907, -10.4907, -10.4907, -10.4907, -10.4907, -10.4907, -10.4907, -10.4907, -10.4907, -10.4898, -10.4898, -10.4898, -10.49, -10.49, -10.4902, -10.4904, -10.4904, -10.4905, -10.4905, -10.4905, -10.4905, -10.4905, -10.4905, -10.4905, -10.4905, -10.4905, -10.4905, -10.4905, -10.4905, -10.4906, -10.4906, -10.4906, -10.4906, -10.4906, -10.4906], \"loglift\": [30.0, 29.0, 28.0, 27.0, 26.0, 25.0, 24.0, 23.0, 22.0, 21.0, 20.0, 19.0, 18.0, 17.0, 16.0, 15.0, 14.0, 13.0, 12.0, 11.0, 10.0, 9.0, 8.0, 7.0, 6.0, 5.0, 4.0, 3.0, 2.0, 1.0, 0.3444, 0.3443, 0.3442, 0.3438, 0.3436, 0.3433, 0.3432, 0.3429, 0.3425, 0.3422, 0.3421, 0.342, 0.3416, 0.3415, 0.3413, 0.3408, 0.3408, 0.3407, 0.3403, 0.3401, 0.3398, 0.3398, 0.3394, 0.3393, 0.3392, 0.3391, 0.339, 0.3388, 0.3387, 0.3385, 0.3355, 0.3372, 0.3295, 0.3003, 0.3167, 0.311, 0.2555, 0.2469, 1.354, 1.3525, 1.3461, 1.3458, 1.343, 1.3429, 1.3368, 1.3349, 1.333, 1.3296, 1.3258, 1.3214, 1.3198, 1.3193, 1.3156, 1.3106, 1.31, 1.3067, 1.3026, 1.2989, 1.2959, 1.2946, 1.292, 1.2916, 1.2879, 1.2861, 1.2857, 1.2851, 1.285, 1.2847, 1.2606, 1.2818, 1.2616, 1.2498, 1.2557, 1.2749, 1.2438, 1.2206, 1.0369, 1.2397, 1.2007, 0.9318, 0.9835, 1.0829, 0.9981, 1.1162, 1.0278, 0.924, 0.8562, 1.0007, 0.8359, 0.0871, 0.5768, 0.0005, 2.0764, 1.937, 1.5071, 1.4782, 1.4619, 1.4367, 0.9098, 0.8016, 0.7781, 0.7781, 0.7781, 0.7781, 0.7781, 0.7781, 0.7781, 0.7781, 0.7781, 0.7399, 0.7399, 0.7399, 0.7399, 0.7399, 0.7399, 0.7399, 0.7399, 0.7399, 0.7399, 0.7399, 0.7399, 0.7399, 0.7376, 0.7263, 0.7306, 0.7306, 0.7306, 0.7306, 0.7306, 0.7306, 0.7306, 0.7306, 0.7306, 0.7306, 0.7306, 0.708, 0.7029, 0.689, 0.689, 0.689, 0.6878, 0.5356, 0.2562, 0.6234, 0.4972, 0.2029, 2.0383, 1.5174, 0.7557, 0.7557, 0.7557, 0.7557, 0.7557, 0.7557, 0.7557, 0.7557, 0.7557, 0.7402, 0.7402, 0.7402, 0.7402, 0.7402, 0.7402, 0.7402, 0.7402, 0.7402, 0.7402, 0.7402, 0.7402, 0.7402, 0.7402, 0.7402, 0.7402, 0.7402, 0.7402, 0.7402, 0.6529, 0.5995, 0.5304, 0.5844, 0.5056, 0.5519, 0.4539, 0.2055, 0.3231, 0.0838, 0.228, 0.4161, -0.0876, 0.2655, 0.364, 0.3369, 0.1036, 0.0903, 0.1419, 1.5484, 0.7403, 0.7403, 0.7403, 0.7403, 0.7403, 0.7403, 0.7403, 0.7403, 0.7403, 0.7403, 0.7403, 0.7403, 0.7403, 0.7403, 0.7403, 0.7403, 0.7403, 0.7403, 0.7403, 0.7403, 0.7403, 0.7403, 0.7403, 0.7403, 0.7403, 0.7403, 0.7403, 0.7403, 0.7403, 0.172, 0.1404, -0.4424, 0.7394, 0.7394, 0.7394, 0.7394, 0.7394, 0.7394, 0.7394, 0.7394, 0.7394, 0.1641, 0.1641, 0.1641, -1.6909, -2.0293, 0.0524, -0.2692, 0.1133, 0.1503, -2.3375, 0.6467, 0.5569, 0.4163, 0.0415, 0.3871, -0.8953, 0.5261, 0.5663, 0.5696, 0.576, -3.0317, 0.4337, 0.4609, 0.4609, 0.4609, 0.4609]}, \"token.table\": {\"Topic\": [1, 1, 2, 1, 2, 1, 2, 1, 2, 1, 2, 1, 2, 1, 2, 2, 1, 1, 1, 1, 2, 2, 1, 1, 1, 2, 1, 1, 2, 1, 1, 2, 1, 1, 2, 2, 1, 2, 1, 2, 2, 2, 1, 1, 1, 2, 1, 2, 1, 2, 2, 2, 2, 1, 2, 1, 2, 2, 2, 2, 2, 1, 1, 1, 2, 2, 1, 1, 2, 1, 2, 2, 2, 1, 1, 2, 1, 1, 1, 1, 2, 2, 1, 1, 2, 1, 1, 2, 1, 2, 1, 1, 1, 2, 2, 1, 2, 1, 2, 2, 1, 2, 1, 1, 2, 1, 1, 1, 2, 1, 2, 1, 1, 2, 1, 2, 2, 2, 1, 2], \"Freq\": [1.01251589705129, 0.9834097654845113, 0.8991885644898197, 0.23036937045111053, 0.6911081113533316, 0.3338330695531691, 0.6676661391063382, 0.47049812331234503, 0.6273308310831267, 0.9935193001497966, 0.6795498709458456, 1.0040707757093812, 0.7132131327596519, 0.27244296160501946, 0.8173288848150584, 0.98973798631751, 0.9889094149493878, 0.9451347628134145, 0.9615463804543017, 0.21783349420256395, 0.8713339768102558, 0.8798873539384696, 1.010616176515584, 0.9857206523614825, 0.9772323305563335, 1.2178159386282899, 1.0133052626232482, 1.040636836108721, 0.9146411531889079, 0.8788609081139622, 0.8217749645845193, 1.076654967286398, 0.995815336494775, 0.21739618009002726, 0.6521885402700818, 0.623781399368818, 0.3655713806146053, 0.6580284851062895, 0.36735909394745464, 0.6122651565790911, 1.0950765481696905, 0.6351846450561862, 1.0192578259289722, 0.9619952344521585, 0.1467432034929853, 0.880459220957912, 0.9262456245880147, 0.08420414768981951, 0.861347681612413, 0.7037363225047294, 0.6949137868957036, 0.870465810540276, 1.0318321252532106, 0.8898890893405288, 0.07415742411171074, 0.35567210037451724, 0.7113442007490345, 1.0054840246237635, 0.8133202398042165, 1.0161290138787475, 0.7112602061625974, 1.018050855323354, 0.9898402052392776, 0.9589554440241241, 0.05993471525150776, 0.6599249989823419, 1.0476903016558998, 0.1986164761656107, 0.7944659046624428, 0.2960134165664345, 0.7400335414160862, 0.8858186221217018, 0.9814301048878701, 0.9775216564206151, 0.7557684472340629, 0.2519228157446876, 1.0270894620196553, 1.0052687539210046, 1.0122860125706996, 0.9646540378657704, 1.1197564079200504, 1.0146496304580386, 0.9546525036625111, 1.000907456543937, 0.9859163254848874, 0.9109045888571701, 0.9940952574193834, 1.1124556440890603, 0.29383243595909986, 0.8814973078772996, 0.9939515655790068, 1.002027543288917, 0.9680382078755054, 0.6512258847634833, 0.6291815977576549, 1.0166492398924585, 0.7864015898181077, 0.06522889308444833, 0.9132045031822766, 0.9437543062388538, 0.6032385528402675, 0.45242891463020063, 0.9998189895579839, 0.37715995974875977, 0.5657399396231397, 0.9827882471068402, 0.9595627825838533, 0.2826427061681378, 0.7066067654203446, 0.12221045336829778, 0.8554731735780844, 0.996876001610747, 0.9980661315436148, 0.7806540970324275, 1.0231856832072999, 0.7581843402187288, 0.9969096866279712, 0.9944573017655353, 0.7653509368072527, 0.3061403747229011], \"Term\": [\"abortion\", \"americans\", \"astros\", \"ball\", \"ball\", \"baseball\", \"baseball\", \"best\", \"best\", \"biden\", \"braves\", \"candidates\", \"cardinals\", \"career\", \"career\", \"celtics\", \"court\", \"crew\", \"data\", \"defense\", \"defense\", \"defensive\", \"democratic\", \"democrats\", \"district\", \"dodgers\", \"election\", \"elections\", \"elo\", \"episode\", \"figure\", \"finals\", \"fivethirtyeight\", \"football\", \"football\", \"franchise\", \"game\", \"game\", \"games\", \"games\", \"giants\", \"harden\", \"house\", \"installment\", \"league\", \"league\", \"like\", \"like\", \"ll\", \"mets\", \"minutes\", \"mlb\", \"nba\", \"new\", \"new\", \"nfl\", \"nfl\", \"nhl\", \"offense\", \"offensive\", \"offseason\", \"party\", \"people\", \"percent\", \"percent\", \"phillies\", \"pizza\", \"player\", \"player\", \"players\", \"players\", \"playoff\", \"playoffs\", \"podcast\", \"points\", \"points\", \"political\", \"politics\", \"poll\", \"polls\", \"possessions\", \"postseason\", \"president\", \"primary\", \"quarterback\", \"quizzes\", \"race\", \"raptor\", \"regular\", \"regular\", \"republican\", \"republicans\", \"riddler\", \"rim\", \"rookie\", \"said\", \"scoring\", \"season\", \"season\", \"seasons\", \"second\", \"second\", \"senate\", \"series\", \"series\", \"state\", \"states\", \"team\", \"team\", \"teams\", \"teams\", \"trump\", \"voters\", \"warriors\", \"week\", \"wnba\", \"yankees\", \"yards\", \"year\", \"year\"]}, \"R\": 30, \"lambda.step\": 0.01, \"plot.opts\": {\"xlab\": \"PC1\", \"ylab\": \"PC2\"}, \"topic.order\": [4, 3, 1, 2, 5]};\n",
              "\n",
              "function LDAvis_load_lib(url, callback){\n",
              "  var s = document.createElement('script');\n",
              "  s.src = url;\n",
              "  s.async = true;\n",
              "  s.onreadystatechange = s.onload = callback;\n",
              "  s.onerror = function(){console.warn(\"failed to load library \" + url);};\n",
              "  document.getElementsByTagName(\"head\")[0].appendChild(s);\n",
              "}\n",
              "\n",
              "if(typeof(LDAvis) !== \"undefined\"){\n",
              "   // already loaded: just create the visualization\n",
              "   !function(LDAvis){\n",
              "       new LDAvis(\"#\" + \"ldavis_el239731406336475690407914950654\", ldavis_el239731406336475690407914950654_data);\n",
              "   }(LDAvis);\n",
              "}else if(typeof define === \"function\" && define.amd){\n",
              "   // require.js is available: use it to load d3/LDAvis\n",
              "   require.config({paths: {d3: \"https://d3js.org/d3.v5\"}});\n",
              "   require([\"d3\"], function(d3){\n",
              "      window.d3 = d3;\n",
              "      LDAvis_load_lib(\"https://cdn.jsdelivr.net/gh/bmabey/pyLDAvis@3.3.1/pyLDAvis/js/ldavis.v3.0.0.js\", function(){\n",
              "        new LDAvis(\"#\" + \"ldavis_el239731406336475690407914950654\", ldavis_el239731406336475690407914950654_data);\n",
              "      });\n",
              "    });\n",
              "}else{\n",
              "    // require.js not available: dynamically load d3 & LDAvis\n",
              "    LDAvis_load_lib(\"https://d3js.org/d3.v5.js\", function(){\n",
              "         LDAvis_load_lib(\"https://cdn.jsdelivr.net/gh/bmabey/pyLDAvis@3.3.1/pyLDAvis/js/ldavis.v3.0.0.js\", function(){\n",
              "                 new LDAvis(\"#\" + \"ldavis_el239731406336475690407914950654\", ldavis_el239731406336475690407914950654_data);\n",
              "            })\n",
              "         });\n",
              "}\n",
              "</script>"
            ]
          },
          "metadata": {},
          "execution_count": 55
        }
      ]
    },
    {
      "cell_type": "markdown",
      "metadata": {
        "id": "h5RCIZo9JGdl"
      },
      "source": [
        "- Saliency: a measure of how much the term tells you about the topic.\n",
        "- Relevance: a weighted average of the probability of the word given the topic and the word given the topic normalized by the probability of the topic.\n",
        "- Bubble size: the importance of the topics, relative to the data."
      ]
    }
  ]
}