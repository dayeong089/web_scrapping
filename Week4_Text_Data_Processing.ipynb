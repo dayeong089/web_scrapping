{
  "nbformat": 4,
  "nbformat_minor": 0,
  "metadata": {
    "colab": {
      "provenance": [],
      "include_colab_link": true
    },
    "kernelspec": {
      "display_name": "Python 3",
      "language": "python",
      "name": "python3"
    },
    "language_info": {
      "codemirror_mode": {
        "name": "ipython",
        "version": 3
      },
      "file_extension": ".py",
      "mimetype": "text/x-python",
      "name": "python",
      "nbconvert_exporter": "python",
      "pygments_lexer": "ipython3",
      "version": "3.7.5"
    }
  },
  "cells": [
    {
      "cell_type": "markdown",
      "metadata": {
        "id": "view-in-github",
        "colab_type": "text"
      },
      "source": [
        "<a href=\"https://colab.research.google.com/github/dayeong089/web_scrapping/blob/main/Week4_Text_Data_Processing.ipynb\" target=\"_parent\"><img src=\"https://colab.research.google.com/assets/colab-badge.svg\" alt=\"Open In Colab\"/></a>"
      ]
    },
    {
      "cell_type": "markdown",
      "metadata": {
        "id": "XxaoPF2FoB7j"
      },
      "source": [
        "# Software Coaching for Python\n",
        "# Week 4: Text Data Processing"
      ]
    },
    {
      "cell_type": "markdown",
      "metadata": {
        "id": "DRIkFlyeoB7p"
      },
      "source": [
        "Instructor: Kang-Pyo Lee"
      ]
    },
    {
      "cell_type": "code",
      "metadata": {
        "id": "3GLAHQoApBMY",
        "colab": {
          "base_uri": "https://localhost:8080/"
        },
        "outputId": "decd9ef8-f415-4300-aa0f-6677743ecf79"
      },
      "source": [
        "from google.colab import drive\n",
        "\n",
        "drive.mount('/content/drive')\n",
        "path = \"/content/drive/My Drive/PythonCoaching\"\n",
        "my_folder = \"dayoung21\"     # *** REPLACE WITH YOUR FOLDER NAME ***\n",
        "outcome_folder = f\"{path}/{my_folder}/outcome\"\n",
        "classdata_folder = f\"{path}/classdata\""
      ],
      "execution_count": null,
      "outputs": [
        {
          "output_type": "stream",
          "name": "stdout",
          "text": [
            "Drive already mounted at /content/drive; to attempt to forcibly remount, call drive.mount(\"/content/drive\", force_remount=True).\n"
          ]
        }
      ]
    },
    {
      "cell_type": "markdown",
      "metadata": {
        "id": "ymIUXj3MUwqm"
      },
      "source": [
        "## Install packages"
      ]
    },
    {
      "cell_type": "code",
      "metadata": {
        "id": "Q6r18rdbUwqm",
        "colab": {
          "base_uri": "https://localhost:8080/"
        },
        "outputId": "b812ccaf-62fb-4656-ce82-eae9906bb828"
      },
      "source": [
        "! pip install --user nltk textblob"
      ],
      "execution_count": null,
      "outputs": [
        {
          "output_type": "stream",
          "name": "stdout",
          "text": [
            "Looking in indexes: https://pypi.org/simple, https://us-python.pkg.dev/colab-wheels/public/simple/\n",
            "Requirement already satisfied: nltk in /usr/local/lib/python3.8/dist-packages (3.7)\n",
            "Requirement already satisfied: textblob in /usr/local/lib/python3.8/dist-packages (0.15.3)\n",
            "Requirement already satisfied: joblib in /usr/local/lib/python3.8/dist-packages (from nltk) (1.2.0)\n",
            "Requirement already satisfied: tqdm in /usr/local/lib/python3.8/dist-packages (from nltk) (4.64.1)\n",
            "Requirement already satisfied: click in /usr/local/lib/python3.8/dist-packages (from nltk) (7.1.2)\n",
            "Requirement already satisfied: regex>=2021.8.3 in /usr/local/lib/python3.8/dist-packages (from nltk) (2022.6.2)\n"
          ]
        }
      ]
    },
    {
      "cell_type": "markdown",
      "metadata": {
        "id": "DC_18TUOUwqn"
      },
      "source": [
        "## Basic NLP Techniques Using NLTK"
      ]
    },
    {
      "cell_type": "code",
      "metadata": {
        "id": "Aci54tuFUwqn",
        "colab": {
          "base_uri": "https://localhost:8080/",
          "height": 36
        },
        "outputId": "363a80b3-d05c-4d9d-f152-ec036096b9ec"
      },
      "source": [
        "text = \"Some people did not think it was possible to produce a #COVID19 vaccine so quickly, but it was. Now some people say that vaccinating the world is not possible. They’re wrong. As Nelson Mandela, Madiba, said; it always seems impossible until it’s done.\"\n",
        "text"
      ],
      "execution_count": null,
      "outputs": [
        {
          "output_type": "execute_result",
          "data": {
            "text/plain": [
              "'Some people did not think it was possible to produce a #COVID19 vaccine so quickly, but it was. Now some people say that vaccinating the world is not possible. They’re wrong. As Nelson Mandela, Madiba, said; it always seems impossible until it’s done.'"
            ],
            "application/vnd.google.colaboratory.intrinsic+json": {
              "type": "string"
            }
          },
          "metadata": {},
          "execution_count": 96
        }
      ]
    },
    {
      "cell_type": "markdown",
      "metadata": {
        "id": "LoDlKlT8Uwqn"
      },
      "source": [
        "Suppose you would like to identify sentences in a string."
      ]
    },
    {
      "cell_type": "code",
      "metadata": {
        "id": "Gn_AiBwfUwqo",
        "colab": {
          "base_uri": "https://localhost:8080/"
        },
        "outputId": "8b4ca651-39ee-4598-c843-37cd6bbfbc96"
      },
      "source": [
        "text.split(\".\")"
      ],
      "execution_count": null,
      "outputs": [
        {
          "output_type": "execute_result",
          "data": {
            "text/plain": [
              "['Some people did not think it was possible to produce a #COVID19 vaccine so quickly, but it was',\n",
              " ' Now some people say that vaccinating the world is not possible',\n",
              " ' They’re wrong',\n",
              " ' As Nelson Mandela, Madiba, said; it always seems impossible until it’s done',\n",
              " '']"
            ]
          },
          "metadata": {},
          "execution_count": 97
        }
      ]
    },
    {
      "cell_type": "markdown",
      "metadata": {
        "id": "VJjh2p7vUwqo"
      },
      "source": [
        "Two problems with simply splitting a sentence with a period:\n",
        "- A sentence does not always end with a period. For example, it can also end with a question mark or an exclamation mark.\n",
        "- A period does not always mean completeness of a sentence, for emample, Ms., Dr., 3.14, etc."
      ]
    },
    {
      "cell_type": "markdown",
      "metadata": {
        "id": "A8JryvfXUwqo"
      },
      "source": [
        "Now suppose you would also like to identify words in a string."
      ]
    },
    {
      "cell_type": "code",
      "metadata": {
        "id": "hEviRyRCUwqo",
        "colab": {
          "base_uri": "https://localhost:8080/"
        },
        "outputId": "41911a5d-e03b-4947-cb9e-4902ad6fdca8"
      },
      "source": [
        "text.split(\" \")     # 'was.', 'possible.', 'wrong.', 'said;', 'done.'"
      ],
      "execution_count": null,
      "outputs": [
        {
          "output_type": "execute_result",
          "data": {
            "text/plain": [
              "['Some',\n",
              " 'people',\n",
              " 'did',\n",
              " 'not',\n",
              " 'think',\n",
              " 'it',\n",
              " 'was',\n",
              " 'possible',\n",
              " 'to',\n",
              " 'produce',\n",
              " 'a',\n",
              " '#COVID19',\n",
              " 'vaccine',\n",
              " 'so',\n",
              " 'quickly,',\n",
              " 'but',\n",
              " 'it',\n",
              " 'was.',\n",
              " 'Now',\n",
              " 'some',\n",
              " 'people',\n",
              " 'say',\n",
              " 'that',\n",
              " 'vaccinating',\n",
              " 'the',\n",
              " 'world',\n",
              " 'is',\n",
              " 'not',\n",
              " 'possible.',\n",
              " 'They’re',\n",
              " 'wrong.',\n",
              " 'As',\n",
              " 'Nelson',\n",
              " 'Mandela,',\n",
              " 'Madiba,',\n",
              " 'said;',\n",
              " 'it',\n",
              " 'always',\n",
              " 'seems',\n",
              " 'impossible',\n",
              " 'until',\n",
              " 'it’s',\n",
              " 'done.']"
            ]
          },
          "metadata": {},
          "execution_count": 98
        }
      ]
    },
    {
      "cell_type": "markdown",
      "metadata": {
        "id": "sxRCE2oUUwqp"
      },
      "source": [
        "Splitting text with a space works generally fine except that it cannot handle punctuation characters such as comma, period, and 's."
      ]
    },
    {
      "cell_type": "markdown",
      "metadata": {
        "id": "WicYqdoUUwqp"
      },
      "source": [
        "### Sentence Tokenization"
      ]
    },
    {
      "cell_type": "code",
      "metadata": {
        "id": "Y3rwfSqoUwqp",
        "colab": {
          "base_uri": "https://localhost:8080/"
        },
        "outputId": "b0a1bbc5-f8a4-47c3-e1a5-c703c37bcf7f"
      },
      "source": [
        "import nltk\n",
        "\n",
        "nltk.download(['punkt', 'averaged_perceptron_tagger', 'stopwords'])"
      ],
      "execution_count": null,
      "outputs": [
        {
          "output_type": "stream",
          "name": "stderr",
          "text": [
            "[nltk_data] Downloading package punkt to /root/nltk_data...\n",
            "[nltk_data]   Package punkt is already up-to-date!\n",
            "[nltk_data] Downloading package averaged_perceptron_tagger to\n",
            "[nltk_data]     /root/nltk_data...\n",
            "[nltk_data]   Package averaged_perceptron_tagger is already up-to-\n",
            "[nltk_data]       date!\n",
            "[nltk_data] Downloading package stopwords to /root/nltk_data...\n",
            "[nltk_data]   Package stopwords is already up-to-date!\n"
          ]
        },
        {
          "output_type": "execute_result",
          "data": {
            "text/plain": [
              "True"
            ]
          },
          "metadata": {},
          "execution_count": 99
        }
      ]
    },
    {
      "cell_type": "markdown",
      "metadata": {
        "id": "gunPzdzvUwqp"
      },
      "source": [
        "Natural Language Toolkit (NLTK): https://www.nltk.org/"
      ]
    },
    {
      "cell_type": "code",
      "metadata": {
        "id": "_g0isgEDUwqp",
        "colab": {
          "base_uri": "https://localhost:8080/"
        },
        "outputId": "93977acb-0b0e-4bb4-eabc-867ead83f139"
      },
      "source": [
        "sents = nltk.sent_tokenize(text)       # Tokenize text into sentences\n",
        "sents"
      ],
      "execution_count": null,
      "outputs": [
        {
          "output_type": "execute_result",
          "data": {
            "text/plain": [
              "['Some people did not think it was possible to produce a #COVID19 vaccine so quickly, but it was.',\n",
              " 'Now some people say that vaccinating the world is not possible.',\n",
              " 'They’re wrong.',\n",
              " 'As Nelson Mandela, Madiba, said; it always seems impossible until it’s done.']"
            ]
          },
          "metadata": {},
          "execution_count": 100
        }
      ]
    },
    {
      "cell_type": "code",
      "metadata": {
        "id": "V0uPQ64OUwqq",
        "colab": {
          "base_uri": "https://localhost:8080/"
        },
        "outputId": "f465c6ab-0f64-4dc4-c2b6-f85cca0770c6"
      },
      "source": [
        "len(sents)"
      ],
      "execution_count": null,
      "outputs": [
        {
          "output_type": "execute_result",
          "data": {
            "text/plain": [
              "4"
            ]
          },
          "metadata": {},
          "execution_count": 101
        }
      ]
    },
    {
      "cell_type": "markdown",
      "metadata": {
        "id": "G4XNCo72Uwqq"
      },
      "source": [
        "### Word Tokenization"
      ]
    },
    {
      "cell_type": "code",
      "metadata": {
        "id": "P_d9iohtUwqq",
        "colab": {
          "base_uri": "https://localhost:8080/"
        },
        "outputId": "8726704e-698e-4bfe-c71f-4681a045faac"
      },
      "source": [
        "words = nltk.word_tokenize(text)        # Tokenize text into words\n",
        "words"
      ],
      "execution_count": null,
      "outputs": [
        {
          "output_type": "execute_result",
          "data": {
            "text/plain": [
              "['Some',\n",
              " 'people',\n",
              " 'did',\n",
              " 'not',\n",
              " 'think',\n",
              " 'it',\n",
              " 'was',\n",
              " 'possible',\n",
              " 'to',\n",
              " 'produce',\n",
              " 'a',\n",
              " '#',\n",
              " 'COVID19',\n",
              " 'vaccine',\n",
              " 'so',\n",
              " 'quickly',\n",
              " ',',\n",
              " 'but',\n",
              " 'it',\n",
              " 'was',\n",
              " '.',\n",
              " 'Now',\n",
              " 'some',\n",
              " 'people',\n",
              " 'say',\n",
              " 'that',\n",
              " 'vaccinating',\n",
              " 'the',\n",
              " 'world',\n",
              " 'is',\n",
              " 'not',\n",
              " 'possible',\n",
              " '.',\n",
              " 'They',\n",
              " '’',\n",
              " 're',\n",
              " 'wrong',\n",
              " '.',\n",
              " 'As',\n",
              " 'Nelson',\n",
              " 'Mandela',\n",
              " ',',\n",
              " 'Madiba',\n",
              " ',',\n",
              " 'said',\n",
              " ';',\n",
              " 'it',\n",
              " 'always',\n",
              " 'seems',\n",
              " 'impossible',\n",
              " 'until',\n",
              " 'it',\n",
              " '’',\n",
              " 's',\n",
              " 'done',\n",
              " '.']"
            ]
          },
          "metadata": {},
          "execution_count": 102
        }
      ]
    },
    {
      "cell_type": "markdown",
      "metadata": {
        "id": "DdSZw0uFUwqq"
      },
      "source": [
        "Note that each punctuation character is also treated as a token."
      ]
    },
    {
      "cell_type": "code",
      "metadata": {
        "id": "PSlKTwzmUwqr",
        "colab": {
          "base_uri": "https://localhost:8080/"
        },
        "outputId": "949d19bf-e335-44cd-947f-fcc4842f9de6"
      },
      "source": [
        "len(words)"
      ],
      "execution_count": null,
      "outputs": [
        {
          "output_type": "execute_result",
          "data": {
            "text/plain": [
              "56"
            ]
          },
          "metadata": {},
          "execution_count": 103
        }
      ]
    },
    {
      "cell_type": "markdown",
      "metadata": {
        "id": "SQRgfT3lUwqr"
      },
      "source": [
        "### Part-of-Speech (PoS) Tagging - 형태소 분석"
      ]
    },
    {
      "cell_type": "markdown",
      "metadata": {
        "id": "NjDZCeFTUwqr"
      },
      "source": [
        "Part-of-speech tagging is the process of marking up a word in a text (corpus) as corresponding to a particular part of speech. A simplified form of this is commonly taught to school-age children, in the identification of words as nouns, verbs, adjectives, adverbs, etc."
      ]
    },
    {
      "cell_type": "markdown",
      "metadata": {
        "id": "4830-3wCUwqr"
      },
      "source": [
        "Part-of-speech tagging on Wikipedia: https://en.wikipedia.org/wiki/Part-of-speech_tagging"
      ]
    },
    {
      "cell_type": "code",
      "metadata": {
        "id": "tKcytDsmUwqr",
        "colab": {
          "base_uri": "https://localhost:8080/"
        },
        "outputId": "f3e9355e-d7bf-4c00-a25d-71595a4b217a"
      },
      "source": [
        "tagged_words = nltk.pos_tag(words)          # Tag each word with their part-of-speech tag .. tokenize된 word리스트를 보내야함\n",
        "tagged_words"
      ],
      "execution_count": null,
      "outputs": [
        {
          "output_type": "execute_result",
          "data": {
            "text/plain": [
              "[('Some', 'DT'),\n",
              " ('people', 'NNS'),\n",
              " ('did', 'VBD'),\n",
              " ('not', 'RB'),\n",
              " ('think', 'VB'),\n",
              " ('it', 'PRP'),\n",
              " ('was', 'VBD'),\n",
              " ('possible', 'JJ'),\n",
              " ('to', 'TO'),\n",
              " ('produce', 'VB'),\n",
              " ('a', 'DT'),\n",
              " ('#', '#'),\n",
              " ('COVID19', 'NNP'),\n",
              " ('vaccine', 'NN'),\n",
              " ('so', 'RB'),\n",
              " ('quickly', 'RB'),\n",
              " (',', ','),\n",
              " ('but', 'CC'),\n",
              " ('it', 'PRP'),\n",
              " ('was', 'VBD'),\n",
              " ('.', '.'),\n",
              " ('Now', 'RB'),\n",
              " ('some', 'DT'),\n",
              " ('people', 'NNS'),\n",
              " ('say', 'VBP'),\n",
              " ('that', 'IN'),\n",
              " ('vaccinating', 'VBG'),\n",
              " ('the', 'DT'),\n",
              " ('world', 'NN'),\n",
              " ('is', 'VBZ'),\n",
              " ('not', 'RB'),\n",
              " ('possible', 'JJ'),\n",
              " ('.', '.'),\n",
              " ('They', 'PRP'),\n",
              " ('’', 'VBP'),\n",
              " ('re', 'JJ'),\n",
              " ('wrong', 'JJ'),\n",
              " ('.', '.'),\n",
              " ('As', 'IN'),\n",
              " ('Nelson', 'NNP'),\n",
              " ('Mandela', 'NNP'),\n",
              " (',', ','),\n",
              " ('Madiba', 'NNP'),\n",
              " (',', ','),\n",
              " ('said', 'VBD'),\n",
              " (';', ':'),\n",
              " ('it', 'PRP'),\n",
              " ('always', 'RB'),\n",
              " ('seems', 'VBZ'),\n",
              " ('impossible', 'JJ'),\n",
              " ('until', 'IN'),\n",
              " ('it', 'PRP'),\n",
              " ('’', 'VBZ'),\n",
              " ('s', 'JJ'),\n",
              " ('done', 'VBN'),\n",
              " ('.', '.')]"
            ]
          },
          "metadata": {},
          "execution_count": 104
        }
      ]
    },
    {
      "cell_type": "markdown",
      "metadata": {
        "id": "t3GCPa-vUwqr"
      },
      "source": [
        "Note that the argument of <b>pos_tag</b> function is a list of words, not raw text."
      ]
    },
    {
      "cell_type": "markdown",
      "metadata": {
        "id": "2g7R8_wlUwqs"
      },
      "source": [
        "Penn Part of Speech Tags: https://cs.nyu.edu/grishman/jet/guide/PennPOS.html"
      ]
    },
    {
      "cell_type": "code",
      "metadata": {
        "id": "CZzI6JX3Uwqs",
        "colab": {
          "base_uri": "https://localhost:8080/"
        },
        "outputId": "03f2508b-6950-482f-cc73-4a81c580cdfb"
      },
      "source": [
        "[word for word, tag in tagged_words if tag in [\"NN\", \"NNS\"]]   # Noun, singular or mass; Noun, plural"
      ],
      "execution_count": null,
      "outputs": [
        {
          "output_type": "execute_result",
          "data": {
            "text/plain": [
              "['people', 'vaccine', 'people', 'world']"
            ]
          },
          "metadata": {},
          "execution_count": 105
        }
      ]
    },
    {
      "cell_type": "code",
      "metadata": {
        "id": "4Jxb5XYbUwqs",
        "colab": {
          "base_uri": "https://localhost:8080/"
        },
        "outputId": "aa0f5905-9d38-4e96-8e03-60f8d5bdb868"
      },
      "source": [
        "[word for word, tag in tagged_words if tag in [\"NNP\", \"NNPS\"]]  # Proper noun, singular; Proper noun, plural"
      ],
      "execution_count": null,
      "outputs": [
        {
          "output_type": "execute_result",
          "data": {
            "text/plain": [
              "['COVID19', 'Nelson', 'Mandela', 'Madiba']"
            ]
          },
          "metadata": {},
          "execution_count": 106
        }
      ]
    },
    {
      "cell_type": "code",
      "metadata": {
        "id": "kNxnkv-hUwqs",
        "colab": {
          "base_uri": "https://localhost:8080/"
        },
        "outputId": "ce3b10f2-373a-4018-ba4a-27954371305b"
      },
      "source": [
        "[word for word, tag in tagged_words if tag.startswith(\"NN\")] # 모든 명사 집합"
      ],
      "execution_count": null,
      "outputs": [
        {
          "output_type": "execute_result",
          "data": {
            "text/plain": [
              "['people',\n",
              " 'COVID19',\n",
              " 'vaccine',\n",
              " 'people',\n",
              " 'world',\n",
              " 'Nelson',\n",
              " 'Mandela',\n",
              " 'Madiba']"
            ]
          },
          "metadata": {},
          "execution_count": 107
        }
      ]
    },
    {
      "cell_type": "code",
      "metadata": {
        "id": "osGgPvkqUwqs",
        "colab": {
          "base_uri": "https://localhost:8080/"
        },
        "outputId": "09d64ae3-a90b-4724-bef6-7856475d5ad8"
      },
      "source": [
        "[word for word, tag in tagged_words if tag.startswith(\"JJ\")] # 모든 형용사 집합"
      ],
      "execution_count": null,
      "outputs": [
        {
          "output_type": "execute_result",
          "data": {
            "text/plain": [
              "['possible', 'possible', 're', 'wrong', 'impossible', 's']"
            ]
          },
          "metadata": {},
          "execution_count": 108
        }
      ]
    },
    {
      "cell_type": "code",
      "metadata": {
        "id": "3mN7CvZ6Uwqt",
        "colab": {
          "base_uri": "https://localhost:8080/"
        },
        "outputId": "13e75e9d-19de-429f-bba7-8e374eb31617"
      },
      "source": [
        "[word for word, tag in tagged_words if tag.startswith(\"VB\")] # 모든 동사 집합"
      ],
      "execution_count": null,
      "outputs": [
        {
          "output_type": "execute_result",
          "data": {
            "text/plain": [
              "['did',\n",
              " 'think',\n",
              " 'was',\n",
              " 'produce',\n",
              " 'was',\n",
              " 'say',\n",
              " 'vaccinating',\n",
              " 'is',\n",
              " '’',\n",
              " 'said',\n",
              " 'seems',\n",
              " '’',\n",
              " 'done']"
            ]
          },
          "metadata": {},
          "execution_count": 109
        }
      ]
    },
    {
      "cell_type": "markdown",
      "metadata": {
        "id": "bGDEDiroUwqt"
      },
      "source": [
        "### Stemming .. 뿌리를 찾는것"
      ]
    },
    {
      "cell_type": "markdown",
      "metadata": {
        "id": "Ktwv6K5HUwqt"
      },
      "source": [
        "Stemming is the process of reducing inflected (or sometimes derived) words to their word stem, base or root form.\n",
        "\n",
        "A computer program or subroutine that stems word may be called a stemming program, stemming algorithm, or stemmer."
      ]
    },
    {
      "cell_type": "markdown",
      "metadata": {
        "id": "SbfYen64Uwqt"
      },
      "source": [
        "Stemming on Wikipedia: https://en.wikipedia.org/wiki/Stemming"
      ]
    },
    {
      "cell_type": "code",
      "metadata": {
        "id": "aDXvDhMRUwqt"
      },
      "source": [
        "stemmer = nltk.stem.SnowballStemmer(\"english\")"
      ],
      "execution_count": null,
      "outputs": []
    },
    {
      "cell_type": "code",
      "metadata": {
        "id": "FuaE-j9iUwqt",
        "colab": {
          "base_uri": "https://localhost:8080/",
          "height": 36
        },
        "outputId": "8cf843ab-c32b-4ca9-e764-18b26bb2e08b"
      },
      "source": [
        "stemmer.stem(\"car\")"
      ],
      "execution_count": null,
      "outputs": [
        {
          "output_type": "execute_result",
          "data": {
            "text/plain": [
              "'car'"
            ],
            "application/vnd.google.colaboratory.intrinsic+json": {
              "type": "string"
            }
          },
          "metadata": {},
          "execution_count": 111
        }
      ]
    },
    {
      "cell_type": "code",
      "metadata": {
        "id": "AEF8o2n4Uwqu",
        "colab": {
          "base_uri": "https://localhost:8080/",
          "height": 36
        },
        "outputId": "3c902e35-69f0-4206-e12c-cc6dd386b02a"
      },
      "source": [
        "stemmer.stem(\"cars\")"
      ],
      "execution_count": null,
      "outputs": [
        {
          "output_type": "execute_result",
          "data": {
            "text/plain": [
              "'car'"
            ],
            "application/vnd.google.colaboratory.intrinsic+json": {
              "type": "string"
            }
          },
          "metadata": {},
          "execution_count": 112
        }
      ]
    },
    {
      "cell_type": "code",
      "metadata": {
        "id": "Dw5RZBFaUwqu",
        "colab": {
          "base_uri": "https://localhost:8080/",
          "height": 36
        },
        "outputId": "73d9a248-4da8-4b6c-d4e6-b9b033a7d5fc"
      },
      "source": [
        "stemmer.stem(\"say\")"
      ],
      "execution_count": null,
      "outputs": [
        {
          "output_type": "execute_result",
          "data": {
            "text/plain": [
              "'say'"
            ],
            "application/vnd.google.colaboratory.intrinsic+json": {
              "type": "string"
            }
          },
          "metadata": {},
          "execution_count": 113
        }
      ]
    },
    {
      "cell_type": "code",
      "metadata": {
        "id": "PYoWbwa7Uwqu",
        "colab": {
          "base_uri": "https://localhost:8080/",
          "height": 36
        },
        "outputId": "efe6e051-b9ee-4f85-ecc0-5f24133e30e1"
      },
      "source": [
        "stemmer.stem(\"saying\")"
      ],
      "execution_count": null,
      "outputs": [
        {
          "output_type": "execute_result",
          "data": {
            "text/plain": [
              "'say'"
            ],
            "application/vnd.google.colaboratory.intrinsic+json": {
              "type": "string"
            }
          },
          "metadata": {},
          "execution_count": 114
        }
      ]
    },
    {
      "cell_type": "code",
      "metadata": {
        "id": "yE7YkAgUUwqu",
        "colab": {
          "base_uri": "https://localhost:8080/",
          "height": 36
        },
        "outputId": "0b56dd17-b523-490f-e026-118b63f2b67c"
      },
      "source": [
        "stemmer.stem(\"said\")"
      ],
      "execution_count": null,
      "outputs": [
        {
          "output_type": "execute_result",
          "data": {
            "text/plain": [
              "'said'"
            ],
            "application/vnd.google.colaboratory.intrinsic+json": {
              "type": "string"
            }
          },
          "metadata": {},
          "execution_count": 115
        }
      ]
    },
    {
      "cell_type": "code",
      "metadata": {
        "id": "r8JE-ZWbUwqu",
        "colab": {
          "base_uri": "https://localhost:8080/"
        },
        "outputId": "3424ae3c-f7c7-4ff2-c91a-4461cf51ea70"
      },
      "source": [
        "[(word, stemmer.stem(word)) for word in words]"
      ],
      "execution_count": null,
      "outputs": [
        {
          "output_type": "execute_result",
          "data": {
            "text/plain": [
              "[('Some', 'some'),\n",
              " ('people', 'peopl'),\n",
              " ('did', 'did'),\n",
              " ('not', 'not'),\n",
              " ('think', 'think'),\n",
              " ('it', 'it'),\n",
              " ('was', 'was'),\n",
              " ('possible', 'possibl'),\n",
              " ('to', 'to'),\n",
              " ('produce', 'produc'),\n",
              " ('a', 'a'),\n",
              " ('#', '#'),\n",
              " ('COVID19', 'covid19'),\n",
              " ('vaccine', 'vaccin'),\n",
              " ('so', 'so'),\n",
              " ('quickly', 'quick'),\n",
              " (',', ','),\n",
              " ('but', 'but'),\n",
              " ('it', 'it'),\n",
              " ('was', 'was'),\n",
              " ('.', '.'),\n",
              " ('Now', 'now'),\n",
              " ('some', 'some'),\n",
              " ('people', 'peopl'),\n",
              " ('say', 'say'),\n",
              " ('that', 'that'),\n",
              " ('vaccinating', 'vaccin'),\n",
              " ('the', 'the'),\n",
              " ('world', 'world'),\n",
              " ('is', 'is'),\n",
              " ('not', 'not'),\n",
              " ('possible', 'possibl'),\n",
              " ('.', '.'),\n",
              " ('They', 'they'),\n",
              " ('’', '’'),\n",
              " ('re', 're'),\n",
              " ('wrong', 'wrong'),\n",
              " ('.', '.'),\n",
              " ('As', 'as'),\n",
              " ('Nelson', 'nelson'),\n",
              " ('Mandela', 'mandela'),\n",
              " (',', ','),\n",
              " ('Madiba', 'madiba'),\n",
              " (',', ','),\n",
              " ('said', 'said'),\n",
              " (';', ';'),\n",
              " ('it', 'it'),\n",
              " ('always', 'alway'),\n",
              " ('seems', 'seem'),\n",
              " ('impossible', 'imposs'),\n",
              " ('until', 'until'),\n",
              " ('it', 'it'),\n",
              " ('’', '’'),\n",
              " ('s', 's'),\n",
              " ('done', 'done'),\n",
              " ('.', '.')]"
            ]
          },
          "metadata": {},
          "execution_count": 116
        }
      ]
    },
    {
      "cell_type": "markdown",
      "metadata": {
        "id": "xv5lswMaUwqu"
      },
      "source": [
        "### N-grams"
      ]
    },
    {
      "cell_type": "markdown",
      "metadata": {
        "id": "--5SqhC0Uwqu"
      },
      "source": [
        "An n-gram is a contiguous sequence of n items from a given sample of text or speech. The items can be phonemes, syllables, letters, words or base pairs according to the application.\n",
        "\n",
        "Using Latin numerical prefixes, an n-gram of size 1 is referred to as a \"unigram\"; size 2 is a \"bigram\"; size 3 is a \"trigram\"."
      ]
    },
    {
      "cell_type": "markdown",
      "metadata": {
        "id": "ft92ruGbUwqv"
      },
      "source": [
        "N-gram on Wikipedia: https://en.wikipedia.org/wiki/N-gram"
      ]
    },
    {
      "cell_type": "code",
      "metadata": {
        "id": "5N_TAfZnUwqv",
        "colab": {
          "base_uri": "https://localhost:8080/",
          "height": 597
        },
        "outputId": "aa8e5a17-833c-44d3-9bab-f5bd1f6db2d8"
      },
      "source": [
        "from IPython.display import Image\n",
        "Image(f\"{classdata_folder}/images/ngram.png\")"
      ],
      "execution_count": null,
      "outputs": [
        {
          "output_type": "execute_result",
          "data": {
            "image/png": "[encoded data removed]",
            "text/plain": [
              "<IPython.core.display.Image object>"
            ]
          },
          "metadata": {},
          "execution_count": 117
        }
      ]
    },
    {
      "cell_type": "markdown",
      "metadata": {
        "id": "M0_lVooEUwqv"
      },
      "source": [
        "N-gram models are known to be effective in capturing phrases of multiple words."
      ]
    },
    {
      "cell_type": "code",
      "metadata": {
        "id": "rLZWY_x6Uwqv"
      },
      "source": [
        "from nltk.util import ngrams"
      ],
      "execution_count": null,
      "outputs": []
    },
    {
      "cell_type": "code",
      "metadata": {
        "id": "_dMpDnCqUwqv",
        "colab": {
          "base_uri": "https://localhost:8080/"
        },
        "outputId": "067252cd-c439-4f96-dda0-a86039ce8aaf"
      },
      "source": [
        "ngrams(words, 1)"
      ],
      "execution_count": null,
      "outputs": [
        {
          "output_type": "execute_result",
          "data": {
            "text/plain": [
              "<zip at 0x7fe3be447400>"
            ]
          },
          "metadata": {},
          "execution_count": 119
        }
      ]
    },
    {
      "cell_type": "code",
      "metadata": {
        "id": "rWogUPvKUwqv",
        "scrolled": false,
        "colab": {
          "base_uri": "https://localhost:8080/"
        },
        "outputId": "c5cfa0f9-660a-48dd-f89a-073a7fe3537c"
      },
      "source": [
        "list(ngrams(words, 1))"
      ],
      "execution_count": null,
      "outputs": [
        {
          "output_type": "execute_result",
          "data": {
            "text/plain": [
              "[('Some',),\n",
              " ('people',),\n",
              " ('did',),\n",
              " ('not',),\n",
              " ('think',),\n",
              " ('it',),\n",
              " ('was',),\n",
              " ('possible',),\n",
              " ('to',),\n",
              " ('produce',),\n",
              " ('a',),\n",
              " ('#',),\n",
              " ('COVID19',),\n",
              " ('vaccine',),\n",
              " ('so',),\n",
              " ('quickly',),\n",
              " (',',),\n",
              " ('but',),\n",
              " ('it',),\n",
              " ('was',),\n",
              " ('.',),\n",
              " ('Now',),\n",
              " ('some',),\n",
              " ('people',),\n",
              " ('say',),\n",
              " ('that',),\n",
              " ('vaccinating',),\n",
              " ('the',),\n",
              " ('world',),\n",
              " ('is',),\n",
              " ('not',),\n",
              " ('possible',),\n",
              " ('.',),\n",
              " ('They',),\n",
              " ('’',),\n",
              " ('re',),\n",
              " ('wrong',),\n",
              " ('.',),\n",
              " ('As',),\n",
              " ('Nelson',),\n",
              " ('Mandela',),\n",
              " (',',),\n",
              " ('Madiba',),\n",
              " (',',),\n",
              " ('said',),\n",
              " (';',),\n",
              " ('it',),\n",
              " ('always',),\n",
              " ('seems',),\n",
              " ('impossible',),\n",
              " ('until',),\n",
              " ('it',),\n",
              " ('’',),\n",
              " ('s',),\n",
              " ('done',),\n",
              " ('.',)]"
            ]
          },
          "metadata": {},
          "execution_count": 120
        }
      ]
    },
    {
      "cell_type": "markdown",
      "metadata": {
        "id": "aB8labGuUwqw"
      },
      "source": [
        "Unigrams are practically the same as word tokens."
      ]
    },
    {
      "cell_type": "code",
      "metadata": {
        "id": "KTrsG9h5Uwqw",
        "colab": {
          "base_uri": "https://localhost:8080/"
        },
        "outputId": "90e0ea28-d04b-4cda-8f33-fdebd512109f"
      },
      "source": [
        "list(ngrams(words, 2))"
      ],
      "execution_count": null,
      "outputs": [
        {
          "output_type": "execute_result",
          "data": {
            "text/plain": [
              "[('Some', 'people'),\n",
              " ('people', 'did'),\n",
              " ('did', 'not'),\n",
              " ('not', 'think'),\n",
              " ('think', 'it'),\n",
              " ('it', 'was'),\n",
              " ('was', 'possible'),\n",
              " ('possible', 'to'),\n",
              " ('to', 'produce'),\n",
              " ('produce', 'a'),\n",
              " ('a', '#'),\n",
              " ('#', 'COVID19'),\n",
              " ('COVID19', 'vaccine'),\n",
              " ('vaccine', 'so'),\n",
              " ('so', 'quickly'),\n",
              " ('quickly', ','),\n",
              " (',', 'but'),\n",
              " ('but', 'it'),\n",
              " ('it', 'was'),\n",
              " ('was', '.'),\n",
              " ('.', 'Now'),\n",
              " ('Now', 'some'),\n",
              " ('some', 'people'),\n",
              " ('people', 'say'),\n",
              " ('say', 'that'),\n",
              " ('that', 'vaccinating'),\n",
              " ('vaccinating', 'the'),\n",
              " ('the', 'world'),\n",
              " ('world', 'is'),\n",
              " ('is', 'not'),\n",
              " ('not', 'possible'),\n",
              " ('possible', '.'),\n",
              " ('.', 'They'),\n",
              " ('They', '’'),\n",
              " ('’', 're'),\n",
              " ('re', 'wrong'),\n",
              " ('wrong', '.'),\n",
              " ('.', 'As'),\n",
              " ('As', 'Nelson'),\n",
              " ('Nelson', 'Mandela'),\n",
              " ('Mandela', ','),\n",
              " (',', 'Madiba'),\n",
              " ('Madiba', ','),\n",
              " (',', 'said'),\n",
              " ('said', ';'),\n",
              " (';', 'it'),\n",
              " ('it', 'always'),\n",
              " ('always', 'seems'),\n",
              " ('seems', 'impossible'),\n",
              " ('impossible', 'until'),\n",
              " ('until', 'it'),\n",
              " ('it', '’'),\n",
              " ('’', 's'),\n",
              " ('s', 'done'),\n",
              " ('done', '.')]"
            ]
          },
          "metadata": {},
          "execution_count": 121
        }
      ]
    },
    {
      "cell_type": "code",
      "metadata": {
        "id": "bu_Xv_jSUwqw",
        "colab": {
          "base_uri": "https://localhost:8080/"
        },
        "outputId": "652054ee-66c9-4e5c-d201-3baaf8d1066a"
      },
      "source": [
        "[\" \".join(gram) for gram in ngrams(words, 2)] # nelson mandela처럼 의미있는 phrase를 찾기 위해서"
      ],
      "execution_count": null,
      "outputs": [
        {
          "output_type": "execute_result",
          "data": {
            "text/plain": [
              "['Some people',\n",
              " 'people did',\n",
              " 'did not',\n",
              " 'not think',\n",
              " 'think it',\n",
              " 'it was',\n",
              " 'was possible',\n",
              " 'possible to',\n",
              " 'to produce',\n",
              " 'produce a',\n",
              " 'a #',\n",
              " '# COVID19',\n",
              " 'COVID19 vaccine',\n",
              " 'vaccine so',\n",
              " 'so quickly',\n",
              " 'quickly ,',\n",
              " ', but',\n",
              " 'but it',\n",
              " 'it was',\n",
              " 'was .',\n",
              " '. Now',\n",
              " 'Now some',\n",
              " 'some people',\n",
              " 'people say',\n",
              " 'say that',\n",
              " 'that vaccinating',\n",
              " 'vaccinating the',\n",
              " 'the world',\n",
              " 'world is',\n",
              " 'is not',\n",
              " 'not possible',\n",
              " 'possible .',\n",
              " '. They',\n",
              " 'They ’',\n",
              " '’ re',\n",
              " 're wrong',\n",
              " 'wrong .',\n",
              " '. As',\n",
              " 'As Nelson',\n",
              " 'Nelson Mandela',\n",
              " 'Mandela ,',\n",
              " ', Madiba',\n",
              " 'Madiba ,',\n",
              " ', said',\n",
              " 'said ;',\n",
              " '; it',\n",
              " 'it always',\n",
              " 'always seems',\n",
              " 'seems impossible',\n",
              " 'impossible until',\n",
              " 'until it',\n",
              " 'it ’',\n",
              " '’ s',\n",
              " 's done',\n",
              " 'done .']"
            ]
          },
          "metadata": {},
          "execution_count": 122
        }
      ]
    },
    {
      "cell_type": "code",
      "metadata": {
        "id": "hSGQIF2-Uwqw",
        "scrolled": false,
        "colab": {
          "base_uri": "https://localhost:8080/"
        },
        "outputId": "d2b72de1-dcf1-4bea-c0eb-9f593826b389"
      },
      "source": [
        "[\" \".join(gram) for gram in ngrams(words, 3)] # 노이즈가 많음 .. 원하는 결과가 아닌 값들이 너무 많음"
      ],
      "execution_count": null,
      "outputs": [
        {
          "output_type": "execute_result",
          "data": {
            "text/plain": [
              "['Some people did',\n",
              " 'people did not',\n",
              " 'did not think',\n",
              " 'not think it',\n",
              " 'think it was',\n",
              " 'it was possible',\n",
              " 'was possible to',\n",
              " 'possible to produce',\n",
              " 'to produce a',\n",
              " 'produce a #',\n",
              " 'a # COVID19',\n",
              " '# COVID19 vaccine',\n",
              " 'COVID19 vaccine so',\n",
              " 'vaccine so quickly',\n",
              " 'so quickly ,',\n",
              " 'quickly , but',\n",
              " ', but it',\n",
              " 'but it was',\n",
              " 'it was .',\n",
              " 'was . Now',\n",
              " '. Now some',\n",
              " 'Now some people',\n",
              " 'some people say',\n",
              " 'people say that',\n",
              " 'say that vaccinating',\n",
              " 'that vaccinating the',\n",
              " 'vaccinating the world',\n",
              " 'the world is',\n",
              " 'world is not',\n",
              " 'is not possible',\n",
              " 'not possible .',\n",
              " 'possible . They',\n",
              " '. They ’',\n",
              " 'They ’ re',\n",
              " '’ re wrong',\n",
              " 're wrong .',\n",
              " 'wrong . As',\n",
              " '. As Nelson',\n",
              " 'As Nelson Mandela',\n",
              " 'Nelson Mandela ,',\n",
              " 'Mandela , Madiba',\n",
              " ', Madiba ,',\n",
              " 'Madiba , said',\n",
              " ', said ;',\n",
              " 'said ; it',\n",
              " '; it always',\n",
              " 'it always seems',\n",
              " 'always seems impossible',\n",
              " 'seems impossible until',\n",
              " 'impossible until it',\n",
              " 'until it ’',\n",
              " 'it ’ s',\n",
              " '’ s done',\n",
              " 's done .']"
            ]
          },
          "metadata": {},
          "execution_count": 123
        }
      ]
    },
    {
      "cell_type": "markdown",
      "metadata": {
        "id": "TjRkYgdzUwqw"
      },
      "source": [
        "Note that while n-grams are able to capture meaningful phrases in text, they may generate much noise."
      ]
    },
    {
      "cell_type": "markdown",
      "metadata": {
        "id": "FwiFN39dUwqw"
      },
      "source": [
        "## NLP Techniques Using TextBlob - 감정분석 .. 기업/정책 등에 대한 사람의 반응을 분석하기 위해(특히 긍정, 부정 두가지 반응이 혼재되어 있는 경우/이중부정(하지 않은건 아니야)/반어법)"
      ]
    },
    {
      "cell_type": "markdown",
      "metadata": {
        "id": "q1J343GiUwqw"
      },
      "source": [
        "TextBlob: https://textblob.readthedocs.io/"
      ]
    },
    {
      "cell_type": "code",
      "metadata": {
        "id": "nK1V3JsVUwqx"
      },
      "source": [
        "from textblob import TextBlob"
      ],
      "execution_count": null,
      "outputs": []
    },
    {
      "cell_type": "markdown",
      "metadata": {
        "id": "VSATjLC4Uwqx"
      },
      "source": [
        "### Sentiment Analysis"
      ]
    },
    {
      "cell_type": "code",
      "metadata": {
        "id": "S2ZOHg68Uwqx",
        "colab": {
          "base_uri": "https://localhost:8080/",
          "height": 638
        },
        "outputId": "8c19f8af-ed1a-4d00-fe9a-cc6ea9d3fe8c"
      },
      "source": [
        "Image(f\"{classdata_folder}/images/sentiment_analysis.png\") # polarity : 많은 경우에 점수를 줌 (긍정, 부정 정해서 주지 않고)"
      ],
      "execution_count": null,
      "outputs": [
        {
          "output_type": "execute_result",
          "data": {
            "image/png": "[encoded data removed]",
            "text/plain": [
              "<IPython.core.display.Image object>"
            ]
          },
          "metadata": {},
          "execution_count": 125
        }
      ]
    },
    {
      "cell_type": "code",
      "metadata": {
        "id": "oAch9XYYUwqx"
      },
      "source": [
        "text = \"It's just awesome!\""
      ],
      "execution_count": null,
      "outputs": []
    },
    {
      "cell_type": "code",
      "metadata": {
        "id": "bI8V3G2wUwqx"
      },
      "source": [
        "tb = TextBlob(text)"
      ],
      "execution_count": null,
      "outputs": []
    },
    {
      "cell_type": "code",
      "metadata": {
        "id": "0PZnsAhjUwqx",
        "colab": {
          "base_uri": "https://localhost:8080/"
        },
        "outputId": "92881a8b-f998-4936-e6bb-b69dd734f427"
      },
      "source": [
        "tb.sentiment # named tuple"
      ],
      "execution_count": null,
      "outputs": [
        {
          "output_type": "execute_result",
          "data": {
            "text/plain": [
              "Sentiment(polarity=1.0, subjectivity=1.0)"
            ]
          },
          "metadata": {},
          "execution_count": 128
        }
      ]
    },
    {
      "cell_type": "code",
      "metadata": {
        "id": "dEgBSkoxUwqx",
        "scrolled": true,
        "colab": {
          "base_uri": "https://localhost:8080/"
        },
        "outputId": "e5fa2d8c-3ade-4182-f8b5-09896a1d5267"
      },
      "source": [
        "tb.sentiment.polarity"
      ],
      "execution_count": null,
      "outputs": [
        {
          "output_type": "execute_result",
          "data": {
            "text/plain": [
              "1.0"
            ]
          },
          "metadata": {},
          "execution_count": 129
        }
      ]
    },
    {
      "cell_type": "code",
      "metadata": {
        "id": "RQNIdAe5Uwqy",
        "colab": {
          "base_uri": "https://localhost:8080/"
        },
        "outputId": "bd0acce9-e876-4021-9f60-c4ad69d08144"
      },
      "source": [
        "tb.sentiment.subjectivity"
      ],
      "execution_count": null,
      "outputs": [
        {
          "output_type": "execute_result",
          "data": {
            "text/plain": [
              "1.0"
            ]
          },
          "metadata": {},
          "execution_count": 130
        }
      ]
    },
    {
      "cell_type": "code",
      "metadata": {
        "id": "0wYhJhxGUwqy"
      },
      "source": [
        "text = \"It's Friday.\""
      ],
      "execution_count": null,
      "outputs": []
    },
    {
      "cell_type": "code",
      "metadata": {
        "id": "v32wYLcSUwqy",
        "colab": {
          "base_uri": "https://localhost:8080/"
        },
        "outputId": "2dd108ed-1d09-49a9-e3d9-d6195440ee1c"
      },
      "source": [
        "tb = TextBlob(text)\n",
        "tb.sentiment"
      ],
      "execution_count": null,
      "outputs": [
        {
          "output_type": "execute_result",
          "data": {
            "text/plain": [
              "Sentiment(polarity=0.0, subjectivity=0.0)"
            ]
          },
          "metadata": {},
          "execution_count": 132
        }
      ]
    },
    {
      "cell_type": "code",
      "metadata": {
        "id": "mU0zimi-Uwqy",
        "colab": {
          "base_uri": "https://localhost:8080/"
        },
        "outputId": "ba8b2ae3-dc4a-4958-b5f1-6e433738e449"
      },
      "source": [
        "text = \"I don't like it\"\n",
        "tb = TextBlob(text)\n",
        "tb.sentiment"
      ],
      "execution_count": null,
      "outputs": [
        {
          "output_type": "execute_result",
          "data": {
            "text/plain": [
              "Sentiment(polarity=0.0, subjectivity=0.0)"
            ]
          },
          "metadata": {},
          "execution_count": 133
        }
      ]
    },
    {
      "cell_type": "markdown",
      "metadata": {
        "id": "83zKvn9yUwqy"
      },
      "source": [
        "## Loading Data"
      ]
    },
    {
      "cell_type": "code",
      "metadata": {
        "id": "wHT9wo33aoP1"
      },
      "source": [
        "# urls = [\"https://fivethirtyeight.com/features/\"]\n",
        "\n",
        "# for i in range(2, 151):\n",
        "#     url = f\"https://fivethirtyeight.com/features/page/{i}/\"\n",
        "#     urls.append(url)\n",
        "\n",
        "# import requests\n",
        "# from bs4 import BeautifulSoup\n",
        "# import time\n",
        "\n",
        "# for url in urls:\n",
        "#     print(url)\n",
        "\n",
        "#     ####################################################\n",
        "#     # Get the content of a page\n",
        "#     ####################################################\n",
        "#     r = requests.get(url)\n",
        "#     soup = BeautifulSoup(r.content, \"html.parser\")\n",
        "\n",
        "#     ####################################################\n",
        "#     # Get the list of articles\n",
        "#     ####################################################\n",
        "#     h2_list = soup.find_all(\"h2\", {\"class\": \"article-title entry-title\"})\n",
        "\n",
        "#     for h2 in h2_list:\n",
        "#         ####################################################\n",
        "#         # Find the anchor tag\n",
        "#         ####################################################\n",
        "#         a = h2.find(\"a\")\n",
        "\n",
        "#         ####################################################\n",
        "#         # Extract the title & URL of an article\n",
        "#         ####################################################\n",
        "#         title = a.text\n",
        "#         article_url = a[\"href\"]\n",
        "\n",
        "#         ####################################################\n",
        "#         # Fetch the content and save it as an HTML file\n",
        "#         ####################################################\n",
        "#         print(\"- \" + article_url + \": processing...\")\n",
        "\n",
        "#         r2 = requests.get(article_url)\n",
        "\n",
        "#         if \"/features/\" in article_url:\n",
        "#           file_name = article_url[len(\"https://fivethirtyeight.com/features/\"):-1] + \".html\"\n",
        "#         elif \"/videos/\" in article_url:\n",
        "#           file_name = article_url[len(\"https://fivethirtyeight.com/videos/\"):-1] + \".html\"\n",
        "#         elif \"/methodology/\" in article_url:\n",
        "#           file_name = article_url[len(\"https://fivethirtyeight.com/methodology/\"):-1] + \".html\"\n",
        "#         elif \"/live-blog/\" in article_url:\n",
        "#           file_name = article_url[len(\"https://fivethirtyeight.com/live-blog/\"):-1] + \".html\"\n",
        "#         else:\n",
        "#           assert 0 == 1, \"Unknown article url pattern!\"\n",
        "\n",
        "#         with open(f\"{outcome_folder}/HTMLs/{file_name}\", \"w+b\") as fw:\n",
        "#             fw.write(r2.content)\n",
        "\n",
        "#         print(\"- \" + file_name + \": saved.\")\n",
        "\n",
        "#         ####################################################\n",
        "#         # Sleep for a second to not overload the web site\n",
        "#         ####################################################\n",
        "#         time.sleep(1)\n",
        "\n",
        "#     print()"
      ],
      "execution_count": null,
      "outputs": []
    },
    {
      "cell_type": "code",
      "metadata": {
        "id": "sA2r8gUIEyFc"
      },
      "source": [
        "# import os\n",
        "# from bs4 import BeautifulSoup\n",
        "\n",
        "# html_files = [file for file in os.listdir(f\"{outcome_folder}/HTMLs\") if file.endswith(\".html\")]\n",
        "\n",
        "# with open(f\"{outcome_folder}/html_data.csv\", \"w\") as fw:\n",
        "#     ####################################################\n",
        "#     # Column names on the first row\n",
        "#     ####################################################\n",
        "#     fw.write(\"file_name\\ttitle\\tauthor\\tdatetime\\tbody\\n\")\n",
        "\n",
        "#     for file_name in html_files:\n",
        "#         ####################################################\n",
        "#         # Column values starting from the second row\n",
        "#         ####################################################\n",
        "#         with open(f\"{outcome_folder}/HTMLs/{file_name}\", \"r+b\") as fr:\n",
        "#             print(file_name)\n",
        "#             soup = BeautifulSoup(fr.read(), \"html.parser\")\n",
        "\n",
        "#             ####################################################\n",
        "#             # No title exception handling\n",
        "#             ####################################################\n",
        "#             if soup.find(\"h1\", {\"class\": \"article-title article-title-single entry-title\"}) == None:\n",
        "#                 continue\n",
        "#             else:\n",
        "#                 article_title = soup.find(\"h1\", {\"class\": \"article-title article-title-single entry-title\"}).text\n",
        "\n",
        "#             ####################################################\n",
        "#             # No author exception handling\n",
        "#             ####################################################\n",
        "#             if soup.find(\"a\", {\"class\": \"author url fn\"}) == None:\n",
        "#                 article_author = \"\"\n",
        "#             else:\n",
        "#                 article_author = soup.find(\"a\", {\"class\": \"author url fn\"}).text\n",
        "\n",
        "#             ####################################################\n",
        "#             # No datetime exception handling\n",
        "#             ####################################################\n",
        "#             if soup.find(\"time\", {\"class\": \"datetime\"}) == None:\n",
        "#                 article_datetime = \"\"\n",
        "#             else:\n",
        "#                 article_datetime = soup.find(\"time\", {\"class\": \"datetime\"}).text\n",
        "\n",
        "#             article_body = soup.find(\"div\", attrs={\"class\": \"entry-content single-post-content\"}).text\n",
        "\n",
        "#             ####################################################\n",
        "#             # Remove all possible new lines and tabs\n",
        "#             ####################################################\n",
        "#             article_title = article_title.replace(\"\\n\", \" \").replace(\"\\t\", \" \")\n",
        "#             article_aurthor = article_author.replace(\"\\n\", \" \").replace(\"\\t\", \" \")\n",
        "#             article_datetime = article_datetime.replace(\"\\n\", \" \").replace(\"\\t\", \" \")\n",
        "#             article_body = article_body.replace(\"\\n\", \" \").replace(\"\\t\", \" \")\n",
        "\n",
        "#             fw.write(f\"{file_name}\\t{article_title}\\t{article_author}\\t{article_datetime}\\t{article_body}\\n\")"
      ],
      "execution_count": null,
      "outputs": []
    },
    {
      "cell_type": "code",
      "metadata": {
        "id": "XZgLLzWAUwq0",
        "colab": {
          "base_uri": "https://localhost:8080/",
          "height": 423
        },
        "outputId": "d3c4ed77-238f-4aeb-e991-20e608ad89dd"
      },
      "source": [
        "import pandas as pd\n",
        "pd.set_option('display.max_colwidth', 150)\n",
        "\n",
        "df = pd.read_csv(f\"{classdata_folder}/html_data.csv\", sep=\"\\t\")\n",
        "df"
      ],
      "execution_count": null,
      "outputs": [
        {
          "output_type": "execute_result",
          "data": {
            "text/plain": [
              "                                                                       file_name  \\\n",
              "0                         the-new-jersey-devils-are-scorching-the-nhl-again.html   \n",
              "1                                     how-many-turkey-trotters-can-you-pass.html   \n",
              "2     election-denialism-lives-on-even-as-candidates-who-support-it-concede.html   \n",
              "3                                            2022-governor-state-government.html   \n",
              "4                                 kyrie-irvings-stats-arent-worth-the-drama.html   \n",
              "...                                                                          ...   \n",
              "1342                        what-the-latest-crime-data-can-and-cant-tell-us.html   \n",
              "1343                                             sadio-mane-never-went-away.html   \n",
              "1344              why-some-white-evangelicals-are-rethinking-their-politics.html   \n",
              "1345                                      white-evangelical-and-progressive.html   \n",
              "1346                 these-rookie-qbs-are-in-a-terrible-league-of-their-own.html   \n",
              "\n",
              "                                                                            title  \\\n",
              "0                               The New Jersey Devils Are Scorching The NHL Again   \n",
              "1                                          How Many Turkey Trotters Can You Pass?   \n",
              "2          Election Denialism Lives On, Even As Candidates Who Support It Concede   \n",
              "3                                       The Midterms Made State Governments Bluer   \n",
              "4                                     Kyrie Irving's Stats Aren't Worth The Drama   \n",
              "...                                                                           ...   \n",
              "1342                 What The Latest Crime Data Can — And Can’t — Tell Us           \n",
              "1343                                           Sadio Mané Never Went Away           \n",
              "1344            Why Some White Evangelicals Are Rethinking Their Politics           \n",
              "1345                                 White, Evangelical And … Progressive           \n",
              "1346             These Rookie QBs Are In A (Terrible) League Of Their Own           \n",
              "\n",
              "                  author                                      datetime  \\\n",
              "0             Neil Paine             Nov. 18, 2022, at 9:15 AM           \n",
              "1     Zach Wissner-Gross             Nov. 18, 2022, at 8:00 AM           \n",
              "2             Zoha Qamar             Nov. 18, 2022, at 6:00 AM           \n",
              "3       Nathaniel Rakich             Nov. 17, 2022, at 6:00 AM           \n",
              "4          Santul Nerkar            Nov. 17, 2022, at 11:54 AM           \n",
              "...                  ...                                           ...   \n",
              "1342                 NaN                                 Sep. 30, 2021   \n",
              "1343      Terrence Doyle                                 Sep. 30, 2021   \n",
              "1344           Tony Chow                                 Sep. 30, 2021   \n",
              "1345        Alex Samuels                                 Sep. 30, 2021   \n",
              "1346     Josh Hermsmeyer                                 Sep. 30, 2021   \n",
              "\n",
              "                                                                                                                                                       body  \n",
              "0          NHL The New Jersey Devils Are Scorching The NHL Again    By Neil Paine            Nov. 18, 2022, at 9:15 AM                                 Y...  \n",
              "1          The Riddler How Many Turkey Trotters Can You Pass?    By Zach Wissner-Gross            Nov. 18, 2022, at 8:00 AM                           Il...  \n",
              "2          Polla Election Denialism Lives On, Even As Candidates Who Support It Concede    By Zoha Qamar            Nov. 18, 2022, at 6:00 AM           ...  \n",
              "3          2022 Election The Midterms Made State Governments Bluer    By Nathaniel Rakich            Nov. 17, 2022, at 6:00 AM                          ...  \n",
              "4          NBA Kyrie Irving's Stats Aren't Worth The Drama    By Santul Nerkar            Nov. 17, 2022, at 11:54 AM                                 Eve...  \n",
              "...                                                                                                                                                     ...  \n",
              "1342   This week, the FBI released nationwide crime numbers from 2020 that will likely contribute to the already tense political debate over crime and p...  \n",
              "1343   When Liverpool signed Sadio Mané in the summer of 2016, the Merseyside club knew it was getting a dynamic attacking player. Still in his early 20...  \n",
              "1344   White evangelicals are often seen as a solidly Republican voting bloc. In the 2020 election, 84 percent of them voted for Donald Trump. In fact, ...  \n",
              "1345   Welcome to Political Outliers, a column that explores groups of Americans who are often portrayed as all voting the same way. In today’s climate,...  \n",
              "1346   Nothing brings more hope to an NFL franchise than a shiny first-round rookie quarterback. This year we have five of them, all selected within the...  \n",
              "\n",
              "[1347 rows x 5 columns]"
            ],
            "text/html": [
              "\n",
              "  <div id=\"df-be384ca6-8046-446b-9fdf-635c58f5f478\">\n",
              "    <div class=\"colab-df-container\">\n",
              "      <div>\n",
              "<style scoped>\n",
              "    .dataframe tbody tr th:only-of-type {\n",
              "        vertical-align: middle;\n",
              "    }\n",
              "\n",
              "    .dataframe tbody tr th {\n",
              "        vertical-align: top;\n",
              "    }\n",
              "\n",
              "    .dataframe thead th {\n",
              "        text-align: right;\n",
              "    }\n",
              "</style>\n",
              "<table border=\"1\" class=\"dataframe\">\n",
              "  <thead>\n",
              "    <tr style=\"text-align: right;\">\n",
              "      <th></th>\n",
              "      <th>file_name</th>\n",
              "      <th>title</th>\n",
              "      <th>author</th>\n",
              "      <th>datetime</th>\n",
              "      <th>body</th>\n",
              "    </tr>\n",
              "  </thead>\n",
              "  <tbody>\n",
              "    <tr>\n",
              "      <th>0</th>\n",
              "      <td>the-new-jersey-devils-are-scorching-the-nhl-again.html</td>\n",
              "      <td>The New Jersey Devils Are Scorching The NHL Again</td>\n",
              "      <td>Neil Paine</td>\n",
              "      <td>Nov. 18, 2022, at 9:15 AM</td>\n",
              "      <td>NHL The New Jersey Devils Are Scorching The NHL Again    By Neil Paine            Nov. 18, 2022, at 9:15 AM                                 Y...</td>\n",
              "    </tr>\n",
              "    <tr>\n",
              "      <th>1</th>\n",
              "      <td>how-many-turkey-trotters-can-you-pass.html</td>\n",
              "      <td>How Many Turkey Trotters Can You Pass?</td>\n",
              "      <td>Zach Wissner-Gross</td>\n",
              "      <td>Nov. 18, 2022, at 8:00 AM</td>\n",
              "      <td>The Riddler How Many Turkey Trotters Can You Pass?    By Zach Wissner-Gross            Nov. 18, 2022, at 8:00 AM                           Il...</td>\n",
              "    </tr>\n",
              "    <tr>\n",
              "      <th>2</th>\n",
              "      <td>election-denialism-lives-on-even-as-candidates-who-support-it-concede.html</td>\n",
              "      <td>Election Denialism Lives On, Even As Candidates Who Support It Concede</td>\n",
              "      <td>Zoha Qamar</td>\n",
              "      <td>Nov. 18, 2022, at 6:00 AM</td>\n",
              "      <td>Polla Election Denialism Lives On, Even As Candidates Who Support It Concede    By Zoha Qamar            Nov. 18, 2022, at 6:00 AM           ...</td>\n",
              "    </tr>\n",
              "    <tr>\n",
              "      <th>3</th>\n",
              "      <td>2022-governor-state-government.html</td>\n",
              "      <td>The Midterms Made State Governments Bluer</td>\n",
              "      <td>Nathaniel Rakich</td>\n",
              "      <td>Nov. 17, 2022, at 6:00 AM</td>\n",
              "      <td>2022 Election The Midterms Made State Governments Bluer    By Nathaniel Rakich            Nov. 17, 2022, at 6:00 AM                          ...</td>\n",
              "    </tr>\n",
              "    <tr>\n",
              "      <th>4</th>\n",
              "      <td>kyrie-irvings-stats-arent-worth-the-drama.html</td>\n",
              "      <td>Kyrie Irving's Stats Aren't Worth The Drama</td>\n",
              "      <td>Santul Nerkar</td>\n",
              "      <td>Nov. 17, 2022, at 11:54 AM</td>\n",
              "      <td>NBA Kyrie Irving's Stats Aren't Worth The Drama    By Santul Nerkar            Nov. 17, 2022, at 11:54 AM                                 Eve...</td>\n",
              "    </tr>\n",
              "    <tr>\n",
              "      <th>...</th>\n",
              "      <td>...</td>\n",
              "      <td>...</td>\n",
              "      <td>...</td>\n",
              "      <td>...</td>\n",
              "      <td>...</td>\n",
              "    </tr>\n",
              "    <tr>\n",
              "      <th>1342</th>\n",
              "      <td>what-the-latest-crime-data-can-and-cant-tell-us.html</td>\n",
              "      <td>What The Latest Crime Data Can — And Can’t — Tell Us</td>\n",
              "      <td>NaN</td>\n",
              "      <td>Sep. 30, 2021</td>\n",
              "      <td>This week, the FBI released nationwide crime numbers from 2020 that will likely contribute to the already tense political debate over crime and p...</td>\n",
              "    </tr>\n",
              "    <tr>\n",
              "      <th>1343</th>\n",
              "      <td>sadio-mane-never-went-away.html</td>\n",
              "      <td>Sadio Mané Never Went Away</td>\n",
              "      <td>Terrence Doyle</td>\n",
              "      <td>Sep. 30, 2021</td>\n",
              "      <td>When Liverpool signed Sadio Mané in the summer of 2016, the Merseyside club knew it was getting a dynamic attacking player. Still in his early 20...</td>\n",
              "    </tr>\n",
              "    <tr>\n",
              "      <th>1344</th>\n",
              "      <td>why-some-white-evangelicals-are-rethinking-their-politics.html</td>\n",
              "      <td>Why Some White Evangelicals Are Rethinking Their Politics</td>\n",
              "      <td>Tony Chow</td>\n",
              "      <td>Sep. 30, 2021</td>\n",
              "      <td>White evangelicals are often seen as a solidly Republican voting bloc. In the 2020 election, 84 percent of them voted for Donald Trump. In fact, ...</td>\n",
              "    </tr>\n",
              "    <tr>\n",
              "      <th>1345</th>\n",
              "      <td>white-evangelical-and-progressive.html</td>\n",
              "      <td>White, Evangelical And … Progressive</td>\n",
              "      <td>Alex Samuels</td>\n",
              "      <td>Sep. 30, 2021</td>\n",
              "      <td>Welcome to Political Outliers, a column that explores groups of Americans who are often portrayed as all voting the same way. In today’s climate,...</td>\n",
              "    </tr>\n",
              "    <tr>\n",
              "      <th>1346</th>\n",
              "      <td>these-rookie-qbs-are-in-a-terrible-league-of-their-own.html</td>\n",
              "      <td>These Rookie QBs Are In A (Terrible) League Of Their Own</td>\n",
              "      <td>Josh Hermsmeyer</td>\n",
              "      <td>Sep. 30, 2021</td>\n",
              "      <td>Nothing brings more hope to an NFL franchise than a shiny first-round rookie quarterback. This year we have five of them, all selected within the...</td>\n",
              "    </tr>\n",
              "  </tbody>\n",
              "</table>\n",
              "<p>1347 rows × 5 columns</p>\n",
              "</div>\n",
              "      <button class=\"colab-df-convert\" onclick=\"convertToInteractive('df-be384ca6-8046-446b-9fdf-635c58f5f478')\"\n",
              "              title=\"Convert this dataframe to an interactive table.\"\n",
              "              style=\"display:none;\">\n",
              "        \n",
              "  <svg xmlns=\"http://www.w3.org/2000/svg\" height=\"24px\"viewBox=\"0 0 24 24\"\n",
              "       width=\"24px\">\n",
              "    <path d=\"M0 0h24v24H0V0z\" fill=\"none\"/>\n",
              "    <path d=\"M18.56 5.44l.94 2.06.94-2.06 2.06-.94-2.06-.94-.94-2.06-.94 2.06-2.06.94zm-11 1L8.5 8.5l.94-2.06 2.06-.94-2.06-.94L8.5 2.5l-.94 2.06-2.06.94zm10 10l.94 2.06.94-2.06 2.06-.94-2.06-.94-.94-2.06-.94 2.06-2.06.94z\"/><path d=\"M17.41 7.96l-1.37-1.37c-.4-.4-.92-.59-1.43-.59-.52 0-1.04.2-1.43.59L10.3 9.45l-7.72 7.72c-.78.78-.78 2.05 0 2.83L4 21.41c.39.39.9.59 1.41.59.51 0 1.02-.2 1.41-.59l7.78-7.78 2.81-2.81c.8-.78.8-2.07 0-2.86zM5.41 20L4 18.59l7.72-7.72 1.47 1.35L5.41 20z\"/>\n",
              "  </svg>\n",
              "      </button>\n",
              "      \n",
              "  <style>\n",
              "    .colab-df-container {\n",
              "      display:flex;\n",
              "      flex-wrap:wrap;\n",
              "      gap: 12px;\n",
              "    }\n",
              "\n",
              "    .colab-df-convert {\n",
              "      background-color: #E8F0FE;\n",
              "      border: none;\n",
              "      border-radius: 50%;\n",
              "      cursor: pointer;\n",
              "      display: none;\n",
              "      fill: #1967D2;\n",
              "      height: 32px;\n",
              "      padding: 0 0 0 0;\n",
              "      width: 32px;\n",
              "    }\n",
              "\n",
              "    .colab-df-convert:hover {\n",
              "      background-color: #E2EBFA;\n",
              "      box-shadow: 0px 1px 2px rgba(60, 64, 67, 0.3), 0px 1px 3px 1px rgba(60, 64, 67, 0.15);\n",
              "      fill: #174EA6;\n",
              "    }\n",
              "\n",
              "    [theme=dark] .colab-df-convert {\n",
              "      background-color: #3B4455;\n",
              "      fill: #D2E3FC;\n",
              "    }\n",
              "\n",
              "    [theme=dark] .colab-df-convert:hover {\n",
              "      background-color: #434B5C;\n",
              "      box-shadow: 0px 1px 3px 1px rgba(0, 0, 0, 0.15);\n",
              "      filter: drop-shadow(0px 1px 2px rgba(0, 0, 0, 0.3));\n",
              "      fill: #FFFFFF;\n",
              "    }\n",
              "  </style>\n",
              "\n",
              "      <script>\n",
              "        const buttonEl =\n",
              "          document.querySelector('#df-be384ca6-8046-446b-9fdf-635c58f5f478 button.colab-df-convert');\n",
              "        buttonEl.style.display =\n",
              "          google.colab.kernel.accessAllowed ? 'block' : 'none';\n",
              "\n",
              "        async function convertToInteractive(key) {\n",
              "          const element = document.querySelector('#df-be384ca6-8046-446b-9fdf-635c58f5f478');\n",
              "          const dataTable =\n",
              "            await google.colab.kernel.invokeFunction('convertToInteractive',\n",
              "                                                     [key], {});\n",
              "          if (!dataTable) return;\n",
              "\n",
              "          const docLinkHtml = 'Like what you see? Visit the ' +\n",
              "            '<a target=\"_blank\" href=https://colab.research.google.com/notebooks/data_table.ipynb>data table notebook</a>'\n",
              "            + ' to learn more about interactive tables.';\n",
              "          element.innerHTML = '';\n",
              "          dataTable['output_type'] = 'display_data';\n",
              "          await google.colab.output.renderOutput(dataTable, element);\n",
              "          const docLink = document.createElement('div');\n",
              "          docLink.innerHTML = docLinkHtml;\n",
              "          element.appendChild(docLink);\n",
              "        }\n",
              "      </script>\n",
              "    </div>\n",
              "  </div>\n",
              "  "
            ]
          },
          "metadata": {},
          "execution_count": 136
        }
      ]
    },
    {
      "cell_type": "code",
      "metadata": {
        "id": "wMhNezxuUwq1",
        "colab": {
          "base_uri": "https://localhost:8080/"
        },
        "outputId": "a1a08a7d-a79c-4328-9ebc-1af2ee69be40"
      },
      "source": [
        "df.info()"
      ],
      "execution_count": null,
      "outputs": [
        {
          "output_type": "stream",
          "name": "stdout",
          "text": [
            "<class 'pandas.core.frame.DataFrame'>\n",
            "RangeIndex: 1347 entries, 0 to 1346\n",
            "Data columns (total 5 columns):\n",
            " #   Column     Non-Null Count  Dtype \n",
            "---  ------     --------------  ----- \n",
            " 0   file_name  1347 non-null   object\n",
            " 1   title      1347 non-null   object\n",
            " 2   author     1186 non-null   object\n",
            " 3   datetime   1347 non-null   object\n",
            " 4   body       1347 non-null   object\n",
            "dtypes: object(5)\n",
            "memory usage: 52.7+ KB\n"
          ]
        }
      ]
    },
    {
      "cell_type": "code",
      "metadata": {
        "id": "ZqpUca8Yo3Tv"
      },
      "source": [
        "df.datetime = df.datetime.astype(\"datetime64\")"
      ],
      "execution_count": null,
      "outputs": []
    },
    {
      "cell_type": "code",
      "metadata": {
        "id": "EH_NfenRo-59",
        "colab": {
          "base_uri": "https://localhost:8080/"
        },
        "outputId": "ea861fb0-5d0e-4d10-e850-4450ad8339b7"
      },
      "source": [
        "df.info()"
      ],
      "execution_count": null,
      "outputs": [
        {
          "output_type": "stream",
          "name": "stdout",
          "text": [
            "<class 'pandas.core.frame.DataFrame'>\n",
            "RangeIndex: 1347 entries, 0 to 1346\n",
            "Data columns (total 5 columns):\n",
            " #   Column     Non-Null Count  Dtype         \n",
            "---  ------     --------------  -----         \n",
            " 0   file_name  1347 non-null   object        \n",
            " 1   title      1347 non-null   object        \n",
            " 2   author     1186 non-null   object        \n",
            " 3   datetime   1347 non-null   datetime64[ns]\n",
            " 4   body       1347 non-null   object        \n",
            "dtypes: datetime64[ns](1), object(4)\n",
            "memory usage: 52.7+ KB\n"
          ]
        }
      ]
    },
    {
      "cell_type": "code",
      "metadata": {
        "id": "_srRtv5TUwq1",
        "scrolled": false,
        "colab": {
          "base_uri": "https://localhost:8080/",
          "height": 363
        },
        "outputId": "a1ba1730-0aa3-48cc-9e92-588b7036cfcf"
      },
      "source": [
        "df.head(10)"
      ],
      "execution_count": null,
      "outputs": [
        {
          "output_type": "execute_result",
          "data": {
            "text/plain": [
              "                                                                    file_name  \\\n",
              "0                      the-new-jersey-devils-are-scorching-the-nhl-again.html   \n",
              "1                                  how-many-turkey-trotters-can-you-pass.html   \n",
              "2  election-denialism-lives-on-even-as-candidates-who-support-it-concede.html   \n",
              "3                                         2022-governor-state-government.html   \n",
              "4                              kyrie-irvings-stats-arent-worth-the-drama.html   \n",
              "5                         how-biden-could-appoint-more-judges-than-trump.html   \n",
              "6                                          the-numbers-that-defined-2022.html   \n",
              "7                 the-number-that-will-shape-republican-politics-in-2023.html   \n",
              "8                                       how-2022-was-a-win-for-democracy.html   \n",
              "9                                           2022-predictions-i-got-wrong.html   \n",
              "\n",
              "                                                                      title  \\\n",
              "0                         The New Jersey Devils Are Scorching The NHL Again   \n",
              "1                                    How Many Turkey Trotters Can You Pass?   \n",
              "2    Election Denialism Lives On, Even As Candidates Who Support It Concede   \n",
              "3                                 The Midterms Made State Governments Bluer   \n",
              "4                               Kyrie Irving's Stats Aren't Worth The Drama   \n",
              "5                            How Biden Could Appoint More Judges Than Trump   \n",
              "6                                             The Numbers That Defined 2022   \n",
              "7            The Number That Will Shape Republican Politics In 2023           \n",
              "8                                          How 2022 Was A Win For Democracy   \n",
              "9                                                  What I Got Wrong In 2022   \n",
              "\n",
              "               author            datetime  \\\n",
              "0          Neil Paine 2022-11-18 09:15:00   \n",
              "1  Zach Wissner-Gross 2022-11-18 08:00:00   \n",
              "2          Zoha Qamar 2022-11-18 06:00:00   \n",
              "3    Nathaniel Rakich 2022-11-17 06:00:00   \n",
              "4       Santul Nerkar 2022-11-17 11:54:00   \n",
              "5         Elena Mejia 2023-01-03 06:00:00   \n",
              "6     Anna Rothschild 2022-12-30 06:00:00   \n",
              "7       Maya Sweedler 2022-12-29 00:00:00   \n",
              "8      Kaleigh Rogers 2022-12-29 06:00:00   \n",
              "9    Nathaniel Rakich 2022-12-28 06:00:00   \n",
              "\n",
              "                                                                                                                                                    body  \n",
              "0       NHL The New Jersey Devils Are Scorching The NHL Again    By Neil Paine            Nov. 18, 2022, at 9:15 AM                                 Y...  \n",
              "1       The Riddler How Many Turkey Trotters Can You Pass?    By Zach Wissner-Gross            Nov. 18, 2022, at 8:00 AM                           Il...  \n",
              "2       Polla Election Denialism Lives On, Even As Candidates Who Support It Concede    By Zoha Qamar            Nov. 18, 2022, at 6:00 AM           ...  \n",
              "3       2022 Election The Midterms Made State Governments Bluer    By Nathaniel Rakich            Nov. 17, 2022, at 6:00 AM                          ...  \n",
              "4       NBA Kyrie Irving's Stats Aren't Worth The Drama    By Santul Nerkar            Nov. 17, 2022, at 11:54 AM                                 Eve...  \n",
              "5       Judicial Appointees How Biden Could Appoint More Judges Than Trump    By Elena Mejia and Amelia Thomson-DeVeaux            Jan. 3, 2023, at 6...  \n",
              "6       2022 In Review The Numbers That Defined 2022    By Anna Rothschild            Dec. 30, 2022, at 6:00 AM                             What a ye...  \n",
              "7   This video is part of our series “The Numbers That Defined 2022.”  Transcript Maya Sweedler: One of the most important numbers coming out of 2022...  \n",
              "8       2022 In Review How 2022 Was A Win For Democracy    By Kaleigh Rogers            Dec. 29, 2022, at 6:00 AM                           PHOTO ILL...  \n",
              "9       2022 In Review What I Got Wrong In 2022    By Nathaniel Rakich            Dec. 28, 2022, at 6:00 AM                           PHOTO ILLUSTRAT...  "
            ],
            "text/html": [
              "\n",
              "  <div id=\"df-1c8e6ee6-fa00-44e4-b8a8-1df583f1dc9b\">\n",
              "    <div class=\"colab-df-container\">\n",
              "      <div>\n",
              "<style scoped>\n",
              "    .dataframe tbody tr th:only-of-type {\n",
              "        vertical-align: middle;\n",
              "    }\n",
              "\n",
              "    .dataframe tbody tr th {\n",
              "        vertical-align: top;\n",
              "    }\n",
              "\n",
              "    .dataframe thead th {\n",
              "        text-align: right;\n",
              "    }\n",
              "</style>\n",
              "<table border=\"1\" class=\"dataframe\">\n",
              "  <thead>\n",
              "    <tr style=\"text-align: right;\">\n",
              "      <th></th>\n",
              "      <th>file_name</th>\n",
              "      <th>title</th>\n",
              "      <th>author</th>\n",
              "      <th>datetime</th>\n",
              "      <th>body</th>\n",
              "    </tr>\n",
              "  </thead>\n",
              "  <tbody>\n",
              "    <tr>\n",
              "      <th>0</th>\n",
              "      <td>the-new-jersey-devils-are-scorching-the-nhl-again.html</td>\n",
              "      <td>The New Jersey Devils Are Scorching The NHL Again</td>\n",
              "      <td>Neil Paine</td>\n",
              "      <td>2022-11-18 09:15:00</td>\n",
              "      <td>NHL The New Jersey Devils Are Scorching The NHL Again    By Neil Paine            Nov. 18, 2022, at 9:15 AM                                 Y...</td>\n",
              "    </tr>\n",
              "    <tr>\n",
              "      <th>1</th>\n",
              "      <td>how-many-turkey-trotters-can-you-pass.html</td>\n",
              "      <td>How Many Turkey Trotters Can You Pass?</td>\n",
              "      <td>Zach Wissner-Gross</td>\n",
              "      <td>2022-11-18 08:00:00</td>\n",
              "      <td>The Riddler How Many Turkey Trotters Can You Pass?    By Zach Wissner-Gross            Nov. 18, 2022, at 8:00 AM                           Il...</td>\n",
              "    </tr>\n",
              "    <tr>\n",
              "      <th>2</th>\n",
              "      <td>election-denialism-lives-on-even-as-candidates-who-support-it-concede.html</td>\n",
              "      <td>Election Denialism Lives On, Even As Candidates Who Support It Concede</td>\n",
              "      <td>Zoha Qamar</td>\n",
              "      <td>2022-11-18 06:00:00</td>\n",
              "      <td>Polla Election Denialism Lives On, Even As Candidates Who Support It Concede    By Zoha Qamar            Nov. 18, 2022, at 6:00 AM           ...</td>\n",
              "    </tr>\n",
              "    <tr>\n",
              "      <th>3</th>\n",
              "      <td>2022-governor-state-government.html</td>\n",
              "      <td>The Midterms Made State Governments Bluer</td>\n",
              "      <td>Nathaniel Rakich</td>\n",
              "      <td>2022-11-17 06:00:00</td>\n",
              "      <td>2022 Election The Midterms Made State Governments Bluer    By Nathaniel Rakich            Nov. 17, 2022, at 6:00 AM                          ...</td>\n",
              "    </tr>\n",
              "    <tr>\n",
              "      <th>4</th>\n",
              "      <td>kyrie-irvings-stats-arent-worth-the-drama.html</td>\n",
              "      <td>Kyrie Irving's Stats Aren't Worth The Drama</td>\n",
              "      <td>Santul Nerkar</td>\n",
              "      <td>2022-11-17 11:54:00</td>\n",
              "      <td>NBA Kyrie Irving's Stats Aren't Worth The Drama    By Santul Nerkar            Nov. 17, 2022, at 11:54 AM                                 Eve...</td>\n",
              "    </tr>\n",
              "    <tr>\n",
              "      <th>5</th>\n",
              "      <td>how-biden-could-appoint-more-judges-than-trump.html</td>\n",
              "      <td>How Biden Could Appoint More Judges Than Trump</td>\n",
              "      <td>Elena Mejia</td>\n",
              "      <td>2023-01-03 06:00:00</td>\n",
              "      <td>Judicial Appointees How Biden Could Appoint More Judges Than Trump    By Elena Mejia and Amelia Thomson-DeVeaux            Jan. 3, 2023, at 6...</td>\n",
              "    </tr>\n",
              "    <tr>\n",
              "      <th>6</th>\n",
              "      <td>the-numbers-that-defined-2022.html</td>\n",
              "      <td>The Numbers That Defined 2022</td>\n",
              "      <td>Anna Rothschild</td>\n",
              "      <td>2022-12-30 06:00:00</td>\n",
              "      <td>2022 In Review The Numbers That Defined 2022    By Anna Rothschild            Dec. 30, 2022, at 6:00 AM                             What a ye...</td>\n",
              "    </tr>\n",
              "    <tr>\n",
              "      <th>7</th>\n",
              "      <td>the-number-that-will-shape-republican-politics-in-2023.html</td>\n",
              "      <td>The Number That Will Shape Republican Politics In 2023</td>\n",
              "      <td>Maya Sweedler</td>\n",
              "      <td>2022-12-29 00:00:00</td>\n",
              "      <td>This video is part of our series “The Numbers That Defined 2022.”  Transcript Maya Sweedler: One of the most important numbers coming out of 2022...</td>\n",
              "    </tr>\n",
              "    <tr>\n",
              "      <th>8</th>\n",
              "      <td>how-2022-was-a-win-for-democracy.html</td>\n",
              "      <td>How 2022 Was A Win For Democracy</td>\n",
              "      <td>Kaleigh Rogers</td>\n",
              "      <td>2022-12-29 06:00:00</td>\n",
              "      <td>2022 In Review How 2022 Was A Win For Democracy    By Kaleigh Rogers            Dec. 29, 2022, at 6:00 AM                           PHOTO ILL...</td>\n",
              "    </tr>\n",
              "    <tr>\n",
              "      <th>9</th>\n",
              "      <td>2022-predictions-i-got-wrong.html</td>\n",
              "      <td>What I Got Wrong In 2022</td>\n",
              "      <td>Nathaniel Rakich</td>\n",
              "      <td>2022-12-28 06:00:00</td>\n",
              "      <td>2022 In Review What I Got Wrong In 2022    By Nathaniel Rakich            Dec. 28, 2022, at 6:00 AM                           PHOTO ILLUSTRAT...</td>\n",
              "    </tr>\n",
              "  </tbody>\n",
              "</table>\n",
              "</div>\n",
              "      <button class=\"colab-df-convert\" onclick=\"convertToInteractive('df-1c8e6ee6-fa00-44e4-b8a8-1df583f1dc9b')\"\n",
              "              title=\"Convert this dataframe to an interactive table.\"\n",
              "              style=\"display:none;\">\n",
              "        \n",
              "  <svg xmlns=\"http://www.w3.org/2000/svg\" height=\"24px\"viewBox=\"0 0 24 24\"\n",
              "       width=\"24px\">\n",
              "    <path d=\"M0 0h24v24H0V0z\" fill=\"none\"/>\n",
              "    <path d=\"M18.56 5.44l.94 2.06.94-2.06 2.06-.94-2.06-.94-.94-2.06-.94 2.06-2.06.94zm-11 1L8.5 8.5l.94-2.06 2.06-.94-2.06-.94L8.5 2.5l-.94 2.06-2.06.94zm10 10l.94 2.06.94-2.06 2.06-.94-2.06-.94-.94-2.06-.94 2.06-2.06.94z\"/><path d=\"M17.41 7.96l-1.37-1.37c-.4-.4-.92-.59-1.43-.59-.52 0-1.04.2-1.43.59L10.3 9.45l-7.72 7.72c-.78.78-.78 2.05 0 2.83L4 21.41c.39.39.9.59 1.41.59.51 0 1.02-.2 1.41-.59l7.78-7.78 2.81-2.81c.8-.78.8-2.07 0-2.86zM5.41 20L4 18.59l7.72-7.72 1.47 1.35L5.41 20z\"/>\n",
              "  </svg>\n",
              "      </button>\n",
              "      \n",
              "  <style>\n",
              "    .colab-df-container {\n",
              "      display:flex;\n",
              "      flex-wrap:wrap;\n",
              "      gap: 12px;\n",
              "    }\n",
              "\n",
              "    .colab-df-convert {\n",
              "      background-color: #E8F0FE;\n",
              "      border: none;\n",
              "      border-radius: 50%;\n",
              "      cursor: pointer;\n",
              "      display: none;\n",
              "      fill: #1967D2;\n",
              "      height: 32px;\n",
              "      padding: 0 0 0 0;\n",
              "      width: 32px;\n",
              "    }\n",
              "\n",
              "    .colab-df-convert:hover {\n",
              "      background-color: #E2EBFA;\n",
              "      box-shadow: 0px 1px 2px rgba(60, 64, 67, 0.3), 0px 1px 3px 1px rgba(60, 64, 67, 0.15);\n",
              "      fill: #174EA6;\n",
              "    }\n",
              "\n",
              "    [theme=dark] .colab-df-convert {\n",
              "      background-color: #3B4455;\n",
              "      fill: #D2E3FC;\n",
              "    }\n",
              "\n",
              "    [theme=dark] .colab-df-convert:hover {\n",
              "      background-color: #434B5C;\n",
              "      box-shadow: 0px 1px 3px 1px rgba(0, 0, 0, 0.15);\n",
              "      filter: drop-shadow(0px 1px 2px rgba(0, 0, 0, 0.3));\n",
              "      fill: #FFFFFF;\n",
              "    }\n",
              "  </style>\n",
              "\n",
              "      <script>\n",
              "        const buttonEl =\n",
              "          document.querySelector('#df-1c8e6ee6-fa00-44e4-b8a8-1df583f1dc9b button.colab-df-convert');\n",
              "        buttonEl.style.display =\n",
              "          google.colab.kernel.accessAllowed ? 'block' : 'none';\n",
              "\n",
              "        async function convertToInteractive(key) {\n",
              "          const element = document.querySelector('#df-1c8e6ee6-fa00-44e4-b8a8-1df583f1dc9b');\n",
              "          const dataTable =\n",
              "            await google.colab.kernel.invokeFunction('convertToInteractive',\n",
              "                                                     [key], {});\n",
              "          if (!dataTable) return;\n",
              "\n",
              "          const docLinkHtml = 'Like what you see? Visit the ' +\n",
              "            '<a target=\"_blank\" href=https://colab.research.google.com/notebooks/data_table.ipynb>data table notebook</a>'\n",
              "            + ' to learn more about interactive tables.';\n",
              "          element.innerHTML = '';\n",
              "          dataTable['output_type'] = 'display_data';\n",
              "          await google.colab.output.renderOutput(dataTable, element);\n",
              "          const docLink = document.createElement('div');\n",
              "          docLink.innerHTML = docLinkHtml;\n",
              "          element.appendChild(docLink);\n",
              "        }\n",
              "      </script>\n",
              "    </div>\n",
              "  </div>\n",
              "  "
            ]
          },
          "metadata": {},
          "execution_count": 140
        }
      ]
    },
    {
      "cell_type": "code",
      "metadata": {
        "id": "jru3rWfUUwq1",
        "scrolled": false,
        "colab": {
          "base_uri": "https://localhost:8080/",
          "height": 580
        },
        "outputId": "01f20358-a2b2-427d-c4b8-94b6da24f71f"
      },
      "source": [
        "df.tail(10)"
      ],
      "execution_count": null,
      "outputs": [
        {
          "output_type": "execute_result",
          "data": {
            "text/plain": [
              "                                                                                             file_name  \\\n",
              "1337                            the-burning-questions-each-world-series-contender-needs-to-answer.html   \n",
              "1338                                                            can-you-power-through-the-workout.html   \n",
              "1339                                           the-rams-and-matthew-stafford-have-each-leveled-up.html   \n",
              "1340                                   what-americans-think-about-the-fight-over-the-debt-ceiling.html   \n",
              "1341  where-breitbarts-false-claim-that-democrats-want-republicans-to-stay-unvaccinated-came-from.html   \n",
              "1342                                              what-the-latest-crime-data-can-and-cant-tell-us.html   \n",
              "1343                                                                   sadio-mane-never-went-away.html   \n",
              "1344                                    why-some-white-evangelicals-are-rethinking-their-politics.html   \n",
              "1345                                                            white-evangelical-and-progressive.html   \n",
              "1346                                       these-rookie-qbs-are-in-a-terrible-league-of-their-own.html   \n",
              "\n",
              "                                                                                                               title  \\\n",
              "1337                                       The Burning Questions Each World Series Contender Needs To Answer           \n",
              "1338                                                                      Can You Power Through The Workout?           \n",
              "1339                                                      The Rams And Matthew Stafford Have Each Leveled Up           \n",
              "1340                                              What Americans Think About The Fight Over The Debt Ceiling           \n",
              "1341            Where Breitbart’s False Claim That Democrats Want Republicans To Stay Unvaccinated Came From           \n",
              "1342                                                    What The Latest Crime Data Can — And Can’t — Tell Us           \n",
              "1343                                                                              Sadio Mané Never Went Away           \n",
              "1344                                               Why Some White Evangelicals Are Rethinking Their Politics           \n",
              "1345                                                                    White, Evangelical And … Progressive           \n",
              "1346                                                These Rookie QBs Are In A (Terrible) League Of Their Own           \n",
              "\n",
              "                  author   datetime  \\\n",
              "1337          Neil Paine 2021-10-01   \n",
              "1338  Zach Wissner-Gross 2021-10-01   \n",
              "1339         Ty Schalter 2021-10-01   \n",
              "1340    Geoffrey Skelley 2021-10-01   \n",
              "1341      Kaleigh Rogers 2021-10-01   \n",
              "1342                 NaN 2021-09-30   \n",
              "1343      Terrence Doyle 2021-09-30   \n",
              "1344           Tony Chow 2021-09-30   \n",
              "1345        Alex Samuels 2021-09-30   \n",
              "1346     Josh Hermsmeyer 2021-09-30   \n",
              "\n",
              "                                                                                                                                                       body  \n",
              "1337   The 2021 MLB playoffs are nearly at hand, and if the end of the regular season is any indication, the postseason is sure to give us a mad month f...  \n",
              "1338   Welcome to The Riddler. Every week, I offer up problems related to the things we hold dear around here: math, logic and probability. Two puzzles ...  \n",
              "1339   The Los Angeles Rams hosted the Tampa Bay Buccaneers on Sunday — and anyone who didn’t know any better might have thought the Rams were the ones ...  \n",
              "1340   Welcome to Pollapalooza, our weekly polling roundup.  Democrats in Congress have their work cut out for them this fall. They were able to cut a d...  \n",
              "1341   This is the latest edition of our column that excavates the origins of public figures’ factually dubious comments. We explain what their claims a...  \n",
              "1342   This week, the FBI released nationwide crime numbers from 2020 that will likely contribute to the already tense political debate over crime and p...  \n",
              "1343   When Liverpool signed Sadio Mané in the summer of 2016, the Merseyside club knew it was getting a dynamic attacking player. Still in his early 20...  \n",
              "1344   White evangelicals are often seen as a solidly Republican voting bloc. In the 2020 election, 84 percent of them voted for Donald Trump. In fact, ...  \n",
              "1345   Welcome to Political Outliers, a column that explores groups of Americans who are often portrayed as all voting the same way. In today’s climate,...  \n",
              "1346   Nothing brings more hope to an NFL franchise than a shiny first-round rookie quarterback. This year we have five of them, all selected within the...  "
            ],
            "text/html": [
              "\n",
              "  <div id=\"df-24c99199-8861-4b50-9bfb-9d03f272dcaf\">\n",
              "    <div class=\"colab-df-container\">\n",
              "      <div>\n",
              "<style scoped>\n",
              "    .dataframe tbody tr th:only-of-type {\n",
              "        vertical-align: middle;\n",
              "    }\n",
              "\n",
              "    .dataframe tbody tr th {\n",
              "        vertical-align: top;\n",
              "    }\n",
              "\n",
              "    .dataframe thead th {\n",
              "        text-align: right;\n",
              "    }\n",
              "</style>\n",
              "<table border=\"1\" class=\"dataframe\">\n",
              "  <thead>\n",
              "    <tr style=\"text-align: right;\">\n",
              "      <th></th>\n",
              "      <th>file_name</th>\n",
              "      <th>title</th>\n",
              "      <th>author</th>\n",
              "      <th>datetime</th>\n",
              "      <th>body</th>\n",
              "    </tr>\n",
              "  </thead>\n",
              "  <tbody>\n",
              "    <tr>\n",
              "      <th>1337</th>\n",
              "      <td>the-burning-questions-each-world-series-contender-needs-to-answer.html</td>\n",
              "      <td>The Burning Questions Each World Series Contender Needs To Answer</td>\n",
              "      <td>Neil Paine</td>\n",
              "      <td>2021-10-01</td>\n",
              "      <td>The 2021 MLB playoffs are nearly at hand, and if the end of the regular season is any indication, the postseason is sure to give us a mad month f...</td>\n",
              "    </tr>\n",
              "    <tr>\n",
              "      <th>1338</th>\n",
              "      <td>can-you-power-through-the-workout.html</td>\n",
              "      <td>Can You Power Through The Workout?</td>\n",
              "      <td>Zach Wissner-Gross</td>\n",
              "      <td>2021-10-01</td>\n",
              "      <td>Welcome to The Riddler. Every week, I offer up problems related to the things we hold dear around here: math, logic and probability. Two puzzles ...</td>\n",
              "    </tr>\n",
              "    <tr>\n",
              "      <th>1339</th>\n",
              "      <td>the-rams-and-matthew-stafford-have-each-leveled-up.html</td>\n",
              "      <td>The Rams And Matthew Stafford Have Each Leveled Up</td>\n",
              "      <td>Ty Schalter</td>\n",
              "      <td>2021-10-01</td>\n",
              "      <td>The Los Angeles Rams hosted the Tampa Bay Buccaneers on Sunday — and anyone who didn’t know any better might have thought the Rams were the ones ...</td>\n",
              "    </tr>\n",
              "    <tr>\n",
              "      <th>1340</th>\n",
              "      <td>what-americans-think-about-the-fight-over-the-debt-ceiling.html</td>\n",
              "      <td>What Americans Think About The Fight Over The Debt Ceiling</td>\n",
              "      <td>Geoffrey Skelley</td>\n",
              "      <td>2021-10-01</td>\n",
              "      <td>Welcome to Pollapalooza, our weekly polling roundup.  Democrats in Congress have their work cut out for them this fall. They were able to cut a d...</td>\n",
              "    </tr>\n",
              "    <tr>\n",
              "      <th>1341</th>\n",
              "      <td>where-breitbarts-false-claim-that-democrats-want-republicans-to-stay-unvaccinated-came-from.html</td>\n",
              "      <td>Where Breitbart’s False Claim That Democrats Want Republicans To Stay Unvaccinated Came From</td>\n",
              "      <td>Kaleigh Rogers</td>\n",
              "      <td>2021-10-01</td>\n",
              "      <td>This is the latest edition of our column that excavates the origins of public figures’ factually dubious comments. We explain what their claims a...</td>\n",
              "    </tr>\n",
              "    <tr>\n",
              "      <th>1342</th>\n",
              "      <td>what-the-latest-crime-data-can-and-cant-tell-us.html</td>\n",
              "      <td>What The Latest Crime Data Can — And Can’t — Tell Us</td>\n",
              "      <td>NaN</td>\n",
              "      <td>2021-09-30</td>\n",
              "      <td>This week, the FBI released nationwide crime numbers from 2020 that will likely contribute to the already tense political debate over crime and p...</td>\n",
              "    </tr>\n",
              "    <tr>\n",
              "      <th>1343</th>\n",
              "      <td>sadio-mane-never-went-away.html</td>\n",
              "      <td>Sadio Mané Never Went Away</td>\n",
              "      <td>Terrence Doyle</td>\n",
              "      <td>2021-09-30</td>\n",
              "      <td>When Liverpool signed Sadio Mané in the summer of 2016, the Merseyside club knew it was getting a dynamic attacking player. Still in his early 20...</td>\n",
              "    </tr>\n",
              "    <tr>\n",
              "      <th>1344</th>\n",
              "      <td>why-some-white-evangelicals-are-rethinking-their-politics.html</td>\n",
              "      <td>Why Some White Evangelicals Are Rethinking Their Politics</td>\n",
              "      <td>Tony Chow</td>\n",
              "      <td>2021-09-30</td>\n",
              "      <td>White evangelicals are often seen as a solidly Republican voting bloc. In the 2020 election, 84 percent of them voted for Donald Trump. In fact, ...</td>\n",
              "    </tr>\n",
              "    <tr>\n",
              "      <th>1345</th>\n",
              "      <td>white-evangelical-and-progressive.html</td>\n",
              "      <td>White, Evangelical And … Progressive</td>\n",
              "      <td>Alex Samuels</td>\n",
              "      <td>2021-09-30</td>\n",
              "      <td>Welcome to Political Outliers, a column that explores groups of Americans who are often portrayed as all voting the same way. In today’s climate,...</td>\n",
              "    </tr>\n",
              "    <tr>\n",
              "      <th>1346</th>\n",
              "      <td>these-rookie-qbs-are-in-a-terrible-league-of-their-own.html</td>\n",
              "      <td>These Rookie QBs Are In A (Terrible) League Of Their Own</td>\n",
              "      <td>Josh Hermsmeyer</td>\n",
              "      <td>2021-09-30</td>\n",
              "      <td>Nothing brings more hope to an NFL franchise than a shiny first-round rookie quarterback. This year we have five of them, all selected within the...</td>\n",
              "    </tr>\n",
              "  </tbody>\n",
              "</table>\n",
              "</div>\n",
              "      <button class=\"colab-df-convert\" onclick=\"convertToInteractive('df-24c99199-8861-4b50-9bfb-9d03f272dcaf')\"\n",
              "              title=\"Convert this dataframe to an interactive table.\"\n",
              "              style=\"display:none;\">\n",
              "        \n",
              "  <svg xmlns=\"http://www.w3.org/2000/svg\" height=\"24px\"viewBox=\"0 0 24 24\"\n",
              "       width=\"24px\">\n",
              "    <path d=\"M0 0h24v24H0V0z\" fill=\"none\"/>\n",
              "    <path d=\"M18.56 5.44l.94 2.06.94-2.06 2.06-.94-2.06-.94-.94-2.06-.94 2.06-2.06.94zm-11 1L8.5 8.5l.94-2.06 2.06-.94-2.06-.94L8.5 2.5l-.94 2.06-2.06.94zm10 10l.94 2.06.94-2.06 2.06-.94-2.06-.94-.94-2.06-.94 2.06-2.06.94z\"/><path d=\"M17.41 7.96l-1.37-1.37c-.4-.4-.92-.59-1.43-.59-.52 0-1.04.2-1.43.59L10.3 9.45l-7.72 7.72c-.78.78-.78 2.05 0 2.83L4 21.41c.39.39.9.59 1.41.59.51 0 1.02-.2 1.41-.59l7.78-7.78 2.81-2.81c.8-.78.8-2.07 0-2.86zM5.41 20L4 18.59l7.72-7.72 1.47 1.35L5.41 20z\"/>\n",
              "  </svg>\n",
              "      </button>\n",
              "      \n",
              "  <style>\n",
              "    .colab-df-container {\n",
              "      display:flex;\n",
              "      flex-wrap:wrap;\n",
              "      gap: 12px;\n",
              "    }\n",
              "\n",
              "    .colab-df-convert {\n",
              "      background-color: #E8F0FE;\n",
              "      border: none;\n",
              "      border-radius: 50%;\n",
              "      cursor: pointer;\n",
              "      display: none;\n",
              "      fill: #1967D2;\n",
              "      height: 32px;\n",
              "      padding: 0 0 0 0;\n",
              "      width: 32px;\n",
              "    }\n",
              "\n",
              "    .colab-df-convert:hover {\n",
              "      background-color: #E2EBFA;\n",
              "      box-shadow: 0px 1px 2px rgba(60, 64, 67, 0.3), 0px 1px 3px 1px rgba(60, 64, 67, 0.15);\n",
              "      fill: #174EA6;\n",
              "    }\n",
              "\n",
              "    [theme=dark] .colab-df-convert {\n",
              "      background-color: #3B4455;\n",
              "      fill: #D2E3FC;\n",
              "    }\n",
              "\n",
              "    [theme=dark] .colab-df-convert:hover {\n",
              "      background-color: #434B5C;\n",
              "      box-shadow: 0px 1px 3px 1px rgba(0, 0, 0, 0.15);\n",
              "      filter: drop-shadow(0px 1px 2px rgba(0, 0, 0, 0.3));\n",
              "      fill: #FFFFFF;\n",
              "    }\n",
              "  </style>\n",
              "\n",
              "      <script>\n",
              "        const buttonEl =\n",
              "          document.querySelector('#df-24c99199-8861-4b50-9bfb-9d03f272dcaf button.colab-df-convert');\n",
              "        buttonEl.style.display =\n",
              "          google.colab.kernel.accessAllowed ? 'block' : 'none';\n",
              "\n",
              "        async function convertToInteractive(key) {\n",
              "          const element = document.querySelector('#df-24c99199-8861-4b50-9bfb-9d03f272dcaf');\n",
              "          const dataTable =\n",
              "            await google.colab.kernel.invokeFunction('convertToInteractive',\n",
              "                                                     [key], {});\n",
              "          if (!dataTable) return;\n",
              "\n",
              "          const docLinkHtml = 'Like what you see? Visit the ' +\n",
              "            '<a target=\"_blank\" href=https://colab.research.google.com/notebooks/data_table.ipynb>data table notebook</a>'\n",
              "            + ' to learn more about interactive tables.';\n",
              "          element.innerHTML = '';\n",
              "          dataTable['output_type'] = 'display_data';\n",
              "          await google.colab.output.renderOutput(dataTable, element);\n",
              "          const docLink = document.createElement('div');\n",
              "          docLink.innerHTML = docLinkHtml;\n",
              "          element.appendChild(docLink);\n",
              "        }\n",
              "      </script>\n",
              "    </div>\n",
              "  </div>\n",
              "  "
            ]
          },
          "metadata": {},
          "execution_count": 141
        }
      ]
    },
    {
      "cell_type": "markdown",
      "metadata": {
        "id": "YcgYRBoWUwq1"
      },
      "source": [
        "## Adding New Columns"
      ]
    },
    {
      "cell_type": "code",
      "metadata": {
        "id": "7byf9v6oUwq1"
      },
      "source": [
        "df[\"words\"] = df.title.apply(lambda x: nltk.word_tokenize(x))\n",
        "df[\"tagged_words\"] = df.words.apply(lambda x: nltk.pos_tag(x))"
      ],
      "execution_count": null,
      "outputs": []
    },
    {
      "cell_type": "code",
      "metadata": {
        "id": "931ljlxaUwq2",
        "colab": {
          "base_uri": "https://localhost:8080/",
          "height": 641
        },
        "outputId": "e0b623fb-7128-410b-a461-6a2308e40d5e"
      },
      "source": [
        "df"
      ],
      "execution_count": null,
      "outputs": [
        {
          "output_type": "execute_result",
          "data": {
            "text/plain": [
              "                                                                       file_name  \\\n",
              "0                         the-new-jersey-devils-are-scorching-the-nhl-again.html   \n",
              "1                                     how-many-turkey-trotters-can-you-pass.html   \n",
              "2     election-denialism-lives-on-even-as-candidates-who-support-it-concede.html   \n",
              "3                                            2022-governor-state-government.html   \n",
              "4                                 kyrie-irvings-stats-arent-worth-the-drama.html   \n",
              "...                                                                          ...   \n",
              "1342                        what-the-latest-crime-data-can-and-cant-tell-us.html   \n",
              "1343                                             sadio-mane-never-went-away.html   \n",
              "1344              why-some-white-evangelicals-are-rethinking-their-politics.html   \n",
              "1345                                      white-evangelical-and-progressive.html   \n",
              "1346                 these-rookie-qbs-are-in-a-terrible-league-of-their-own.html   \n",
              "\n",
              "                                                                            title  \\\n",
              "0                               The New Jersey Devils Are Scorching The NHL Again   \n",
              "1                                          How Many Turkey Trotters Can You Pass?   \n",
              "2          Election Denialism Lives On, Even As Candidates Who Support It Concede   \n",
              "3                                       The Midterms Made State Governments Bluer   \n",
              "4                                     Kyrie Irving's Stats Aren't Worth The Drama   \n",
              "...                                                                           ...   \n",
              "1342                 What The Latest Crime Data Can — And Can’t — Tell Us           \n",
              "1343                                           Sadio Mané Never Went Away           \n",
              "1344            Why Some White Evangelicals Are Rethinking Their Politics           \n",
              "1345                                 White, Evangelical And … Progressive           \n",
              "1346             These Rookie QBs Are In A (Terrible) League Of Their Own           \n",
              "\n",
              "                  author            datetime  \\\n",
              "0             Neil Paine 2022-11-18 09:15:00   \n",
              "1     Zach Wissner-Gross 2022-11-18 08:00:00   \n",
              "2             Zoha Qamar 2022-11-18 06:00:00   \n",
              "3       Nathaniel Rakich 2022-11-17 06:00:00   \n",
              "4          Santul Nerkar 2022-11-17 11:54:00   \n",
              "...                  ...                 ...   \n",
              "1342                 NaN 2021-09-30 00:00:00   \n",
              "1343      Terrence Doyle 2021-09-30 00:00:00   \n",
              "1344           Tony Chow 2021-09-30 00:00:00   \n",
              "1345        Alex Samuels 2021-09-30 00:00:00   \n",
              "1346     Josh Hermsmeyer 2021-09-30 00:00:00   \n",
              "\n",
              "                                                                                                                                                       body  \\\n",
              "0          NHL The New Jersey Devils Are Scorching The NHL Again    By Neil Paine            Nov. 18, 2022, at 9:15 AM                                 Y...   \n",
              "1          The Riddler How Many Turkey Trotters Can You Pass?    By Zach Wissner-Gross            Nov. 18, 2022, at 8:00 AM                           Il...   \n",
              "2          Polla Election Denialism Lives On, Even As Candidates Who Support It Concede    By Zoha Qamar            Nov. 18, 2022, at 6:00 AM           ...   \n",
              "3          2022 Election The Midterms Made State Governments Bluer    By Nathaniel Rakich            Nov. 17, 2022, at 6:00 AM                          ...   \n",
              "4          NBA Kyrie Irving's Stats Aren't Worth The Drama    By Santul Nerkar            Nov. 17, 2022, at 11:54 AM                                 Eve...   \n",
              "...                                                                                                                                                     ...   \n",
              "1342   This week, the FBI released nationwide crime numbers from 2020 that will likely contribute to the already tense political debate over crime and p...   \n",
              "1343   When Liverpool signed Sadio Mané in the summer of 2016, the Merseyside club knew it was getting a dynamic attacking player. Still in his early 20...   \n",
              "1344   White evangelicals are often seen as a solidly Republican voting bloc. In the 2020 election, 84 percent of them voted for Donald Trump. In fact, ...   \n",
              "1345   Welcome to Political Outliers, a column that explores groups of Americans who are often portrayed as all voting the same way. In today’s climate,...   \n",
              "1346   Nothing brings more hope to an NFL franchise than a shiny first-round rookie quarterback. This year we have five of them, all selected within the...   \n",
              "\n",
              "                                                                                     words  \\\n",
              "0                              [The, New, Jersey, Devils, Are, Scorching, The, NHL, Again]   \n",
              "1                                         [How, Many, Turkey, Trotters, Can, You, Pass, ?]   \n",
              "2     [Election, Denialism, Lives, On, ,, Even, As, Candidates, Who, Support, It, Concede]   \n",
              "3                                         [The, Midterms, Made, State, Governments, Bluer]   \n",
              "4                                  [Kyrie, Irving, 's, Stats, Are, n't, Worth, The, Drama]   \n",
              "...                                                                                    ...   \n",
              "1342                 [What, The, Latest, Crime, Data, Can, —, And, Can, ’, t, —, Tell, Us]   \n",
              "1343                                                      [Sadio, Mané, Never, Went, Away]   \n",
              "1344                    [Why, Some, White, Evangelicals, Are, Rethinking, Their, Politics]   \n",
              "1345                                          [White, ,, Evangelical, And, …, Progressive]   \n",
              "1346              [These, Rookie, QBs, Are, In, A, (, Terrible, ), League, Of, Their, Own]   \n",
              "\n",
              "                                                                                                                                               tagged_words  \n",
              "0                                  [(The, DT), (New, NNP), (Jersey, NNP), (Devils, NNP), (Are, NNP), (Scorching, VBG), (The, DT), (NHL, NNP), (Again, NNP)]  \n",
              "1                                                     [(How, WRB), (Many, JJ), (Turkey, NNP), (Trotters, NNP), (Can, NNP), (You, PRP), (Pass, NNP), (?, .)]  \n",
              "2     [(Election, NN), (Denialism, NNP), (Lives, VBZ), (On, IN), (,, ,), (Even, RB), (As, IN), (Candidates, NNS), (Who, WP), (Support, VBP), (It, PRP), ...  \n",
              "3                                                                 [(The, DT), (Midterms, NNP), (Made, NNP), (State, NNP), (Governments, NNP), (Bluer, NNP)]  \n",
              "4                                       [(Kyrie, NNP), (Irving, NNP), ('s, POS), (Stats, NNS), (Are, VBP), (n't, RB), (Worth, IN), (The, DT), (Drama, NNP)]  \n",
              "...                                                                                                                                                     ...  \n",
              "1342  [(What, WP), (The, DT), (Latest, NNP), (Crime, NNP), (Data, NNP), (Can, NNP), (—, NNP), (And, CC), (Can, NNP), (’, NNP), (t, VB), (—, NNP), (Tell,...  \n",
              "1343                                                                                    [(Sadio, NNP), (Mané, NNP), (Never, NNP), (Went, NNP), (Away, NNP)]  \n",
              "1344                             [(Why, WRB), (Some, DT), (White, NNP), (Evangelicals, NNS), (Are, VBP), (Rethinking, VBG), (Their, PRP$), (Politics, NNS)]  \n",
              "1345                                                                    [(White, NNP), (,, ,), (Evangelical, NNP), (And, CC), (…, NNP), (Progressive, NNP)]  \n",
              "1346  [(These, DT), (Rookie, NNP), (QBs, NNP), (Are, NNP), (In, IN), (A, NNP), ((, (), (Terrible, NNP), (), )), (League, NNP), (Of, IN), (Their, NNP), (...  \n",
              "\n",
              "[1347 rows x 7 columns]"
            ],
            "text/html": [
              "\n",
              "  <div id=\"df-ebc64782-ce2b-4509-9568-c6b82b7ac402\">\n",
              "    <div class=\"colab-df-container\">\n",
              "      <div>\n",
              "<style scoped>\n",
              "    .dataframe tbody tr th:only-of-type {\n",
              "        vertical-align: middle;\n",
              "    }\n",
              "\n",
              "    .dataframe tbody tr th {\n",
              "        vertical-align: top;\n",
              "    }\n",
              "\n",
              "    .dataframe thead th {\n",
              "        text-align: right;\n",
              "    }\n",
              "</style>\n",
              "<table border=\"1\" class=\"dataframe\">\n",
              "  <thead>\n",
              "    <tr style=\"text-align: right;\">\n",
              "      <th></th>\n",
              "      <th>file_name</th>\n",
              "      <th>title</th>\n",
              "      <th>author</th>\n",
              "      <th>datetime</th>\n",
              "      <th>body</th>\n",
              "      <th>words</th>\n",
              "      <th>tagged_words</th>\n",
              "    </tr>\n",
              "  </thead>\n",
              "  <tbody>\n",
              "    <tr>\n",
              "      <th>0</th>\n",
              "      <td>the-new-jersey-devils-are-scorching-the-nhl-again.html</td>\n",
              "      <td>The New Jersey Devils Are Scorching The NHL Again</td>\n",
              "      <td>Neil Paine</td>\n",
              "      <td>2022-11-18 09:15:00</td>\n",
              "      <td>NHL The New Jersey Devils Are Scorching The NHL Again    By Neil Paine            Nov. 18, 2022, at 9:15 AM                                 Y...</td>\n",
              "      <td>[The, New, Jersey, Devils, Are, Scorching, The, NHL, Again]</td>\n",
              "      <td>[(The, DT), (New, NNP), (Jersey, NNP), (Devils, NNP), (Are, NNP), (Scorching, VBG), (The, DT), (NHL, NNP), (Again, NNP)]</td>\n",
              "    </tr>\n",
              "    <tr>\n",
              "      <th>1</th>\n",
              "      <td>how-many-turkey-trotters-can-you-pass.html</td>\n",
              "      <td>How Many Turkey Trotters Can You Pass?</td>\n",
              "      <td>Zach Wissner-Gross</td>\n",
              "      <td>2022-11-18 08:00:00</td>\n",
              "      <td>The Riddler How Many Turkey Trotters Can You Pass?    By Zach Wissner-Gross            Nov. 18, 2022, at 8:00 AM                           Il...</td>\n",
              "      <td>[How, Many, Turkey, Trotters, Can, You, Pass, ?]</td>\n",
              "      <td>[(How, WRB), (Many, JJ), (Turkey, NNP), (Trotters, NNP), (Can, NNP), (You, PRP), (Pass, NNP), (?, .)]</td>\n",
              "    </tr>\n",
              "    <tr>\n",
              "      <th>2</th>\n",
              "      <td>election-denialism-lives-on-even-as-candidates-who-support-it-concede.html</td>\n",
              "      <td>Election Denialism Lives On, Even As Candidates Who Support It Concede</td>\n",
              "      <td>Zoha Qamar</td>\n",
              "      <td>2022-11-18 06:00:00</td>\n",
              "      <td>Polla Election Denialism Lives On, Even As Candidates Who Support It Concede    By Zoha Qamar            Nov. 18, 2022, at 6:00 AM           ...</td>\n",
              "      <td>[Election, Denialism, Lives, On, ,, Even, As, Candidates, Who, Support, It, Concede]</td>\n",
              "      <td>[(Election, NN), (Denialism, NNP), (Lives, VBZ), (On, IN), (,, ,), (Even, RB), (As, IN), (Candidates, NNS), (Who, WP), (Support, VBP), (It, PRP), ...</td>\n",
              "    </tr>\n",
              "    <tr>\n",
              "      <th>3</th>\n",
              "      <td>2022-governor-state-government.html</td>\n",
              "      <td>The Midterms Made State Governments Bluer</td>\n",
              "      <td>Nathaniel Rakich</td>\n",
              "      <td>2022-11-17 06:00:00</td>\n",
              "      <td>2022 Election The Midterms Made State Governments Bluer    By Nathaniel Rakich            Nov. 17, 2022, at 6:00 AM                          ...</td>\n",
              "      <td>[The, Midterms, Made, State, Governments, Bluer]</td>\n",
              "      <td>[(The, DT), (Midterms, NNP), (Made, NNP), (State, NNP), (Governments, NNP), (Bluer, NNP)]</td>\n",
              "    </tr>\n",
              "    <tr>\n",
              "      <th>4</th>\n",
              "      <td>kyrie-irvings-stats-arent-worth-the-drama.html</td>\n",
              "      <td>Kyrie Irving's Stats Aren't Worth The Drama</td>\n",
              "      <td>Santul Nerkar</td>\n",
              "      <td>2022-11-17 11:54:00</td>\n",
              "      <td>NBA Kyrie Irving's Stats Aren't Worth The Drama    By Santul Nerkar            Nov. 17, 2022, at 11:54 AM                                 Eve...</td>\n",
              "      <td>[Kyrie, Irving, 's, Stats, Are, n't, Worth, The, Drama]</td>\n",
              "      <td>[(Kyrie, NNP), (Irving, NNP), ('s, POS), (Stats, NNS), (Are, VBP), (n't, RB), (Worth, IN), (The, DT), (Drama, NNP)]</td>\n",
              "    </tr>\n",
              "    <tr>\n",
              "      <th>...</th>\n",
              "      <td>...</td>\n",
              "      <td>...</td>\n",
              "      <td>...</td>\n",
              "      <td>...</td>\n",
              "      <td>...</td>\n",
              "      <td>...</td>\n",
              "      <td>...</td>\n",
              "    </tr>\n",
              "    <tr>\n",
              "      <th>1342</th>\n",
              "      <td>what-the-latest-crime-data-can-and-cant-tell-us.html</td>\n",
              "      <td>What The Latest Crime Data Can — And Can’t — Tell Us</td>\n",
              "      <td>NaN</td>\n",
              "      <td>2021-09-30 00:00:00</td>\n",
              "      <td>This week, the FBI released nationwide crime numbers from 2020 that will likely contribute to the already tense political debate over crime and p...</td>\n",
              "      <td>[What, The, Latest, Crime, Data, Can, —, And, Can, ’, t, —, Tell, Us]</td>\n",
              "      <td>[(What, WP), (The, DT), (Latest, NNP), (Crime, NNP), (Data, NNP), (Can, NNP), (—, NNP), (And, CC), (Can, NNP), (’, NNP), (t, VB), (—, NNP), (Tell,...</td>\n",
              "    </tr>\n",
              "    <tr>\n",
              "      <th>1343</th>\n",
              "      <td>sadio-mane-never-went-away.html</td>\n",
              "      <td>Sadio Mané Never Went Away</td>\n",
              "      <td>Terrence Doyle</td>\n",
              "      <td>2021-09-30 00:00:00</td>\n",
              "      <td>When Liverpool signed Sadio Mané in the summer of 2016, the Merseyside club knew it was getting a dynamic attacking player. Still in his early 20...</td>\n",
              "      <td>[Sadio, Mané, Never, Went, Away]</td>\n",
              "      <td>[(Sadio, NNP), (Mané, NNP), (Never, NNP), (Went, NNP), (Away, NNP)]</td>\n",
              "    </tr>\n",
              "    <tr>\n",
              "      <th>1344</th>\n",
              "      <td>why-some-white-evangelicals-are-rethinking-their-politics.html</td>\n",
              "      <td>Why Some White Evangelicals Are Rethinking Their Politics</td>\n",
              "      <td>Tony Chow</td>\n",
              "      <td>2021-09-30 00:00:00</td>\n",
              "      <td>White evangelicals are often seen as a solidly Republican voting bloc. In the 2020 election, 84 percent of them voted for Donald Trump. In fact, ...</td>\n",
              "      <td>[Why, Some, White, Evangelicals, Are, Rethinking, Their, Politics]</td>\n",
              "      <td>[(Why, WRB), (Some, DT), (White, NNP), (Evangelicals, NNS), (Are, VBP), (Rethinking, VBG), (Their, PRP$), (Politics, NNS)]</td>\n",
              "    </tr>\n",
              "    <tr>\n",
              "      <th>1345</th>\n",
              "      <td>white-evangelical-and-progressive.html</td>\n",
              "      <td>White, Evangelical And … Progressive</td>\n",
              "      <td>Alex Samuels</td>\n",
              "      <td>2021-09-30 00:00:00</td>\n",
              "      <td>Welcome to Political Outliers, a column that explores groups of Americans who are often portrayed as all voting the same way. In today’s climate,...</td>\n",
              "      <td>[White, ,, Evangelical, And, …, Progressive]</td>\n",
              "      <td>[(White, NNP), (,, ,), (Evangelical, NNP), (And, CC), (…, NNP), (Progressive, NNP)]</td>\n",
              "    </tr>\n",
              "    <tr>\n",
              "      <th>1346</th>\n",
              "      <td>these-rookie-qbs-are-in-a-terrible-league-of-their-own.html</td>\n",
              "      <td>These Rookie QBs Are In A (Terrible) League Of Their Own</td>\n",
              "      <td>Josh Hermsmeyer</td>\n",
              "      <td>2021-09-30 00:00:00</td>\n",
              "      <td>Nothing brings more hope to an NFL franchise than a shiny first-round rookie quarterback. This year we have five of them, all selected within the...</td>\n",
              "      <td>[These, Rookie, QBs, Are, In, A, (, Terrible, ), League, Of, Their, Own]</td>\n",
              "      <td>[(These, DT), (Rookie, NNP), (QBs, NNP), (Are, NNP), (In, IN), (A, NNP), ((, (), (Terrible, NNP), (), )), (League, NNP), (Of, IN), (Their, NNP), (...</td>\n",
              "    </tr>\n",
              "  </tbody>\n",
              "</table>\n",
              "<p>1347 rows × 7 columns</p>\n",
              "</div>\n",
              "      <button class=\"colab-df-convert\" onclick=\"convertToInteractive('df-ebc64782-ce2b-4509-9568-c6b82b7ac402')\"\n",
              "              title=\"Convert this dataframe to an interactive table.\"\n",
              "              style=\"display:none;\">\n",
              "        \n",
              "  <svg xmlns=\"http://www.w3.org/2000/svg\" height=\"24px\"viewBox=\"0 0 24 24\"\n",
              "       width=\"24px\">\n",
              "    <path d=\"M0 0h24v24H0V0z\" fill=\"none\"/>\n",
              "    <path d=\"M18.56 5.44l.94 2.06.94-2.06 2.06-.94-2.06-.94-.94-2.06-.94 2.06-2.06.94zm-11 1L8.5 8.5l.94-2.06 2.06-.94-2.06-.94L8.5 2.5l-.94 2.06-2.06.94zm10 10l.94 2.06.94-2.06 2.06-.94-2.06-.94-.94-2.06-.94 2.06-2.06.94z\"/><path d=\"M17.41 7.96l-1.37-1.37c-.4-.4-.92-.59-1.43-.59-.52 0-1.04.2-1.43.59L10.3 9.45l-7.72 7.72c-.78.78-.78 2.05 0 2.83L4 21.41c.39.39.9.59 1.41.59.51 0 1.02-.2 1.41-.59l7.78-7.78 2.81-2.81c.8-.78.8-2.07 0-2.86zM5.41 20L4 18.59l7.72-7.72 1.47 1.35L5.41 20z\"/>\n",
              "  </svg>\n",
              "      </button>\n",
              "      \n",
              "  <style>\n",
              "    .colab-df-container {\n",
              "      display:flex;\n",
              "      flex-wrap:wrap;\n",
              "      gap: 12px;\n",
              "    }\n",
              "\n",
              "    .colab-df-convert {\n",
              "      background-color: #E8F0FE;\n",
              "      border: none;\n",
              "      border-radius: 50%;\n",
              "      cursor: pointer;\n",
              "      display: none;\n",
              "      fill: #1967D2;\n",
              "      height: 32px;\n",
              "      padding: 0 0 0 0;\n",
              "      width: 32px;\n",
              "    }\n",
              "\n",
              "    .colab-df-convert:hover {\n",
              "      background-color: #E2EBFA;\n",
              "      box-shadow: 0px 1px 2px rgba(60, 64, 67, 0.3), 0px 1px 3px 1px rgba(60, 64, 67, 0.15);\n",
              "      fill: #174EA6;\n",
              "    }\n",
              "\n",
              "    [theme=dark] .colab-df-convert {\n",
              "      background-color: #3B4455;\n",
              "      fill: #D2E3FC;\n",
              "    }\n",
              "\n",
              "    [theme=dark] .colab-df-convert:hover {\n",
              "      background-color: #434B5C;\n",
              "      box-shadow: 0px 1px 3px 1px rgba(0, 0, 0, 0.15);\n",
              "      filter: drop-shadow(0px 1px 2px rgba(0, 0, 0, 0.3));\n",
              "      fill: #FFFFFF;\n",
              "    }\n",
              "  </style>\n",
              "\n",
              "      <script>\n",
              "        const buttonEl =\n",
              "          document.querySelector('#df-ebc64782-ce2b-4509-9568-c6b82b7ac402 button.colab-df-convert');\n",
              "        buttonEl.style.display =\n",
              "          google.colab.kernel.accessAllowed ? 'block' : 'none';\n",
              "\n",
              "        async function convertToInteractive(key) {\n",
              "          const element = document.querySelector('#df-ebc64782-ce2b-4509-9568-c6b82b7ac402');\n",
              "          const dataTable =\n",
              "            await google.colab.kernel.invokeFunction('convertToInteractive',\n",
              "                                                     [key], {});\n",
              "          if (!dataTable) return;\n",
              "\n",
              "          const docLinkHtml = 'Like what you see? Visit the ' +\n",
              "            '<a target=\"_blank\" href=https://colab.research.google.com/notebooks/data_table.ipynb>data table notebook</a>'\n",
              "            + ' to learn more about interactive tables.';\n",
              "          element.innerHTML = '';\n",
              "          dataTable['output_type'] = 'display_data';\n",
              "          await google.colab.output.renderOutput(dataTable, element);\n",
              "          const docLink = document.createElement('div');\n",
              "          docLink.innerHTML = docLinkHtml;\n",
              "          element.appendChild(docLink);\n",
              "        }\n",
              "      </script>\n",
              "    </div>\n",
              "  </div>\n",
              "  "
            ]
          },
          "metadata": {},
          "execution_count": 143
        }
      ]
    },
    {
      "cell_type": "markdown",
      "metadata": {
        "id": "n9HW30rwUwq2"
      },
      "source": [
        "## Popular Keywords Ranking"
      ]
    },
    {
      "cell_type": "code",
      "metadata": {
        "id": "V-UHPHyzUwq2",
        "scrolled": false,
        "colab": {
          "base_uri": "https://localhost:8080/",
          "height": 423
        },
        "outputId": "78ba0ef2-357b-40fe-c4dd-8201a09a99c9"
      },
      "source": [
        "df[[\"tagged_words\"]]"
      ],
      "execution_count": null,
      "outputs": [
        {
          "output_type": "execute_result",
          "data": {
            "text/plain": [
              "                                                                                                                                               tagged_words\n",
              "0                                  [(The, DT), (New, NNP), (Jersey, NNP), (Devils, NNP), (Are, NNP), (Scorching, VBG), (The, DT), (NHL, NNP), (Again, NNP)]\n",
              "1                                                     [(How, WRB), (Many, JJ), (Turkey, NNP), (Trotters, NNP), (Can, NNP), (You, PRP), (Pass, NNP), (?, .)]\n",
              "2     [(Election, NN), (Denialism, NNP), (Lives, VBZ), (On, IN), (,, ,), (Even, RB), (As, IN), (Candidates, NNS), (Who, WP), (Support, VBP), (It, PRP), ...\n",
              "3                                                                 [(The, DT), (Midterms, NNP), (Made, NNP), (State, NNP), (Governments, NNP), (Bluer, NNP)]\n",
              "4                                       [(Kyrie, NNP), (Irving, NNP), ('s, POS), (Stats, NNS), (Are, VBP), (n't, RB), (Worth, IN), (The, DT), (Drama, NNP)]\n",
              "...                                                                                                                                                     ...\n",
              "1342  [(What, WP), (The, DT), (Latest, NNP), (Crime, NNP), (Data, NNP), (Can, NNP), (—, NNP), (And, CC), (Can, NNP), (’, NNP), (t, VB), (—, NNP), (Tell,...\n",
              "1343                                                                                    [(Sadio, NNP), (Mané, NNP), (Never, NNP), (Went, NNP), (Away, NNP)]\n",
              "1344                             [(Why, WRB), (Some, DT), (White, NNP), (Evangelicals, NNS), (Are, VBP), (Rethinking, VBG), (Their, PRP$), (Politics, NNS)]\n",
              "1345                                                                    [(White, NNP), (,, ,), (Evangelical, NNP), (And, CC), (…, NNP), (Progressive, NNP)]\n",
              "1346  [(These, DT), (Rookie, NNP), (QBs, NNP), (Are, NNP), (In, IN), (A, NNP), ((, (), (Terrible, NNP), (), )), (League, NNP), (Of, IN), (Their, NNP), (...\n",
              "\n",
              "[1347 rows x 1 columns]"
            ],
            "text/html": [
              "\n",
              "  <div id=\"df-12ea251a-93d6-4508-a1b1-63a00ddeaa44\">\n",
              "    <div class=\"colab-df-container\">\n",
              "      <div>\n",
              "<style scoped>\n",
              "    .dataframe tbody tr th:only-of-type {\n",
              "        vertical-align: middle;\n",
              "    }\n",
              "\n",
              "    .dataframe tbody tr th {\n",
              "        vertical-align: top;\n",
              "    }\n",
              "\n",
              "    .dataframe thead th {\n",
              "        text-align: right;\n",
              "    }\n",
              "</style>\n",
              "<table border=\"1\" class=\"dataframe\">\n",
              "  <thead>\n",
              "    <tr style=\"text-align: right;\">\n",
              "      <th></th>\n",
              "      <th>tagged_words</th>\n",
              "    </tr>\n",
              "  </thead>\n",
              "  <tbody>\n",
              "    <tr>\n",
              "      <th>0</th>\n",
              "      <td>[(The, DT), (New, NNP), (Jersey, NNP), (Devils, NNP), (Are, NNP), (Scorching, VBG), (The, DT), (NHL, NNP), (Again, NNP)]</td>\n",
              "    </tr>\n",
              "    <tr>\n",
              "      <th>1</th>\n",
              "      <td>[(How, WRB), (Many, JJ), (Turkey, NNP), (Trotters, NNP), (Can, NNP), (You, PRP), (Pass, NNP), (?, .)]</td>\n",
              "    </tr>\n",
              "    <tr>\n",
              "      <th>2</th>\n",
              "      <td>[(Election, NN), (Denialism, NNP), (Lives, VBZ), (On, IN), (,, ,), (Even, RB), (As, IN), (Candidates, NNS), (Who, WP), (Support, VBP), (It, PRP), ...</td>\n",
              "    </tr>\n",
              "    <tr>\n",
              "      <th>3</th>\n",
              "      <td>[(The, DT), (Midterms, NNP), (Made, NNP), (State, NNP), (Governments, NNP), (Bluer, NNP)]</td>\n",
              "    </tr>\n",
              "    <tr>\n",
              "      <th>4</th>\n",
              "      <td>[(Kyrie, NNP), (Irving, NNP), ('s, POS), (Stats, NNS), (Are, VBP), (n't, RB), (Worth, IN), (The, DT), (Drama, NNP)]</td>\n",
              "    </tr>\n",
              "    <tr>\n",
              "      <th>...</th>\n",
              "      <td>...</td>\n",
              "    </tr>\n",
              "    <tr>\n",
              "      <th>1342</th>\n",
              "      <td>[(What, WP), (The, DT), (Latest, NNP), (Crime, NNP), (Data, NNP), (Can, NNP), (—, NNP), (And, CC), (Can, NNP), (’, NNP), (t, VB), (—, NNP), (Tell,...</td>\n",
              "    </tr>\n",
              "    <tr>\n",
              "      <th>1343</th>\n",
              "      <td>[(Sadio, NNP), (Mané, NNP), (Never, NNP), (Went, NNP), (Away, NNP)]</td>\n",
              "    </tr>\n",
              "    <tr>\n",
              "      <th>1344</th>\n",
              "      <td>[(Why, WRB), (Some, DT), (White, NNP), (Evangelicals, NNS), (Are, VBP), (Rethinking, VBG), (Their, PRP$), (Politics, NNS)]</td>\n",
              "    </tr>\n",
              "    <tr>\n",
              "      <th>1345</th>\n",
              "      <td>[(White, NNP), (,, ,), (Evangelical, NNP), (And, CC), (…, NNP), (Progressive, NNP)]</td>\n",
              "    </tr>\n",
              "    <tr>\n",
              "      <th>1346</th>\n",
              "      <td>[(These, DT), (Rookie, NNP), (QBs, NNP), (Are, NNP), (In, IN), (A, NNP), ((, (), (Terrible, NNP), (), )), (League, NNP), (Of, IN), (Their, NNP), (...</td>\n",
              "    </tr>\n",
              "  </tbody>\n",
              "</table>\n",
              "<p>1347 rows × 1 columns</p>\n",
              "</div>\n",
              "      <button class=\"colab-df-convert\" onclick=\"convertToInteractive('df-12ea251a-93d6-4508-a1b1-63a00ddeaa44')\"\n",
              "              title=\"Convert this dataframe to an interactive table.\"\n",
              "              style=\"display:none;\">\n",
              "        \n",
              "  <svg xmlns=\"http://www.w3.org/2000/svg\" height=\"24px\"viewBox=\"0 0 24 24\"\n",
              "       width=\"24px\">\n",
              "    <path d=\"M0 0h24v24H0V0z\" fill=\"none\"/>\n",
              "    <path d=\"M18.56 5.44l.94 2.06.94-2.06 2.06-.94-2.06-.94-.94-2.06-.94 2.06-2.06.94zm-11 1L8.5 8.5l.94-2.06 2.06-.94-2.06-.94L8.5 2.5l-.94 2.06-2.06.94zm10 10l.94 2.06.94-2.06 2.06-.94-2.06-.94-.94-2.06-.94 2.06-2.06.94z\"/><path d=\"M17.41 7.96l-1.37-1.37c-.4-.4-.92-.59-1.43-.59-.52 0-1.04.2-1.43.59L10.3 9.45l-7.72 7.72c-.78.78-.78 2.05 0 2.83L4 21.41c.39.39.9.59 1.41.59.51 0 1.02-.2 1.41-.59l7.78-7.78 2.81-2.81c.8-.78.8-2.07 0-2.86zM5.41 20L4 18.59l7.72-7.72 1.47 1.35L5.41 20z\"/>\n",
              "  </svg>\n",
              "      </button>\n",
              "      \n",
              "  <style>\n",
              "    .colab-df-container {\n",
              "      display:flex;\n",
              "      flex-wrap:wrap;\n",
              "      gap: 12px;\n",
              "    }\n",
              "\n",
              "    .colab-df-convert {\n",
              "      background-color: #E8F0FE;\n",
              "      border: none;\n",
              "      border-radius: 50%;\n",
              "      cursor: pointer;\n",
              "      display: none;\n",
              "      fill: #1967D2;\n",
              "      height: 32px;\n",
              "      padding: 0 0 0 0;\n",
              "      width: 32px;\n",
              "    }\n",
              "\n",
              "    .colab-df-convert:hover {\n",
              "      background-color: #E2EBFA;\n",
              "      box-shadow: 0px 1px 2px rgba(60, 64, 67, 0.3), 0px 1px 3px 1px rgba(60, 64, 67, 0.15);\n",
              "      fill: #174EA6;\n",
              "    }\n",
              "\n",
              "    [theme=dark] .colab-df-convert {\n",
              "      background-color: #3B4455;\n",
              "      fill: #D2E3FC;\n",
              "    }\n",
              "\n",
              "    [theme=dark] .colab-df-convert:hover {\n",
              "      background-color: #434B5C;\n",
              "      box-shadow: 0px 1px 3px 1px rgba(0, 0, 0, 0.15);\n",
              "      filter: drop-shadow(0px 1px 2px rgba(0, 0, 0, 0.3));\n",
              "      fill: #FFFFFF;\n",
              "    }\n",
              "  </style>\n",
              "\n",
              "      <script>\n",
              "        const buttonEl =\n",
              "          document.querySelector('#df-12ea251a-93d6-4508-a1b1-63a00ddeaa44 button.colab-df-convert');\n",
              "        buttonEl.style.display =\n",
              "          google.colab.kernel.accessAllowed ? 'block' : 'none';\n",
              "\n",
              "        async function convertToInteractive(key) {\n",
              "          const element = document.querySelector('#df-12ea251a-93d6-4508-a1b1-63a00ddeaa44');\n",
              "          const dataTable =\n",
              "            await google.colab.kernel.invokeFunction('convertToInteractive',\n",
              "                                                     [key], {});\n",
              "          if (!dataTable) return;\n",
              "\n",
              "          const docLinkHtml = 'Like what you see? Visit the ' +\n",
              "            '<a target=\"_blank\" href=https://colab.research.google.com/notebooks/data_table.ipynb>data table notebook</a>'\n",
              "            + ' to learn more about interactive tables.';\n",
              "          element.innerHTML = '';\n",
              "          dataTable['output_type'] = 'display_data';\n",
              "          await google.colab.output.renderOutput(dataTable, element);\n",
              "          const docLink = document.createElement('div');\n",
              "          docLink.innerHTML = docLinkHtml;\n",
              "          element.appendChild(docLink);\n",
              "        }\n",
              "      </script>\n",
              "    </div>\n",
              "  </div>\n",
              "  "
            ]
          },
          "metadata": {},
          "execution_count": 144
        }
      ]
    },
    {
      "cell_type": "code",
      "metadata": {
        "id": "vhbEPkBYUwq2"
      },
      "source": [
        "from collections import Counter"
      ],
      "execution_count": null,
      "outputs": []
    },
    {
      "cell_type": "markdown",
      "metadata": {
        "id": "szGxmSxfUwq2"
      },
      "source": [
        "collections.Counter: https://docs.python.org/3/library/collections.html#collections.Counter"
      ]
    },
    {
      "cell_type": "code",
      "metadata": {
        "id": "Bwqa6vp4Uwq3"
      },
      "source": [
        "counter = Counter()          # The counter object will have all the word count information\n",
        "\n",
        "for l in df.tagged_words:\n",
        "    word_set = set() # 중복허용하지 않기 위해서 list대신 set .. 하나의 문서에 키워드를 엄청 넣는 경우가 있어서 그 경우를 막기 위해서\n",
        "\n",
        "    for t in l:\n",
        "        word = t[0].lower()  # Convert all words to lowercase\n",
        "        word_set.add(word)\n",
        "\n",
        "    counter.update(word_set) # Be aware of the indentation!"
      ],
      "execution_count": null,
      "outputs": []
    },
    {
      "cell_type": "code",
      "source": [
        "for i in word_set:\n",
        "  print(i)"
      ],
      "metadata": {
        "colab": {
          "base_uri": "https://localhost:8080/"
        },
        "id": "TwE3qoh00YOy",
        "outputId": "6f937436-fc09-458c-dbdf-da7c4f335ded"
      },
      "execution_count": null,
      "outputs": [
        {
          "output_type": "stream",
          "name": "stdout",
          "text": [
            "qbs\n",
            "(\n",
            "of\n",
            "terrible\n",
            "are\n",
            "own\n",
            "these\n",
            "league\n",
            "in\n",
            "their\n",
            "rookie\n",
            ")\n",
            "a\n"
          ]
        }
      ]
    },
    {
      "cell_type": "markdown",
      "metadata": {
        "id": "mJL8IyrDUwq3"
      },
      "source": [
        "Note that you converted each word to lowercase to avoid any potential variations due to the case sensitivity."
      ]
    },
    {
      "cell_type": "markdown",
      "metadata": {
        "id": "xDS7vd3MUwq3"
      },
      "source": [
        "Note also that you used a set to remove duplicate words in a tweet. This allows you to count each word in a tweet as just 1, even if it appears more than once in the tweet."
      ]
    },
    {
      "cell_type": "code",
      "metadata": {
        "id": "jkbj4fiOUwq3",
        "colab": {
          "base_uri": "https://localhost:8080/",
          "height": 562
        },
        "outputId": "9d61056e-2d0d-4fa7-f3ad-fc3772684ee1"
      },
      "source": [
        "from IPython.display import Image\n",
        "Image(f\"{classdata_folder}/images/word_count.png\")"
      ],
      "execution_count": null,
      "outputs": [
        {
          "output_type": "execute_result",
          "data": {
            "image/png": "[encoded data removed]",
            "text/plain": [
              "<IPython.core.display.Image object>"
            ]
          },
          "metadata": {},
          "execution_count": 147
        }
      ]
    },
    {
      "cell_type": "code",
      "metadata": {
        "id": "g_6ax_WtUwq3",
        "colab": {
          "base_uri": "https://localhost:8080/"
        },
        "outputId": "0dcea3d0-fc67-4a28-845c-ce23686f1c06"
      },
      "source": [
        "counter.most_common(50)   # Show the top-n most popular words in counter"
      ],
      "execution_count": null,
      "outputs": [
        {
          "output_type": "execute_result",
          "data": {
            "text/plain": [
              "[('the', 727),\n",
              " ('’', 382),\n",
              " ('?', 350),\n",
              " ('to', 260),\n",
              " ('s', 226),\n",
              " ('in', 221),\n",
              " ('a', 206),\n",
              " ('is', 191),\n",
              " ('and', 190),\n",
              " ('.', 185),\n",
              " ('are', 178),\n",
              " ('for', 156),\n",
              " ('of', 149),\n",
              " ('how', 142),\n",
              " ('can', 141),\n",
              " ('you', 118),\n",
              " ('why', 114),\n",
              " ('what', 107),\n",
              " (',', 106),\n",
              " ('it', 101),\n",
              " ('we', 97),\n",
              " ('t', 95),\n",
              " ('on', 93),\n",
              " ('americans', 91),\n",
              " ('will', 87),\n",
              " ('this', 86),\n",
              " ('—', 85),\n",
              " ('that', 83),\n",
              " ('about', 83),\n",
              " (\"'s\", 79),\n",
              " ('democrats', 77),\n",
              " ('could', 69),\n",
              " ('be', 68),\n",
              " ('but', 65),\n",
              " ('do', 65),\n",
              " ('have', 59),\n",
              " ('abortion', 59),\n",
              " ('their', 58),\n",
              " ('win', 57),\n",
              " ('more', 51),\n",
              " ('republicans', 50),\n",
              " ('at', 49),\n",
              " ('election', 47),\n",
              " ('senate', 46),\n",
              " ('who', 45),\n",
              " ('an', 45),\n",
              " ('new', 43),\n",
              " ('2022', 42),\n",
              " ('…', 42),\n",
              " ('court', 42)]"
            ]
          },
          "metadata": {},
          "execution_count": 148
        }
      ]
    },
    {
      "cell_type": "markdown",
      "metadata": {
        "id": "Gqg2nMJoUwq4"
      },
      "source": [
        "collections.Counter.most_common: https://docs.python.org/3/library/collections.html#collections.Counter.most_common"
      ]
    },
    {
      "cell_type": "markdown",
      "metadata": {
        "id": "-1XpcGUjUwq4"
      },
      "source": [
        "Stopwords are words that are filtered out before processing of natural language text. Stopwords are generally the most common words in a language. There is no single universal list of stopwords used by all natural language processing tools, and indeed not all tools even use such a list. Some tools avoid removing stop words to support phrase search."
      ]
    },
    {
      "cell_type": "markdown",
      "metadata": {
        "id": "1MzDTNWrUwq4"
      },
      "source": [
        "Stopwords on Wikipedia: https://en.wikipedia.org/wiki/Stop_words"
      ]
    },
    {
      "cell_type": "code",
      "metadata": {
        "id": "m9sC3gyYUwq4"
      },
      "source": [
        "from nltk.corpus import stopwords"
      ],
      "execution_count": null,
      "outputs": []
    },
    {
      "cell_type": "code",
      "metadata": {
        "id": "YsIJmhj7Uwq4",
        "colab": {
          "base_uri": "https://localhost:8080/"
        },
        "outputId": "c9b76e0f-9815-4441-ce26-a3989f133b81"
      },
      "source": [
        "global_stopwords = nltk.corpus.stopwords.words(\"english\")\n",
        "global_stopwords[:30]"
      ],
      "execution_count": null,
      "outputs": [
        {
          "output_type": "execute_result",
          "data": {
            "text/plain": [
              "['i',\n",
              " 'me',\n",
              " 'my',\n",
              " 'myself',\n",
              " 'we',\n",
              " 'our',\n",
              " 'ours',\n",
              " 'ourselves',\n",
              " 'you',\n",
              " \"you're\",\n",
              " \"you've\",\n",
              " \"you'll\",\n",
              " \"you'd\",\n",
              " 'your',\n",
              " 'yours',\n",
              " 'yourself',\n",
              " 'yourselves',\n",
              " 'he',\n",
              " 'him',\n",
              " 'his',\n",
              " 'himself',\n",
              " 'she',\n",
              " \"she's\",\n",
              " 'her',\n",
              " 'hers',\n",
              " 'herself',\n",
              " 'it',\n",
              " \"it's\",\n",
              " 'its',\n",
              " 'itself']"
            ]
          },
          "metadata": {},
          "execution_count": 150
        }
      ]
    },
    {
      "cell_type": "markdown",
      "metadata": {
        "id": "mRsJ6rQ1Uwq4"
      },
      "source": [
        "Stopwords, in fact, have no meaning in terms of keyword analysis."
      ]
    },
    {
      "cell_type": "code",
      "metadata": {
        "id": "-Ie0b1FTUwq5",
        "scrolled": false,
        "colab": {
          "base_uri": "https://localhost:8080/"
        },
        "outputId": "4afad670-90b4-4899-b877-3ae599b8dff7"
      },
      "source": [
        "counter = Counter()\n",
        "\n",
        "for l in df.tagged_words:\n",
        "    word_set = set()\n",
        "\n",
        "    for t in l:\n",
        "        word = t[0].lower()\n",
        "\n",
        "        if word not in global_stopwords:   # Check if the word is a stopword\n",
        "            word_set.add(word)\n",
        "\n",
        "    counter.update(word_set)\n",
        "\n",
        "counter.most_common(30)"
      ],
      "execution_count": null,
      "outputs": [
        {
          "output_type": "execute_result",
          "data": {
            "text/plain": [
              "[('’', 382),\n",
              " ('?', 350),\n",
              " ('.', 185),\n",
              " (',', 106),\n",
              " ('americans', 91),\n",
              " ('—', 85),\n",
              " (\"'s\", 79),\n",
              " ('democrats', 77),\n",
              " ('could', 69),\n",
              " ('abortion', 59),\n",
              " ('win', 57),\n",
              " ('republicans', 50),\n",
              " ('election', 47),\n",
              " ('senate', 46),\n",
              " ('new', 43),\n",
              " ('2022', 42),\n",
              " ('…', 42),\n",
              " ('court', 42),\n",
              " ('supreme', 39),\n",
              " ('nfl', 38),\n",
              " ('trump', 37),\n",
              " ('week', 37),\n",
              " (\"n't\", 36),\n",
              " ('biden', 36),\n",
              " ('world', 35),\n",
              " ('republican', 34),\n",
              " ('voters', 34),\n",
              " ('might', 33),\n",
              " ('looking', 33),\n",
              " ('change', 33)]"
            ]
          },
          "metadata": {},
          "execution_count": 151
        }
      ]
    },
    {
      "cell_type": "code",
      "metadata": {
        "id": "xj7wlStkUwq5",
        "colab": {
          "base_uri": "https://localhost:8080/",
          "height": 36
        },
        "outputId": "83e079d5-0cab-466c-bd7e-2093fc34ec27"
      },
      "source": [
        "import string\n",
        "string.punctuation"
      ],
      "execution_count": null,
      "outputs": [
        {
          "output_type": "execute_result",
          "data": {
            "text/plain": [
              "'!\"#$%&\\'()*+,-./:;<=>?@[\\\\]^_`{|}~'"
            ],
            "application/vnd.google.colaboratory.intrinsic+json": {
              "type": "string"
            }
          },
          "metadata": {},
          "execution_count": 152
        }
      ]
    },
    {
      "cell_type": "code",
      "metadata": {
        "id": "DxZMwO60Uwq5",
        "colab": {
          "base_uri": "https://localhost:8080/"
        },
        "outputId": "2360bd51-9994-478e-a93d-20feec917abd"
      },
      "source": [
        "local_stopwords = [c for c in string.punctuation] +\\\n",
        "                  ['‘', '’', '—', '…', \"'s\", \"n't\"] # 결과보고 없애고 싶은거 추가하기\n",
        "local_stopwords"
      ],
      "execution_count": null,
      "outputs": [
        {
          "output_type": "execute_result",
          "data": {
            "text/plain": [
              "['!',\n",
              " '\"',\n",
              " '#',\n",
              " '$',\n",
              " '%',\n",
              " '&',\n",
              " \"'\",\n",
              " '(',\n",
              " ')',\n",
              " '*',\n",
              " '+',\n",
              " ',',\n",
              " '-',\n",
              " '.',\n",
              " '/',\n",
              " ':',\n",
              " ';',\n",
              " '<',\n",
              " '=',\n",
              " '>',\n",
              " '?',\n",
              " '@',\n",
              " '[',\n",
              " '\\\\',\n",
              " ']',\n",
              " '^',\n",
              " '_',\n",
              " '`',\n",
              " '{',\n",
              " '|',\n",
              " '}',\n",
              " '~',\n",
              " '‘',\n",
              " '’',\n",
              " '—',\n",
              " '…',\n",
              " \"'s\",\n",
              " \"n't\"]"
            ]
          },
          "metadata": {},
          "execution_count": 153
        }
      ]
    },
    {
      "cell_type": "markdown",
      "metadata": {
        "id": "mDrMGy0TUwq5"
      },
      "source": [
        "Note that the words *health*, *mental*, and *mentalhealth* were included in the local stopwords, as they are search terms so every tweet must have any of those words, which makes them not so meaningful in terms of keyword analysis."
      ]
    },
    {
      "cell_type": "code",
      "metadata": {
        "id": "OFIvgVzkUwq5",
        "scrolled": false,
        "colab": {
          "base_uri": "https://localhost:8080/"
        },
        "outputId": "0694e1de-2f9f-462b-f857-da01fb94b996"
      },
      "source": [
        "counter = Counter()\n",
        "\n",
        "for l in df.tagged_words:\n",
        "    word_set = set()\n",
        "\n",
        "    for t in l:\n",
        "        word = t[0].lower()\n",
        "\n",
        "        if word not in (global_stopwords + local_stopwords):\n",
        "        # Check if the word is either a global or a local stopword\n",
        "            word_set.add(word)\n",
        "\n",
        "    counter.update(word_set)\n",
        "\n",
        "counter.most_common(30)"
      ],
      "execution_count": null,
      "outputs": [
        {
          "output_type": "execute_result",
          "data": {
            "text/plain": [
              "[('americans', 91),\n",
              " ('democrats', 77),\n",
              " ('could', 69),\n",
              " ('abortion', 59),\n",
              " ('win', 57),\n",
              " ('republicans', 50),\n",
              " ('election', 47),\n",
              " ('senate', 46),\n",
              " ('new', 43),\n",
              " ('2022', 42),\n",
              " ('court', 42),\n",
              " ('supreme', 39),\n",
              " ('nfl', 38),\n",
              " ('trump', 37),\n",
              " ('week', 37),\n",
              " ('biden', 36),\n",
              " ('world', 35),\n",
              " ('republican', 34),\n",
              " ('voters', 34),\n",
              " ('might', 33),\n",
              " ('looking', 33),\n",
              " ('change', 33),\n",
              " ('midterms', 32),\n",
              " ('nba', 31),\n",
              " ('college', 30),\n",
              " ('watch', 30),\n",
              " ('georgia', 30),\n",
              " ('year', 29),\n",
              " ('teams', 28),\n",
              " ('want', 28)]"
            ]
          },
          "metadata": {},
          "execution_count": 154
        }
      ]
    },
    {
      "cell_type": "code",
      "metadata": {
        "id": "A0sNilXHUwq6",
        "colab": {
          "base_uri": "https://localhost:8080/"
        },
        "outputId": "37260a70-5a27-4067-b5d6-7d6d92a2b076"
      },
      "source": [
        "counter[\"trump\"]"
      ],
      "execution_count": null,
      "outputs": [
        {
          "output_type": "execute_result",
          "data": {
            "text/plain": [
              "37"
            ]
          },
          "metadata": {},
          "execution_count": 155
        }
      ]
    },
    {
      "cell_type": "markdown",
      "metadata": {
        "id": "3diHn456Uwq6"
      },
      "source": [
        "The word '*trump*' appears 37 times in the corpus."
      ]
    },
    {
      "cell_type": "code",
      "metadata": {
        "id": "tmWJK2JFUwq6",
        "colab": {
          "base_uri": "https://localhost:8080/"
        },
        "outputId": "339ac546-5dd3-4ab1-eec6-418f3af146dd"
      },
      "source": [
        "[(word, count) for word, count in counter.items() if count > 50]"
      ],
      "execution_count": null,
      "outputs": [
        {
          "output_type": "execute_result",
          "data": {
            "text/plain": [
              "[('could', 69),\n",
              " ('win', 57),\n",
              " ('americans', 91),\n",
              " ('democrats', 77),\n",
              " ('abortion', 59)]"
            ]
          },
          "metadata": {},
          "execution_count": 156
        }
      ]
    },
    {
      "cell_type": "markdown",
      "metadata": {
        "id": "W7t_0rACkYLu"
      },
      "source": [
        "### Popular Nouns - topic 분석"
      ]
    },
    {
      "cell_type": "code",
      "metadata": {
        "id": "VfUHZe84kYLv",
        "colab": {
          "base_uri": "https://localhost:8080/"
        },
        "outputId": "bce05002-cc33-4f1f-e316-3361d06ecac0"
      },
      "source": [
        "counter1 = Counter()\n",
        "\n",
        "for l in df.tagged_words:\n",
        "    word_set = set()\n",
        "\n",
        "    for t in l:\n",
        "        word = t[0].lower()\n",
        "        tag = t[1]\n",
        "\n",
        "        if tag.startswith(\"NN\") & (word not in (global_stopwords + local_stopwords)):\n",
        "            word_set.add(word)\n",
        "\n",
        "    counter1.update(word_set)\n",
        "\n",
        "counter1.most_common(30)"
      ],
      "execution_count": null,
      "outputs": [
        {
          "output_type": "execute_result",
          "data": {
            "text/plain": [
              "[('americans', 91),\n",
              " ('democrats', 75),\n",
              " ('could', 59),\n",
              " ('abortion', 59),\n",
              " ('republicans', 50),\n",
              " ('election', 47),\n",
              " ('senate', 46),\n",
              " ('new', 43),\n",
              " ('court', 42),\n",
              " ('supreme', 39),\n",
              " ('nfl', 38),\n",
              " ('biden', 36),\n",
              " ('win', 35),\n",
              " ('trump', 35),\n",
              " ('world', 35),\n",
              " ('week', 35),\n",
              " ('voters', 34),\n",
              " ('midterms', 32),\n",
              " ('might', 31),\n",
              " ('college', 30),\n",
              " ('georgia', 30),\n",
              " ('year', 29),\n",
              " ('nba', 29),\n",
              " ('teams', 28),\n",
              " ('datasets', 28),\n",
              " ('change', 28),\n",
              " ('politics', 27),\n",
              " ('house', 26),\n",
              " ('football', 25),\n",
              " ('republican', 23)]"
            ]
          },
          "metadata": {},
          "execution_count": 157
        }
      ]
    },
    {
      "cell_type": "markdown",
      "metadata": {
        "id": "hspPZLiGUwq6"
      },
      "source": [
        "### Popular Adjectives - emotional"
      ]
    },
    {
      "cell_type": "code",
      "metadata": {
        "id": "Eq42BTl4Uwq6",
        "colab": {
          "base_uri": "https://localhost:8080/"
        },
        "outputId": "3ac8837b-4785-4493-ce57-06ca12d3aa47"
      },
      "source": [
        "counter2 = Counter()\n",
        "\n",
        "for l in df.tagged_words:\n",
        "    word_set = set()\n",
        "\n",
        "    for t in l:\n",
        "        word = t[0].lower()\n",
        "        tag = t[1]\n",
        "\n",
        "        if tag.startswith(\"JJ\") & (word not in (global_stopwords + local_stopwords)):\n",
        "            word_set.add(word)\n",
        "\n",
        "    counter2.update(word_set)\n",
        "\n",
        "counter2.most_common(30)"
      ],
      "execution_count": null,
      "outputs": [
        {
          "output_type": "execute_result",
          "data": {
            "text/plain": [
              "[('last', 15),\n",
              " ('many', 14),\n",
              " ('republican', 11),\n",
              " ('democratic', 10),\n",
              " ('political', 9),\n",
              " ('much', 9),\n",
              " ('american', 8),\n",
              " ('best', 6),\n",
              " ('good', 6),\n",
              " ('final', 5),\n",
              " ('early', 5),\n",
              " ('important', 4),\n",
              " ('2022-23', 4),\n",
              " ('conservative', 4),\n",
              " ('special', 4),\n",
              " ('real', 4),\n",
              " ('big', 3),\n",
              " ('concerned', 3),\n",
              " ('unlikely', 3),\n",
              " ('likely', 3),\n",
              " ('ready', 3),\n",
              " ('week', 3),\n",
              " ('congressional', 3),\n",
              " ('unpopular', 3),\n",
              " ('next', 3),\n",
              " ('wrong', 2),\n",
              " ('clear', 2),\n",
              " ('asian', 2),\n",
              " ('toss-up', 2),\n",
              " ('fewer', 2)]"
            ]
          },
          "metadata": {},
          "execution_count": 158
        }
      ]
    },
    {
      "cell_type": "markdown",
      "metadata": {
        "id": "zidHII92Uwq6"
      },
      "source": [
        "### Popular Verbs - behavior"
      ]
    },
    {
      "cell_type": "code",
      "metadata": {
        "id": "pX6W24SLUwq7",
        "scrolled": false,
        "colab": {
          "base_uri": "https://localhost:8080/"
        },
        "outputId": "9ae4dbde-8522-48d0-b67d-f181647ef732"
      },
      "source": [
        "counter3 = Counter()\n",
        "\n",
        "for l in df.tagged_words:\n",
        "    word_set = set()\n",
        "\n",
        "    for t in l:\n",
        "        word = t[0].lower()\n",
        "        tag = t[1]\n",
        "\n",
        "        if tag.startswith(\"VB\") & (word not in (global_stopwords + local_stopwords)):\n",
        "            word_set.add(word)\n",
        "\n",
        "    counter3.update(word_set)\n",
        "\n",
        "counter3.most_common(30)"
      ],
      "execution_count": null,
      "outputs": [
        {
          "output_type": "execute_result",
          "data": {
            "text/plain": [
              "[('looking', 31),\n",
              " ('watch', 27),\n",
              " ('buy', 24),\n",
              " (\"'re\", 23),\n",
              " ('win', 22),\n",
              " ('want', 21),\n",
              " ('think', 19),\n",
              " ('need', 18),\n",
              " ('know', 12),\n",
              " ('make', 11),\n",
              " ('get', 11),\n",
              " ('going', 10),\n",
              " ('keep', 9),\n",
              " ('hiring', 9),\n",
              " ('made', 8),\n",
              " ('turned', 8),\n",
              " ('winning', 8),\n",
              " ('making', 7),\n",
              " ('take', 7),\n",
              " ('playing', 7),\n",
              " ('believe', 7),\n",
              " ('feel', 6),\n",
              " ('expect', 6),\n",
              " ('thinking', 5),\n",
              " ('left', 5),\n",
              " ('lose', 5),\n",
              " ('lost', 5),\n",
              " ('change', 5),\n",
              " ('voted', 5),\n",
              " ('favored', 5)]"
            ]
          },
          "metadata": {},
          "execution_count": 159
        }
      ]
    },
    {
      "cell_type": "markdown",
      "metadata": {
        "id": "H1gLN3hvUwq8"
      },
      "source": [
        "## Putting Everything Together into a Single Function"
      ]
    },
    {
      "cell_type": "code",
      "metadata": {
        "id": "VvUp39b9Uwq8"
      },
      "source": [
        "def get_counter(dataframe, stopwords=[], target_tag=None):\n",
        "    counter = Counter()\n",
        "\n",
        "    for l in dataframe.tagged_words:\n",
        "        word_set = set()\n",
        "\n",
        "        for t in l:\n",
        "            word = t[0].lower()\n",
        "            tag = t[1]\n",
        "\n",
        "            ##########################################################\n",
        "            # Check if the word is a stopword.\n",
        "            ##########################################################\n",
        "            if word in stopwords:\n",
        "                continue\n",
        "\n",
        "            if target_tag is None:\n",
        "                word_set.add(word)\n",
        "            else:\n",
        "                ##########################################################\n",
        "                # Check the tag\n",
        "                ##########################################################\n",
        "                if tag.startswith(target_tag):\n",
        "                    word_set.add(word)\n",
        "                else:\n",
        "                    continue\n",
        "\n",
        "        counter.update(word_set)     # Be aware of the indentation!\n",
        "\n",
        "    return counter"
      ],
      "execution_count": null,
      "outputs": []
    },
    {
      "cell_type": "code",
      "metadata": {
        "id": "Vadg3eLHUwq8",
        "colab": {
          "base_uri": "https://localhost:8080/"
        },
        "outputId": "1a3a1387-c0b2-47d3-d94f-75013bf6ad9c"
      },
      "source": [
        "counter_all = get_counter(df, global_stopwords+local_stopwords)\n",
        "counter_all.most_common(30)"
      ],
      "execution_count": null,
      "outputs": [
        {
          "output_type": "execute_result",
          "data": {
            "text/plain": [
              "[('americans', 91),\n",
              " ('democrats', 77),\n",
              " ('could', 69),\n",
              " ('abortion', 59),\n",
              " ('win', 57),\n",
              " ('republicans', 50),\n",
              " ('election', 47),\n",
              " ('senate', 46),\n",
              " ('new', 43),\n",
              " ('2022', 42),\n",
              " ('court', 42),\n",
              " ('supreme', 39),\n",
              " ('nfl', 38),\n",
              " ('trump', 37),\n",
              " ('week', 37),\n",
              " ('biden', 36),\n",
              " ('world', 35),\n",
              " ('republican', 34),\n",
              " ('voters', 34),\n",
              " ('might', 33),\n",
              " ('looking', 33),\n",
              " ('change', 33),\n",
              " ('midterms', 32),\n",
              " ('nba', 31),\n",
              " ('college', 30),\n",
              " ('watch', 30),\n",
              " ('georgia', 30),\n",
              " ('year', 29),\n",
              " ('teams', 28),\n",
              " ('want', 28)]"
            ]
          },
          "metadata": {},
          "execution_count": 161
        }
      ]
    },
    {
      "cell_type": "code",
      "metadata": {
        "id": "WZ3rpRc2Uwq8",
        "colab": {
          "base_uri": "https://localhost:8080/"
        },
        "outputId": "4e231ed7-87d3-443d-d34c-36f8fe354f64"
      },
      "source": [
        "counter_adj = get_counter(df, global_stopwords+local_stopwords, \"JJ\")\n",
        "counter_adj.most_common(30)"
      ],
      "execution_count": null,
      "outputs": [
        {
          "output_type": "execute_result",
          "data": {
            "text/plain": [
              "[('last', 15),\n",
              " ('many', 14),\n",
              " ('republican', 11),\n",
              " ('democratic', 10),\n",
              " ('political', 9),\n",
              " ('much', 9),\n",
              " ('american', 8),\n",
              " ('best', 6),\n",
              " ('good', 6),\n",
              " ('final', 5),\n",
              " ('early', 5),\n",
              " ('important', 4),\n",
              " ('2022-23', 4),\n",
              " ('conservative', 4),\n",
              " ('special', 4),\n",
              " ('real', 4),\n",
              " ('big', 3),\n",
              " ('concerned', 3),\n",
              " ('unlikely', 3),\n",
              " ('likely', 3),\n",
              " ('ready', 3),\n",
              " ('week', 3),\n",
              " ('congressional', 3),\n",
              " ('unpopular', 3),\n",
              " ('next', 3),\n",
              " ('wrong', 2),\n",
              " ('clear', 2),\n",
              " ('asian', 2),\n",
              " ('toss-up', 2),\n",
              " ('fewer', 2)]"
            ]
          },
          "metadata": {},
          "execution_count": 162
        }
      ]
    },
    {
      "cell_type": "markdown",
      "metadata": {
        "id": "BRFCxU7spIrk"
      },
      "source": [
        "## Create Time Series Data"
      ]
    },
    {
      "cell_type": "code",
      "metadata": {
        "id": "1BpLJtU1Uwq8",
        "colab": {
          "base_uri": "https://localhost:8080/"
        },
        "outputId": "11d8d294-17ee-4d31-8b10-2765856dbca8"
      },
      "source": [
        "count = pd.Series(data=1, index=df.datetime).resample(rule=\"w\").count() # 1/15 : 1/9 ~ 1/15\n",
        "count"
      ],
      "execution_count": null,
      "outputs": [
        {
          "output_type": "execute_result",
          "data": {
            "text/plain": [
              "datetime\n",
              "2021-10-03    10\n",
              "2021-10-10    21\n",
              "2021-10-17    18\n",
              "2021-10-24    19\n",
              "2021-10-31    21\n",
              "              ..\n",
              "2022-12-18    19\n",
              "2022-12-25    17\n",
              "2023-01-01     6\n",
              "2023-01-08    12\n",
              "2023-01-15     5\n",
              "Freq: W-SUN, Length: 68, dtype: int64"
            ]
          },
          "metadata": {},
          "execution_count": 163
        }
      ]
    },
    {
      "cell_type": "markdown",
      "metadata": {
        "id": "FUsBmn2Np1Ki"
      },
      "source": [
        "The `rule` argument value takes\n",
        "- \"h\": hourly\n",
        "- \"d\": daily\n",
        "- \"w\": weekly\n",
        "- \"m\": monthly\n",
        "- \"y\": yearly"
      ]
    },
    {
      "cell_type": "code",
      "metadata": {
        "id": "_zmCjsy-qKNi",
        "colab": {
          "base_uri": "https://localhost:8080/"
        },
        "outputId": "34bf200a-e42e-467e-f2ce-8bf1da21f1e0"
      },
      "source": [
        "count.max(), count.idxmax() # 이때 왜 article이 많았는지 분석"
      ],
      "execution_count": null,
      "outputs": [
        {
          "output_type": "execute_result",
          "data": {
            "text/plain": [
              "(33, Timestamp('2022-10-30 00:00:00', freq='W-SUN'))"
            ]
          },
          "metadata": {},
          "execution_count": 164
        }
      ]
    },
    {
      "cell_type": "code",
      "metadata": {
        "id": "_9rF5G-QqN3X",
        "colab": {
          "base_uri": "https://localhost:8080/"
        },
        "outputId": "85335a0a-9871-419f-c8ec-806334c97427"
      },
      "source": [
        "count.min(), count.idxmin()"
      ],
      "execution_count": null,
      "outputs": [
        {
          "output_type": "execute_result",
          "data": {
            "text/plain": [
              "(3, Timestamp('2022-11-27 00:00:00', freq='W-SUN'))"
            ]
          },
          "metadata": {},
          "execution_count": 165
        }
      ]
    },
    {
      "cell_type": "code",
      "metadata": {
        "id": "DVazzN43qZq4",
        "colab": {
          "base_uri": "https://localhost:8080/",
          "height": 1000
        },
        "outputId": "556fd1f6-342a-4aaa-b4bd-42b2c8326b63"
      },
      "source": [
        "df[(df.datetime >= \"2022-10-24\") & (df.datetime < \"2022-10-31\")]"
      ],
      "execution_count": null,
      "outputs": [
        {
          "output_type": "execute_result",
          "data": {
            "text/plain": [
              "                                                                                          file_name  \\\n",
              "188                             overturning-roe-has-meant-at-least-10000-fewer-legal-abortions.html   \n",
              "189                                        what-does-the-midterm-model-say-with-two-weeks-left.html   \n",
              "190                                    could-a-republican-really-win-the-oregon-governors-race.html   \n",
              "191                                        candidates-are-sitting-out-debates-will-voters-care.html   \n",
              "192                                                    dallas-mavericks-early-season-chemistry.html   \n",
              "193                                           where-our-model-thinks-the-polls-might-be-biased.html   \n",
              "194                                                             can-you-hand-out-all-the-candy.html   \n",
              "195                                        how-liv-golf-is-tearing-the-sport-apart-in-3-charts.html   \n",
              "196   the-supreme-court-could-overturn-another-major-precedent-this-time-americans-might-agree.html   \n",
              "197          the-astros-are-chasing-history-but-the-phillies-know-how-to-pull-a-historic-upset.html   \n",
              "198                                           will-arizonas-abortion-laws-go-back-to-the-1800s.html   \n",
              "199                                               american-turning-point-grassroots-gun-reform.html   \n",
              "200              the-niners-offense-is-cruising-until-kyle-shanahan-runs-out-of-scripted-plays.html   \n",
              "201                                                     ipsos-preelection-survey-likely-voters.html   \n",
              "202                                                   how-much-power-do-christians-really-have.html   \n",
              "203                                            how-a-college-education-divides-american-voters.html   \n",
              "204                                        the-astros-are-baseballs-most-business-like-buzzsaw.html   \n",
              "205                                                       nonresponse-bias-ipsos-poll-findings.html   \n",
              "206                                                  the-datasets-were-looking-at-this-week-24.html   \n",
              "207                      aaron-nola-embodies-the-phillies-topsy-turvy-path-to-the-world-series.html   \n",
              "208                                                                 state-government-elections.html   \n",
              "209  the-midterms-could-set-a-new-record-for-female-governors-and-send-fewer-women-to-congress.html   \n",
              "210                                a-quarter-of-latino-adults-dont-favor-any-midterm-candidate.html   \n",
              "211                                                     how-much-do-campaign-ads-really-matter.html   \n",
              "212                                          orange-college-football-teams-are-having-a-moment.html   \n",
              "213       the-phillies-wanted-to-be-the-astros-now-theyll-have-to-beat-them-for-a-world-series.html   \n",
              "214                                        american-turning-point-politics-in-public-education.html   \n",
              "215                                    youre-not-imagining-it-there-are-fewer-polls-this-cycle.html   \n",
              "216        most-candidates-who-think-2020-was-rigged-was-are-probably-going-to-win-in-november.html   \n",
              "217                                                                                  gop-polls.html   \n",
              "218                                                    nfl-week-7-injuries-washed-quarterbacks.html   \n",
              "219                                                                  invisible-divides-college.html   \n",
              "220                             will-republican-gains-in-south-texas-win-them-more-house-seats.html   \n",
              "\n",
              "                                                                                               title  \\\n",
              "188                                  Overturning Roe Has Meant At Least 10,000 Fewer Legal Abortions   \n",
              "189                                     What Does The Midterm Model Say With Two Weeks Left?           \n",
              "190                                Could A Republican Really Win The Oregon Governor’s Race?           \n",
              "191                                    Candidates Are Sitting Out Debates. Will Voters Care?           \n",
              "192                      The Dallas Mavericks Are Different From Last Year. That Doesn’t Mean Worse.   \n",
              "193                                                 Where Our Model Thinks The Polls Might Be Biased   \n",
              "194                                                                  Can You Hand Out All The Candy?   \n",
              "195                                             How LIV Golf Is Tearing The Sport Apart, In 3 Charts   \n",
              "196      The Supreme Court Could Overturn Another Major Precedent. This Time, Americans Might Agree.   \n",
              "197              The Astros Are Chasing History. But The Phillies Know How To Pull A Historic Upset.   \n",
              "198                                       Will Arizona’s Abortion Laws Go Back To The 1800s?           \n",
              "199                                            American Turning Point: Grassroots Gun Reform           \n",
              "200                 The Niners' Offense Is Cruising — Until Kyle Shanahan Runs Out Of Scripted Plays   \n",
              "201                                               Voters Don't Think Either Party Deserves To Govern   \n",
              "202                                                        How Much Power Do Christians Really Have?   \n",
              "203                                          How A College Education Divides American Voters           \n",
              "204                                             The Astros Are Baseball’s Most Business-like Buzzsaw   \n",
              "205                                                   Who Are The People Who Don't Respond To Polls?   \n",
              "206                                                          The Datasets We're Looking At This Week   \n",
              "207                           Aaron Nola Embodies The Phillies' Topsy-Turvy Path To The World Series   \n",
              "208                              The Most Important Elections Of 2022 Could Be In State Legislatures   \n",
              "209      The Midterms Could Set A New Record For Female Governors — And Send Fewer Women To Congress   \n",
              "210                             A Quarter Of Latino Adults Don’t Favor Any Midterm Candidate           \n",
              "211                                                  How Much Do Campaign Ads Really Matter?           \n",
              "212                                                Orange College Football Teams Are Having A Moment   \n",
              "213          The Phillies Wanted To Be The Astros. Now They’ll Have To Beat Them For A World Series.   \n",
              "214                                     American Turning Point: Politics In Public Education           \n",
              "215                                        You're Not Imagining It: There Are Fewer Polls This Cycle   \n",
              "216                  Most Candidates Who Think 2020 Was Rigged Are Probably Going To Win In November   \n",
              "217                                                     The Polls Are Getting Better For Republicans   \n",
              "218  We Don't Want To Blame San Francisco's Defensive And Tampa Bay's Offensive Problems On Injuries   \n",
              "219                                                           Is College Worth It? Voters Are Split.   \n",
              "220                                  Will Republican Gains In South Texas Win Them More House Seats?   \n",
              "\n",
              "                     author            datetime  \\\n",
              "188           Maggie Koerth 2022-10-30 09:00:00   \n",
              "189                     NaN 2022-10-29 00:00:00   \n",
              "190           Emily Venezky 2022-10-28 00:00:00   \n",
              "191             Galen Druke 2022-10-28 00:00:00   \n",
              "192       Dorothy J. Gentry 2022-10-28 13:25:00   \n",
              "193             Nate Silver 2022-10-28 09:52:00   \n",
              "194      Zach Wissner-Gross 2022-10-28 08:00:00   \n",
              "195             Alex Newman 2022-10-28 06:00:00   \n",
              "196  Amelia Thomson-DeVeaux 2022-10-28 06:00:00   \n",
              "197              Neil Paine 2022-10-27 14:35:00   \n",
              "198  Amelia Thomson-DeVeaux 2022-10-27 00:00:00   \n",
              "199                     NaN 2022-10-27 00:00:00   \n",
              "200         Josh Hermsmeyer 2022-10-27 12:18:00   \n",
              "201        Geoffrey Skelley 2022-10-27 12:00:00   \n",
              "202  Amelia Thomson-DeVeaux 2022-10-27 06:00:00   \n",
              "203                     NaN 2022-10-26 00:00:00   \n",
              "204           Alex Kirshner 2022-10-26 13:34:00   \n",
              "205           Sarah Feldman 2022-10-26 13:06:00   \n",
              "206      Jeremy Singer-Vine 2022-10-26 12:00:00   \n",
              "207           Howard Megdal 2022-10-26 11:47:00   \n",
              "208        Nathaniel Rakich 2022-10-26 06:00:00   \n",
              "209  Amelia Thomson-DeVeaux 2022-10-26 06:00:00   \n",
              "210                     NaN 2022-10-25 00:00:00   \n",
              "211                     NaN 2022-10-25 00:00:00   \n",
              "212             Josh Planos 2022-10-25 16:02:00   \n",
              "213              Neil Paine 2022-10-25 13:58:00   \n",
              "214                     NaN 2022-10-25 00:00:00   \n",
              "215        Geoffrey Skelley 2022-10-25 06:00:00   \n",
              "216          Kaleigh Rogers 2022-10-25 06:00:00   \n",
              "217        Nathaniel Rakich 2022-10-24 18:04:00   \n",
              "218                     NaN 2022-10-24 14:16:00   \n",
              "219            Monica Potts 2022-10-24 06:00:00   \n",
              "220            Alex Samuels 2022-10-24 06:00:00   \n",
              "\n",
              "                                                                                                                                                      body  \\\n",
              "188       Abortion Overturning Roe Has Meant At Least 10,000 Fewer Legal Abortions                   The Hope Clinic for Women in southern Illinois has...   \n",
              "189   In this live taping of the FiveThirtyEight Politics podcast in Washington, D.C., Nate and Galen break down the current FiveThirtyEight midterm fo...   \n",
              "190   Will Oregon elect its first Republican governor in 40 years? According to FiveThirtyEight’s forecast, the race is a dead heat between Republican ...   \n",
              "191   In competitive races throughout the country, candidates are refusing to debate — and in this cycle, the number of races without debates is higher...   \n",
              "192       NBA The Dallas Mavericks Are Different From Last Year. That Doesn’t Mean Worse. Despite criticisms of the team's offseason moves, the Mavs ma...   \n",
              "193       2022 Election Where Our Model Thinks The Polls Might Be Biased    By Nate Silver            Oct. 28, 2022, at 9:52 AM                        ...   \n",
              "194       The Riddler Can You Hand Out All The Candy?    By Zach Wissner-Gross            Oct. 28, 2022, at 8:00 AM                           Illustrat...   \n",
              "195       Golf How LIV Golf Is Tearing The Sport Apart, In 3 Charts    By Alex Newman and Neil Paine            Oct. 28, 2022, at 6:00 AM              ...   \n",
              "196       Affirmative Action The Supreme Court Could Overturn Another Major Precedent. This Time, Americans Might Agree.    By Amelia Thomson-DeVeaux a...   \n",
              "197       MLB The Astros Are Chasing History. But The Phillies Know How To Pull A Historic Upset.    By Neil Paine            Oct. 27, 2022, at 2:35 PM...   \n",
              "198   Whether people in Arizona can continue to get abortions will likely depend on what happens in the November midterms — including in some down ball...   \n",
              "199   The Uvalde, Texas, school shooting left many people demanding change. In Oregon, a former Marine turned in his AR-15 to be destroyed and activist...   \n",
              "200       NFL The Niners' Offense Is Cruising — Until Kyle Shanahan Runs Out Of Scripted Plays    By Josh Hermsmeyer            Oct. 27, 2022, at 12:18...   \n",
              "201       2022 Election Voters Don't Think Either Party Deserves To Govern In our final pre-election survey with Ipsos, we asked Americans how they fee...   \n",
              "202       Invisible Divides How Much Power Do Christians Really Have? The invisible divide that's shaping how Republicans and Democrats think about rel...   \n",
              "203   In Part 3 of this installment of the FiveThirtyEight Politics podcast, the team analyzes how an educational divide is currently shaping American ...   \n",
              "204       MLB The Astros Are Baseball’s Most Business-like Buzzsaw On the verge of an undefeated postseason, Houston gets the job done through overwhel...   \n",
              "205       2022 Election Who Are The People Who Don't Respond To Polls? Our ongoing poll with Ipsos offers some clues.    By Sarah Feldman and Bernard M...   \n",
              "206       Data Is Plural The Datasets We're Looking At This Week    By Jeremy Singer-Vine            Oct. 26, 2022, at 12:00 PM                        ...   \n",
              "207       MLB Aaron Nola Embodies The Phillies' Topsy-Turvy Path To The World Series    By Howard Megdal            Oct. 26, 2022, at 11:47 AM         ...   \n",
              "208       2022 Election The Most Important Elections Of 2022 Could Be In State Legislatures    By Nathaniel Rakich            Oct. 26, 2022, at 6:00 AM...   \n",
              "209       2022 Election The Midterms Could Set A New Record For Female Governors — And Send Fewer Women To Congress    By Amelia Thomson-DeVeaux and Me...   \n",
              "210   In Part 2 of this installment of the FiveThirtyEight Politics podcast, Equis Research co-founder Carlos Odio joins the pod to break down a new Ax...   \n",
              "211   There are just two weeks until Election Day and according to the FiveThirtyEight midterm forecast the race for the Senate has been a “dead heat.”...   \n",
              "212       College Football Orange College Football Teams Are Having A Moment    By Josh Planos            Oct. 25, 2022, at 4:02 PM                    ...   \n",
              "213       MLB The Phillies Wanted To Be The Astros. Now They’ll Have To Beat Them For A World Series.    By Neil Paine            Oct. 25, 2022, at 1:5...   \n",
              "214   With questions about gender identity and critical race theory being taught in schools, school board races have grown more political. In Sarasota ...   \n",
              "215       2022 Election You're Not Imagining It: There Are Fewer Polls This Cycle And a larger share come from partisan sources.    By Geoffrey Skelley...   \n",
              "216       2022 Election Most Candidates Who Think 2020 Was Rigged Are Probably Going To Win In November    By Kaleigh Rogers            Oct. 25, 2022, ...   \n",
              "217       2022 Election The Polls Are Getting Better For Republicans It is a midterm year after all.    By Nathaniel Rakich            Oct. 24, 2022, a...   \n",
              "218       NFL We Don't Want To Blame San Francisco's Defensive And Tampa Bay's Offensive Problems On Injuries    A FiveThirtyEight Chat            Oct....   \n",
              "219       Invisible Divides Is College Worth It? Voters Are Split. This invisible divide is reshaping politics.    By Monica Potts            Oct. 24, ...   \n",
              "220       2022 Election Will Republican Gains In South Texas Win Them More House Seats?    By Alex Samuels            Oct. 24, 2022, at 6:00 AM        ...   \n",
              "\n",
              "                                                                                                                     words  \\\n",
              "188                                             [Overturning, Roe, Has, Meant, At, Least, 10,000, Fewer, Legal, Abortions]   \n",
              "189                                                      [What, Does, The, Midterm, Model, Say, With, Two, Weeks, Left, ?]   \n",
              "190                                              [Could, A, Republican, Really, Win, The, Oregon, Governor, ’, s, Race, ?]   \n",
              "191                                                     [Candidates, Are, Sitting, Out, Debates, ., Will, Voters, Care, ?]   \n",
              "192                       [The, Dallas, Mavericks, Are, Different, From, Last, Year, ., That, Doesn, ’, t, Mean, Worse, .]   \n",
              "193                                                             [Where, Our, Model, Thinks, The, Polls, Might, Be, Biased]   \n",
              "194                                                                              [Can, You, Hand, Out, All, The, Candy, ?]   \n",
              "195                                                     [How, LIV, Golf, Is, Tearing, The, Sport, Apart, ,, In, 3, Charts]   \n",
              "196        [The, Supreme, Court, Could, Overturn, Another, Major, Precedent, ., This, Time, ,, Americans, Might, Agree, .]   \n",
              "197                [The, Astros, Are, Chasing, History, ., But, The, Phillies, Know, How, To, Pull, A, Historic, Upset, .]   \n",
              "198                                                     [Will, Arizona, ’, s, Abortion, Laws, Go, Back, To, The, 1800s, ?]   \n",
              "199                                                                 [American, Turning, Point, :, Grassroots, Gun, Reform]   \n",
              "200                      [The, Niners, ', Offense, Is, Cruising, —, Until, Kyle, Shanahan, Runs, Out, Of, Scripted, Plays]   \n",
              "201                                                          [Voters, Do, n't, Think, Either, Party, Deserves, To, Govern]   \n",
              "202                                                                    [How, Much, Power, Do, Christians, Really, Have, ?]   \n",
              "203                                                                [How, A, College, Education, Divides, American, Voters]   \n",
              "204                                                       [The, Astros, Are, Baseball, ’, s, Most, Business-like, Buzzsaw]   \n",
              "205                                                           [Who, Are, The, People, Who, Do, n't, Respond, To, Polls, ?]   \n",
              "206                                                                      [The, Datasets, We, 're, Looking, At, This, Week]   \n",
              "207                                   [Aaron, Nola, Embodies, The, Phillies, ', Topsy-Turvy, Path, To, The, World, Series]   \n",
              "208                                        [The, Most, Important, Elections, Of, 2022, Could, Be, In, State, Legislatures]   \n",
              "209          [The, Midterms, Could, Set, A, New, Record, For, Female, Governors, —, And, Send, Fewer, Women, To, Congress]   \n",
              "210                                            [A, Quarter, Of, Latino, Adults, Don, ’, t, Favor, Any, Midterm, Candidate]   \n",
              "211                                                                      [How, Much, Do, Campaign, Ads, Really, Matter, ?]   \n",
              "212                                                             [Orange, College, Football, Teams, Are, Having, A, Moment]   \n",
              "213      [The, Phillies, Wanted, To, Be, The, Astros, ., Now, They, ’, ll, Have, To, Beat, Them, For, A, World, Series, .]   \n",
              "214                                                         [American, Turning, Point, :, Politics, In, Public, Education]   \n",
              "215                                               [You, 're, Not, Imagining, It, :, There, Are, Fewer, Polls, This, Cycle]   \n",
              "216                         [Most, Candidates, Who, Think, 2020, Was, Rigged, Are, Probably, Going, To, Win, In, November]   \n",
              "217                                                                   [The, Polls, Are, Getting, Better, For, Republicans]   \n",
              "218  [We, Do, n't, Want, To, Blame, San, Francisco, 's, Defensive, And, Tampa, Bay, 's, Offensive, Problems, On, Injuries]   \n",
              "219                                                                     [Is, College, Worth, It, ?, Voters, Are, Split, .]   \n",
              "220                                          [Will, Republican, Gains, In, South, Texas, Win, Them, More, House, Seats, ?]   \n",
              "\n",
              "                                                                                                                                              tagged_words  \n",
              "188         [(Overturning, VBG), (Roe, NNP), (Has, NNP), (Meant, NNP), (At, IN), (Least, NNP), (10,000, CD), (Fewer, NNP), (Legal, NNP), (Abortions, NNP)]  \n",
              "189               [(What, WP), (Does, VBZ), (The, DT), (Midterm, NNP), (Model, NNP), (Say, NNP), (With, IN), (Two, CD), (Weeks, NNS), (Left, VBN), (?, .)]  \n",
              "190  [(Could, MD), (A, VB), (Republican, NNP), (Really, NNP), (Win, NNP), (The, DT), (Oregon, NNP), (Governor, NNP), (’, NNP), (s, VBD), (Race, NNP), (...  \n",
              "191                    [(Candidates, NNS), (Are, VBP), (Sitting, VBG), (Out, RP), (Debates, NNP), (., .), (Will, NNP), (Voters, NNP), (Care, NNP), (?, .)]  \n",
              "192  [(The, DT), (Dallas, NNP), (Mavericks, NNP), (Are, NNP), (Different, NNP), (From, IN), (Last, JJ), (Year, NN), (., .), (That, IN), (Doesn, NNP), (...  \n",
              "193                              [(Where, WRB), (Our, PRP$), (Model, NNP), (Thinks, VBZ), (The, DT), (Polls, NNS), (Might, NNP), (Be, NNP), (Biased, VBN)]  \n",
              "194                                                            [(Can, MD), (You, PRP), (Hand, VB), (Out, RP), (All, PDT), (The, DT), (Candy, NNP), (?, .)]  \n",
              "195      [(How, WRB), (LIV, NNP), (Golf, NNP), (Is, VBZ), (Tearing, VBG), (The, DT), (Sport, NNP), (Apart, NNP), (,, ,), (In, IN), (3, CD), (Charts, NNS)]  \n",
              "196  [(The, DT), (Supreme, NNP), (Court, NNP), (Could, NNP), (Overturn, NNP), (Another, DT), (Major, NNP), (Precedent, NNP), (., .), (This, DT), (Time,...  \n",
              "197  [(The, DT), (Astros, NNP), (Are, NNP), (Chasing, NNP), (History, NNP), (., .), (But, CC), (The, DT), (Phillies, NNS), (Know, NNP), (How, NNP), (To...  \n",
              "198        [(Will, MD), (Arizona, NNP), (’, NNP), (s, JJ), (Abortion, NNP), (Laws, NNP), (Go, NNP), (Back, NNP), (To, TO), (The, DT), (1800s, CD), (?, .)]  \n",
              "199                                                    [(American, JJ), (Turning, NNP), (Point, NN), (:, :), (Grassroots, NNP), (Gun, NNP), (Reform, NNP)]  \n",
              "200  [(The, DT), (Niners, NNP), (', POS), (Offense, NNP), (Is, VBZ), (Cruising, VBG), (—, RB), (Until, IN), (Kyle, NNP), (Shanahan, NNP), (Runs, VBZ), ...  \n",
              "201                               [(Voters, NNS), (Do, VBP), (n't, RB), (Think, VB), (Either, NNP), (Party, NNP), (Deserves, VBZ), (To, TO), (Govern, VB)]  \n",
              "202                                                [(How, WRB), (Much, JJ), (Power, NNP), (Do, NNP), (Christians, NNPS), (Really, RB), (Have, VB), (?, .)]  \n",
              "203                                                [(How, WRB), (A, DT), (College, NNP), (Education, NNP), (Divides, NNP), (American, NNP), (Voters, NNP)]  \n",
              "204                          [(The, DT), (Astros, NNP), (Are, NNP), (Baseball, NNP), (’, NNP), (s, VBZ), (Most, JJS), (Business-like, JJ), (Buzzsaw, NNP)]  \n",
              "205                     [(Who, WP), (Are, VBP), (The, DT), (People, NNS), (Who, NNP), (Do, VBP), (n't, RB), (Respond, VB), (To, TO), (Polls, NNP), (?, .)]  \n",
              "206                                                 [(The, DT), (Datasets, NNPS), (We, PRP), ('re, VBP), (Looking, VBG), (At, IN), (This, DT), (Week, NN)]  \n",
              "207  [(Aaron, NNP), (Nola, NNP), (Embodies, VBZ), (The, DT), (Phillies, NNPS), (', POS), (Topsy-Turvy, JJ), (Path, NN), (To, TO), (The, DT), (World, NN...  \n",
              "208  [(The, DT), (Most, RBS), (Important, JJ), (Elections, NNS), (Of, IN), (2022, CD), (Could, NNP), (Be, NNP), (In, IN), (State, NNP), (Legislatures, ...  \n",
              "209  [(The, DT), (Midterms, NNP), (Could, NNP), (Set, NNP), (A, NNP), (New, NNP), (Record, NNP), (For, IN), (Female, NNP), (Governors, NNP), (—, NNP), ...  \n",
              "210  [(A, DT), (Quarter, NN), (Of, IN), (Latino, NNP), (Adults, NNP), (Don, NNP), (’, NNP), (t, VB), (Favor, NNP), (Any, NNP), (Midterm, NNP), (Candida...  \n",
              "211                                                 [(How, WRB), (Much, JJ), (Do, VBP), (Campaign, NNP), (Ads, NNP), (Really, NNP), (Matter, NNP), (?, .)]  \n",
              "212                                      [(Orange, NNP), (College, NNP), (Football, NNP), (Teams, NNP), (Are, NNP), (Having, VBG), (A, NNP), (Moment, NN)]  \n",
              "213  [(The, DT), (Phillies, NNPS), (Wanted, VBD), (To, TO), (Be, VB), (The, DT), (Astros, NNP), (., .), (Now, RB), (They, PRP), (’, VBP), (ll, NNS), (H...  \n",
              "214                                      [(American, JJ), (Turning, NNP), (Point, NN), (:, :), (Politics, NNS), (In, IN), (Public, NNP), (Education, NNP)]  \n",
              "215  [(You, PRP), ('re, VBP), (Not, RB), (Imagining, VBG), (It, PRP), (:, :), (There, EX), (Are, NNP), (Fewer, NNP), (Polls, NNP), (This, DT), (Cycle, ...  \n",
              "216  [(Most, JJS), (Candidates, NNS), (Who, WP), (Think, VBP), (2020, CD), (Was, NNP), (Rigged, VBN), (Are, NNP), (Probably, RB), (Going, VBG), (To, TO...  \n",
              "217                                                   [(The, DT), (Polls, NNS), (Are, VBP), (Getting, VBG), (Better, NNP), (For, IN), (Republicans, NNPS)]  \n",
              "218  [(We, PRP), (Do, VBP), (n't, RB), (Want, VB), (To, TO), (Blame, VB), (San, NNP), (Francisco, NNP), ('s, POS), (Defensive, NNP), (And, CC), (Tampa,...  \n",
              "219                                           [(Is, VBZ), (College, NNP), (Worth, IN), (It, PRP), (?, .), (Voters, NNS), (Are, VBP), (Split, NNP), (., .)]  \n",
              "220  [(Will, MD), (Republican, NNP), (Gains, NNP), (In, IN), (South, NNP), (Texas, NNP), (Win, NNP), (Them, NNP), (More, NNP), (House, NNP), (Seats, NN...  "
            ],
            "text/html": [
              "\n",
              "  <div id=\"df-f809a763-ba89-4a02-a7fa-96b015ce8676\">\n",
              "    <div class=\"colab-df-container\">\n",
              "      <div>\n",
              "<style scoped>\n",
              "    .dataframe tbody tr th:only-of-type {\n",
              "        vertical-align: middle;\n",
              "    }\n",
              "\n",
              "    .dataframe tbody tr th {\n",
              "        vertical-align: top;\n",
              "    }\n",
              "\n",
              "    .dataframe thead th {\n",
              "        text-align: right;\n",
              "    }\n",
              "</style>\n",
              "<table border=\"1\" class=\"dataframe\">\n",
              "  <thead>\n",
              "    <tr style=\"text-align: right;\">\n",
              "      <th></th>\n",
              "      <th>file_name</th>\n",
              "      <th>title</th>\n",
              "      <th>author</th>\n",
              "      <th>datetime</th>\n",
              "      <th>body</th>\n",
              "      <th>words</th>\n",
              "      <th>tagged_words</th>\n",
              "    </tr>\n",
              "  </thead>\n",
              "  <tbody>\n",
              "    <tr>\n",
              "      <th>188</th>\n",
              "      <td>overturning-roe-has-meant-at-least-10000-fewer-legal-abortions.html</td>\n",
              "      <td>Overturning Roe Has Meant At Least 10,000 Fewer Legal Abortions</td>\n",
              "      <td>Maggie Koerth</td>\n",
              "      <td>2022-10-30 09:00:00</td>\n",
              "      <td>Abortion Overturning Roe Has Meant At Least 10,000 Fewer Legal Abortions                   The Hope Clinic for Women in southern Illinois has...</td>\n",
              "      <td>[Overturning, Roe, Has, Meant, At, Least, 10,000, Fewer, Legal, Abortions]</td>\n",
              "      <td>[(Overturning, VBG), (Roe, NNP), (Has, NNP), (Meant, NNP), (At, IN), (Least, NNP), (10,000, CD), (Fewer, NNP), (Legal, NNP), (Abortions, NNP)]</td>\n",
              "    </tr>\n",
              "    <tr>\n",
              "      <th>189</th>\n",
              "      <td>what-does-the-midterm-model-say-with-two-weeks-left.html</td>\n",
              "      <td>What Does The Midterm Model Say With Two Weeks Left?</td>\n",
              "      <td>NaN</td>\n",
              "      <td>2022-10-29 00:00:00</td>\n",
              "      <td>In this live taping of the FiveThirtyEight Politics podcast in Washington, D.C., Nate and Galen break down the current FiveThirtyEight midterm fo...</td>\n",
              "      <td>[What, Does, The, Midterm, Model, Say, With, Two, Weeks, Left, ?]</td>\n",
              "      <td>[(What, WP), (Does, VBZ), (The, DT), (Midterm, NNP), (Model, NNP), (Say, NNP), (With, IN), (Two, CD), (Weeks, NNS), (Left, VBN), (?, .)]</td>\n",
              "    </tr>\n",
              "    <tr>\n",
              "      <th>190</th>\n",
              "      <td>could-a-republican-really-win-the-oregon-governors-race.html</td>\n",
              "      <td>Could A Republican Really Win The Oregon Governor’s Race?</td>\n",
              "      <td>Emily Venezky</td>\n",
              "      <td>2022-10-28 00:00:00</td>\n",
              "      <td>Will Oregon elect its first Republican governor in 40 years? According to FiveThirtyEight’s forecast, the race is a dead heat between Republican ...</td>\n",
              "      <td>[Could, A, Republican, Really, Win, The, Oregon, Governor, ’, s, Race, ?]</td>\n",
              "      <td>[(Could, MD), (A, VB), (Republican, NNP), (Really, NNP), (Win, NNP), (The, DT), (Oregon, NNP), (Governor, NNP), (’, NNP), (s, VBD), (Race, NNP), (...</td>\n",
              "    </tr>\n",
              "    <tr>\n",
              "      <th>191</th>\n",
              "      <td>candidates-are-sitting-out-debates-will-voters-care.html</td>\n",
              "      <td>Candidates Are Sitting Out Debates. Will Voters Care?</td>\n",
              "      <td>Galen Druke</td>\n",
              "      <td>2022-10-28 00:00:00</td>\n",
              "      <td>In competitive races throughout the country, candidates are refusing to debate — and in this cycle, the number of races without debates is higher...</td>\n",
              "      <td>[Candidates, Are, Sitting, Out, Debates, ., Will, Voters, Care, ?]</td>\n",
              "      <td>[(Candidates, NNS), (Are, VBP), (Sitting, VBG), (Out, RP), (Debates, NNP), (., .), (Will, NNP), (Voters, NNP), (Care, NNP), (?, .)]</td>\n",
              "    </tr>\n",
              "    <tr>\n",
              "      <th>192</th>\n",
              "      <td>dallas-mavericks-early-season-chemistry.html</td>\n",
              "      <td>The Dallas Mavericks Are Different From Last Year. That Doesn’t Mean Worse.</td>\n",
              "      <td>Dorothy J. Gentry</td>\n",
              "      <td>2022-10-28 13:25:00</td>\n",
              "      <td>NBA The Dallas Mavericks Are Different From Last Year. That Doesn’t Mean Worse. Despite criticisms of the team's offseason moves, the Mavs ma...</td>\n",
              "      <td>[The, Dallas, Mavericks, Are, Different, From, Last, Year, ., That, Doesn, ’, t, Mean, Worse, .]</td>\n",
              "      <td>[(The, DT), (Dallas, NNP), (Mavericks, NNP), (Are, NNP), (Different, NNP), (From, IN), (Last, JJ), (Year, NN), (., .), (That, IN), (Doesn, NNP), (...</td>\n",
              "    </tr>\n",
              "    <tr>\n",
              "      <th>193</th>\n",
              "      <td>where-our-model-thinks-the-polls-might-be-biased.html</td>\n",
              "      <td>Where Our Model Thinks The Polls Might Be Biased</td>\n",
              "      <td>Nate Silver</td>\n",
              "      <td>2022-10-28 09:52:00</td>\n",
              "      <td>2022 Election Where Our Model Thinks The Polls Might Be Biased    By Nate Silver            Oct. 28, 2022, at 9:52 AM                        ...</td>\n",
              "      <td>[Where, Our, Model, Thinks, The, Polls, Might, Be, Biased]</td>\n",
              "      <td>[(Where, WRB), (Our, PRP$), (Model, NNP), (Thinks, VBZ), (The, DT), (Polls, NNS), (Might, NNP), (Be, NNP), (Biased, VBN)]</td>\n",
              "    </tr>\n",
              "    <tr>\n",
              "      <th>194</th>\n",
              "      <td>can-you-hand-out-all-the-candy.html</td>\n",
              "      <td>Can You Hand Out All The Candy?</td>\n",
              "      <td>Zach Wissner-Gross</td>\n",
              "      <td>2022-10-28 08:00:00</td>\n",
              "      <td>The Riddler Can You Hand Out All The Candy?    By Zach Wissner-Gross            Oct. 28, 2022, at 8:00 AM                           Illustrat...</td>\n",
              "      <td>[Can, You, Hand, Out, All, The, Candy, ?]</td>\n",
              "      <td>[(Can, MD), (You, PRP), (Hand, VB), (Out, RP), (All, PDT), (The, DT), (Candy, NNP), (?, .)]</td>\n",
              "    </tr>\n",
              "    <tr>\n",
              "      <th>195</th>\n",
              "      <td>how-liv-golf-is-tearing-the-sport-apart-in-3-charts.html</td>\n",
              "      <td>How LIV Golf Is Tearing The Sport Apart, In 3 Charts</td>\n",
              "      <td>Alex Newman</td>\n",
              "      <td>2022-10-28 06:00:00</td>\n",
              "      <td>Golf How LIV Golf Is Tearing The Sport Apart, In 3 Charts    By Alex Newman and Neil Paine            Oct. 28, 2022, at 6:00 AM              ...</td>\n",
              "      <td>[How, LIV, Golf, Is, Tearing, The, Sport, Apart, ,, In, 3, Charts]</td>\n",
              "      <td>[(How, WRB), (LIV, NNP), (Golf, NNP), (Is, VBZ), (Tearing, VBG), (The, DT), (Sport, NNP), (Apart, NNP), (,, ,), (In, IN), (3, CD), (Charts, NNS)]</td>\n",
              "    </tr>\n",
              "    <tr>\n",
              "      <th>196</th>\n",
              "      <td>the-supreme-court-could-overturn-another-major-precedent-this-time-americans-might-agree.html</td>\n",
              "      <td>The Supreme Court Could Overturn Another Major Precedent. This Time, Americans Might Agree.</td>\n",
              "      <td>Amelia Thomson-DeVeaux</td>\n",
              "      <td>2022-10-28 06:00:00</td>\n",
              "      <td>Affirmative Action The Supreme Court Could Overturn Another Major Precedent. This Time, Americans Might Agree.    By Amelia Thomson-DeVeaux a...</td>\n",
              "      <td>[The, Supreme, Court, Could, Overturn, Another, Major, Precedent, ., This, Time, ,, Americans, Might, Agree, .]</td>\n",
              "      <td>[(The, DT), (Supreme, NNP), (Court, NNP), (Could, NNP), (Overturn, NNP), (Another, DT), (Major, NNP), (Precedent, NNP), (., .), (This, DT), (Time,...</td>\n",
              "    </tr>\n",
              "    <tr>\n",
              "      <th>197</th>\n",
              "      <td>the-astros-are-chasing-history-but-the-phillies-know-how-to-pull-a-historic-upset.html</td>\n",
              "      <td>The Astros Are Chasing History. But The Phillies Know How To Pull A Historic Upset.</td>\n",
              "      <td>Neil Paine</td>\n",
              "      <td>2022-10-27 14:35:00</td>\n",
              "      <td>MLB The Astros Are Chasing History. But The Phillies Know How To Pull A Historic Upset.    By Neil Paine            Oct. 27, 2022, at 2:35 PM...</td>\n",
              "      <td>[The, Astros, Are, Chasing, History, ., But, The, Phillies, Know, How, To, Pull, A, Historic, Upset, .]</td>\n",
              "      <td>[(The, DT), (Astros, NNP), (Are, NNP), (Chasing, NNP), (History, NNP), (., .), (But, CC), (The, DT), (Phillies, NNS), (Know, NNP), (How, NNP), (To...</td>\n",
              "    </tr>\n",
              "    <tr>\n",
              "      <th>198</th>\n",
              "      <td>will-arizonas-abortion-laws-go-back-to-the-1800s.html</td>\n",
              "      <td>Will Arizona’s Abortion Laws Go Back To The 1800s?</td>\n",
              "      <td>Amelia Thomson-DeVeaux</td>\n",
              "      <td>2022-10-27 00:00:00</td>\n",
              "      <td>Whether people in Arizona can continue to get abortions will likely depend on what happens in the November midterms — including in some down ball...</td>\n",
              "      <td>[Will, Arizona, ’, s, Abortion, Laws, Go, Back, To, The, 1800s, ?]</td>\n",
              "      <td>[(Will, MD), (Arizona, NNP), (’, NNP), (s, JJ), (Abortion, NNP), (Laws, NNP), (Go, NNP), (Back, NNP), (To, TO), (The, DT), (1800s, CD), (?, .)]</td>\n",
              "    </tr>\n",
              "    <tr>\n",
              "      <th>199</th>\n",
              "      <td>american-turning-point-grassroots-gun-reform.html</td>\n",
              "      <td>American Turning Point: Grassroots Gun Reform</td>\n",
              "      <td>NaN</td>\n",
              "      <td>2022-10-27 00:00:00</td>\n",
              "      <td>The Uvalde, Texas, school shooting left many people demanding change. In Oregon, a former Marine turned in his AR-15 to be destroyed and activist...</td>\n",
              "      <td>[American, Turning, Point, :, Grassroots, Gun, Reform]</td>\n",
              "      <td>[(American, JJ), (Turning, NNP), (Point, NN), (:, :), (Grassroots, NNP), (Gun, NNP), (Reform, NNP)]</td>\n",
              "    </tr>\n",
              "    <tr>\n",
              "      <th>200</th>\n",
              "      <td>the-niners-offense-is-cruising-until-kyle-shanahan-runs-out-of-scripted-plays.html</td>\n",
              "      <td>The Niners' Offense Is Cruising — Until Kyle Shanahan Runs Out Of Scripted Plays</td>\n",
              "      <td>Josh Hermsmeyer</td>\n",
              "      <td>2022-10-27 12:18:00</td>\n",
              "      <td>NFL The Niners' Offense Is Cruising — Until Kyle Shanahan Runs Out Of Scripted Plays    By Josh Hermsmeyer            Oct. 27, 2022, at 12:18...</td>\n",
              "      <td>[The, Niners, ', Offense, Is, Cruising, —, Until, Kyle, Shanahan, Runs, Out, Of, Scripted, Plays]</td>\n",
              "      <td>[(The, DT), (Niners, NNP), (', POS), (Offense, NNP), (Is, VBZ), (Cruising, VBG), (—, RB), (Until, IN), (Kyle, NNP), (Shanahan, NNP), (Runs, VBZ), ...</td>\n",
              "    </tr>\n",
              "    <tr>\n",
              "      <th>201</th>\n",
              "      <td>ipsos-preelection-survey-likely-voters.html</td>\n",
              "      <td>Voters Don't Think Either Party Deserves To Govern</td>\n",
              "      <td>Geoffrey Skelley</td>\n",
              "      <td>2022-10-27 12:00:00</td>\n",
              "      <td>2022 Election Voters Don't Think Either Party Deserves To Govern In our final pre-election survey with Ipsos, we asked Americans how they fee...</td>\n",
              "      <td>[Voters, Do, n't, Think, Either, Party, Deserves, To, Govern]</td>\n",
              "      <td>[(Voters, NNS), (Do, VBP), (n't, RB), (Think, VB), (Either, NNP), (Party, NNP), (Deserves, VBZ), (To, TO), (Govern, VB)]</td>\n",
              "    </tr>\n",
              "    <tr>\n",
              "      <th>202</th>\n",
              "      <td>how-much-power-do-christians-really-have.html</td>\n",
              "      <td>How Much Power Do Christians Really Have?</td>\n",
              "      <td>Amelia Thomson-DeVeaux</td>\n",
              "      <td>2022-10-27 06:00:00</td>\n",
              "      <td>Invisible Divides How Much Power Do Christians Really Have? The invisible divide that's shaping how Republicans and Democrats think about rel...</td>\n",
              "      <td>[How, Much, Power, Do, Christians, Really, Have, ?]</td>\n",
              "      <td>[(How, WRB), (Much, JJ), (Power, NNP), (Do, NNP), (Christians, NNPS), (Really, RB), (Have, VB), (?, .)]</td>\n",
              "    </tr>\n",
              "    <tr>\n",
              "      <th>203</th>\n",
              "      <td>how-a-college-education-divides-american-voters.html</td>\n",
              "      <td>How A College Education Divides American Voters</td>\n",
              "      <td>NaN</td>\n",
              "      <td>2022-10-26 00:00:00</td>\n",
              "      <td>In Part 3 of this installment of the FiveThirtyEight Politics podcast, the team analyzes how an educational divide is currently shaping American ...</td>\n",
              "      <td>[How, A, College, Education, Divides, American, Voters]</td>\n",
              "      <td>[(How, WRB), (A, DT), (College, NNP), (Education, NNP), (Divides, NNP), (American, NNP), (Voters, NNP)]</td>\n",
              "    </tr>\n",
              "    <tr>\n",
              "      <th>204</th>\n",
              "      <td>the-astros-are-baseballs-most-business-like-buzzsaw.html</td>\n",
              "      <td>The Astros Are Baseball’s Most Business-like Buzzsaw</td>\n",
              "      <td>Alex Kirshner</td>\n",
              "      <td>2022-10-26 13:34:00</td>\n",
              "      <td>MLB The Astros Are Baseball’s Most Business-like Buzzsaw On the verge of an undefeated postseason, Houston gets the job done through overwhel...</td>\n",
              "      <td>[The, Astros, Are, Baseball, ’, s, Most, Business-like, Buzzsaw]</td>\n",
              "      <td>[(The, DT), (Astros, NNP), (Are, NNP), (Baseball, NNP), (’, NNP), (s, VBZ), (Most, JJS), (Business-like, JJ), (Buzzsaw, NNP)]</td>\n",
              "    </tr>\n",
              "    <tr>\n",
              "      <th>205</th>\n",
              "      <td>nonresponse-bias-ipsos-poll-findings.html</td>\n",
              "      <td>Who Are The People Who Don't Respond To Polls?</td>\n",
              "      <td>Sarah Feldman</td>\n",
              "      <td>2022-10-26 13:06:00</td>\n",
              "      <td>2022 Election Who Are The People Who Don't Respond To Polls? Our ongoing poll with Ipsos offers some clues.    By Sarah Feldman and Bernard M...</td>\n",
              "      <td>[Who, Are, The, People, Who, Do, n't, Respond, To, Polls, ?]</td>\n",
              "      <td>[(Who, WP), (Are, VBP), (The, DT), (People, NNS), (Who, NNP), (Do, VBP), (n't, RB), (Respond, VB), (To, TO), (Polls, NNP), (?, .)]</td>\n",
              "    </tr>\n",
              "    <tr>\n",
              "      <th>206</th>\n",
              "      <td>the-datasets-were-looking-at-this-week-24.html</td>\n",
              "      <td>The Datasets We're Looking At This Week</td>\n",
              "      <td>Jeremy Singer-Vine</td>\n",
              "      <td>2022-10-26 12:00:00</td>\n",
              "      <td>Data Is Plural The Datasets We're Looking At This Week    By Jeremy Singer-Vine            Oct. 26, 2022, at 12:00 PM                        ...</td>\n",
              "      <td>[The, Datasets, We, 're, Looking, At, This, Week]</td>\n",
              "      <td>[(The, DT), (Datasets, NNPS), (We, PRP), ('re, VBP), (Looking, VBG), (At, IN), (This, DT), (Week, NN)]</td>\n",
              "    </tr>\n",
              "    <tr>\n",
              "      <th>207</th>\n",
              "      <td>aaron-nola-embodies-the-phillies-topsy-turvy-path-to-the-world-series.html</td>\n",
              "      <td>Aaron Nola Embodies The Phillies' Topsy-Turvy Path To The World Series</td>\n",
              "      <td>Howard Megdal</td>\n",
              "      <td>2022-10-26 11:47:00</td>\n",
              "      <td>MLB Aaron Nola Embodies The Phillies' Topsy-Turvy Path To The World Series    By Howard Megdal            Oct. 26, 2022, at 11:47 AM         ...</td>\n",
              "      <td>[Aaron, Nola, Embodies, The, Phillies, ', Topsy-Turvy, Path, To, The, World, Series]</td>\n",
              "      <td>[(Aaron, NNP), (Nola, NNP), (Embodies, VBZ), (The, DT), (Phillies, NNPS), (', POS), (Topsy-Turvy, JJ), (Path, NN), (To, TO), (The, DT), (World, NN...</td>\n",
              "    </tr>\n",
              "    <tr>\n",
              "      <th>208</th>\n",
              "      <td>state-government-elections.html</td>\n",
              "      <td>The Most Important Elections Of 2022 Could Be In State Legislatures</td>\n",
              "      <td>Nathaniel Rakich</td>\n",
              "      <td>2022-10-26 06:00:00</td>\n",
              "      <td>2022 Election The Most Important Elections Of 2022 Could Be In State Legislatures    By Nathaniel Rakich            Oct. 26, 2022, at 6:00 AM...</td>\n",
              "      <td>[The, Most, Important, Elections, Of, 2022, Could, Be, In, State, Legislatures]</td>\n",
              "      <td>[(The, DT), (Most, RBS), (Important, JJ), (Elections, NNS), (Of, IN), (2022, CD), (Could, NNP), (Be, NNP), (In, IN), (State, NNP), (Legislatures, ...</td>\n",
              "    </tr>\n",
              "    <tr>\n",
              "      <th>209</th>\n",
              "      <td>the-midterms-could-set-a-new-record-for-female-governors-and-send-fewer-women-to-congress.html</td>\n",
              "      <td>The Midterms Could Set A New Record For Female Governors — And Send Fewer Women To Congress</td>\n",
              "      <td>Amelia Thomson-DeVeaux</td>\n",
              "      <td>2022-10-26 06:00:00</td>\n",
              "      <td>2022 Election The Midterms Could Set A New Record For Female Governors — And Send Fewer Women To Congress    By Amelia Thomson-DeVeaux and Me...</td>\n",
              "      <td>[The, Midterms, Could, Set, A, New, Record, For, Female, Governors, —, And, Send, Fewer, Women, To, Congress]</td>\n",
              "      <td>[(The, DT), (Midterms, NNP), (Could, NNP), (Set, NNP), (A, NNP), (New, NNP), (Record, NNP), (For, IN), (Female, NNP), (Governors, NNP), (—, NNP), ...</td>\n",
              "    </tr>\n",
              "    <tr>\n",
              "      <th>210</th>\n",
              "      <td>a-quarter-of-latino-adults-dont-favor-any-midterm-candidate.html</td>\n",
              "      <td>A Quarter Of Latino Adults Don’t Favor Any Midterm Candidate</td>\n",
              "      <td>NaN</td>\n",
              "      <td>2022-10-25 00:00:00</td>\n",
              "      <td>In Part 2 of this installment of the FiveThirtyEight Politics podcast, Equis Research co-founder Carlos Odio joins the pod to break down a new Ax...</td>\n",
              "      <td>[A, Quarter, Of, Latino, Adults, Don, ’, t, Favor, Any, Midterm, Candidate]</td>\n",
              "      <td>[(A, DT), (Quarter, NN), (Of, IN), (Latino, NNP), (Adults, NNP), (Don, NNP), (’, NNP), (t, VB), (Favor, NNP), (Any, NNP), (Midterm, NNP), (Candida...</td>\n",
              "    </tr>\n",
              "    <tr>\n",
              "      <th>211</th>\n",
              "      <td>how-much-do-campaign-ads-really-matter.html</td>\n",
              "      <td>How Much Do Campaign Ads Really Matter?</td>\n",
              "      <td>NaN</td>\n",
              "      <td>2022-10-25 00:00:00</td>\n",
              "      <td>There are just two weeks until Election Day and according to the FiveThirtyEight midterm forecast the race for the Senate has been a “dead heat.”...</td>\n",
              "      <td>[How, Much, Do, Campaign, Ads, Really, Matter, ?]</td>\n",
              "      <td>[(How, WRB), (Much, JJ), (Do, VBP), (Campaign, NNP), (Ads, NNP), (Really, NNP), (Matter, NNP), (?, .)]</td>\n",
              "    </tr>\n",
              "    <tr>\n",
              "      <th>212</th>\n",
              "      <td>orange-college-football-teams-are-having-a-moment.html</td>\n",
              "      <td>Orange College Football Teams Are Having A Moment</td>\n",
              "      <td>Josh Planos</td>\n",
              "      <td>2022-10-25 16:02:00</td>\n",
              "      <td>College Football Orange College Football Teams Are Having A Moment    By Josh Planos            Oct. 25, 2022, at 4:02 PM                    ...</td>\n",
              "      <td>[Orange, College, Football, Teams, Are, Having, A, Moment]</td>\n",
              "      <td>[(Orange, NNP), (College, NNP), (Football, NNP), (Teams, NNP), (Are, NNP), (Having, VBG), (A, NNP), (Moment, NN)]</td>\n",
              "    </tr>\n",
              "    <tr>\n",
              "      <th>213</th>\n",
              "      <td>the-phillies-wanted-to-be-the-astros-now-theyll-have-to-beat-them-for-a-world-series.html</td>\n",
              "      <td>The Phillies Wanted To Be The Astros. Now They’ll Have To Beat Them For A World Series.</td>\n",
              "      <td>Neil Paine</td>\n",
              "      <td>2022-10-25 13:58:00</td>\n",
              "      <td>MLB The Phillies Wanted To Be The Astros. Now They’ll Have To Beat Them For A World Series.    By Neil Paine            Oct. 25, 2022, at 1:5...</td>\n",
              "      <td>[The, Phillies, Wanted, To, Be, The, Astros, ., Now, They, ’, ll, Have, To, Beat, Them, For, A, World, Series, .]</td>\n",
              "      <td>[(The, DT), (Phillies, NNPS), (Wanted, VBD), (To, TO), (Be, VB), (The, DT), (Astros, NNP), (., .), (Now, RB), (They, PRP), (’, VBP), (ll, NNS), (H...</td>\n",
              "    </tr>\n",
              "    <tr>\n",
              "      <th>214</th>\n",
              "      <td>american-turning-point-politics-in-public-education.html</td>\n",
              "      <td>American Turning Point: Politics In Public Education</td>\n",
              "      <td>NaN</td>\n",
              "      <td>2022-10-25 00:00:00</td>\n",
              "      <td>With questions about gender identity and critical race theory being taught in schools, school board races have grown more political. In Sarasota ...</td>\n",
              "      <td>[American, Turning, Point, :, Politics, In, Public, Education]</td>\n",
              "      <td>[(American, JJ), (Turning, NNP), (Point, NN), (:, :), (Politics, NNS), (In, IN), (Public, NNP), (Education, NNP)]</td>\n",
              "    </tr>\n",
              "    <tr>\n",
              "      <th>215</th>\n",
              "      <td>youre-not-imagining-it-there-are-fewer-polls-this-cycle.html</td>\n",
              "      <td>You're Not Imagining It: There Are Fewer Polls This Cycle</td>\n",
              "      <td>Geoffrey Skelley</td>\n",
              "      <td>2022-10-25 06:00:00</td>\n",
              "      <td>2022 Election You're Not Imagining It: There Are Fewer Polls This Cycle And a larger share come from partisan sources.    By Geoffrey Skelley...</td>\n",
              "      <td>[You, 're, Not, Imagining, It, :, There, Are, Fewer, Polls, This, Cycle]</td>\n",
              "      <td>[(You, PRP), ('re, VBP), (Not, RB), (Imagining, VBG), (It, PRP), (:, :), (There, EX), (Are, NNP), (Fewer, NNP), (Polls, NNP), (This, DT), (Cycle, ...</td>\n",
              "    </tr>\n",
              "    <tr>\n",
              "      <th>216</th>\n",
              "      <td>most-candidates-who-think-2020-was-rigged-was-are-probably-going-to-win-in-november.html</td>\n",
              "      <td>Most Candidates Who Think 2020 Was Rigged Are Probably Going To Win In November</td>\n",
              "      <td>Kaleigh Rogers</td>\n",
              "      <td>2022-10-25 06:00:00</td>\n",
              "      <td>2022 Election Most Candidates Who Think 2020 Was Rigged Are Probably Going To Win In November    By Kaleigh Rogers            Oct. 25, 2022, ...</td>\n",
              "      <td>[Most, Candidates, Who, Think, 2020, Was, Rigged, Are, Probably, Going, To, Win, In, November]</td>\n",
              "      <td>[(Most, JJS), (Candidates, NNS), (Who, WP), (Think, VBP), (2020, CD), (Was, NNP), (Rigged, VBN), (Are, NNP), (Probably, RB), (Going, VBG), (To, TO...</td>\n",
              "    </tr>\n",
              "    <tr>\n",
              "      <th>217</th>\n",
              "      <td>gop-polls.html</td>\n",
              "      <td>The Polls Are Getting Better For Republicans</td>\n",
              "      <td>Nathaniel Rakich</td>\n",
              "      <td>2022-10-24 18:04:00</td>\n",
              "      <td>2022 Election The Polls Are Getting Better For Republicans It is a midterm year after all.    By Nathaniel Rakich            Oct. 24, 2022, a...</td>\n",
              "      <td>[The, Polls, Are, Getting, Better, For, Republicans]</td>\n",
              "      <td>[(The, DT), (Polls, NNS), (Are, VBP), (Getting, VBG), (Better, NNP), (For, IN), (Republicans, NNPS)]</td>\n",
              "    </tr>\n",
              "    <tr>\n",
              "      <th>218</th>\n",
              "      <td>nfl-week-7-injuries-washed-quarterbacks.html</td>\n",
              "      <td>We Don't Want To Blame San Francisco's Defensive And Tampa Bay's Offensive Problems On Injuries</td>\n",
              "      <td>NaN</td>\n",
              "      <td>2022-10-24 14:16:00</td>\n",
              "      <td>NFL We Don't Want To Blame San Francisco's Defensive And Tampa Bay's Offensive Problems On Injuries    A FiveThirtyEight Chat            Oct....</td>\n",
              "      <td>[We, Do, n't, Want, To, Blame, San, Francisco, 's, Defensive, And, Tampa, Bay, 's, Offensive, Problems, On, Injuries]</td>\n",
              "      <td>[(We, PRP), (Do, VBP), (n't, RB), (Want, VB), (To, TO), (Blame, VB), (San, NNP), (Francisco, NNP), ('s, POS), (Defensive, NNP), (And, CC), (Tampa,...</td>\n",
              "    </tr>\n",
              "    <tr>\n",
              "      <th>219</th>\n",
              "      <td>invisible-divides-college.html</td>\n",
              "      <td>Is College Worth It? Voters Are Split.</td>\n",
              "      <td>Monica Potts</td>\n",
              "      <td>2022-10-24 06:00:00</td>\n",
              "      <td>Invisible Divides Is College Worth It? Voters Are Split. This invisible divide is reshaping politics.    By Monica Potts            Oct. 24, ...</td>\n",
              "      <td>[Is, College, Worth, It, ?, Voters, Are, Split, .]</td>\n",
              "      <td>[(Is, VBZ), (College, NNP), (Worth, IN), (It, PRP), (?, .), (Voters, NNS), (Are, VBP), (Split, NNP), (., .)]</td>\n",
              "    </tr>\n",
              "    <tr>\n",
              "      <th>220</th>\n",
              "      <td>will-republican-gains-in-south-texas-win-them-more-house-seats.html</td>\n",
              "      <td>Will Republican Gains In South Texas Win Them More House Seats?</td>\n",
              "      <td>Alex Samuels</td>\n",
              "      <td>2022-10-24 06:00:00</td>\n",
              "      <td>2022 Election Will Republican Gains In South Texas Win Them More House Seats?    By Alex Samuels            Oct. 24, 2022, at 6:00 AM        ...</td>\n",
              "      <td>[Will, Republican, Gains, In, South, Texas, Win, Them, More, House, Seats, ?]</td>\n",
              "      <td>[(Will, MD), (Republican, NNP), (Gains, NNP), (In, IN), (South, NNP), (Texas, NNP), (Win, NNP), (Them, NNP), (More, NNP), (House, NNP), (Seats, NN...</td>\n",
              "    </tr>\n",
              "  </tbody>\n",
              "</table>\n",
              "</div>\n",
              "      <button class=\"colab-df-convert\" onclick=\"convertToInteractive('df-f809a763-ba89-4a02-a7fa-96b015ce8676')\"\n",
              "              title=\"Convert this dataframe to an interactive table.\"\n",
              "              style=\"display:none;\">\n",
              "        \n",
              "  <svg xmlns=\"http://www.w3.org/2000/svg\" height=\"24px\"viewBox=\"0 0 24 24\"\n",
              "       width=\"24px\">\n",
              "    <path d=\"M0 0h24v24H0V0z\" fill=\"none\"/>\n",
              "    <path d=\"M18.56 5.44l.94 2.06.94-2.06 2.06-.94-2.06-.94-.94-2.06-.94 2.06-2.06.94zm-11 1L8.5 8.5l.94-2.06 2.06-.94-2.06-.94L8.5 2.5l-.94 2.06-2.06.94zm10 10l.94 2.06.94-2.06 2.06-.94-2.06-.94-.94-2.06-.94 2.06-2.06.94z\"/><path d=\"M17.41 7.96l-1.37-1.37c-.4-.4-.92-.59-1.43-.59-.52 0-1.04.2-1.43.59L10.3 9.45l-7.72 7.72c-.78.78-.78 2.05 0 2.83L4 21.41c.39.39.9.59 1.41.59.51 0 1.02-.2 1.41-.59l7.78-7.78 2.81-2.81c.8-.78.8-2.07 0-2.86zM5.41 20L4 18.59l7.72-7.72 1.47 1.35L5.41 20z\"/>\n",
              "  </svg>\n",
              "      </button>\n",
              "      \n",
              "  <style>\n",
              "    .colab-df-container {\n",
              "      display:flex;\n",
              "      flex-wrap:wrap;\n",
              "      gap: 12px;\n",
              "    }\n",
              "\n",
              "    .colab-df-convert {\n",
              "      background-color: #E8F0FE;\n",
              "      border: none;\n",
              "      border-radius: 50%;\n",
              "      cursor: pointer;\n",
              "      display: none;\n",
              "      fill: #1967D2;\n",
              "      height: 32px;\n",
              "      padding: 0 0 0 0;\n",
              "      width: 32px;\n",
              "    }\n",
              "\n",
              "    .colab-df-convert:hover {\n",
              "      background-color: #E2EBFA;\n",
              "      box-shadow: 0px 1px 2px rgba(60, 64, 67, 0.3), 0px 1px 3px 1px rgba(60, 64, 67, 0.15);\n",
              "      fill: #174EA6;\n",
              "    }\n",
              "\n",
              "    [theme=dark] .colab-df-convert {\n",
              "      background-color: #3B4455;\n",
              "      fill: #D2E3FC;\n",
              "    }\n",
              "\n",
              "    [theme=dark] .colab-df-convert:hover {\n",
              "      background-color: #434B5C;\n",
              "      box-shadow: 0px 1px 3px 1px rgba(0, 0, 0, 0.15);\n",
              "      filter: drop-shadow(0px 1px 2px rgba(0, 0, 0, 0.3));\n",
              "      fill: #FFFFFF;\n",
              "    }\n",
              "  </style>\n",
              "\n",
              "      <script>\n",
              "        const buttonEl =\n",
              "          document.querySelector('#df-f809a763-ba89-4a02-a7fa-96b015ce8676 button.colab-df-convert');\n",
              "        buttonEl.style.display =\n",
              "          google.colab.kernel.accessAllowed ? 'block' : 'none';\n",
              "\n",
              "        async function convertToInteractive(key) {\n",
              "          const element = document.querySelector('#df-f809a763-ba89-4a02-a7fa-96b015ce8676');\n",
              "          const dataTable =\n",
              "            await google.colab.kernel.invokeFunction('convertToInteractive',\n",
              "                                                     [key], {});\n",
              "          if (!dataTable) return;\n",
              "\n",
              "          const docLinkHtml = 'Like what you see? Visit the ' +\n",
              "            '<a target=\"_blank\" href=https://colab.research.google.com/notebooks/data_table.ipynb>data table notebook</a>'\n",
              "            + ' to learn more about interactive tables.';\n",
              "          element.innerHTML = '';\n",
              "          dataTable['output_type'] = 'display_data';\n",
              "          await google.colab.output.renderOutput(dataTable, element);\n",
              "          const docLink = document.createElement('div');\n",
              "          docLink.innerHTML = docLinkHtml;\n",
              "          element.appendChild(docLink);\n",
              "        }\n",
              "      </script>\n",
              "    </div>\n",
              "  </div>\n",
              "  "
            ]
          },
          "metadata": {},
          "execution_count": 166
        }
      ]
    },
    {
      "cell_type": "code",
      "source": [
        "len(df[(df.datetime >= \"2022-10-24\") & (df.datetime < \"2022-10-31\")]) # 미대선 중간 선거날"
      ],
      "metadata": {
        "id": "DhDo-FC9t4Te",
        "colab": {
          "base_uri": "https://localhost:8080/"
        },
        "outputId": "4678d03c-4a8a-47ac-e1b4-759b71ebb247"
      },
      "execution_count": null,
      "outputs": [
        {
          "output_type": "execute_result",
          "data": {
            "text/plain": [
              "33"
            ]
          },
          "metadata": {},
          "execution_count": 167
        }
      ]
    },
    {
      "cell_type": "code",
      "metadata": {
        "id": "bAR9fE1Lqs97",
        "colab": {
          "base_uri": "https://localhost:8080/"
        },
        "outputId": "d943e35b-affa-44a5-d35f-ad54bc433fcb"
      },
      "source": [
        "counter = get_counter(df[(df.datetime >= \"2022-10-24\") & (df.datetime < \"2022-10-31\")], global_stopwords+local_stopwords)\n",
        "counter.most_common(30)"
      ],
      "execution_count": null,
      "outputs": [
        {
          "output_type": "execute_result",
          "data": {
            "text/plain": [
              "[('could', 4),\n",
              " ('voters', 4),\n",
              " ('polls', 4),\n",
              " ('fewer', 3),\n",
              " ('really', 3),\n",
              " ('win', 3),\n",
              " ('phillies', 3),\n",
              " ('astros', 3),\n",
              " ('american', 3),\n",
              " ('college', 3),\n",
              " ('model', 2),\n",
              " ('midterm', 2),\n",
              " ('republican', 2),\n",
              " ('candidates', 2),\n",
              " ('might', 2),\n",
              " ('point', 2),\n",
              " ('turning', 2),\n",
              " ('think', 2),\n",
              " ('much', 2),\n",
              " ('education', 2),\n",
              " (\"'re\", 2),\n",
              " ('series', 2),\n",
              " ('world', 2),\n",
              " ('meant', 1),\n",
              " ('roe', 1),\n",
              " ('10,000', 1),\n",
              " ('least', 1),\n",
              " ('legal', 1),\n",
              " ('abortions', 1),\n",
              " ('overturning', 1)]"
            ]
          },
          "metadata": {},
          "execution_count": 168
        }
      ]
    },
    {
      "cell_type": "markdown",
      "metadata": {
        "id": "aydX9cKzljO_"
      },
      "source": [
        "## Word Clouds"
      ]
    },
    {
      "cell_type": "code",
      "metadata": {
        "id": "XVEZwgwflk1O",
        "colab": {
          "base_uri": "https://localhost:8080/"
        },
        "outputId": "d75f5ab0-e7aa-484e-b86f-1bba0fb62aea"
      },
      "source": [
        "! pip install --user wordcloud"
      ],
      "execution_count": null,
      "outputs": [
        {
          "output_type": "stream",
          "name": "stdout",
          "text": [
            "Looking in indexes: https://pypi.org/simple, https://us-python.pkg.dev/colab-wheels/public/simple/\n",
            "Requirement already satisfied: wordcloud in /usr/local/lib/python3.8/dist-packages (1.8.2.2)\n",
            "Requirement already satisfied: matplotlib in /usr/local/lib/python3.8/dist-packages (from wordcloud) (3.2.2)\n",
            "Requirement already satisfied: numpy>=1.6.1 in /usr/local/lib/python3.8/dist-packages (from wordcloud) (1.21.6)\n",
            "Requirement already satisfied: pillow in /usr/local/lib/python3.8/dist-packages (from wordcloud) (7.1.2)\n",
            "Requirement already satisfied: python-dateutil>=2.1 in /usr/local/lib/python3.8/dist-packages (from matplotlib->wordcloud) (2.8.2)\n",
            "Requirement already satisfied: kiwisolver>=1.0.1 in /usr/local/lib/python3.8/dist-packages (from matplotlib->wordcloud) (1.4.4)\n",
            "Requirement already satisfied: cycler>=0.10 in /usr/local/lib/python3.8/dist-packages (from matplotlib->wordcloud) (0.11.0)\n",
            "Requirement already satisfied: pyparsing!=2.0.4,!=2.1.2,!=2.1.6,>=2.0.1 in /usr/local/lib/python3.8/dist-packages (from matplotlib->wordcloud) (3.0.9)\n",
            "Requirement already satisfied: six>=1.5 in /usr/local/lib/python3.8/dist-packages (from python-dateutil>=2.1->matplotlib->wordcloud) (1.15.0)\n"
          ]
        }
      ]
    },
    {
      "cell_type": "code",
      "metadata": {
        "id": "RGvoR36Aln3s"
      },
      "source": [
        "from wordcloud import WordCloud"
      ],
      "execution_count": null,
      "outputs": []
    },
    {
      "cell_type": "code",
      "metadata": {
        "id": "AKO7mTudlpw6",
        "colab": {
          "base_uri": "https://localhost:8080/",
          "height": 517
        },
        "outputId": "4aacae31-05f8-47ec-94fd-5a1bf96072ac"
      },
      "source": [
        "wc = WordCloud(background_color=\"white\", max_words=100, width=800, height=500)\n",
        "wc.generate_from_frequencies(counter)\n",
        "wc.to_file(f\"{outcome_folder}/wordcloud.png\")\n",
        "Image(filename=f\"{outcome_folder}/wordcloud.png\")"
      ],
      "execution_count": null,
      "outputs": [
        {
          "output_type": "execute_result",
          "data": {
            "image/png": "[encoded data removed]",
            "text/plain": [
              "<IPython.core.display.Image object>"
            ]
          },
          "metadata": {},
          "execution_count": 171
        }
      ]
    },
    {
      "cell_type": "code",
      "source": [],
      "metadata": {
        "id": "DLMGdiv-6SpW"
      },
      "execution_count": null,
      "outputs": []
    }
  ]
}