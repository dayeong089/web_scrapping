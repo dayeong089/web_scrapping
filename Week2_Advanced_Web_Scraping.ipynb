{
  "nbformat": 4,
  "nbformat_minor": 0,
  "metadata": {
    "kernelspec": {
      "display_name": "Python 3",
      "language": "python",
      "name": "python3"
    },
    "language_info": {
      "codemirror_mode": {
        "name": "ipython",
        "version": 3
      },
      "file_extension": ".py",
      "mimetype": "text/x-python",
      "name": "python",
      "nbconvert_exporter": "python",
      "pygments_lexer": "ipython3",
      "version": "3.7.5"
    },
    "colab": {
      "provenance": [],
      "include_colab_link": true
    }
  },
  "cells": [
    {
      "cell_type": "markdown",
      "metadata": {
        "id": "view-in-github",
        "colab_type": "text"
      },
      "source": [
        "<a href=\"https://colab.research.google.com/github/dayeong089/web_scrapping/blob/main/Week2_Advanced_Web_Scraping.ipynb\" target=\"_parent\"><img src=\"https://colab.research.google.com/assets/colab-badge.svg\" alt=\"Open In Colab\"/></a>"
      ]
    },
    {
      "cell_type": "markdown",
      "metadata": {
        "id": "JtrD2T16EyFH"
      },
      "source": [
        "# Software Coaching for Python\n",
        "# Week 2: Advanced Web Scraping"
      ]
    },
    {
      "cell_type": "markdown",
      "metadata": {
        "id": "EIiKqVd1EyFM"
      },
      "source": [
        "Instructor: Kang-Pyo Lee"
      ]
    },
    {
      "cell_type": "code",
      "source": [],
      "metadata": {
        "id": "24_xGgzfdYc6"
      },
      "execution_count": null,
      "outputs": []
    },
    {
      "cell_type": "code",
      "metadata": {
        "id": "QIIxL4S0JAri",
        "colab": {
          "base_uri": "https://localhost:8080/"
        },
        "outputId": "2940f3b9-07b1-42b3-8e6d-404eed5fb96e"
      },
      "source": [
        "from google.colab import drive\n",
        "\n",
        "drive.mount('/content/drive')\n",
        "path = \"/content/drive/My Drive/PythonCoaching\"\n",
        "my_folder = \"dayoung21\"     # *** REPLACE WITH YOUR FOLDER NAME ***\n",
        "outcome_folder = f\"{path}/{my_folder}/outcome\""
      ],
      "execution_count": null,
      "outputs": [
        {
          "output_type": "stream",
          "name": "stdout",
          "text": [
            "Mounted at /content/drive\n"
          ]
        }
      ]
    },
    {
      "cell_type": "code",
      "source": [
        "! pip install --user --upgrade requests bs4 pandas"
      ],
      "metadata": {
        "colab": {
          "base_uri": "https://localhost:8080/"
        },
        "id": "oP93HeM_rRGu",
        "outputId": "01fbde42-34d9-43b6-d0c8-496e9cf9bb46"
      },
      "execution_count": null,
      "outputs": [
        {
          "output_type": "stream",
          "name": "stdout",
          "text": [
            "Looking in indexes: https://pypi.org/simple, https://us-python.pkg.dev/colab-wheels/public/simple/\n",
            "Requirement already satisfied: requests in /usr/local/lib/python3.8/dist-packages (2.25.1)\n",
            "Collecting requests\n",
            "  Downloading requests-2.28.1-py3-none-any.whl (62 kB)\n",
            "\u001b[2K     \u001b[90m━━━━━━━━━━━━━━━━━━━━━━━━━━━━━━━━━━━━━━━━\u001b[0m \u001b[32m62.8/62.8 KB\u001b[0m \u001b[31m3.2 MB/s\u001b[0m eta \u001b[36m0:00:00\u001b[0m\n",
            "\u001b[?25hRequirement already satisfied: bs4 in /usr/local/lib/python3.8/dist-packages (0.0.1)\n",
            "Requirement already satisfied: pandas in /usr/local/lib/python3.8/dist-packages (1.3.5)\n",
            "Collecting pandas\n",
            "  Downloading pandas-1.5.2-cp38-cp38-manylinux_2_17_x86_64.manylinux2014_x86_64.whl (12.2 MB)\n",
            "\u001b[2K     \u001b[90m━━━━━━━━━━━━━━━━━━━━━━━━━━━━━━━━━━━━━━━━\u001b[0m \u001b[32m12.2/12.2 MB\u001b[0m \u001b[31m73.1 MB/s\u001b[0m eta \u001b[36m0:00:00\u001b[0m\n",
            "\u001b[?25hRequirement already satisfied: certifi>=2017.4.17 in /usr/local/lib/python3.8/dist-packages (from requests) (2022.12.7)\n",
            "Requirement already satisfied: urllib3<1.27,>=1.21.1 in /usr/local/lib/python3.8/dist-packages (from requests) (1.24.3)\n",
            "Requirement already satisfied: charset-normalizer<3,>=2 in /usr/local/lib/python3.8/dist-packages (from requests) (2.1.1)\n",
            "Requirement already satisfied: idna<4,>=2.5 in /usr/local/lib/python3.8/dist-packages (from requests) (2.10)\n",
            "Requirement already satisfied: beautifulsoup4 in /usr/local/lib/python3.8/dist-packages (from bs4) (4.6.3)\n",
            "Requirement already satisfied: python-dateutil>=2.8.1 in /usr/local/lib/python3.8/dist-packages (from pandas) (2.8.2)\n",
            "Requirement already satisfied: pytz>=2020.1 in /usr/local/lib/python3.8/dist-packages (from pandas) (2022.7)\n",
            "Requirement already satisfied: numpy>=1.20.3 in /usr/local/lib/python3.8/dist-packages (from pandas) (1.21.6)\n",
            "Requirement already satisfied: six>=1.5 in /usr/local/lib/python3.8/dist-packages (from python-dateutil>=2.8.1->pandas) (1.15.0)\n",
            "Installing collected packages: requests, pandas\n",
            "Successfully installed pandas-1.5.2 requests-2.28.1\n"
          ]
        }
      ]
    },
    {
      "cell_type": "code",
      "metadata": {
        "id": "NhlR3uKj1Mj3"
      },
      "source": [
        "import requests\n",
        "from bs4 import BeautifulSoup"
      ],
      "execution_count": null,
      "outputs": []
    },
    {
      "cell_type": "markdown",
      "metadata": {
        "id": "25EiWf7nEyFY"
      },
      "source": [
        "## Handle pagination"
      ]
    },
    {
      "cell_type": "markdown",
      "source": [
        "https://fivethirtyeight.com/features/\n",
        "\n",
        "\n",
        "generic programming .. 최대한 많은 페이지 scrapping 해올 수 있도록\n",
        "\n",
        "이렇게 여러 페이지를 다 모아둔 페이지를 찾아야함\n"
      ],
      "metadata": {
        "id": "1fdToAFFoZVD"
      }
    },
    {
      "cell_type": "code",
      "metadata": {
        "id": "XdwAPXx9EyFY",
        "colab": {
          "base_uri": "https://localhost:8080/"
        },
        "outputId": "0aaa2254-8b12-4386-8687-e12f3d204ca9"
      },
      "source": [
        "urls = [\"https://fivethirtyeight.com/features/\"]\n",
        "\n",
        "for i in range(2, 101):     # The range(2, 101) generates a list of integers from 2 to 100.\n",
        "    url = f\"https://fivethirtyeight.com/features/page/{i}/\"\n",
        "    urls.append(url)\n",
        "\n",
        "urls"
      ],
      "execution_count": null,
      "outputs": [
        {
          "output_type": "execute_result",
          "data": {
            "text/plain": [
              "['https://fivethirtyeight.com/features/',\n",
              " 'https://fivethirtyeight.com/features/page/2/',\n",
              " 'https://fivethirtyeight.com/features/page/3/',\n",
              " 'https://fivethirtyeight.com/features/page/4/',\n",
              " 'https://fivethirtyeight.com/features/page/5/',\n",
              " 'https://fivethirtyeight.com/features/page/6/',\n",
              " 'https://fivethirtyeight.com/features/page/7/',\n",
              " 'https://fivethirtyeight.com/features/page/8/',\n",
              " 'https://fivethirtyeight.com/features/page/9/',\n",
              " 'https://fivethirtyeight.com/features/page/10/',\n",
              " 'https://fivethirtyeight.com/features/page/11/',\n",
              " 'https://fivethirtyeight.com/features/page/12/',\n",
              " 'https://fivethirtyeight.com/features/page/13/',\n",
              " 'https://fivethirtyeight.com/features/page/14/',\n",
              " 'https://fivethirtyeight.com/features/page/15/',\n",
              " 'https://fivethirtyeight.com/features/page/16/',\n",
              " 'https://fivethirtyeight.com/features/page/17/',\n",
              " 'https://fivethirtyeight.com/features/page/18/',\n",
              " 'https://fivethirtyeight.com/features/page/19/',\n",
              " 'https://fivethirtyeight.com/features/page/20/',\n",
              " 'https://fivethirtyeight.com/features/page/21/',\n",
              " 'https://fivethirtyeight.com/features/page/22/',\n",
              " 'https://fivethirtyeight.com/features/page/23/',\n",
              " 'https://fivethirtyeight.com/features/page/24/',\n",
              " 'https://fivethirtyeight.com/features/page/25/',\n",
              " 'https://fivethirtyeight.com/features/page/26/',\n",
              " 'https://fivethirtyeight.com/features/page/27/',\n",
              " 'https://fivethirtyeight.com/features/page/28/',\n",
              " 'https://fivethirtyeight.com/features/page/29/',\n",
              " 'https://fivethirtyeight.com/features/page/30/',\n",
              " 'https://fivethirtyeight.com/features/page/31/',\n",
              " 'https://fivethirtyeight.com/features/page/32/',\n",
              " 'https://fivethirtyeight.com/features/page/33/',\n",
              " 'https://fivethirtyeight.com/features/page/34/',\n",
              " 'https://fivethirtyeight.com/features/page/35/',\n",
              " 'https://fivethirtyeight.com/features/page/36/',\n",
              " 'https://fivethirtyeight.com/features/page/37/',\n",
              " 'https://fivethirtyeight.com/features/page/38/',\n",
              " 'https://fivethirtyeight.com/features/page/39/',\n",
              " 'https://fivethirtyeight.com/features/page/40/',\n",
              " 'https://fivethirtyeight.com/features/page/41/',\n",
              " 'https://fivethirtyeight.com/features/page/42/',\n",
              " 'https://fivethirtyeight.com/features/page/43/',\n",
              " 'https://fivethirtyeight.com/features/page/44/',\n",
              " 'https://fivethirtyeight.com/features/page/45/',\n",
              " 'https://fivethirtyeight.com/features/page/46/',\n",
              " 'https://fivethirtyeight.com/features/page/47/',\n",
              " 'https://fivethirtyeight.com/features/page/48/',\n",
              " 'https://fivethirtyeight.com/features/page/49/',\n",
              " 'https://fivethirtyeight.com/features/page/50/',\n",
              " 'https://fivethirtyeight.com/features/page/51/',\n",
              " 'https://fivethirtyeight.com/features/page/52/',\n",
              " 'https://fivethirtyeight.com/features/page/53/',\n",
              " 'https://fivethirtyeight.com/features/page/54/',\n",
              " 'https://fivethirtyeight.com/features/page/55/',\n",
              " 'https://fivethirtyeight.com/features/page/56/',\n",
              " 'https://fivethirtyeight.com/features/page/57/',\n",
              " 'https://fivethirtyeight.com/features/page/58/',\n",
              " 'https://fivethirtyeight.com/features/page/59/',\n",
              " 'https://fivethirtyeight.com/features/page/60/',\n",
              " 'https://fivethirtyeight.com/features/page/61/',\n",
              " 'https://fivethirtyeight.com/features/page/62/',\n",
              " 'https://fivethirtyeight.com/features/page/63/',\n",
              " 'https://fivethirtyeight.com/features/page/64/',\n",
              " 'https://fivethirtyeight.com/features/page/65/',\n",
              " 'https://fivethirtyeight.com/features/page/66/',\n",
              " 'https://fivethirtyeight.com/features/page/67/',\n",
              " 'https://fivethirtyeight.com/features/page/68/',\n",
              " 'https://fivethirtyeight.com/features/page/69/',\n",
              " 'https://fivethirtyeight.com/features/page/70/',\n",
              " 'https://fivethirtyeight.com/features/page/71/',\n",
              " 'https://fivethirtyeight.com/features/page/72/',\n",
              " 'https://fivethirtyeight.com/features/page/73/',\n",
              " 'https://fivethirtyeight.com/features/page/74/',\n",
              " 'https://fivethirtyeight.com/features/page/75/',\n",
              " 'https://fivethirtyeight.com/features/page/76/',\n",
              " 'https://fivethirtyeight.com/features/page/77/',\n",
              " 'https://fivethirtyeight.com/features/page/78/',\n",
              " 'https://fivethirtyeight.com/features/page/79/',\n",
              " 'https://fivethirtyeight.com/features/page/80/',\n",
              " 'https://fivethirtyeight.com/features/page/81/',\n",
              " 'https://fivethirtyeight.com/features/page/82/',\n",
              " 'https://fivethirtyeight.com/features/page/83/',\n",
              " 'https://fivethirtyeight.com/features/page/84/',\n",
              " 'https://fivethirtyeight.com/features/page/85/',\n",
              " 'https://fivethirtyeight.com/features/page/86/',\n",
              " 'https://fivethirtyeight.com/features/page/87/',\n",
              " 'https://fivethirtyeight.com/features/page/88/',\n",
              " 'https://fivethirtyeight.com/features/page/89/',\n",
              " 'https://fivethirtyeight.com/features/page/90/',\n",
              " 'https://fivethirtyeight.com/features/page/91/',\n",
              " 'https://fivethirtyeight.com/features/page/92/',\n",
              " 'https://fivethirtyeight.com/features/page/93/',\n",
              " 'https://fivethirtyeight.com/features/page/94/',\n",
              " 'https://fivethirtyeight.com/features/page/95/',\n",
              " 'https://fivethirtyeight.com/features/page/96/',\n",
              " 'https://fivethirtyeight.com/features/page/97/',\n",
              " 'https://fivethirtyeight.com/features/page/98/',\n",
              " 'https://fivethirtyeight.com/features/page/99/',\n",
              " 'https://fivethirtyeight.com/features/page/100/']"
            ]
          },
          "metadata": {},
          "execution_count": 4
        }
      ]
    },
    {
      "cell_type": "markdown",
      "metadata": {
        "id": "C32VkUF8EyFY"
      },
      "source": [
        "Try to get all of the URLs of the target webpages first before trying to get the contents from those webpages. At this point, it is important to find a rule for creating the URLs."
      ]
    },
    {
      "cell_type": "code",
      "metadata": {
        "id": "AOtFKupoEyFY",
        "colab": {
          "base_uri": "https://localhost:8080/"
        },
        "outputId": "26bd2158-84ac-42dc-813f-9725bae5a994"
      },
      "source": [
        "for url in urls:\n",
        "    print(url)              # Do whatever you want with each web page."
      ],
      "execution_count": null,
      "outputs": [
        {
          "output_type": "stream",
          "name": "stdout",
          "text": [
            "https://fivethirtyeight.com/features/\n",
            "https://fivethirtyeight.com/features/page/2/\n",
            "https://fivethirtyeight.com/features/page/3/\n",
            "https://fivethirtyeight.com/features/page/4/\n",
            "https://fivethirtyeight.com/features/page/5/\n",
            "https://fivethirtyeight.com/features/page/6/\n",
            "https://fivethirtyeight.com/features/page/7/\n",
            "https://fivethirtyeight.com/features/page/8/\n",
            "https://fivethirtyeight.com/features/page/9/\n",
            "https://fivethirtyeight.com/features/page/10/\n",
            "https://fivethirtyeight.com/features/page/11/\n",
            "https://fivethirtyeight.com/features/page/12/\n",
            "https://fivethirtyeight.com/features/page/13/\n",
            "https://fivethirtyeight.com/features/page/14/\n",
            "https://fivethirtyeight.com/features/page/15/\n",
            "https://fivethirtyeight.com/features/page/16/\n",
            "https://fivethirtyeight.com/features/page/17/\n",
            "https://fivethirtyeight.com/features/page/18/\n",
            "https://fivethirtyeight.com/features/page/19/\n",
            "https://fivethirtyeight.com/features/page/20/\n",
            "https://fivethirtyeight.com/features/page/21/\n",
            "https://fivethirtyeight.com/features/page/22/\n",
            "https://fivethirtyeight.com/features/page/23/\n",
            "https://fivethirtyeight.com/features/page/24/\n",
            "https://fivethirtyeight.com/features/page/25/\n",
            "https://fivethirtyeight.com/features/page/26/\n",
            "https://fivethirtyeight.com/features/page/27/\n",
            "https://fivethirtyeight.com/features/page/28/\n",
            "https://fivethirtyeight.com/features/page/29/\n",
            "https://fivethirtyeight.com/features/page/30/\n",
            "https://fivethirtyeight.com/features/page/31/\n",
            "https://fivethirtyeight.com/features/page/32/\n",
            "https://fivethirtyeight.com/features/page/33/\n",
            "https://fivethirtyeight.com/features/page/34/\n",
            "https://fivethirtyeight.com/features/page/35/\n",
            "https://fivethirtyeight.com/features/page/36/\n",
            "https://fivethirtyeight.com/features/page/37/\n",
            "https://fivethirtyeight.com/features/page/38/\n",
            "https://fivethirtyeight.com/features/page/39/\n",
            "https://fivethirtyeight.com/features/page/40/\n",
            "https://fivethirtyeight.com/features/page/41/\n",
            "https://fivethirtyeight.com/features/page/42/\n",
            "https://fivethirtyeight.com/features/page/43/\n",
            "https://fivethirtyeight.com/features/page/44/\n",
            "https://fivethirtyeight.com/features/page/45/\n",
            "https://fivethirtyeight.com/features/page/46/\n",
            "https://fivethirtyeight.com/features/page/47/\n",
            "https://fivethirtyeight.com/features/page/48/\n",
            "https://fivethirtyeight.com/features/page/49/\n",
            "https://fivethirtyeight.com/features/page/50/\n",
            "https://fivethirtyeight.com/features/page/51/\n",
            "https://fivethirtyeight.com/features/page/52/\n",
            "https://fivethirtyeight.com/features/page/53/\n",
            "https://fivethirtyeight.com/features/page/54/\n",
            "https://fivethirtyeight.com/features/page/55/\n",
            "https://fivethirtyeight.com/features/page/56/\n",
            "https://fivethirtyeight.com/features/page/57/\n",
            "https://fivethirtyeight.com/features/page/58/\n",
            "https://fivethirtyeight.com/features/page/59/\n",
            "https://fivethirtyeight.com/features/page/60/\n",
            "https://fivethirtyeight.com/features/page/61/\n",
            "https://fivethirtyeight.com/features/page/62/\n",
            "https://fivethirtyeight.com/features/page/63/\n",
            "https://fivethirtyeight.com/features/page/64/\n",
            "https://fivethirtyeight.com/features/page/65/\n",
            "https://fivethirtyeight.com/features/page/66/\n",
            "https://fivethirtyeight.com/features/page/67/\n",
            "https://fivethirtyeight.com/features/page/68/\n",
            "https://fivethirtyeight.com/features/page/69/\n",
            "https://fivethirtyeight.com/features/page/70/\n",
            "https://fivethirtyeight.com/features/page/71/\n",
            "https://fivethirtyeight.com/features/page/72/\n",
            "https://fivethirtyeight.com/features/page/73/\n",
            "https://fivethirtyeight.com/features/page/74/\n",
            "https://fivethirtyeight.com/features/page/75/\n",
            "https://fivethirtyeight.com/features/page/76/\n",
            "https://fivethirtyeight.com/features/page/77/\n",
            "https://fivethirtyeight.com/features/page/78/\n",
            "https://fivethirtyeight.com/features/page/79/\n",
            "https://fivethirtyeight.com/features/page/80/\n",
            "https://fivethirtyeight.com/features/page/81/\n",
            "https://fivethirtyeight.com/features/page/82/\n",
            "https://fivethirtyeight.com/features/page/83/\n",
            "https://fivethirtyeight.com/features/page/84/\n",
            "https://fivethirtyeight.com/features/page/85/\n",
            "https://fivethirtyeight.com/features/page/86/\n",
            "https://fivethirtyeight.com/features/page/87/\n",
            "https://fivethirtyeight.com/features/page/88/\n",
            "https://fivethirtyeight.com/features/page/89/\n",
            "https://fivethirtyeight.com/features/page/90/\n",
            "https://fivethirtyeight.com/features/page/91/\n",
            "https://fivethirtyeight.com/features/page/92/\n",
            "https://fivethirtyeight.com/features/page/93/\n",
            "https://fivethirtyeight.com/features/page/94/\n",
            "https://fivethirtyeight.com/features/page/95/\n",
            "https://fivethirtyeight.com/features/page/96/\n",
            "https://fivethirtyeight.com/features/page/97/\n",
            "https://fivethirtyeight.com/features/page/98/\n",
            "https://fivethirtyeight.com/features/page/99/\n",
            "https://fivethirtyeight.com/features/page/100/\n"
          ]
        }
      ]
    },
    {
      "cell_type": "markdown",
      "metadata": {
        "id": "bGXAcU11EyFY"
      },
      "source": [
        "## Write & read an HTML file"
      ]
    },
    {
      "cell_type": "code",
      "metadata": {
        "id": "mCAHWfAhEyFZ"
      },
      "source": [
        "url = \"https://fivethirtyeight.com/features/argentina-and-france-lived-up-to-the-world-cup-finals-hype-and-then-transcended-it/\"\n",
        "r = requests.get(url)"
      ],
      "execution_count": null,
      "outputs": []
    },
    {
      "cell_type": "code",
      "metadata": {
        "id": "zAf7Vw3XEyFZ",
        "colab": {
          "base_uri": "https://localhost:8080/",
          "height": 36
        },
        "outputId": "bd5c2490-091f-4cd4-918a-a6ea0efc07d8"
      },
      "source": [
        "url[len(\"https://fivethirtyeight.com/features/\"):-1]"
      ],
      "execution_count": null,
      "outputs": [
        {
          "output_type": "execute_result",
          "data": {
            "text/plain": [
              "'argentina-and-france-lived-up-to-the-world-cup-finals-hype-and-then-transcended-it'"
            ],
            "application/vnd.google.colaboratory.intrinsic+json": {
              "type": "string"
            }
          },
          "metadata": {},
          "execution_count": 7
        }
      ]
    },
    {
      "cell_type": "code",
      "metadata": {
        "id": "MkmPwSIPEyFZ",
        "colab": {
          "base_uri": "https://localhost:8080/",
          "height": 36
        },
        "outputId": "6097725e-c4e2-4d3f-9461-a14e12614128"
      },
      "source": [
        "file_name = url[len(\"https://fivethirtyeight.com/features/\"):-1] + \".html\"\n",
        "file_name"
      ],
      "execution_count": null,
      "outputs": [
        {
          "output_type": "execute_result",
          "data": {
            "text/plain": [
              "'argentina-and-france-lived-up-to-the-world-cup-finals-hype-and-then-transcended-it.html'"
            ],
            "application/vnd.google.colaboratory.intrinsic+json": {
              "type": "string"
            }
          },
          "metadata": {},
          "execution_count": 8
        }
      ]
    },
    {
      "cell_type": "code",
      "metadata": {
        "id": "Oq1E_TpwEyFZ"
      },
      "source": [
        "with open(f\"{outcome_folder}/{file_name}\", \"w+b\") as fw:\n",
        "    fw.write(r.content)"
      ],
      "execution_count": null,
      "outputs": []
    },
    {
      "cell_type": "code",
      "metadata": {
        "id": "qKkoBkZUEyFZ",
        "colab": {
          "base_uri": "https://localhost:8080/"
        },
        "outputId": "5a158ebc-ea9e-4abc-a139-61c626946eab"
      },
      "source": [
        "with open(f\"{outcome_folder}/{file_name}\", \"r+b\") as fr:\n",
        "    soup = BeautifulSoup(fr.read(), \"html.parser\")\n",
        "\n",
        "    print(soup.title.text)          # Do whatever you want with the saved web page."
      ],
      "execution_count": null,
      "outputs": [
        {
          "output_type": "stream",
          "name": "stdout",
          "text": [
            "Argentina And France Lived Up To The World Cup Final’s Hype — And Then Transcended It | FiveThirtyEight\n"
          ]
        }
      ]
    },
    {
      "cell_type": "markdown",
      "metadata": {
        "id": "5S9g80l-EyFZ"
      },
      "source": [
        "## Automate the process of saving all articles on the Features list"
      ]
    },
    {
      "cell_type": "code",
      "metadata": {
        "id": "_4tNBT1_EyFa",
        "colab": {
          "base_uri": "https://localhost:8080/"
        },
        "outputId": "e1b6a358-3f4b-4595-8b02-8850e71ef7de"
      },
      "source": [
        "urls = [\"https://fivethirtyeight.com/features/\"]\n",
        "\n",
        "for i in range(2, 11):     # The range(2, 11) generates a list of integers from 2 to 10.\n",
        "    url = f\"https://fivethirtyeight.com/features/page/{i}/\"\n",
        "    urls.append(url)\n",
        "\n",
        "urls"
      ],
      "execution_count": null,
      "outputs": [
        {
          "output_type": "execute_result",
          "data": {
            "text/plain": [
              "['https://fivethirtyeight.com/features/',\n",
              " 'https://fivethirtyeight.com/features/page/2/',\n",
              " 'https://fivethirtyeight.com/features/page/3/',\n",
              " 'https://fivethirtyeight.com/features/page/4/',\n",
              " 'https://fivethirtyeight.com/features/page/5/',\n",
              " 'https://fivethirtyeight.com/features/page/6/',\n",
              " 'https://fivethirtyeight.com/features/page/7/',\n",
              " 'https://fivethirtyeight.com/features/page/8/',\n",
              " 'https://fivethirtyeight.com/features/page/9/',\n",
              " 'https://fivethirtyeight.com/features/page/10/']"
            ]
          },
          "metadata": {},
          "execution_count": 11
        }
      ]
    },
    {
      "cell_type": "code",
      "source": [
        "len(urls)"
      ],
      "metadata": {
        "colab": {
          "base_uri": "https://localhost:8080/"
        },
        "id": "36NfVeD9pwCC",
        "outputId": "5c6b6c36-26d7-4c07-faeb-09ca1a71a0e8"
      },
      "execution_count": null,
      "outputs": [
        {
          "output_type": "execute_result",
          "data": {
            "text/plain": [
              "10"
            ]
          },
          "metadata": {},
          "execution_count": 12
        }
      ]
    },
    {
      "cell_type": "code",
      "metadata": {
        "id": "q5v1vxvYEyFa"
      },
      "source": [
        "import os\n",
        "\n",
        "if not os.path.isdir(f\"{outcome_folder}/HTMLs\"):\n",
        "    os.mkdir(f\"{outcome_folder}/HTMLs\")"
      ],
      "execution_count": null,
      "outputs": []
    },
    {
      "cell_type": "code",
      "metadata": {
        "id": "mjgmtRzqEyFa"
      },
      "source": [
        "import time     # Necessary for the sleep function."
      ],
      "execution_count": null,
      "outputs": []
    },
    {
      "cell_type": "code",
      "metadata": {
        "scrolled": false,
        "id": "FEofWJsWEyFa",
        "colab": {
          "base_uri": "https://localhost:8080/"
        },
        "outputId": "9dcb3066-ad7c-4232-ea7a-591e462cbcae"
      },
      "source": [
        "for url in urls: # 한 페이지에 대해서 outer loop, request 보낼때마다 time.sleep한다고 생각하기\n",
        "    print(url)\n",
        "\n",
        "    ####################################################\n",
        "    # Get the content of a page\n",
        "    ####################################################\n",
        "    r = requests.get(url)\n",
        "    soup = BeautifulSoup(r.content, \"html.parser\")\n",
        "\n",
        "    ####################################################\n",
        "    # Get the list of articles\n",
        "    ####################################################\n",
        "    h2_list = soup.find_all(\"h2\", {\"class\": \"article-title entry-title\"})\n",
        "\n",
        "    for h2 in h2_list: # 각 article에 대해서 inner loop\n",
        "        ####################################################\n",
        "        # Find the anchor tag\n",
        "        ####################################################\n",
        "        a = h2.find(\"a\")\n",
        "\n",
        "        ####################################################\n",
        "        # Extract the title & URL of an article\n",
        "        ####################################################\n",
        "        title = a.text\n",
        "        article_url = a[\"href\"]\n",
        "\n",
        "        ####################################################\n",
        "        # Fetch the content and save it as an HTML file\n",
        "        ####################################################\n",
        "        print(\"- \" + article_url + \": processing...\")\n",
        "\n",
        "        r2 = requests.get(article_url)\n",
        "\n",
        "        if \"/features/\" in article_url:\n",
        "          file_name = article_url[len(\"https://fivethirtyeight.com/features/\"):-1] + \".html\"\n",
        "        elif \"/videos/\" in article_url:\n",
        "          file_name = article_url[len(\"https://fivethirtyeight.com/videos/\"):-1] + \".html\"\n",
        "        elif \"/methodology/\" in article_url:\n",
        "          file_name = article_url[len(\"https://fivethirtyeight.com/methodology/\"):-1] + \".html\"\n",
        "        elif \"/live-blog/\" in article_url:\n",
        "          file_name = article_url[len(\"https://fivethirtyeight.com/live-blog/\"):-1] + \".html\"\n",
        "        else:\n",
        "          assert 0 == 1, \"Unknown article url pattern!\"\n",
        "          # 일부러 error를 발생시켜서 멈추고 싶을때 .. 0==1 항상 false니까 error 발생\n",
        "\n",
        "        with open(f\"{outcome_folder}/HTMLs/{file_name}\", \"w+b\") as fw:\n",
        "            fw.write(r2.content)\n",
        "\n",
        "        print(\"- \" + file_name + \": saved.\")\n",
        "\n",
        "        ####################################################\n",
        "        # Sleep for a second to not overload the web site\n",
        "        # 웹사이트에 너무 많은 call을 날려서 website overloading을 막아야 한다(politeness policy)\n",
        "        ####################################################\n",
        "        time.sleep(1) # 1초동안 쉬도록 .. 네이버는 각 페이지마다 10초\n",
        "\n",
        "    print()"
      ],
      "execution_count": null,
      "outputs": [
        {
          "output_type": "stream",
          "name": "stdout",
          "text": [
            "https://fivethirtyeight.com/features/\n",
            "- https://fivethirtyeight.com/features/nfl-leadership-wasnt-prepared-for-damar-hamlins-injury/: processing...\n",
            "- nfl-leadership-wasnt-prepared-for-damar-hamlins-injury.html: saved.\n",
            "- https://fivethirtyeight.com/features/why-kidfluencers-have-so-few-protections-even-as-americans-support-regulating-the-industry/: processing...\n",
            "- why-kidfluencers-have-so-few-protections-even-as-americans-support-regulating-the-industry.html: saved.\n",
            "- https://fivethirtyeight.com/videos/do-you-buy-that-young-voters-handed-democrats-wins-in-close-races/: processing...\n",
            "- do-you-buy-that-young-voters-handed-democrats-wins-in-close-races.html: saved.\n",
            "- https://fivethirtyeight.com/features/how-biden-could-appoint-more-judges-than-trump/: processing...\n",
            "- how-biden-could-appoint-more-judges-than-trump.html: saved.\n",
            "- https://fivethirtyeight.com/features/the-numbers-that-defined-2022/: processing...\n",
            "- the-numbers-that-defined-2022.html: saved.\n",
            "- https://fivethirtyeight.com/videos/the-number-that-will-shape-republican-politics-in-2023/: processing...\n",
            "- the-number-that-will-shape-republican-politics-in-2023.html: saved.\n",
            "- https://fivethirtyeight.com/features/how-2022-was-a-win-for-democracy/: processing...\n",
            "- how-2022-was-a-win-for-democracy.html: saved.\n",
            "- https://fivethirtyeight.com/features/2022-predictions-i-got-wrong/: processing...\n",
            "- 2022-predictions-i-got-wrong.html: saved.\n",
            "- https://fivethirtyeight.com/videos/how-inflations-41-year-high-impacted-american-life/: processing...\n",
            "- how-inflations-41-year-high-impacted-american-life.html: saved.\n",
            "- https://fivethirtyeight.com/features/the-best-teams-of-2022-werent-always-champions/: processing...\n",
            "- the-best-teams-of-2022-werent-always-champions.html: saved.\n",
            "\n",
            "https://fivethirtyeight.com/features/page/2/\n",
            "- https://fivethirtyeight.com/videos/the-epa-is-finally-addressing-4-dangerous-forever-chemicals-out-of-over-4000/: processing...\n",
            "- the-epa-is-finally-addressing-4-dangerous-forever-chemicals-out-of-over-4000.html: saved.\n",
            "- https://fivethirtyeight.com/features/how-americans-really-feel-about-elon-musk/: processing...\n",
            "- how-americans-really-feel-about-elon-musk.html: saved.\n",
            "- https://fivethirtyeight.com/features/when-might-other-republicans-challenge-trump-for-the-2024-nomination/: processing...\n",
            "- when-might-other-republicans-challenge-trump-for-the-2024-nomination.html: saved.\n",
            "- https://fivethirtyeight.com/videos/did-the-jan-6-committee-succeed/: processing...\n",
            "- did-the-jan-6-committee-succeed.html: saved.\n",
            "- https://fivethirtyeight.com/videos/the-number-of-election-denying-republicans-defined-the-2022-midterms/: processing...\n",
            "- the-number-of-election-denying-republicans-defined-the-2022-midterms.html: saved.\n",
            "- https://fivethirtyeight.com/features/can-the-dallas-cowboys-avoid-another-playoff-flop/: processing...\n",
            "- can-the-dallas-cowboys-avoid-another-playoff-flop.html: saved.\n",
            "- https://fivethirtyeight.com/videos/the-number-that-captures-the-impact-of-the-dobbs-decision/: processing...\n",
            "- the-number-that-captures-the-impact-of-the-dobbs-decision.html: saved.\n",
            "- https://fivethirtyeight.com/features/the-teams-that-won-lost-and-confused-us-this-mlb-offseason/: processing...\n",
            "- the-teams-that-won-lost-and-confused-us-this-mlb-offseason.html: saved.\n",
            "- https://fivethirtyeight.com/features/these-5-voters-of-color-dont-want-biden-vs-trump-in-2024/: processing...\n",
            "- these-5-voters-of-color-dont-want-biden-vs-trump-in-2024.html: saved.\n",
            "\n",
            "https://fivethirtyeight.com/features/page/3/\n",
            "- https://fivethirtyeight.com/features/trump-desantis-2024-draft/: processing...\n",
            "- trump-desantis-2024-draft.html: saved.\n",
            "- https://fivethirtyeight.com/features/mike-leach-remade-football-in-his-pass-happy-image/: processing...\n",
            "- mike-leach-remade-football-in-his-pass-happy-image.html: saved.\n",
            "- https://fivethirtyeight.com/features/best-charts-2022/: processing...\n",
            "- best-charts-2022.html: saved.\n",
            "- https://fivethirtyeight.com/videos/what-ive-learned-after-seven-years-of-making-the-politics-podcast/: processing...\n",
            "- what-ive-learned-after-seven-years-of-making-the-politics-podcast.html: saved.\n",
            "- https://fivethirtyeight.com/features/were-still-processing-week-15s-most-mind-blowing-finishes/: processing...\n",
            "- were-still-processing-week-15s-most-mind-blowing-finishes.html: saved.\n",
            "- https://fivethirtyeight.com/features/argentina-and-france-lived-up-to-the-world-cup-finals-hype-and-then-transcended-it/: processing...\n",
            "- argentina-and-france-lived-up-to-the-world-cup-finals-hype-and-then-transcended-it.html: saved.\n",
            "- https://fivethirtyeight.com/videos/140-million-americans-will-live-in-states-controlled-by-democrats/: processing...\n",
            "- 140-million-americans-will-live-in-states-controlled-by-democrats.html: saved.\n",
            "- https://fivethirtyeight.com/features/biden-coalition-2022-senate-democrats/: processing...\n",
            "- biden-coalition-2022-senate-democrats.html: saved.\n",
            "- https://fivethirtyeight.com/features/mbappe-vs-messi-is-the-world-cup-final-soccer-fans-deserve/: processing...\n",
            "- mbappe-vs-messi-is-the-world-cup-final-soccer-fans-deserve.html: saved.\n",
            "\n",
            "https://fivethirtyeight.com/features/page/4/\n",
            "- https://fivethirtyeight.com/features/can-you-make-it-to-2023/: processing...\n",
            "- can-you-make-it-to-2023.html: saved.\n",
            "- https://fivethirtyeight.com/videos/the-u-s-poverty-rate-hit-a-record-low-but-dont-expect-it-to-stay-that-way/: processing...\n",
            "- the-u-s-poverty-rate-hit-a-record-low-but-dont-expect-it-to-stay-that-way.html: saved.\n",
            "- https://fivethirtyeight.com/features/the-sacramento-kings-offense-is-playoff-worthy/: processing...\n",
            "- the-sacramento-kings-offense-is-playoff-worthy.html: saved.\n",
            "- https://fivethirtyeight.com/features/americans-want-more-affordable-housing-just-not-nearby/: processing...\n",
            "- americans-want-more-affordable-housing-just-not-nearby.html: saved.\n",
            "- https://fivethirtyeight.com/videos/how-republicans-won-the-majority-of-latino-voters-in-florida/: processing...\n",
            "- how-republicans-won-the-majority-of-latino-voters-in-florida.html: saved.\n",
            "- https://fivethirtyeight.com/features/youre-not-imagining-things-theres-way-more-stoppage-time-at-this-world-cup/: processing...\n",
            "- youre-not-imagining-things-theres-way-more-stoppage-time-at-this-world-cup.html: saved.\n",
            "- https://fivethirtyeight.com/features/the-butterfly-effect-2/: processing...\n",
            "- the-butterfly-effect-2.html: saved.\n",
            "- https://fivethirtyeight.com/features/nfl-games-have-never-been-closer-heres-why/: processing...\n",
            "- nfl-games-have-never-been-closer-heres-why.html: saved.\n",
            "- https://fivethirtyeight.com/features/how-the-entire-nfc-east-can-make-the-playoffs/: processing...\n",
            "- how-the-entire-nfc-east-can-make-the-playoffs.html: saved.\n",
            "\n",
            "https://fivethirtyeight.com/features/page/5/\n",
            "- https://fivethirtyeight.com/features/how-gen-z-could-transform-american-politics/: processing...\n",
            "- how-gen-z-could-transform-american-politics.html: saved.\n",
            "- https://fivethirtyeight.com/features/the-college-football-bowls-you-should-watch-according-to-our-highly-scientific-ratings/: processing...\n",
            "- the-college-football-bowls-you-should-watch-according-to-our-highly-scientific-ratings.html: saved.\n",
            "- https://fivethirtyeight.com/features/james-harden-doesnt-need-to-play-fast-to-play-efficiently/: processing...\n",
            "- james-harden-doesnt-need-to-play-fast-to-play-efficiently.html: saved.\n",
            "- https://fivethirtyeight.com/features/democrats-want-to-put-abortion-on-the-ballot-but-many-states-wont-let-them/: processing...\n",
            "- democrats-want-to-put-abortion-on-the-ballot-but-many-states-wont-let-them.html: saved.\n",
            "- https://fivethirtyeight.com/features/qatar-world-cup-semifinals/: processing...\n",
            "- qatar-world-cup-semifinals.html: saved.\n",
            "- https://fivethirtyeight.com/videos/is-this-the-last-time-this-decade-democrats-will-control-the-senate/: processing...\n",
            "- is-this-the-last-time-this-decade-democrats-will-control-the-senate.html: saved.\n",
            "- https://fivethirtyeight.com/features/the-dolphins-take-another-l-the-lions-grab-another-w-and-the-nfl-playoff-picture-gets-clearer/: processing...\n",
            "- the-dolphins-take-another-l-the-lions-grab-another-w-and-the-nfl-playoff-picture-gets-clearer.html: saved.\n",
            "- https://fivethirtyeight.com/videos/do-you-buy-that-georgia-is-a-battleground-state/: processing...\n",
            "- do-you-buy-that-georgia-is-a-battleground-state.html: saved.\n",
            "- https://fivethirtyeight.com/features/we-asked-americans-to-explain-their-2022-votes-and-how-theyre-thinking-about-2024/: processing...\n",
            "- we-asked-americans-to-explain-their-2022-votes-and-how-theyre-thinking-about-2024.html: saved.\n",
            "\n",
            "https://fivethirtyeight.com/features/page/6/\n",
            "- https://fivethirtyeight.com/features/why-kyrsten-sinema-left-the-democratic-party/: processing...\n",
            "- why-kyrsten-sinema-left-the-democratic-party.html: saved.\n",
            "- https://fivethirtyeight.com/features/geno-smith-redemption-seahawks-2022/: processing...\n",
            "- geno-smith-redemption-seahawks-2022.html: saved.\n",
            "- https://fivethirtyeight.com/features/the-cavaliers-bet-big-on-donovan-mitchell-heres-why-its-working/: processing...\n",
            "- the-cavaliers-bet-big-on-donovan-mitchell-heres-why-its-working.html: saved.\n",
            "- https://fivethirtyeight.com/features/can-you-win-the-riddler-football-playoff/: processing...\n",
            "- can-you-win-the-riddler-football-playoff.html: saved.\n",
            "- https://fivethirtyeight.com/features/house-speaker-kevin-mccarthy-votes/: processing...\n",
            "- house-speaker-kevin-mccarthy-votes.html: saved.\n",
            "- https://fivethirtyeight.com/features/americans-generally-support-unions-and-averting-a-rail-strike/: processing...\n",
            "- americans-generally-support-unions-and-averting-a-rail-strike.html: saved.\n",
            "- https://fivethirtyeight.com/features/supernovas-and-surprising-stars-who-might-decide-the-world-cup-quarterfinals/: processing...\n",
            "- supernovas-and-surprising-stars-who-might-decide-the-world-cup-quarterfinals.html: saved.\n",
            "- https://fivethirtyeight.com/features/georgia-cant-be-reduced-to-one-political-color/: processing...\n",
            "- georgia-cant-be-reduced-to-one-political-color.html: saved.\n",
            "- https://fivethirtyeight.com/features/democrats-senate-chances-2024-and-beyond/: processing...\n",
            "- democrats-senate-chances-2024-and-beyond.html: saved.\n",
            "- https://fivethirtyeight.com/features/it-took-a-year-but-the-seattle-kraken-have-been-released/: processing...\n",
            "- it-took-a-year-but-the-seattle-kraken-have-been-released.html: saved.\n",
            "\n",
            "https://fivethirtyeight.com/features/page/7/\n",
            "- https://fivethirtyeight.com/videos/why-warnock-won-where-other-democrats-lost/: processing...\n",
            "- why-warnock-won-where-other-democrats-lost.html: saved.\n",
            "- https://fivethirtyeight.com/features/kylian-mbappe-is-having-a-world-cup-for-the-ages/: processing...\n",
            "- kylian-mbappe-is-having-a-world-cup-for-the-ages.html: saved.\n",
            "- https://fivethirtyeight.com/features/the-datasets-were-looking-at-this-week-28/: processing...\n",
            "- the-datasets-were-looking-at-this-week-28.html: saved.\n",
            "- https://fivethirtyeight.com/features/republicans-senate-2024-map/: processing...\n",
            "- republicans-senate-2024-map.html: saved.\n",
            "- https://fivethirtyeight.com/features/fifty-years-after-their-last-nba-title-the-knicks-are-still-adrift/: processing...\n",
            "- fifty-years-after-their-last-nba-title-the-knicks-are-still-adrift.html: saved.\n",
            "- https://fivethirtyeight.com/live-blog/georgia-senate-warnock-walker/: processing...\n",
            "- georgia-senate-warnock-walker.html: saved.\n",
            "- https://fivethirtyeight.com/videos/the-georgia-runoff-could-be-bad-for-trump-in-2024/: processing...\n",
            "- the-georgia-runoff-could-be-bad-for-trump-in-2024.html: saved.\n",
            "- https://fivethirtyeight.com/features/the-college-football-playoff-features-four-worthy-teams-but-picking-them-wasnt-easy/: processing...\n",
            "- the-college-football-playoff-features-four-worthy-teams-but-picking-them-wasnt-easy.html: saved.\n",
            "- https://fivethirtyeight.com/videos/democrats-want-to-change-their-primary-calendar-it-wont-be-easy/: processing...\n",
            "- democrats-want-to-change-their-primary-calendar-it-wont-be-easy.html: saved.\n",
            "\n",
            "https://fivethirtyeight.com/features/page/8/\n",
            "- https://fivethirtyeight.com/videos/will-warnock-or-walker-win-the-georgia-runoff/: processing...\n",
            "- will-warnock-or-walker-win-the-georgia-runoff.html: saved.\n",
            "- https://fivethirtyeight.com/features/georgia-polls-2022-runoff/: processing...\n",
            "- georgia-polls-2022-runoff.html: saved.\n",
            "- https://fivethirtyeight.com/features/the-bengals-and-niners-are-winning-us-over-but-were-still-not-sold-on-the-vikings/: processing...\n",
            "- the-bengals-and-niners-are-winning-us-over-but-were-still-not-sold-on-the-vikings.html: saved.\n",
            "- https://fivethirtyeight.com/features/how-north-carolinas-political-warfare-could-impact-the-entire-country/: processing...\n",
            "- how-north-carolinas-political-warfare-could-impact-the-entire-country.html: saved.\n",
            "- https://fivethirtyeight.com/videos/do-you-buy-that-mccarthy-will-eventually-become-speaker/: processing...\n",
            "- do-you-buy-that-mccarthy-will-eventually-become-speaker.html: saved.\n",
            "- https://fivethirtyeight.com/videos/where-americans-voted-to-protect-abortion-rights-in-the-midterms/: processing...\n",
            "- where-americans-voted-to-protect-abortion-rights-in-the-midterms.html: saved.\n",
            "- https://fivethirtyeight.com/features/what-to-watch-for-in-the-2022-world-cups-round-of-16/: processing...\n",
            "- what-to-watch-for-in-the-2022-world-cups-round-of-16.html: saved.\n",
            "- https://fivethirtyeight.com/features/can-you-separate-the-world-cup-fans/: processing...\n",
            "- can-you-separate-the-world-cup-fans.html: saved.\n",
            "- https://fivethirtyeight.com/features/how-americans-feel-about-qatar-hosting-the-world-cup/: processing...\n",
            "- how-americans-feel-about-qatar-hosting-the-world-cup.html: saved.\n",
            "\n",
            "https://fivethirtyeight.com/features/page/9/\n",
            "- https://fivethirtyeight.com/features/how-americans-feel-about-qatar-hosting-the-world-cup/: processing...\n",
            "- how-americans-feel-about-qatar-hosting-the-world-cup.html: saved.\n",
            "- https://fivethirtyeight.com/videos/is-democracy-all-good-now/: processing...\n",
            "- is-democracy-all-good-now.html: saved.\n",
            "- https://fivethirtyeight.com/features/the-ravens-pre-snap-motion-is-a-deadly-weapon-but-it-might-also-lead-to-more-penalties/: processing...\n",
            "- the-ravens-pre-snap-motion-is-a-deadly-weapon-but-it-might-also-lead-to-more-penalties.html: saved.\n",
            "- https://fivethirtyeight.com/features/redistricting-house-2022/: processing...\n",
            "- redistricting-house-2022.html: saved.\n",
            "- https://fivethirtyeight.com/features/does-harry-kanes-legacy-ride-on-this-world-cup/: processing...\n",
            "- does-harry-kanes-legacy-ride-on-this-world-cup.html: saved.\n",
            "- https://fivethirtyeight.com/features/the-datasets-were-looking-at-this-week-27/: processing...\n",
            "- the-datasets-were-looking-at-this-week-27.html: saved.\n",
            "- https://fivethirtyeight.com/features/the-u-s-played-to-win-against-iran-and-it-worked/: processing...\n",
            "- the-u-s-played-to-win-against-iran-and-it-worked.html: saved.\n",
            "- https://fivethirtyeight.com/features/how-either-candidate-could-win-georgias-senate-runoff/: processing...\n",
            "- how-either-candidate-could-win-georgias-senate-runoff.html: saved.\n",
            "- https://fivethirtyeight.com/features/the-rams-super-bowl-afterparty-turned-into-a-historic-hangover/: processing...\n",
            "- the-rams-super-bowl-afterparty-turned-into-a-historic-hangover.html: saved.\n",
            "\n",
            "https://fivethirtyeight.com/features/page/10/\n",
            "- https://fivethirtyeight.com/features/rogers-democracy-on-ballot-1129/: processing...\n",
            "- rogers-democracy-on-ballot-1129.html: saved.\n",
            "- https://fivethirtyeight.com/features/college-footballs-top-playoff-contenders-can-win-their-way-in-chaos-awaits-if-they-dont/: processing...\n",
            "- college-footballs-top-playoff-contenders-can-win-their-way-in-chaos-awaits-if-they-dont.html: saved.\n",
            "- https://fivethirtyeight.com/videos/if-biden-doesnt-run-in-2024-who-will/: processing...\n",
            "- if-biden-doesnt-run-in-2024-who-will.html: saved.\n",
            "- https://fivethirtyeight.com/features/the-jets-have-the-mvp-the-browns-shouldnt-switch-qbs-and-we-want-an-entire-division-in-the-playoffs/: processing...\n",
            "- the-jets-have-the-mvp-the-browns-shouldnt-switch-qbs-and-we-want-an-entire-division-in-the-playoffs.html: saved.\n",
            "- https://fivethirtyeight.com/features/few-midterm-voters-backed-different-parties-for-senate-and-governor/: processing...\n",
            "- few-midterm-voters-backed-different-parties-for-senate-and-governor.html: saved.\n",
            "- https://fivethirtyeight.com/features/what-can-the-2022-midterms-tell-us-about-2024/: processing...\n",
            "- what-can-the-2022-midterms-tell-us-about-2024.html: saved.\n",
            "- https://fivethirtyeight.com/features/the-world-cups-new-high-tech-ball-will-change-soccer-forever/: processing...\n",
            "- the-world-cups-new-high-tech-ball-will-change-soccer-forever.html: saved.\n",
            "- https://fivethirtyeight.com/videos/when-did-the-party-of-reagan-end/: processing...\n",
            "- when-did-the-party-of-reagan-end.html: saved.\n",
            "- https://fivethirtyeight.com/videos/dybt-trump-is-the-frontrunner-for-the-2024-gop-nomination/: processing...\n",
            "- dybt-trump-is-the-frontrunner-for-the-2024-gop-nomination.html: saved.\n",
            "\n"
          ]
        }
      ]
    },
    {
      "cell_type": "markdown",
      "metadata": {
        "id": "Ab6FFj1wEyFb"
      },
      "source": [
        "## Extract information from all HTML files & save it in a CSV file"
      ]
    },
    {
      "cell_type": "code",
      "metadata": {
        "id": "mDlbtq4fEyFb",
        "colab": {
          "base_uri": "https://localhost:8080/"
        },
        "outputId": "940417ee-edc9-464e-ffa2-fcca679113b9"
      },
      "source": [
        "os.listdir(f\"{outcome_folder}/HTMLs\") # 리스트로 폴더에 있는 모든 파일 이름을 가져옴\n",
        "# 이렇게 해두면 다시 웹페이지에 접속할 필요없이 저장한 파일을 열면 된다 .. 나중에 웹페이지가 달라져도 괜찮음"
      ],
      "execution_count": null,
      "outputs": [
        {
          "output_type": "execute_result",
          "data": {
            "text/plain": [
              "['how-biden-could-appoint-more-judges-than-trump.html',\n",
              " 'the-numbers-that-defined-2022.html',\n",
              " 'the-number-that-will-shape-republican-politics-in-2023.html',\n",
              " 'how-2022-was-a-win-for-democracy.html',\n",
              " '2022-predictions-i-got-wrong.html',\n",
              " 'how-inflations-41-year-high-impacted-american-life.html',\n",
              " 'the-best-teams-of-2022-werent-always-champions.html',\n",
              " 'the-epa-is-finally-addressing-4-dangerous-forever-chemicals-out-of-over-4000.html',\n",
              " 'how-americans-really-feel-about-elon-musk.html',\n",
              " 'when-might-other-republicans-challenge-trump-for-the-2024-nomination.html',\n",
              " 'did-the-jan-6-committee-succeed.html',\n",
              " 'the-number-of-election-denying-republicans-defined-the-2022-midterms.html',\n",
              " 'can-the-dallas-cowboys-avoid-another-playoff-flop.html',\n",
              " 'the-number-that-captures-the-impact-of-the-dobbs-decision.html',\n",
              " 'these-5-voters-of-color-dont-want-biden-vs-trump-in-2024.html',\n",
              " 'the-teams-that-won-lost-and-confused-us-this-mlb-offseason.html',\n",
              " 'mike-leach-remade-football-in-his-pass-happy-image.html',\n",
              " 'best-charts-2022.html',\n",
              " 'trump-desantis-2024-draft.html',\n",
              " 'what-ive-learned-after-seven-years-of-making-the-politics-podcast.html',\n",
              " 'were-still-processing-week-15s-most-mind-blowing-finishes.html',\n",
              " 'argentina-and-france-lived-up-to-the-world-cup-finals-hype-and-then-transcended-it.html',\n",
              " '140-million-americans-will-live-in-states-controlled-by-democrats.html',\n",
              " 'biden-coalition-2022-senate-democrats.html',\n",
              " 'mbappe-vs-messi-is-the-world-cup-final-soccer-fans-deserve.html',\n",
              " 'can-you-make-it-to-2023.html',\n",
              " 'the-u-s-poverty-rate-hit-a-record-low-but-dont-expect-it-to-stay-that-way.html',\n",
              " 'americans-want-more-affordable-housing-just-not-nearby.html',\n",
              " 'the-sacramento-kings-offense-is-playoff-worthy.html',\n",
              " 'how-republicans-won-the-majority-of-latino-voters-in-florida.html',\n",
              " 'youre-not-imagining-things-theres-way-more-stoppage-time-at-this-world-cup.html',\n",
              " 'the-butterfly-effect-2.html',\n",
              " 'nfl-games-have-never-been-closer-heres-why.html',\n",
              " 'how-the-entire-nfc-east-can-make-the-playoffs.html',\n",
              " 'how-gen-z-could-transform-american-politics.html',\n",
              " 'the-college-football-bowls-you-should-watch-according-to-our-highly-scientific-ratings.html',\n",
              " 'james-harden-doesnt-need-to-play-fast-to-play-efficiently.html',\n",
              " 'democrats-want-to-put-abortion-on-the-ballot-but-many-states-wont-let-them.html',\n",
              " 'qatar-world-cup-semifinals.html',\n",
              " 'is-this-the-last-time-this-decade-democrats-will-control-the-senate.html',\n",
              " 'the-dolphins-take-another-l-the-lions-grab-another-w-and-the-nfl-playoff-picture-gets-clearer.html',\n",
              " 'do-you-buy-that-georgia-is-a-battleground-state.html',\n",
              " 'we-asked-americans-to-explain-their-2022-votes-and-how-theyre-thinking-about-2024.html',\n",
              " 'why-kyrsten-sinema-left-the-democratic-party.html',\n",
              " 'geno-smith-redemption-seahawks-2022.html',\n",
              " 'the-cavaliers-bet-big-on-donovan-mitchell-heres-why-its-working.html',\n",
              " 'can-you-win-the-riddler-football-playoff.html',\n",
              " 'house-speaker-kevin-mccarthy-votes.html',\n",
              " 'americans-generally-support-unions-and-averting-a-rail-strike.html',\n",
              " 'supernovas-and-surprising-stars-who-might-decide-the-world-cup-quarterfinals.html',\n",
              " 'georgia-cant-be-reduced-to-one-political-color.html',\n",
              " 'democrats-senate-chances-2024-and-beyond.html',\n",
              " 'it-took-a-year-but-the-seattle-kraken-have-been-released.html',\n",
              " 'why-warnock-won-where-other-democrats-lost.html',\n",
              " 'kylian-mbappe-is-having-a-world-cup-for-the-ages.html',\n",
              " 'the-datasets-were-looking-at-this-week-28.html',\n",
              " 'republicans-senate-2024-map.html',\n",
              " 'fifty-years-after-their-last-nba-title-the-knicks-are-still-adrift.html',\n",
              " 'georgia-senate-warnock-walker.html',\n",
              " 'the-georgia-runoff-could-be-bad-for-trump-in-2024.html',\n",
              " 'the-college-football-playoff-features-four-worthy-teams-but-picking-them-wasnt-easy.html',\n",
              " 'democrats-want-to-change-their-primary-calendar-it-wont-be-easy.html',\n",
              " 'will-warnock-or-walker-win-the-georgia-runoff.html',\n",
              " 'georgia-polls-2022-runoff.html',\n",
              " 'the-bengals-and-niners-are-winning-us-over-but-were-still-not-sold-on-the-vikings.html',\n",
              " 'how-north-carolinas-political-warfare-could-impact-the-entire-country.html',\n",
              " 'do-you-buy-that-mccarthy-will-eventually-become-speaker.html',\n",
              " 'where-americans-voted-to-protect-abortion-rights-in-the-midterms.html',\n",
              " 'what-to-watch-for-in-the-2022-world-cups-round-of-16.html',\n",
              " 'can-you-separate-the-world-cup-fans.html',\n",
              " 'the-hall-of-fame-math-for-barry-bonds-and-roger-clemens-doesnt-add-up.html',\n",
              " 'how-americans-feel-about-qatar-hosting-the-world-cup.html',\n",
              " 'is-democracy-all-good-now.html',\n",
              " 'the-ravens-pre-snap-motion-is-a-deadly-weapon-but-it-might-also-lead-to-more-penalties.html',\n",
              " 'redistricting-house-2022.html',\n",
              " 'does-harry-kanes-legacy-ride-on-this-world-cup.html',\n",
              " 'the-datasets-were-looking-at-this-week-27.html',\n",
              " 'the-u-s-played-to-win-against-iran-and-it-worked.html',\n",
              " 'how-either-candidate-could-win-georgias-senate-runoff.html',\n",
              " 'the-rams-super-bowl-afterparty-turned-into-a-historic-hangover.html',\n",
              " 'rogers-democracy-on-ballot-1129.html',\n",
              " 'college-footballs-top-playoff-contenders-can-win-their-way-in-chaos-awaits-if-they-dont.html',\n",
              " 'if-biden-doesnt-run-in-2024-who-will.html',\n",
              " 'the-jets-have-the-mvp-the-browns-shouldnt-switch-qbs-and-we-want-an-entire-division-in-the-playoffs.html',\n",
              " 'few-midterm-voters-backed-different-parties-for-senate-and-governor.html',\n",
              " 'what-can-the-2022-midterms-tell-us-about-2024.html',\n",
              " 'the-world-cups-new-high-tech-ball-will-change-soccer-forever.html',\n",
              " 'when-did-the-party-of-reagan-end.html',\n",
              " 'dybt-trump-is-the-frontrunner-for-the-2024-gop-nomination.html',\n",
              " 'how-a-data-processing-error-changed-our-deluxe-forecast.html',\n",
              " 'election-explanations-are-hard.html',\n",
              " 'nfl-leadership-wasnt-prepared-for-damar-hamlins-injury.html',\n",
              " 'why-kidfluencers-have-so-few-protections-even-as-americans-support-regulating-the-industry.html',\n",
              " 'do-you-buy-that-young-voters-handed-democrats-wins-in-close-races.html']"
            ]
          },
          "metadata": {},
          "execution_count": 16
        }
      ]
    },
    {
      "cell_type": "code",
      "metadata": {
        "colab": {
          "base_uri": "https://localhost:8080/"
        },
        "id": "7Ovghpnpa0K0",
        "outputId": "fa43a6a2-8712-4ea7-b34d-b0eb25e78ed0"
      },
      "source": [
        "html_files = [file for file in os.listdir(f\"{outcome_folder}/HTMLs\") if file.endswith(\".html\")]\n",
        "html_files"
      ],
      "execution_count": null,
      "outputs": [
        {
          "output_type": "execute_result",
          "data": {
            "text/plain": [
              "['how-biden-could-appoint-more-judges-than-trump.html',\n",
              " 'the-numbers-that-defined-2022.html',\n",
              " 'the-number-that-will-shape-republican-politics-in-2023.html',\n",
              " 'how-2022-was-a-win-for-democracy.html',\n",
              " '2022-predictions-i-got-wrong.html',\n",
              " 'how-inflations-41-year-high-impacted-american-life.html',\n",
              " 'the-best-teams-of-2022-werent-always-champions.html',\n",
              " 'the-epa-is-finally-addressing-4-dangerous-forever-chemicals-out-of-over-4000.html',\n",
              " 'how-americans-really-feel-about-elon-musk.html',\n",
              " 'when-might-other-republicans-challenge-trump-for-the-2024-nomination.html',\n",
              " 'did-the-jan-6-committee-succeed.html',\n",
              " 'the-number-of-election-denying-republicans-defined-the-2022-midterms.html',\n",
              " 'can-the-dallas-cowboys-avoid-another-playoff-flop.html',\n",
              " 'the-number-that-captures-the-impact-of-the-dobbs-decision.html',\n",
              " 'these-5-voters-of-color-dont-want-biden-vs-trump-in-2024.html',\n",
              " 'the-teams-that-won-lost-and-confused-us-this-mlb-offseason.html',\n",
              " 'mike-leach-remade-football-in-his-pass-happy-image.html',\n",
              " 'best-charts-2022.html',\n",
              " 'trump-desantis-2024-draft.html',\n",
              " 'what-ive-learned-after-seven-years-of-making-the-politics-podcast.html',\n",
              " 'were-still-processing-week-15s-most-mind-blowing-finishes.html',\n",
              " 'argentina-and-france-lived-up-to-the-world-cup-finals-hype-and-then-transcended-it.html',\n",
              " '140-million-americans-will-live-in-states-controlled-by-democrats.html',\n",
              " 'biden-coalition-2022-senate-democrats.html',\n",
              " 'mbappe-vs-messi-is-the-world-cup-final-soccer-fans-deserve.html',\n",
              " 'can-you-make-it-to-2023.html',\n",
              " 'the-u-s-poverty-rate-hit-a-record-low-but-dont-expect-it-to-stay-that-way.html',\n",
              " 'americans-want-more-affordable-housing-just-not-nearby.html',\n",
              " 'the-sacramento-kings-offense-is-playoff-worthy.html',\n",
              " 'how-republicans-won-the-majority-of-latino-voters-in-florida.html',\n",
              " 'youre-not-imagining-things-theres-way-more-stoppage-time-at-this-world-cup.html',\n",
              " 'the-butterfly-effect-2.html',\n",
              " 'nfl-games-have-never-been-closer-heres-why.html',\n",
              " 'how-the-entire-nfc-east-can-make-the-playoffs.html',\n",
              " 'how-gen-z-could-transform-american-politics.html',\n",
              " 'the-college-football-bowls-you-should-watch-according-to-our-highly-scientific-ratings.html',\n",
              " 'james-harden-doesnt-need-to-play-fast-to-play-efficiently.html',\n",
              " 'democrats-want-to-put-abortion-on-the-ballot-but-many-states-wont-let-them.html',\n",
              " 'qatar-world-cup-semifinals.html',\n",
              " 'is-this-the-last-time-this-decade-democrats-will-control-the-senate.html',\n",
              " 'the-dolphins-take-another-l-the-lions-grab-another-w-and-the-nfl-playoff-picture-gets-clearer.html',\n",
              " 'do-you-buy-that-georgia-is-a-battleground-state.html',\n",
              " 'we-asked-americans-to-explain-their-2022-votes-and-how-theyre-thinking-about-2024.html',\n",
              " 'why-kyrsten-sinema-left-the-democratic-party.html',\n",
              " 'geno-smith-redemption-seahawks-2022.html',\n",
              " 'the-cavaliers-bet-big-on-donovan-mitchell-heres-why-its-working.html',\n",
              " 'can-you-win-the-riddler-football-playoff.html',\n",
              " 'house-speaker-kevin-mccarthy-votes.html',\n",
              " 'americans-generally-support-unions-and-averting-a-rail-strike.html',\n",
              " 'supernovas-and-surprising-stars-who-might-decide-the-world-cup-quarterfinals.html',\n",
              " 'georgia-cant-be-reduced-to-one-political-color.html',\n",
              " 'democrats-senate-chances-2024-and-beyond.html',\n",
              " 'it-took-a-year-but-the-seattle-kraken-have-been-released.html',\n",
              " 'why-warnock-won-where-other-democrats-lost.html',\n",
              " 'kylian-mbappe-is-having-a-world-cup-for-the-ages.html',\n",
              " 'the-datasets-were-looking-at-this-week-28.html',\n",
              " 'republicans-senate-2024-map.html',\n",
              " 'fifty-years-after-their-last-nba-title-the-knicks-are-still-adrift.html',\n",
              " 'georgia-senate-warnock-walker.html',\n",
              " 'the-georgia-runoff-could-be-bad-for-trump-in-2024.html',\n",
              " 'the-college-football-playoff-features-four-worthy-teams-but-picking-them-wasnt-easy.html',\n",
              " 'democrats-want-to-change-their-primary-calendar-it-wont-be-easy.html',\n",
              " 'will-warnock-or-walker-win-the-georgia-runoff.html',\n",
              " 'georgia-polls-2022-runoff.html',\n",
              " 'the-bengals-and-niners-are-winning-us-over-but-were-still-not-sold-on-the-vikings.html',\n",
              " 'how-north-carolinas-political-warfare-could-impact-the-entire-country.html',\n",
              " 'do-you-buy-that-mccarthy-will-eventually-become-speaker.html',\n",
              " 'where-americans-voted-to-protect-abortion-rights-in-the-midterms.html',\n",
              " 'what-to-watch-for-in-the-2022-world-cups-round-of-16.html',\n",
              " 'can-you-separate-the-world-cup-fans.html',\n",
              " 'the-hall-of-fame-math-for-barry-bonds-and-roger-clemens-doesnt-add-up.html',\n",
              " 'how-americans-feel-about-qatar-hosting-the-world-cup.html',\n",
              " 'is-democracy-all-good-now.html',\n",
              " 'the-ravens-pre-snap-motion-is-a-deadly-weapon-but-it-might-also-lead-to-more-penalties.html',\n",
              " 'redistricting-house-2022.html',\n",
              " 'does-harry-kanes-legacy-ride-on-this-world-cup.html',\n",
              " 'the-datasets-were-looking-at-this-week-27.html',\n",
              " 'the-u-s-played-to-win-against-iran-and-it-worked.html',\n",
              " 'how-either-candidate-could-win-georgias-senate-runoff.html',\n",
              " 'the-rams-super-bowl-afterparty-turned-into-a-historic-hangover.html',\n",
              " 'rogers-democracy-on-ballot-1129.html',\n",
              " 'college-footballs-top-playoff-contenders-can-win-their-way-in-chaos-awaits-if-they-dont.html',\n",
              " 'if-biden-doesnt-run-in-2024-who-will.html',\n",
              " 'the-jets-have-the-mvp-the-browns-shouldnt-switch-qbs-and-we-want-an-entire-division-in-the-playoffs.html',\n",
              " 'few-midterm-voters-backed-different-parties-for-senate-and-governor.html',\n",
              " 'what-can-the-2022-midterms-tell-us-about-2024.html',\n",
              " 'the-world-cups-new-high-tech-ball-will-change-soccer-forever.html',\n",
              " 'when-did-the-party-of-reagan-end.html',\n",
              " 'dybt-trump-is-the-frontrunner-for-the-2024-gop-nomination.html',\n",
              " 'how-a-data-processing-error-changed-our-deluxe-forecast.html',\n",
              " 'election-explanations-are-hard.html',\n",
              " 'nfl-leadership-wasnt-prepared-for-damar-hamlins-injury.html',\n",
              " 'why-kidfluencers-have-so-few-protections-even-as-americans-support-regulating-the-industry.html',\n",
              " 'do-you-buy-that-young-voters-handed-democrats-wins-in-close-races.html']"
            ]
          },
          "metadata": {},
          "execution_count": 17
        }
      ]
    },
    {
      "cell_type": "code",
      "source": [
        "len(html_files)"
      ],
      "metadata": {
        "colab": {
          "base_uri": "https://localhost:8080/"
        },
        "id": "amd-1goOpqUN",
        "outputId": "d4e8d41b-c6c0-4c17-c160-ce988b8c97a6"
      },
      "execution_count": null,
      "outputs": [
        {
          "output_type": "execute_result",
          "data": {
            "text/plain": [
              "94"
            ]
          },
          "metadata": {},
          "execution_count": 18
        }
      ]
    },
    {
      "cell_type": "code",
      "metadata": {
        "id": "RoMxfkl1EyFb",
        "colab": {
          "base_uri": "https://localhost:8080/",
          "height": 456
        },
        "outputId": "c6bb1e1b-debd-4202-87ad-1d3f2330779c"
      },
      "source": [
        "with open(f\"{outcome_folder}/html_metadata.csv\", \"w\") as fw:\n",
        "    ####################################################\n",
        "    # Column names on the first row\n",
        "    ####################################################\n",
        "    fw.write(\"file_name\\tarticle_title\\tarticle_author\\n\")   # column header .. A tab between columns and a new line between rows (보통 tap이 아니라 ,로 구분 .. title에 ,가 들어갈 수 있으므로 tap으로 구분 ,, tap도 있을 수 있지만 의미 없으므로 저장할 때 없애면 된다)\n",
        "\n",
        "    for file_name in html_files:\n",
        "        ####################################################\n",
        "        # Column values starting from the second row\n",
        "        ####################################################\n",
        "        with open(f\"{outcome_folder}/HTMLs/{file_name}\", \"r+b\") as fr:\n",
        "            print(file_name)\n",
        "            soup = BeautifulSoup(fr.read(), \"html.parser\")\n",
        "            article_title = soup.find(\"h1\", {\"class\": \"article-title article-title-single entry-title\"}).text.strip()\n",
        "            article_author = soup.find(\"a\", {\"class\": \"author url fn\"}).text\n",
        "\n",
        "            #####################################################################\n",
        "            # Remove all possible tabs, as tab is being used as column delimiter .. column 구분자와 확실히 구분하기 위해서\n",
        "            #####################################################################\n",
        "            article_title = article_title.replace(\"\\t\", \"\")\n",
        "            article_aurthor = article_author.replace(\"\\t\", \"\")\n",
        "\n",
        "            fw.write(f\"{file_name}\\t{article_title}\\t{article_author}\\n\") # csv 파일의 한 row는 한 웹페이지를 의미\n",
        "            # 웹 페이지를 내가 만든 것이 아니기 때문에 이런 에러를 예측할 수 없음 .. 하나하나 처리해줘야함"
      ],
      "execution_count": null,
      "outputs": [
        {
          "output_type": "stream",
          "name": "stdout",
          "text": [
            "how-biden-could-appoint-more-judges-than-trump.html\n",
            "the-numbers-that-defined-2022.html\n",
            "the-number-that-will-shape-republican-politics-in-2023.html\n",
            "how-2022-was-a-win-for-democracy.html\n",
            "2022-predictions-i-got-wrong.html\n",
            "how-inflations-41-year-high-impacted-american-life.html\n",
            "the-best-teams-of-2022-werent-always-champions.html\n",
            "the-epa-is-finally-addressing-4-dangerous-forever-chemicals-out-of-over-4000.html\n",
            "how-americans-really-feel-about-elon-musk.html\n",
            "when-might-other-republicans-challenge-trump-for-the-2024-nomination.html\n",
            "did-the-jan-6-committee-succeed.html\n"
          ]
        },
        {
          "output_type": "error",
          "ename": "AttributeError",
          "evalue": "ignored",
          "traceback": [
            "\u001b[0;31m---------------------------------------------------------------------------\u001b[0m",
            "\u001b[0;31mAttributeError\u001b[0m                            Traceback (most recent call last)",
            "\u001b[0;32m<ipython-input-19-51eedd046508>\u001b[0m in \u001b[0;36m<module>\u001b[0;34m\u001b[0m\n\u001b[1;32m     13\u001b[0m             \u001b[0msoup\u001b[0m \u001b[0;34m=\u001b[0m \u001b[0mBeautifulSoup\u001b[0m\u001b[0;34m(\u001b[0m\u001b[0mfr\u001b[0m\u001b[0;34m.\u001b[0m\u001b[0mread\u001b[0m\u001b[0;34m(\u001b[0m\u001b[0;34m)\u001b[0m\u001b[0;34m,\u001b[0m \u001b[0;34m\"html.parser\"\u001b[0m\u001b[0;34m)\u001b[0m\u001b[0;34m\u001b[0m\u001b[0;34m\u001b[0m\u001b[0m\n\u001b[1;32m     14\u001b[0m             \u001b[0marticle_title\u001b[0m \u001b[0;34m=\u001b[0m \u001b[0msoup\u001b[0m\u001b[0;34m.\u001b[0m\u001b[0mfind\u001b[0m\u001b[0;34m(\u001b[0m\u001b[0;34m\"h1\"\u001b[0m\u001b[0;34m,\u001b[0m \u001b[0;34m{\u001b[0m\u001b[0;34m\"class\"\u001b[0m\u001b[0;34m:\u001b[0m \u001b[0;34m\"article-title article-title-single entry-title\"\u001b[0m\u001b[0;34m}\u001b[0m\u001b[0;34m)\u001b[0m\u001b[0;34m.\u001b[0m\u001b[0mtext\u001b[0m\u001b[0;34m.\u001b[0m\u001b[0mstrip\u001b[0m\u001b[0;34m(\u001b[0m\u001b[0;34m)\u001b[0m\u001b[0;34m\u001b[0m\u001b[0;34m\u001b[0m\u001b[0m\n\u001b[0;32m---> 15\u001b[0;31m             \u001b[0marticle_author\u001b[0m \u001b[0;34m=\u001b[0m \u001b[0msoup\u001b[0m\u001b[0;34m.\u001b[0m\u001b[0mfind\u001b[0m\u001b[0;34m(\u001b[0m\u001b[0;34m\"a\"\u001b[0m\u001b[0;34m,\u001b[0m \u001b[0;34m{\u001b[0m\u001b[0;34m\"class\"\u001b[0m\u001b[0;34m:\u001b[0m \u001b[0;34m\"author url fn\"\u001b[0m\u001b[0;34m}\u001b[0m\u001b[0;34m)\u001b[0m\u001b[0;34m.\u001b[0m\u001b[0mtext\u001b[0m\u001b[0;34m\u001b[0m\u001b[0;34m\u001b[0m\u001b[0m\n\u001b[0m\u001b[1;32m     16\u001b[0m \u001b[0;34m\u001b[0m\u001b[0m\n\u001b[1;32m     17\u001b[0m             \u001b[0;31m#####################################################################\u001b[0m\u001b[0;34m\u001b[0m\u001b[0;34m\u001b[0m\u001b[0;34m\u001b[0m\u001b[0m\n",
            "\u001b[0;31mAttributeError\u001b[0m: 'NoneType' object has no attribute 'text'"
          ]
        }
      ]
    },
    {
      "cell_type": "code",
      "metadata": {
        "id": "sA2r8gUIEyFc"
      },
      "source": [
        "with open(f\"{outcome_folder}/html_metadata.csv\", \"w\") as fw:\n",
        "    ####################################################\n",
        "    # Column names on the first row\n",
        "    ####################################################\n",
        "    fw.write(\"file_name\\tarticle_title\\tarticle_author\\n\")\n",
        "\n",
        "    for file_name in os.listdir(f\"{outcome_folder}/HTMLs\"):\n",
        "        if not file_name.endswith(\".html\"):\n",
        "            continue\n",
        "\n",
        "        ####################################################\n",
        "        # Column values starting from the second row\n",
        "        ####################################################\n",
        "        with open(f\"{outcome_folder}/HTMLs/{file_name}\", \"r+b\") as fr:\n",
        "            print(file_name)\n",
        "            soup = BeautifulSoup(fr.read(), \"html.parser\")\n",
        "            article_title = soup.find(\"h1\", {\"class\": \"article-title article-title-single entry-title\"}).text.strip()\n",
        "\n",
        "            ####################################################\n",
        "            # No author exception handling\n",
        "            ####################################################\n",
        "            if soup.find(\"a\", {\"class\": \"author url fn\"}) == None:\n",
        "                article_author = \"\"\n",
        "            else:\n",
        "                article_author = soup.find(\"a\", {\"class\": \"author url fn\"}).text\n",
        "\n",
        "            ####################################################\n",
        "            # Remove all possible tabs\n",
        "            ####################################################\n",
        "            article_title = article_title.replace(\"\\t\", \"\")\n",
        "            article_aurthor = article_author.replace(\"\\t\", \"\")\n",
        "\n",
        "            fw.write(f\"{file_name}\\t{article_title}\\t{article_author}\\n\")"
      ],
      "execution_count": null,
      "outputs": []
    },
    {
      "cell_type": "code",
      "source": [
        "with open(f\"{outcome_folder}/html_metadata.csv\", \"w\") as fw:\n",
        "    ####################################################\n",
        "    # Column names on the first row\n",
        "    ####################################################\n",
        "    fw.write(\"file_name\\tarticle_title\\tarticle_author\\n\")\n",
        "\n",
        "    for file_name in os.listdir(f\"{outcome_folder}/HTMLs\"):\n",
        "        if not file_name.endswith(\".html\"):\n",
        "            continue\n",
        "\n",
        "        ####################################################\n",
        "        # Column values starting from the second row\n",
        "        ####################################################\n",
        "        with open(f\"{outcome_folder}/HTMLs/{file_name}\", \"r+b\") as fr:\n",
        "            print(file_name)\n",
        "            soup = BeautifulSoup(fr.read(), \"html.parser\")\n",
        "\n",
        "            ####################################################\n",
        "            # No title exception handling\n",
        "            ####################################################\n",
        "            if soup.find(\"h1\", {\"class\": \"article-title article-title-single entry-title\"}) == None:\n",
        "                article_title = \"\"\n",
        "            else:\n",
        "                article_title = soup.find(\"h1\", {\"class\": \"article-title article-title-single entry-title\"}).text.strip()\n",
        "\n",
        "            ####################################################\n",
        "            # No author exception handling\n",
        "            ####################################################\n",
        "            if soup.find(\"a\", {\"class\": \"author url fn\"}) == None:\n",
        "                article_author = \"\"\n",
        "            else:\n",
        "                article_author = soup.find(\"a\", {\"class\": \"author url fn\"}).text\n",
        "\n",
        "            ####################################################\n",
        "            # Remove all possible tabs\n",
        "            ####################################################\n",
        "            article_title = article_title.replace(\"\\t\", \"\")\n",
        "            article_aurthor = article_author.replace(\"\\t\", \"\")\n",
        "\n",
        "            fw.write(f\"{file_name}\\t{article_title}\\t{article_author}\\n\")\n",
        "            # 얘는 내 파일 가져오는거니까 sleep 필요없음!"
      ],
      "metadata": {
        "id": "4LEMg9eAqsD9"
      },
      "execution_count": null,
      "outputs": []
    },
    {
      "cell_type": "code",
      "metadata": {
        "id": "E0mZMZiucV-M"
      },
      "source": [
        "import pandas as pd\n",
        "\n",
        "pd.read_csv(f\"{outcome_folder}/html_metadata.csv\", sep=\"\\t\") # default가 , 이므로 \\t로 명시해줘야함"
      ],
      "execution_count": null,
      "outputs": []
    },
    {
      "cell_type": "code",
      "source": [],
      "metadata": {
        "id": "f978tMLIGFh2"
      },
      "execution_count": null,
      "outputs": []
    }
  ]
}